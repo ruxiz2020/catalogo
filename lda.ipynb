{
 "cells": [
  {
   "cell_type": "code",
   "execution_count": 73,
   "metadata": {},
   "outputs": [],
   "source": [
    "from sklearn.manifold import TSNE\n",
    "from gensim.models import LdaModel\n",
    "from gensim.corpora import Dictionary\n",
    "from gensim.models import Phrases\n",
    "from gensim.models import CoherenceModel\n",
    "# Plotting tools\n",
    "import pyLDAvis\n",
    "import pyLDAvis.gensim  # don't skip this\n",
    "import matplotlib.pyplot as plt\n",
    "%matplotlib inline\n",
    "from copy import deepcopy\n",
    "import plotly.express as px\n",
    "import numpy as np\n",
    "import pandas as pd\n",
    "import json\n",
    "import os\n",
    "import logging\n",
    "import pytextrank\n",
    "import spacy\n",
    "import re\n",
    "import time\n",
    "import string"
   ]
  },
  {
   "cell_type": "code",
   "execution_count": 2,
   "metadata": {},
   "outputs": [],
   "source": [
    "nlp = spacy.load(\"en_core_web_sm\")"
   ]
  },
  {
   "cell_type": "code",
   "execution_count": 90,
   "metadata": {},
   "outputs": [
    {
     "ename": "FileNotFoundError",
     "evalue": "[Errno 2] File ../inputs/medium_texts.csv does not exist: '../inputs/medium_texts.csv'",
     "output_type": "error",
     "traceback": [
      "\u001b[0;31m---------------------------------------------------------------------------\u001b[0m",
      "\u001b[0;31mFileNotFoundError\u001b[0m                         Traceback (most recent call last)",
      "\u001b[0;32m<ipython-input-90-e3bacb352bbd>\u001b[0m in \u001b[0;36m<module>\u001b[0;34m\u001b[0m\n\u001b[0;32m----> 1\u001b[0;31m \u001b[0mdf_input_medium\u001b[0m \u001b[0;34m=\u001b[0m \u001b[0mpd\u001b[0m\u001b[0;34m.\u001b[0m\u001b[0mread_csv\u001b[0m\u001b[0;34m(\u001b[0m\u001b[0;34m'../inputs/medium_texts.csv'\u001b[0m\u001b[0;34m)\u001b[0m\u001b[0;34m\u001b[0m\u001b[0;34m\u001b[0m\u001b[0m\n\u001b[0m\u001b[1;32m      2\u001b[0m \u001b[0mdf_input_confu\u001b[0m \u001b[0;34m=\u001b[0m \u001b[0mpd\u001b[0m\u001b[0;34m.\u001b[0m\u001b[0mread_csv\u001b[0m\u001b[0;34m(\u001b[0m\u001b[0;34m'../inputs/confu_texts.csv'\u001b[0m\u001b[0;34m)\u001b[0m\u001b[0;34m\u001b[0m\u001b[0;34m\u001b[0m\u001b[0m\n\u001b[1;32m      3\u001b[0m \u001b[0mdf_input_medium\u001b[0m\u001b[0;34m[\u001b[0m\u001b[0;34m'src'\u001b[0m\u001b[0;34m]\u001b[0m \u001b[0;34m=\u001b[0m \u001b[0;34m'medium.com'\u001b[0m\u001b[0;34m\u001b[0m\u001b[0;34m\u001b[0m\u001b[0m\n\u001b[1;32m      4\u001b[0m \u001b[0mdf_input_confu\u001b[0m\u001b[0;34m[\u001b[0m\u001b[0;34m'src'\u001b[0m\u001b[0;34m]\u001b[0m \u001b[0;34m=\u001b[0m \u001b[0;34m'confluence'\u001b[0m\u001b[0;34m\u001b[0m\u001b[0;34m\u001b[0m\u001b[0m\n\u001b[1;32m      5\u001b[0m \u001b[0mdf_input\u001b[0m \u001b[0;34m=\u001b[0m \u001b[0mpd\u001b[0m\u001b[0;34m.\u001b[0m\u001b[0mconcat\u001b[0m\u001b[0;34m(\u001b[0m\u001b[0;34m[\u001b[0m\u001b[0mdf_input_medium\u001b[0m\u001b[0;34m,\u001b[0m \u001b[0mdf_input_confu\u001b[0m\u001b[0;34m]\u001b[0m\u001b[0;34m)\u001b[0m\u001b[0;34m\u001b[0m\u001b[0;34m\u001b[0m\u001b[0m\n",
      "\u001b[0;32m~/.local/lib/python3.7/site-packages/pandas/io/parsers.py\u001b[0m in \u001b[0;36mparser_f\u001b[0;34m(filepath_or_buffer, sep, delimiter, header, names, index_col, usecols, squeeze, prefix, mangle_dupe_cols, dtype, engine, converters, true_values, false_values, skipinitialspace, skiprows, skipfooter, nrows, na_values, keep_default_na, na_filter, verbose, skip_blank_lines, parse_dates, infer_datetime_format, keep_date_col, date_parser, dayfirst, cache_dates, iterator, chunksize, compression, thousands, decimal, lineterminator, quotechar, quoting, doublequote, escapechar, comment, encoding, dialect, error_bad_lines, warn_bad_lines, delim_whitespace, low_memory, memory_map, float_precision)\u001b[0m\n\u001b[1;32m    674\u001b[0m         )\n\u001b[1;32m    675\u001b[0m \u001b[0;34m\u001b[0m\u001b[0m\n\u001b[0;32m--> 676\u001b[0;31m         \u001b[0;32mreturn\u001b[0m \u001b[0m_read\u001b[0m\u001b[0;34m(\u001b[0m\u001b[0mfilepath_or_buffer\u001b[0m\u001b[0;34m,\u001b[0m \u001b[0mkwds\u001b[0m\u001b[0;34m)\u001b[0m\u001b[0;34m\u001b[0m\u001b[0;34m\u001b[0m\u001b[0m\n\u001b[0m\u001b[1;32m    677\u001b[0m \u001b[0;34m\u001b[0m\u001b[0m\n\u001b[1;32m    678\u001b[0m     \u001b[0mparser_f\u001b[0m\u001b[0;34m.\u001b[0m\u001b[0m__name__\u001b[0m \u001b[0;34m=\u001b[0m \u001b[0mname\u001b[0m\u001b[0;34m\u001b[0m\u001b[0;34m\u001b[0m\u001b[0m\n",
      "\u001b[0;32m~/.local/lib/python3.7/site-packages/pandas/io/parsers.py\u001b[0m in \u001b[0;36m_read\u001b[0;34m(filepath_or_buffer, kwds)\u001b[0m\n\u001b[1;32m    446\u001b[0m \u001b[0;34m\u001b[0m\u001b[0m\n\u001b[1;32m    447\u001b[0m     \u001b[0;31m# Create the parser.\u001b[0m\u001b[0;34m\u001b[0m\u001b[0;34m\u001b[0m\u001b[0;34m\u001b[0m\u001b[0m\n\u001b[0;32m--> 448\u001b[0;31m     \u001b[0mparser\u001b[0m \u001b[0;34m=\u001b[0m \u001b[0mTextFileReader\u001b[0m\u001b[0;34m(\u001b[0m\u001b[0mfp_or_buf\u001b[0m\u001b[0;34m,\u001b[0m \u001b[0;34m**\u001b[0m\u001b[0mkwds\u001b[0m\u001b[0;34m)\u001b[0m\u001b[0;34m\u001b[0m\u001b[0;34m\u001b[0m\u001b[0m\n\u001b[0m\u001b[1;32m    449\u001b[0m \u001b[0;34m\u001b[0m\u001b[0m\n\u001b[1;32m    450\u001b[0m     \u001b[0;32mif\u001b[0m \u001b[0mchunksize\u001b[0m \u001b[0;32mor\u001b[0m \u001b[0miterator\u001b[0m\u001b[0;34m:\u001b[0m\u001b[0;34m\u001b[0m\u001b[0;34m\u001b[0m\u001b[0m\n",
      "\u001b[0;32m~/.local/lib/python3.7/site-packages/pandas/io/parsers.py\u001b[0m in \u001b[0;36m__init__\u001b[0;34m(self, f, engine, **kwds)\u001b[0m\n\u001b[1;32m    878\u001b[0m             \u001b[0mself\u001b[0m\u001b[0;34m.\u001b[0m\u001b[0moptions\u001b[0m\u001b[0;34m[\u001b[0m\u001b[0;34m\"has_index_names\"\u001b[0m\u001b[0;34m]\u001b[0m \u001b[0;34m=\u001b[0m \u001b[0mkwds\u001b[0m\u001b[0;34m[\u001b[0m\u001b[0;34m\"has_index_names\"\u001b[0m\u001b[0;34m]\u001b[0m\u001b[0;34m\u001b[0m\u001b[0;34m\u001b[0m\u001b[0m\n\u001b[1;32m    879\u001b[0m \u001b[0;34m\u001b[0m\u001b[0m\n\u001b[0;32m--> 880\u001b[0;31m         \u001b[0mself\u001b[0m\u001b[0;34m.\u001b[0m\u001b[0m_make_engine\u001b[0m\u001b[0;34m(\u001b[0m\u001b[0mself\u001b[0m\u001b[0;34m.\u001b[0m\u001b[0mengine\u001b[0m\u001b[0;34m)\u001b[0m\u001b[0;34m\u001b[0m\u001b[0;34m\u001b[0m\u001b[0m\n\u001b[0m\u001b[1;32m    881\u001b[0m \u001b[0;34m\u001b[0m\u001b[0m\n\u001b[1;32m    882\u001b[0m     \u001b[0;32mdef\u001b[0m \u001b[0mclose\u001b[0m\u001b[0;34m(\u001b[0m\u001b[0mself\u001b[0m\u001b[0;34m)\u001b[0m\u001b[0;34m:\u001b[0m\u001b[0;34m\u001b[0m\u001b[0;34m\u001b[0m\u001b[0m\n",
      "\u001b[0;32m~/.local/lib/python3.7/site-packages/pandas/io/parsers.py\u001b[0m in \u001b[0;36m_make_engine\u001b[0;34m(self, engine)\u001b[0m\n\u001b[1;32m   1112\u001b[0m     \u001b[0;32mdef\u001b[0m \u001b[0m_make_engine\u001b[0m\u001b[0;34m(\u001b[0m\u001b[0mself\u001b[0m\u001b[0;34m,\u001b[0m \u001b[0mengine\u001b[0m\u001b[0;34m=\u001b[0m\u001b[0;34m\"c\"\u001b[0m\u001b[0;34m)\u001b[0m\u001b[0;34m:\u001b[0m\u001b[0;34m\u001b[0m\u001b[0;34m\u001b[0m\u001b[0m\n\u001b[1;32m   1113\u001b[0m         \u001b[0;32mif\u001b[0m \u001b[0mengine\u001b[0m \u001b[0;34m==\u001b[0m \u001b[0;34m\"c\"\u001b[0m\u001b[0;34m:\u001b[0m\u001b[0;34m\u001b[0m\u001b[0;34m\u001b[0m\u001b[0m\n\u001b[0;32m-> 1114\u001b[0;31m             \u001b[0mself\u001b[0m\u001b[0;34m.\u001b[0m\u001b[0m_engine\u001b[0m \u001b[0;34m=\u001b[0m \u001b[0mCParserWrapper\u001b[0m\u001b[0;34m(\u001b[0m\u001b[0mself\u001b[0m\u001b[0;34m.\u001b[0m\u001b[0mf\u001b[0m\u001b[0;34m,\u001b[0m \u001b[0;34m**\u001b[0m\u001b[0mself\u001b[0m\u001b[0;34m.\u001b[0m\u001b[0moptions\u001b[0m\u001b[0;34m)\u001b[0m\u001b[0;34m\u001b[0m\u001b[0;34m\u001b[0m\u001b[0m\n\u001b[0m\u001b[1;32m   1115\u001b[0m         \u001b[0;32melse\u001b[0m\u001b[0;34m:\u001b[0m\u001b[0;34m\u001b[0m\u001b[0;34m\u001b[0m\u001b[0m\n\u001b[1;32m   1116\u001b[0m             \u001b[0;32mif\u001b[0m \u001b[0mengine\u001b[0m \u001b[0;34m==\u001b[0m \u001b[0;34m\"python\"\u001b[0m\u001b[0;34m:\u001b[0m\u001b[0;34m\u001b[0m\u001b[0;34m\u001b[0m\u001b[0m\n",
      "\u001b[0;32m~/.local/lib/python3.7/site-packages/pandas/io/parsers.py\u001b[0m in \u001b[0;36m__init__\u001b[0;34m(self, src, **kwds)\u001b[0m\n\u001b[1;32m   1889\u001b[0m         \u001b[0mkwds\u001b[0m\u001b[0;34m[\u001b[0m\u001b[0;34m\"usecols\"\u001b[0m\u001b[0;34m]\u001b[0m \u001b[0;34m=\u001b[0m \u001b[0mself\u001b[0m\u001b[0;34m.\u001b[0m\u001b[0musecols\u001b[0m\u001b[0;34m\u001b[0m\u001b[0;34m\u001b[0m\u001b[0m\n\u001b[1;32m   1890\u001b[0m \u001b[0;34m\u001b[0m\u001b[0m\n\u001b[0;32m-> 1891\u001b[0;31m         \u001b[0mself\u001b[0m\u001b[0;34m.\u001b[0m\u001b[0m_reader\u001b[0m \u001b[0;34m=\u001b[0m \u001b[0mparsers\u001b[0m\u001b[0;34m.\u001b[0m\u001b[0mTextReader\u001b[0m\u001b[0;34m(\u001b[0m\u001b[0msrc\u001b[0m\u001b[0;34m,\u001b[0m \u001b[0;34m**\u001b[0m\u001b[0mkwds\u001b[0m\u001b[0;34m)\u001b[0m\u001b[0;34m\u001b[0m\u001b[0;34m\u001b[0m\u001b[0m\n\u001b[0m\u001b[1;32m   1892\u001b[0m         \u001b[0mself\u001b[0m\u001b[0;34m.\u001b[0m\u001b[0munnamed_cols\u001b[0m \u001b[0;34m=\u001b[0m \u001b[0mself\u001b[0m\u001b[0;34m.\u001b[0m\u001b[0m_reader\u001b[0m\u001b[0;34m.\u001b[0m\u001b[0munnamed_cols\u001b[0m\u001b[0;34m\u001b[0m\u001b[0;34m\u001b[0m\u001b[0m\n\u001b[1;32m   1893\u001b[0m \u001b[0;34m\u001b[0m\u001b[0m\n",
      "\u001b[0;32mpandas/_libs/parsers.pyx\u001b[0m in \u001b[0;36mpandas._libs.parsers.TextReader.__cinit__\u001b[0;34m()\u001b[0m\n",
      "\u001b[0;32mpandas/_libs/parsers.pyx\u001b[0m in \u001b[0;36mpandas._libs.parsers.TextReader._setup_parser_source\u001b[0;34m()\u001b[0m\n",
      "\u001b[0;31mFileNotFoundError\u001b[0m: [Errno 2] File ../inputs/medium_texts.csv does not exist: '../inputs/medium_texts.csv'"
     ]
    }
   ],
   "source": [
    "df_input_medium = pd.read_csv('../inputs/medium_texts.csv')\n",
    "df_input_confu = pd.read_csv('../inputs/confu_texts.csv')\n",
    "df_input_medium['src'] = 'medium.com'\n",
    "df_input_confu['src'] = 'confluence'\n",
    "df_input = pd.concat([df_input_medium, df_input_confu])\n",
    "print(len(df_input))\n",
    "df_input = df_input[~df_input['text'].isnull()]\n",
    "print(len(df_input))"
   ]
  },
  {
   "cell_type": "code",
   "execution_count": 75,
   "metadata": {},
   "outputs": [
    {
     "name": "stderr",
     "output_type": "stream",
     "text": [
      "<>:3: DeprecationWarning:\n",
      "\n",
      "invalid escape sequence \\d\n",
      "\n",
      "<>:11: DeprecationWarning:\n",
      "\n",
      "invalid escape sequence \\S\n",
      "\n",
      "<>:13: DeprecationWarning:\n",
      "\n",
      "invalid escape sequence \\s\n",
      "\n",
      "<>:3: DeprecationWarning:\n",
      "\n",
      "invalid escape sequence \\d\n",
      "\n",
      "<>:11: DeprecationWarning:\n",
      "\n",
      "invalid escape sequence \\S\n",
      "\n",
      "<>:13: DeprecationWarning:\n",
      "\n",
      "invalid escape sequence \\s\n",
      "\n",
      "<>:3: DeprecationWarning:\n",
      "\n",
      "invalid escape sequence \\d\n",
      "\n",
      "<>:11: DeprecationWarning:\n",
      "\n",
      "invalid escape sequence \\S\n",
      "\n",
      "<>:13: DeprecationWarning:\n",
      "\n",
      "invalid escape sequence \\s\n",
      "\n",
      "<ipython-input-75-daf894fd9abe>:3: DeprecationWarning:\n",
      "\n",
      "invalid escape sequence \\d\n",
      "\n",
      "<ipython-input-75-daf894fd9abe>:11: DeprecationWarning:\n",
      "\n",
      "invalid escape sequence \\S\n",
      "\n",
      "<ipython-input-75-daf894fd9abe>:13: DeprecationWarning:\n",
      "\n",
      "invalid escape sequence \\s\n",
      "\n"
     ]
    }
   ],
   "source": [
    "def has_digits(string):\n",
    "\n",
    "    RE_D = re.compile('\\d')\n",
    "    res = RE_D.search(string)\n",
    "    return res is not None\n",
    "\n",
    "\n",
    "def remove_special_chars(data):\n",
    "\n",
    "    # Remove Emails\n",
    "    data = re.sub('\\S*@\\S*\\s?', '', data)\n",
    "    # Remove new line characters\n",
    "    data = re.sub('\\s+', ' ', data)\n",
    "    # Remove distracting single/double quotes\n",
    "    data = re.sub(\"\\'\", \"\", data)\n",
    "    data = re.sub(\"\\“\", \"\", data)\n",
    "    data = re.sub(\"\\‘\", \"\", data)\n",
    "\n",
    "    return data\n"
   ]
  },
  {
   "cell_type": "code",
   "execution_count": 76,
   "metadata": {},
   "outputs": [
    {
     "name": "stdout",
     "output_type": "stream",
     "text": [
      "Tokenising & Lemmatising took: 118 seconds\n"
     ]
    }
   ],
   "source": [
    "chars = re.escape(string.punctuation)\n",
    "\n",
    "start = time.time()\n",
    "unigram_docs = []  # This will be the list of lemmatised abstracts\n",
    "unigram_datafiles = []\n",
    "docs_titles = []\n",
    "filenames = []\n",
    "#docs_abstract = []\n",
    "docs_src = []\n",
    "counter = 0\n",
    "\n",
    "for row in df_input.iterrows():\n",
    "\n",
    "    title_text = row[1]['title']\n",
    "\n",
    "    # raw_text = title_text\n",
    "    raw_text = row[1]['text']\n",
    "    src = row[1]['src']\n",
    "\n",
    "    raw_text = remove_special_chars(raw_text)\n",
    "    # Tokenise & lemmatise data w/ spacy\n",
    "    doc = nlp(raw_text)\n",
    "    lemmas = [\n",
    "        token.lemma_.lower()\n",
    "        for token in doc\n",
    "        if (\n",
    "            not token.is_stop\n",
    "            and token.pos is not \"SYM\"\n",
    "            and token.pos_ is not \"PUNCT\"\n",
    "            and len(token) > 1\n",
    "        )\n",
    "    ]\n",
    "    if len(lemmas) > 10:\n",
    "        unigram_docs.append(lemmas)\n",
    "        #unigram_datafiles.append(datafile)\n",
    "        docs_titles.append(title_text)\n",
    "        #docs_abstract.append(abs_text)\n",
    "        #filenames.append(datafile)\n",
    "        docs_src.append(src)\n",
    "    counter += 1\n",
    "    if counter % 1000 == 0:\n",
    "        logger.info(\n",
    "            f\"Tokenised/Lemmatised {counter} of {len(df_input)} files\")\n",
    "\n",
    "print(\"Tokenising & Lemmatising took: \" + str(int(time.time() - start)) + \" seconds\")"
   ]
  },
  {
   "cell_type": "code",
   "execution_count": 77,
   "metadata": {},
   "outputs": [
    {
     "name": "stdout",
     "output_type": "stream",
     "text": [
      "          ngram  count\n",
      "18        model   2182\n",
      "359        word   1812\n",
      "27        datum   1641\n",
      "997       topic   1095\n",
      "69          use   1082\n",
      "2      learning   1059\n",
      "338        user   1024\n",
      "16         time    938\n",
      "57         like    874\n",
      "15      example    872\n",
      "56    algorithm    861\n",
      "37         base    838\n",
      "164       write    772\n",
      "137       value    749\n",
      "64         need    738\n",
      "1341    network    725\n",
      "1076   security    714\n",
      "254      vector    712\n",
      "1       machine    707\n",
      "141       learn    703\n",
      "                       ngram  count\n",
      "0           machine_learning    475\n",
      "5                write_write    265\n",
      "98            neural_network    241\n",
      "137        anomaly_detection    203\n",
      "75             deep_learning    156\n",
      "95          natural_language    132\n",
      "124               zero_trust    131\n",
      "72                data_point    121\n",
      "158          active_learning    121\n",
      "78             machine_learn    120\n",
      "77   artificial_intelligence    117\n",
      "19   collaborative_filtering    115\n",
      "3                   use_case    108\n",
      "70                real_world    108\n",
      "14         cosine_similarity    108\n",
      "15         genetic_algorithm    104\n",
      "8         euclidean_distance     86\n",
      "92             search_engine     86\n",
      "13     recommendation_system     84\n",
      "30                 real_time     83\n",
      "                                                ngram  count\n",
      "18                        natural_language_processing     76\n",
      "21                               multi_head_attention     41\n",
      "17                          example_research_tutorial     32\n",
      "16                                    hand_real_world     32\n",
      "15                            machine_learn_algorithm     30\n",
      "23                                   look_write_write     24\n",
      "19                                    skip_gram_model     22\n",
      "25                                deep_neural_network     22\n",
      "22                                hidden_markov_model     19\n",
      "53                                      user_data_all      8\n",
      "20                                 real_world_example      7\n",
      "13                            product_enriched_topics      4\n",
      "52                                   user_data_append      4\n",
      "11                                    score_cb_normed      4\n",
      "7                                  score_user_product      4\n",
      "35                               start_comprehend_job      4\n",
      "49  https://www.airpair.com/nlp/keyword-extraction...      2\n",
      "41  https://www.ischool.utexas.edu/~i385d/readings...      2\n",
      "42                                     b_10_transpose      2\n",
      "45                             model_evaluation_utils      2\n"
     ]
    },
    {
     "data": {
      "application/vnd.plotly.v1+json": {
       "config": {
        "plotlyServerURL": "https://plot.ly"
       },
       "data": [
        {
         "alignmentgroup": "True",
         "hovertemplate": "Unigram=%{x}<br>Count=%{y}<extra></extra>",
         "legendgroup": "",
         "marker": {
          "color": "#636efa"
         },
         "name": "",
         "offsetgroup": "",
         "orientation": "v",
         "showlegend": false,
         "textposition": "auto",
         "type": "bar",
         "x": [
          "model",
          "word",
          "datum",
          "topic",
          "use",
          "learning",
          "user",
          "time",
          "like",
          "example",
          "algorithm",
          "base",
          "write",
          "value",
          "need",
          "network",
          "security",
          "vector",
          "machine",
          "learn"
         ],
         "xaxis": "x",
         "y": [
          2182,
          1812,
          1641,
          1095,
          1082,
          1059,
          1024,
          938,
          874,
          872,
          861,
          838,
          772,
          749,
          738,
          725,
          714,
          712,
          707,
          703
         ],
         "yaxis": "y"
        }
       ],
       "layout": {
        "barmode": "relative",
        "legend": {
         "tracegroupgap": 0
        },
        "template": {
         "data": {
          "bar": [
           {
            "error_x": {
             "color": "#2a3f5f"
            },
            "error_y": {
             "color": "#2a3f5f"
            },
            "marker": {
             "line": {
              "color": "white",
              "width": 0.5
             }
            },
            "type": "bar"
           }
          ],
          "barpolar": [
           {
            "marker": {
             "line": {
              "color": "white",
              "width": 0.5
             }
            },
            "type": "barpolar"
           }
          ],
          "carpet": [
           {
            "aaxis": {
             "endlinecolor": "#2a3f5f",
             "gridcolor": "#C8D4E3",
             "linecolor": "#C8D4E3",
             "minorgridcolor": "#C8D4E3",
             "startlinecolor": "#2a3f5f"
            },
            "baxis": {
             "endlinecolor": "#2a3f5f",
             "gridcolor": "#C8D4E3",
             "linecolor": "#C8D4E3",
             "minorgridcolor": "#C8D4E3",
             "startlinecolor": "#2a3f5f"
            },
            "type": "carpet"
           }
          ],
          "choropleth": [
           {
            "colorbar": {
             "outlinewidth": 0,
             "ticks": ""
            },
            "type": "choropleth"
           }
          ],
          "contour": [
           {
            "colorbar": {
             "outlinewidth": 0,
             "ticks": ""
            },
            "colorscale": [
             [
              0,
              "#0d0887"
             ],
             [
              0.1111111111111111,
              "#46039f"
             ],
             [
              0.2222222222222222,
              "#7201a8"
             ],
             [
              0.3333333333333333,
              "#9c179e"
             ],
             [
              0.4444444444444444,
              "#bd3786"
             ],
             [
              0.5555555555555556,
              "#d8576b"
             ],
             [
              0.6666666666666666,
              "#ed7953"
             ],
             [
              0.7777777777777778,
              "#fb9f3a"
             ],
             [
              0.8888888888888888,
              "#fdca26"
             ],
             [
              1,
              "#f0f921"
             ]
            ],
            "type": "contour"
           }
          ],
          "contourcarpet": [
           {
            "colorbar": {
             "outlinewidth": 0,
             "ticks": ""
            },
            "type": "contourcarpet"
           }
          ],
          "heatmap": [
           {
            "colorbar": {
             "outlinewidth": 0,
             "ticks": ""
            },
            "colorscale": [
             [
              0,
              "#0d0887"
             ],
             [
              0.1111111111111111,
              "#46039f"
             ],
             [
              0.2222222222222222,
              "#7201a8"
             ],
             [
              0.3333333333333333,
              "#9c179e"
             ],
             [
              0.4444444444444444,
              "#bd3786"
             ],
             [
              0.5555555555555556,
              "#d8576b"
             ],
             [
              0.6666666666666666,
              "#ed7953"
             ],
             [
              0.7777777777777778,
              "#fb9f3a"
             ],
             [
              0.8888888888888888,
              "#fdca26"
             ],
             [
              1,
              "#f0f921"
             ]
            ],
            "type": "heatmap"
           }
          ],
          "heatmapgl": [
           {
            "colorbar": {
             "outlinewidth": 0,
             "ticks": ""
            },
            "colorscale": [
             [
              0,
              "#0d0887"
             ],
             [
              0.1111111111111111,
              "#46039f"
             ],
             [
              0.2222222222222222,
              "#7201a8"
             ],
             [
              0.3333333333333333,
              "#9c179e"
             ],
             [
              0.4444444444444444,
              "#bd3786"
             ],
             [
              0.5555555555555556,
              "#d8576b"
             ],
             [
              0.6666666666666666,
              "#ed7953"
             ],
             [
              0.7777777777777778,
              "#fb9f3a"
             ],
             [
              0.8888888888888888,
              "#fdca26"
             ],
             [
              1,
              "#f0f921"
             ]
            ],
            "type": "heatmapgl"
           }
          ],
          "histogram": [
           {
            "marker": {
             "colorbar": {
              "outlinewidth": 0,
              "ticks": ""
             }
            },
            "type": "histogram"
           }
          ],
          "histogram2d": [
           {
            "colorbar": {
             "outlinewidth": 0,
             "ticks": ""
            },
            "colorscale": [
             [
              0,
              "#0d0887"
             ],
             [
              0.1111111111111111,
              "#46039f"
             ],
             [
              0.2222222222222222,
              "#7201a8"
             ],
             [
              0.3333333333333333,
              "#9c179e"
             ],
             [
              0.4444444444444444,
              "#bd3786"
             ],
             [
              0.5555555555555556,
              "#d8576b"
             ],
             [
              0.6666666666666666,
              "#ed7953"
             ],
             [
              0.7777777777777778,
              "#fb9f3a"
             ],
             [
              0.8888888888888888,
              "#fdca26"
             ],
             [
              1,
              "#f0f921"
             ]
            ],
            "type": "histogram2d"
           }
          ],
          "histogram2dcontour": [
           {
            "colorbar": {
             "outlinewidth": 0,
             "ticks": ""
            },
            "colorscale": [
             [
              0,
              "#0d0887"
             ],
             [
              0.1111111111111111,
              "#46039f"
             ],
             [
              0.2222222222222222,
              "#7201a8"
             ],
             [
              0.3333333333333333,
              "#9c179e"
             ],
             [
              0.4444444444444444,
              "#bd3786"
             ],
             [
              0.5555555555555556,
              "#d8576b"
             ],
             [
              0.6666666666666666,
              "#ed7953"
             ],
             [
              0.7777777777777778,
              "#fb9f3a"
             ],
             [
              0.8888888888888888,
              "#fdca26"
             ],
             [
              1,
              "#f0f921"
             ]
            ],
            "type": "histogram2dcontour"
           }
          ],
          "mesh3d": [
           {
            "colorbar": {
             "outlinewidth": 0,
             "ticks": ""
            },
            "type": "mesh3d"
           }
          ],
          "parcoords": [
           {
            "line": {
             "colorbar": {
              "outlinewidth": 0,
              "ticks": ""
             }
            },
            "type": "parcoords"
           }
          ],
          "pie": [
           {
            "automargin": true,
            "type": "pie"
           }
          ],
          "scatter": [
           {
            "marker": {
             "colorbar": {
              "outlinewidth": 0,
              "ticks": ""
             }
            },
            "type": "scatter"
           }
          ],
          "scatter3d": [
           {
            "line": {
             "colorbar": {
              "outlinewidth": 0,
              "ticks": ""
             }
            },
            "marker": {
             "colorbar": {
              "outlinewidth": 0,
              "ticks": ""
             }
            },
            "type": "scatter3d"
           }
          ],
          "scattercarpet": [
           {
            "marker": {
             "colorbar": {
              "outlinewidth": 0,
              "ticks": ""
             }
            },
            "type": "scattercarpet"
           }
          ],
          "scattergeo": [
           {
            "marker": {
             "colorbar": {
              "outlinewidth": 0,
              "ticks": ""
             }
            },
            "type": "scattergeo"
           }
          ],
          "scattergl": [
           {
            "marker": {
             "colorbar": {
              "outlinewidth": 0,
              "ticks": ""
             }
            },
            "type": "scattergl"
           }
          ],
          "scattermapbox": [
           {
            "marker": {
             "colorbar": {
              "outlinewidth": 0,
              "ticks": ""
             }
            },
            "type": "scattermapbox"
           }
          ],
          "scatterpolar": [
           {
            "marker": {
             "colorbar": {
              "outlinewidth": 0,
              "ticks": ""
             }
            },
            "type": "scatterpolar"
           }
          ],
          "scatterpolargl": [
           {
            "marker": {
             "colorbar": {
              "outlinewidth": 0,
              "ticks": ""
             }
            },
            "type": "scatterpolargl"
           }
          ],
          "scatterternary": [
           {
            "marker": {
             "colorbar": {
              "outlinewidth": 0,
              "ticks": ""
             }
            },
            "type": "scatterternary"
           }
          ],
          "surface": [
           {
            "colorbar": {
             "outlinewidth": 0,
             "ticks": ""
            },
            "colorscale": [
             [
              0,
              "#0d0887"
             ],
             [
              0.1111111111111111,
              "#46039f"
             ],
             [
              0.2222222222222222,
              "#7201a8"
             ],
             [
              0.3333333333333333,
              "#9c179e"
             ],
             [
              0.4444444444444444,
              "#bd3786"
             ],
             [
              0.5555555555555556,
              "#d8576b"
             ],
             [
              0.6666666666666666,
              "#ed7953"
             ],
             [
              0.7777777777777778,
              "#fb9f3a"
             ],
             [
              0.8888888888888888,
              "#fdca26"
             ],
             [
              1,
              "#f0f921"
             ]
            ],
            "type": "surface"
           }
          ],
          "table": [
           {
            "cells": {
             "fill": {
              "color": "#EBF0F8"
             },
             "line": {
              "color": "white"
             }
            },
            "header": {
             "fill": {
              "color": "#C8D4E3"
             },
             "line": {
              "color": "white"
             }
            },
            "type": "table"
           }
          ]
         },
         "layout": {
          "annotationdefaults": {
           "arrowcolor": "#2a3f5f",
           "arrowhead": 0,
           "arrowwidth": 1
          },
          "coloraxis": {
           "colorbar": {
            "outlinewidth": 0,
            "ticks": ""
           }
          },
          "colorscale": {
           "diverging": [
            [
             0,
             "#8e0152"
            ],
            [
             0.1,
             "#c51b7d"
            ],
            [
             0.2,
             "#de77ae"
            ],
            [
             0.3,
             "#f1b6da"
            ],
            [
             0.4,
             "#fde0ef"
            ],
            [
             0.5,
             "#f7f7f7"
            ],
            [
             0.6,
             "#e6f5d0"
            ],
            [
             0.7,
             "#b8e186"
            ],
            [
             0.8,
             "#7fbc41"
            ],
            [
             0.9,
             "#4d9221"
            ],
            [
             1,
             "#276419"
            ]
           ],
           "sequential": [
            [
             0,
             "#0d0887"
            ],
            [
             0.1111111111111111,
             "#46039f"
            ],
            [
             0.2222222222222222,
             "#7201a8"
            ],
            [
             0.3333333333333333,
             "#9c179e"
            ],
            [
             0.4444444444444444,
             "#bd3786"
            ],
            [
             0.5555555555555556,
             "#d8576b"
            ],
            [
             0.6666666666666666,
             "#ed7953"
            ],
            [
             0.7777777777777778,
             "#fb9f3a"
            ],
            [
             0.8888888888888888,
             "#fdca26"
            ],
            [
             1,
             "#f0f921"
            ]
           ],
           "sequentialminus": [
            [
             0,
             "#0d0887"
            ],
            [
             0.1111111111111111,
             "#46039f"
            ],
            [
             0.2222222222222222,
             "#7201a8"
            ],
            [
             0.3333333333333333,
             "#9c179e"
            ],
            [
             0.4444444444444444,
             "#bd3786"
            ],
            [
             0.5555555555555556,
             "#d8576b"
            ],
            [
             0.6666666666666666,
             "#ed7953"
            ],
            [
             0.7777777777777778,
             "#fb9f3a"
            ],
            [
             0.8888888888888888,
             "#fdca26"
            ],
            [
             1,
             "#f0f921"
            ]
           ]
          },
          "colorway": [
           "#636efa",
           "#EF553B",
           "#00cc96",
           "#ab63fa",
           "#FFA15A",
           "#19d3f3",
           "#FF6692",
           "#B6E880",
           "#FF97FF",
           "#FECB52"
          ],
          "font": {
           "color": "#2a3f5f"
          },
          "geo": {
           "bgcolor": "white",
           "lakecolor": "white",
           "landcolor": "white",
           "showlakes": true,
           "showland": true,
           "subunitcolor": "#C8D4E3"
          },
          "hoverlabel": {
           "align": "left"
          },
          "hovermode": "closest",
          "mapbox": {
           "style": "light"
          },
          "paper_bgcolor": "white",
          "plot_bgcolor": "white",
          "polar": {
           "angularaxis": {
            "gridcolor": "#EBF0F8",
            "linecolor": "#EBF0F8",
            "ticks": ""
           },
           "bgcolor": "white",
           "radialaxis": {
            "gridcolor": "#EBF0F8",
            "linecolor": "#EBF0F8",
            "ticks": ""
           }
          },
          "scene": {
           "xaxis": {
            "backgroundcolor": "white",
            "gridcolor": "#DFE8F3",
            "gridwidth": 2,
            "linecolor": "#EBF0F8",
            "showbackground": true,
            "ticks": "",
            "zerolinecolor": "#EBF0F8"
           },
           "yaxis": {
            "backgroundcolor": "white",
            "gridcolor": "#DFE8F3",
            "gridwidth": 2,
            "linecolor": "#EBF0F8",
            "showbackground": true,
            "ticks": "",
            "zerolinecolor": "#EBF0F8"
           },
           "zaxis": {
            "backgroundcolor": "white",
            "gridcolor": "#DFE8F3",
            "gridwidth": 2,
            "linecolor": "#EBF0F8",
            "showbackground": true,
            "ticks": "",
            "zerolinecolor": "#EBF0F8"
           }
          },
          "shapedefaults": {
           "line": {
            "color": "#2a3f5f"
           }
          },
          "ternary": {
           "aaxis": {
            "gridcolor": "#DFE8F3",
            "linecolor": "#A2B1C6",
            "ticks": ""
           },
           "baxis": {
            "gridcolor": "#DFE8F3",
            "linecolor": "#A2B1C6",
            "ticks": ""
           },
           "bgcolor": "white",
           "caxis": {
            "gridcolor": "#DFE8F3",
            "linecolor": "#A2B1C6",
            "ticks": ""
           }
          },
          "title": {
           "x": 0.05
          },
          "xaxis": {
           "automargin": true,
           "gridcolor": "#EBF0F8",
           "linecolor": "#EBF0F8",
           "ticks": "",
           "title": {
            "standoff": 15
           },
           "zerolinecolor": "#EBF0F8",
           "zerolinewidth": 2
          },
          "yaxis": {
           "automargin": true,
           "gridcolor": "#EBF0F8",
           "linecolor": "#EBF0F8",
           "ticks": "",
           "title": {
            "standoff": 15
           },
           "zerolinecolor": "#EBF0F8",
           "zerolinewidth": 2
          }
         }
        },
        "title": {
         "text": "Counts of top unigrams"
        },
        "xaxis": {
         "anchor": "y",
         "domain": [
          0,
          1
         ],
         "title": {
          "text": "Unigram"
         }
        },
        "yaxis": {
         "anchor": "x",
         "domain": [
          0,
          1
         ],
         "title": {
          "text": "Count"
         }
        }
       }
      },
      "text/html": [
       "<div>\n",
       "        \n",
       "        \n",
       "            <div id=\"ff02f110-99af-4e07-b7e5-202586e12cbe\" class=\"plotly-graph-div\" style=\"height:525px; width:100%;\"></div>\n",
       "            <script type=\"text/javascript\">\n",
       "                require([\"plotly\"], function(Plotly) {\n",
       "                    window.PLOTLYENV=window.PLOTLYENV || {};\n",
       "                    \n",
       "                if (document.getElementById(\"ff02f110-99af-4e07-b7e5-202586e12cbe\")) {\n",
       "                    Plotly.newPlot(\n",
       "                        'ff02f110-99af-4e07-b7e5-202586e12cbe',\n",
       "                        [{\"alignmentgroup\": \"True\", \"hovertemplate\": \"Unigram=%{x}<br>Count=%{y}<extra></extra>\", \"legendgroup\": \"\", \"marker\": {\"color\": \"#636efa\"}, \"name\": \"\", \"offsetgroup\": \"\", \"orientation\": \"v\", \"showlegend\": false, \"textposition\": \"auto\", \"type\": \"bar\", \"x\": [\"model\", \"word\", \"datum\", \"topic\", \"use\", \"learning\", \"user\", \"time\", \"like\", \"example\", \"algorithm\", \"base\", \"write\", \"value\", \"need\", \"network\", \"security\", \"vector\", \"machine\", \"learn\"], \"xaxis\": \"x\", \"y\": [2182, 1812, 1641, 1095, 1082, 1059, 1024, 938, 874, 872, 861, 838, 772, 749, 738, 725, 714, 712, 707, 703], \"yaxis\": \"y\"}],\n",
       "                        {\"barmode\": \"relative\", \"legend\": {\"tracegroupgap\": 0}, \"template\": {\"data\": {\"bar\": [{\"error_x\": {\"color\": \"#2a3f5f\"}, \"error_y\": {\"color\": \"#2a3f5f\"}, \"marker\": {\"line\": {\"color\": \"white\", \"width\": 0.5}}, \"type\": \"bar\"}], \"barpolar\": [{\"marker\": {\"line\": {\"color\": \"white\", \"width\": 0.5}}, \"type\": \"barpolar\"}], \"carpet\": [{\"aaxis\": {\"endlinecolor\": \"#2a3f5f\", \"gridcolor\": \"#C8D4E3\", \"linecolor\": \"#C8D4E3\", \"minorgridcolor\": \"#C8D4E3\", \"startlinecolor\": \"#2a3f5f\"}, \"baxis\": {\"endlinecolor\": \"#2a3f5f\", \"gridcolor\": \"#C8D4E3\", \"linecolor\": \"#C8D4E3\", \"minorgridcolor\": \"#C8D4E3\", \"startlinecolor\": \"#2a3f5f\"}, \"type\": \"carpet\"}], \"choropleth\": [{\"colorbar\": {\"outlinewidth\": 0, \"ticks\": \"\"}, \"type\": \"choropleth\"}], \"contour\": [{\"colorbar\": {\"outlinewidth\": 0, \"ticks\": \"\"}, \"colorscale\": [[0.0, \"#0d0887\"], [0.1111111111111111, \"#46039f\"], [0.2222222222222222, \"#7201a8\"], [0.3333333333333333, \"#9c179e\"], [0.4444444444444444, \"#bd3786\"], [0.5555555555555556, \"#d8576b\"], [0.6666666666666666, \"#ed7953\"], [0.7777777777777778, \"#fb9f3a\"], [0.8888888888888888, \"#fdca26\"], [1.0, \"#f0f921\"]], \"type\": \"contour\"}], \"contourcarpet\": [{\"colorbar\": {\"outlinewidth\": 0, \"ticks\": \"\"}, \"type\": \"contourcarpet\"}], \"heatmap\": [{\"colorbar\": {\"outlinewidth\": 0, \"ticks\": \"\"}, \"colorscale\": [[0.0, \"#0d0887\"], [0.1111111111111111, \"#46039f\"], [0.2222222222222222, \"#7201a8\"], [0.3333333333333333, \"#9c179e\"], [0.4444444444444444, \"#bd3786\"], [0.5555555555555556, \"#d8576b\"], [0.6666666666666666, \"#ed7953\"], [0.7777777777777778, \"#fb9f3a\"], [0.8888888888888888, \"#fdca26\"], [1.0, \"#f0f921\"]], \"type\": \"heatmap\"}], \"heatmapgl\": [{\"colorbar\": {\"outlinewidth\": 0, \"ticks\": \"\"}, \"colorscale\": [[0.0, \"#0d0887\"], [0.1111111111111111, \"#46039f\"], [0.2222222222222222, \"#7201a8\"], [0.3333333333333333, \"#9c179e\"], [0.4444444444444444, \"#bd3786\"], [0.5555555555555556, \"#d8576b\"], [0.6666666666666666, \"#ed7953\"], [0.7777777777777778, \"#fb9f3a\"], [0.8888888888888888, \"#fdca26\"], [1.0, \"#f0f921\"]], \"type\": \"heatmapgl\"}], \"histogram\": [{\"marker\": {\"colorbar\": {\"outlinewidth\": 0, \"ticks\": \"\"}}, \"type\": \"histogram\"}], \"histogram2d\": [{\"colorbar\": {\"outlinewidth\": 0, \"ticks\": \"\"}, \"colorscale\": [[0.0, \"#0d0887\"], [0.1111111111111111, \"#46039f\"], [0.2222222222222222, \"#7201a8\"], [0.3333333333333333, \"#9c179e\"], [0.4444444444444444, \"#bd3786\"], [0.5555555555555556, \"#d8576b\"], [0.6666666666666666, \"#ed7953\"], [0.7777777777777778, \"#fb9f3a\"], [0.8888888888888888, \"#fdca26\"], [1.0, \"#f0f921\"]], \"type\": \"histogram2d\"}], \"histogram2dcontour\": [{\"colorbar\": {\"outlinewidth\": 0, \"ticks\": \"\"}, \"colorscale\": [[0.0, \"#0d0887\"], [0.1111111111111111, \"#46039f\"], [0.2222222222222222, \"#7201a8\"], [0.3333333333333333, \"#9c179e\"], [0.4444444444444444, \"#bd3786\"], [0.5555555555555556, \"#d8576b\"], [0.6666666666666666, \"#ed7953\"], [0.7777777777777778, \"#fb9f3a\"], [0.8888888888888888, \"#fdca26\"], [1.0, \"#f0f921\"]], \"type\": \"histogram2dcontour\"}], \"mesh3d\": [{\"colorbar\": {\"outlinewidth\": 0, \"ticks\": \"\"}, \"type\": \"mesh3d\"}], \"parcoords\": [{\"line\": {\"colorbar\": {\"outlinewidth\": 0, \"ticks\": \"\"}}, \"type\": \"parcoords\"}], \"pie\": [{\"automargin\": true, \"type\": \"pie\"}], \"scatter\": [{\"marker\": {\"colorbar\": {\"outlinewidth\": 0, \"ticks\": \"\"}}, \"type\": \"scatter\"}], \"scatter3d\": [{\"line\": {\"colorbar\": {\"outlinewidth\": 0, \"ticks\": \"\"}}, \"marker\": {\"colorbar\": {\"outlinewidth\": 0, \"ticks\": \"\"}}, \"type\": \"scatter3d\"}], \"scattercarpet\": [{\"marker\": {\"colorbar\": {\"outlinewidth\": 0, \"ticks\": \"\"}}, \"type\": \"scattercarpet\"}], \"scattergeo\": [{\"marker\": {\"colorbar\": {\"outlinewidth\": 0, \"ticks\": \"\"}}, \"type\": \"scattergeo\"}], \"scattergl\": [{\"marker\": {\"colorbar\": {\"outlinewidth\": 0, \"ticks\": \"\"}}, \"type\": \"scattergl\"}], \"scattermapbox\": [{\"marker\": {\"colorbar\": {\"outlinewidth\": 0, \"ticks\": \"\"}}, \"type\": \"scattermapbox\"}], \"scatterpolar\": [{\"marker\": {\"colorbar\": {\"outlinewidth\": 0, \"ticks\": \"\"}}, \"type\": \"scatterpolar\"}], \"scatterpolargl\": [{\"marker\": {\"colorbar\": {\"outlinewidth\": 0, \"ticks\": \"\"}}, \"type\": \"scatterpolargl\"}], \"scatterternary\": [{\"marker\": {\"colorbar\": {\"outlinewidth\": 0, \"ticks\": \"\"}}, \"type\": \"scatterternary\"}], \"surface\": [{\"colorbar\": {\"outlinewidth\": 0, \"ticks\": \"\"}, \"colorscale\": [[0.0, \"#0d0887\"], [0.1111111111111111, \"#46039f\"], [0.2222222222222222, \"#7201a8\"], [0.3333333333333333, \"#9c179e\"], [0.4444444444444444, \"#bd3786\"], [0.5555555555555556, \"#d8576b\"], [0.6666666666666666, \"#ed7953\"], [0.7777777777777778, \"#fb9f3a\"], [0.8888888888888888, \"#fdca26\"], [1.0, \"#f0f921\"]], \"type\": \"surface\"}], \"table\": [{\"cells\": {\"fill\": {\"color\": \"#EBF0F8\"}, \"line\": {\"color\": \"white\"}}, \"header\": {\"fill\": {\"color\": \"#C8D4E3\"}, \"line\": {\"color\": \"white\"}}, \"type\": \"table\"}]}, \"layout\": {\"annotationdefaults\": {\"arrowcolor\": \"#2a3f5f\", \"arrowhead\": 0, \"arrowwidth\": 1}, \"coloraxis\": {\"colorbar\": {\"outlinewidth\": 0, \"ticks\": \"\"}}, \"colorscale\": {\"diverging\": [[0, \"#8e0152\"], [0.1, \"#c51b7d\"], [0.2, \"#de77ae\"], [0.3, \"#f1b6da\"], [0.4, \"#fde0ef\"], [0.5, \"#f7f7f7\"], [0.6, \"#e6f5d0\"], [0.7, \"#b8e186\"], [0.8, \"#7fbc41\"], [0.9, \"#4d9221\"], [1, \"#276419\"]], \"sequential\": [[0.0, \"#0d0887\"], [0.1111111111111111, \"#46039f\"], [0.2222222222222222, \"#7201a8\"], [0.3333333333333333, \"#9c179e\"], [0.4444444444444444, \"#bd3786\"], [0.5555555555555556, \"#d8576b\"], [0.6666666666666666, \"#ed7953\"], [0.7777777777777778, \"#fb9f3a\"], [0.8888888888888888, \"#fdca26\"], [1.0, \"#f0f921\"]], \"sequentialminus\": [[0.0, \"#0d0887\"], [0.1111111111111111, \"#46039f\"], [0.2222222222222222, \"#7201a8\"], [0.3333333333333333, \"#9c179e\"], [0.4444444444444444, \"#bd3786\"], [0.5555555555555556, \"#d8576b\"], [0.6666666666666666, \"#ed7953\"], [0.7777777777777778, \"#fb9f3a\"], [0.8888888888888888, \"#fdca26\"], [1.0, \"#f0f921\"]]}, \"colorway\": [\"#636efa\", \"#EF553B\", \"#00cc96\", \"#ab63fa\", \"#FFA15A\", \"#19d3f3\", \"#FF6692\", \"#B6E880\", \"#FF97FF\", \"#FECB52\"], \"font\": {\"color\": \"#2a3f5f\"}, \"geo\": {\"bgcolor\": \"white\", \"lakecolor\": \"white\", \"landcolor\": \"white\", \"showlakes\": true, \"showland\": true, \"subunitcolor\": \"#C8D4E3\"}, \"hoverlabel\": {\"align\": \"left\"}, \"hovermode\": \"closest\", \"mapbox\": {\"style\": \"light\"}, \"paper_bgcolor\": \"white\", \"plot_bgcolor\": \"white\", \"polar\": {\"angularaxis\": {\"gridcolor\": \"#EBF0F8\", \"linecolor\": \"#EBF0F8\", \"ticks\": \"\"}, \"bgcolor\": \"white\", \"radialaxis\": {\"gridcolor\": \"#EBF0F8\", \"linecolor\": \"#EBF0F8\", \"ticks\": \"\"}}, \"scene\": {\"xaxis\": {\"backgroundcolor\": \"white\", \"gridcolor\": \"#DFE8F3\", \"gridwidth\": 2, \"linecolor\": \"#EBF0F8\", \"showbackground\": true, \"ticks\": \"\", \"zerolinecolor\": \"#EBF0F8\"}, \"yaxis\": {\"backgroundcolor\": \"white\", \"gridcolor\": \"#DFE8F3\", \"gridwidth\": 2, \"linecolor\": \"#EBF0F8\", \"showbackground\": true, \"ticks\": \"\", \"zerolinecolor\": \"#EBF0F8\"}, \"zaxis\": {\"backgroundcolor\": \"white\", \"gridcolor\": \"#DFE8F3\", \"gridwidth\": 2, \"linecolor\": \"#EBF0F8\", \"showbackground\": true, \"ticks\": \"\", \"zerolinecolor\": \"#EBF0F8\"}}, \"shapedefaults\": {\"line\": {\"color\": \"#2a3f5f\"}}, \"ternary\": {\"aaxis\": {\"gridcolor\": \"#DFE8F3\", \"linecolor\": \"#A2B1C6\", \"ticks\": \"\"}, \"baxis\": {\"gridcolor\": \"#DFE8F3\", \"linecolor\": \"#A2B1C6\", \"ticks\": \"\"}, \"bgcolor\": \"white\", \"caxis\": {\"gridcolor\": \"#DFE8F3\", \"linecolor\": \"#A2B1C6\", \"ticks\": \"\"}}, \"title\": {\"x\": 0.05}, \"xaxis\": {\"automargin\": true, \"gridcolor\": \"#EBF0F8\", \"linecolor\": \"#EBF0F8\", \"ticks\": \"\", \"title\": {\"standoff\": 15}, \"zerolinecolor\": \"#EBF0F8\", \"zerolinewidth\": 2}, \"yaxis\": {\"automargin\": true, \"gridcolor\": \"#EBF0F8\", \"linecolor\": \"#EBF0F8\", \"ticks\": \"\", \"title\": {\"standoff\": 15}, \"zerolinecolor\": \"#EBF0F8\", \"zerolinewidth\": 2}}}, \"title\": {\"text\": \"Counts of top unigrams\"}, \"xaxis\": {\"anchor\": \"y\", \"domain\": [0.0, 1.0], \"title\": {\"text\": \"Unigram\"}}, \"yaxis\": {\"anchor\": \"x\", \"domain\": [0.0, 1.0], \"title\": {\"text\": \"Count\"}}},\n",
       "                        {\"responsive\": true}\n",
       "                    ).then(function(){\n",
       "                            \n",
       "var gd = document.getElementById('ff02f110-99af-4e07-b7e5-202586e12cbe');\n",
       "var x = new MutationObserver(function (mutations, observer) {{\n",
       "        var display = window.getComputedStyle(gd).display;\n",
       "        if (!display || display === 'none') {{\n",
       "            console.log([gd, 'removed!']);\n",
       "            Plotly.purge(gd);\n",
       "            observer.disconnect();\n",
       "        }}\n",
       "}});\n",
       "\n",
       "// Listen for the removal of the full notebook cells\n",
       "var notebookContainer = gd.closest('#notebook-container');\n",
       "if (notebookContainer) {{\n",
       "    x.observe(notebookContainer, {childList: true});\n",
       "}}\n",
       "\n",
       "// Listen for the clearing of the current output cell\n",
       "var outputEl = gd.closest('.output');\n",
       "if (outputEl) {{\n",
       "    x.observe(outputEl, {childList: true});\n",
       "}}\n",
       "\n",
       "                        })\n",
       "                };\n",
       "                });\n",
       "            </script>\n",
       "        </div>"
      ]
     },
     "metadata": {},
     "output_type": "display_data"
    },
    {
     "data": {
      "application/vnd.plotly.v1+json": {
       "config": {
        "plotlyServerURL": "https://plot.ly"
       },
       "data": [
        {
         "alignmentgroup": "True",
         "hovertemplate": "Bigram=%{x}<br>Count=%{y}<extra></extra>",
         "legendgroup": "",
         "marker": {
          "color": "#636efa"
         },
         "name": "",
         "offsetgroup": "",
         "orientation": "v",
         "showlegend": false,
         "textposition": "auto",
         "type": "bar",
         "x": [
          "machine_learning",
          "write_write",
          "neural_network",
          "anomaly_detection",
          "deep_learning",
          "natural_language",
          "zero_trust",
          "data_point",
          "active_learning",
          "machine_learn",
          "artificial_intelligence",
          "collaborative_filtering",
          "use_case",
          "real_world",
          "cosine_similarity",
          "genetic_algorithm",
          "euclidean_distance",
          "search_engine",
          "recommendation_system",
          "real_time"
         ],
         "xaxis": "x",
         "y": [
          475,
          265,
          241,
          203,
          156,
          132,
          131,
          121,
          121,
          120,
          117,
          115,
          108,
          108,
          108,
          104,
          86,
          86,
          84,
          83
         ],
         "yaxis": "y"
        }
       ],
       "layout": {
        "barmode": "relative",
        "legend": {
         "tracegroupgap": 0
        },
        "template": {
         "data": {
          "bar": [
           {
            "error_x": {
             "color": "#2a3f5f"
            },
            "error_y": {
             "color": "#2a3f5f"
            },
            "marker": {
             "line": {
              "color": "white",
              "width": 0.5
             }
            },
            "type": "bar"
           }
          ],
          "barpolar": [
           {
            "marker": {
             "line": {
              "color": "white",
              "width": 0.5
             }
            },
            "type": "barpolar"
           }
          ],
          "carpet": [
           {
            "aaxis": {
             "endlinecolor": "#2a3f5f",
             "gridcolor": "#C8D4E3",
             "linecolor": "#C8D4E3",
             "minorgridcolor": "#C8D4E3",
             "startlinecolor": "#2a3f5f"
            },
            "baxis": {
             "endlinecolor": "#2a3f5f",
             "gridcolor": "#C8D4E3",
             "linecolor": "#C8D4E3",
             "minorgridcolor": "#C8D4E3",
             "startlinecolor": "#2a3f5f"
            },
            "type": "carpet"
           }
          ],
          "choropleth": [
           {
            "colorbar": {
             "outlinewidth": 0,
             "ticks": ""
            },
            "type": "choropleth"
           }
          ],
          "contour": [
           {
            "colorbar": {
             "outlinewidth": 0,
             "ticks": ""
            },
            "colorscale": [
             [
              0,
              "#0d0887"
             ],
             [
              0.1111111111111111,
              "#46039f"
             ],
             [
              0.2222222222222222,
              "#7201a8"
             ],
             [
              0.3333333333333333,
              "#9c179e"
             ],
             [
              0.4444444444444444,
              "#bd3786"
             ],
             [
              0.5555555555555556,
              "#d8576b"
             ],
             [
              0.6666666666666666,
              "#ed7953"
             ],
             [
              0.7777777777777778,
              "#fb9f3a"
             ],
             [
              0.8888888888888888,
              "#fdca26"
             ],
             [
              1,
              "#f0f921"
             ]
            ],
            "type": "contour"
           }
          ],
          "contourcarpet": [
           {
            "colorbar": {
             "outlinewidth": 0,
             "ticks": ""
            },
            "type": "contourcarpet"
           }
          ],
          "heatmap": [
           {
            "colorbar": {
             "outlinewidth": 0,
             "ticks": ""
            },
            "colorscale": [
             [
              0,
              "#0d0887"
             ],
             [
              0.1111111111111111,
              "#46039f"
             ],
             [
              0.2222222222222222,
              "#7201a8"
             ],
             [
              0.3333333333333333,
              "#9c179e"
             ],
             [
              0.4444444444444444,
              "#bd3786"
             ],
             [
              0.5555555555555556,
              "#d8576b"
             ],
             [
              0.6666666666666666,
              "#ed7953"
             ],
             [
              0.7777777777777778,
              "#fb9f3a"
             ],
             [
              0.8888888888888888,
              "#fdca26"
             ],
             [
              1,
              "#f0f921"
             ]
            ],
            "type": "heatmap"
           }
          ],
          "heatmapgl": [
           {
            "colorbar": {
             "outlinewidth": 0,
             "ticks": ""
            },
            "colorscale": [
             [
              0,
              "#0d0887"
             ],
             [
              0.1111111111111111,
              "#46039f"
             ],
             [
              0.2222222222222222,
              "#7201a8"
             ],
             [
              0.3333333333333333,
              "#9c179e"
             ],
             [
              0.4444444444444444,
              "#bd3786"
             ],
             [
              0.5555555555555556,
              "#d8576b"
             ],
             [
              0.6666666666666666,
              "#ed7953"
             ],
             [
              0.7777777777777778,
              "#fb9f3a"
             ],
             [
              0.8888888888888888,
              "#fdca26"
             ],
             [
              1,
              "#f0f921"
             ]
            ],
            "type": "heatmapgl"
           }
          ],
          "histogram": [
           {
            "marker": {
             "colorbar": {
              "outlinewidth": 0,
              "ticks": ""
             }
            },
            "type": "histogram"
           }
          ],
          "histogram2d": [
           {
            "colorbar": {
             "outlinewidth": 0,
             "ticks": ""
            },
            "colorscale": [
             [
              0,
              "#0d0887"
             ],
             [
              0.1111111111111111,
              "#46039f"
             ],
             [
              0.2222222222222222,
              "#7201a8"
             ],
             [
              0.3333333333333333,
              "#9c179e"
             ],
             [
              0.4444444444444444,
              "#bd3786"
             ],
             [
              0.5555555555555556,
              "#d8576b"
             ],
             [
              0.6666666666666666,
              "#ed7953"
             ],
             [
              0.7777777777777778,
              "#fb9f3a"
             ],
             [
              0.8888888888888888,
              "#fdca26"
             ],
             [
              1,
              "#f0f921"
             ]
            ],
            "type": "histogram2d"
           }
          ],
          "histogram2dcontour": [
           {
            "colorbar": {
             "outlinewidth": 0,
             "ticks": ""
            },
            "colorscale": [
             [
              0,
              "#0d0887"
             ],
             [
              0.1111111111111111,
              "#46039f"
             ],
             [
              0.2222222222222222,
              "#7201a8"
             ],
             [
              0.3333333333333333,
              "#9c179e"
             ],
             [
              0.4444444444444444,
              "#bd3786"
             ],
             [
              0.5555555555555556,
              "#d8576b"
             ],
             [
              0.6666666666666666,
              "#ed7953"
             ],
             [
              0.7777777777777778,
              "#fb9f3a"
             ],
             [
              0.8888888888888888,
              "#fdca26"
             ],
             [
              1,
              "#f0f921"
             ]
            ],
            "type": "histogram2dcontour"
           }
          ],
          "mesh3d": [
           {
            "colorbar": {
             "outlinewidth": 0,
             "ticks": ""
            },
            "type": "mesh3d"
           }
          ],
          "parcoords": [
           {
            "line": {
             "colorbar": {
              "outlinewidth": 0,
              "ticks": ""
             }
            },
            "type": "parcoords"
           }
          ],
          "pie": [
           {
            "automargin": true,
            "type": "pie"
           }
          ],
          "scatter": [
           {
            "marker": {
             "colorbar": {
              "outlinewidth": 0,
              "ticks": ""
             }
            },
            "type": "scatter"
           }
          ],
          "scatter3d": [
           {
            "line": {
             "colorbar": {
              "outlinewidth": 0,
              "ticks": ""
             }
            },
            "marker": {
             "colorbar": {
              "outlinewidth": 0,
              "ticks": ""
             }
            },
            "type": "scatter3d"
           }
          ],
          "scattercarpet": [
           {
            "marker": {
             "colorbar": {
              "outlinewidth": 0,
              "ticks": ""
             }
            },
            "type": "scattercarpet"
           }
          ],
          "scattergeo": [
           {
            "marker": {
             "colorbar": {
              "outlinewidth": 0,
              "ticks": ""
             }
            },
            "type": "scattergeo"
           }
          ],
          "scattergl": [
           {
            "marker": {
             "colorbar": {
              "outlinewidth": 0,
              "ticks": ""
             }
            },
            "type": "scattergl"
           }
          ],
          "scattermapbox": [
           {
            "marker": {
             "colorbar": {
              "outlinewidth": 0,
              "ticks": ""
             }
            },
            "type": "scattermapbox"
           }
          ],
          "scatterpolar": [
           {
            "marker": {
             "colorbar": {
              "outlinewidth": 0,
              "ticks": ""
             }
            },
            "type": "scatterpolar"
           }
          ],
          "scatterpolargl": [
           {
            "marker": {
             "colorbar": {
              "outlinewidth": 0,
              "ticks": ""
             }
            },
            "type": "scatterpolargl"
           }
          ],
          "scatterternary": [
           {
            "marker": {
             "colorbar": {
              "outlinewidth": 0,
              "ticks": ""
             }
            },
            "type": "scatterternary"
           }
          ],
          "surface": [
           {
            "colorbar": {
             "outlinewidth": 0,
             "ticks": ""
            },
            "colorscale": [
             [
              0,
              "#0d0887"
             ],
             [
              0.1111111111111111,
              "#46039f"
             ],
             [
              0.2222222222222222,
              "#7201a8"
             ],
             [
              0.3333333333333333,
              "#9c179e"
             ],
             [
              0.4444444444444444,
              "#bd3786"
             ],
             [
              0.5555555555555556,
              "#d8576b"
             ],
             [
              0.6666666666666666,
              "#ed7953"
             ],
             [
              0.7777777777777778,
              "#fb9f3a"
             ],
             [
              0.8888888888888888,
              "#fdca26"
             ],
             [
              1,
              "#f0f921"
             ]
            ],
            "type": "surface"
           }
          ],
          "table": [
           {
            "cells": {
             "fill": {
              "color": "#EBF0F8"
             },
             "line": {
              "color": "white"
             }
            },
            "header": {
             "fill": {
              "color": "#C8D4E3"
             },
             "line": {
              "color": "white"
             }
            },
            "type": "table"
           }
          ]
         },
         "layout": {
          "annotationdefaults": {
           "arrowcolor": "#2a3f5f",
           "arrowhead": 0,
           "arrowwidth": 1
          },
          "coloraxis": {
           "colorbar": {
            "outlinewidth": 0,
            "ticks": ""
           }
          },
          "colorscale": {
           "diverging": [
            [
             0,
             "#8e0152"
            ],
            [
             0.1,
             "#c51b7d"
            ],
            [
             0.2,
             "#de77ae"
            ],
            [
             0.3,
             "#f1b6da"
            ],
            [
             0.4,
             "#fde0ef"
            ],
            [
             0.5,
             "#f7f7f7"
            ],
            [
             0.6,
             "#e6f5d0"
            ],
            [
             0.7,
             "#b8e186"
            ],
            [
             0.8,
             "#7fbc41"
            ],
            [
             0.9,
             "#4d9221"
            ],
            [
             1,
             "#276419"
            ]
           ],
           "sequential": [
            [
             0,
             "#0d0887"
            ],
            [
             0.1111111111111111,
             "#46039f"
            ],
            [
             0.2222222222222222,
             "#7201a8"
            ],
            [
             0.3333333333333333,
             "#9c179e"
            ],
            [
             0.4444444444444444,
             "#bd3786"
            ],
            [
             0.5555555555555556,
             "#d8576b"
            ],
            [
             0.6666666666666666,
             "#ed7953"
            ],
            [
             0.7777777777777778,
             "#fb9f3a"
            ],
            [
             0.8888888888888888,
             "#fdca26"
            ],
            [
             1,
             "#f0f921"
            ]
           ],
           "sequentialminus": [
            [
             0,
             "#0d0887"
            ],
            [
             0.1111111111111111,
             "#46039f"
            ],
            [
             0.2222222222222222,
             "#7201a8"
            ],
            [
             0.3333333333333333,
             "#9c179e"
            ],
            [
             0.4444444444444444,
             "#bd3786"
            ],
            [
             0.5555555555555556,
             "#d8576b"
            ],
            [
             0.6666666666666666,
             "#ed7953"
            ],
            [
             0.7777777777777778,
             "#fb9f3a"
            ],
            [
             0.8888888888888888,
             "#fdca26"
            ],
            [
             1,
             "#f0f921"
            ]
           ]
          },
          "colorway": [
           "#636efa",
           "#EF553B",
           "#00cc96",
           "#ab63fa",
           "#FFA15A",
           "#19d3f3",
           "#FF6692",
           "#B6E880",
           "#FF97FF",
           "#FECB52"
          ],
          "font": {
           "color": "#2a3f5f"
          },
          "geo": {
           "bgcolor": "white",
           "lakecolor": "white",
           "landcolor": "white",
           "showlakes": true,
           "showland": true,
           "subunitcolor": "#C8D4E3"
          },
          "hoverlabel": {
           "align": "left"
          },
          "hovermode": "closest",
          "mapbox": {
           "style": "light"
          },
          "paper_bgcolor": "white",
          "plot_bgcolor": "white",
          "polar": {
           "angularaxis": {
            "gridcolor": "#EBF0F8",
            "linecolor": "#EBF0F8",
            "ticks": ""
           },
           "bgcolor": "white",
           "radialaxis": {
            "gridcolor": "#EBF0F8",
            "linecolor": "#EBF0F8",
            "ticks": ""
           }
          },
          "scene": {
           "xaxis": {
            "backgroundcolor": "white",
            "gridcolor": "#DFE8F3",
            "gridwidth": 2,
            "linecolor": "#EBF0F8",
            "showbackground": true,
            "ticks": "",
            "zerolinecolor": "#EBF0F8"
           },
           "yaxis": {
            "backgroundcolor": "white",
            "gridcolor": "#DFE8F3",
            "gridwidth": 2,
            "linecolor": "#EBF0F8",
            "showbackground": true,
            "ticks": "",
            "zerolinecolor": "#EBF0F8"
           },
           "zaxis": {
            "backgroundcolor": "white",
            "gridcolor": "#DFE8F3",
            "gridwidth": 2,
            "linecolor": "#EBF0F8",
            "showbackground": true,
            "ticks": "",
            "zerolinecolor": "#EBF0F8"
           }
          },
          "shapedefaults": {
           "line": {
            "color": "#2a3f5f"
           }
          },
          "ternary": {
           "aaxis": {
            "gridcolor": "#DFE8F3",
            "linecolor": "#A2B1C6",
            "ticks": ""
           },
           "baxis": {
            "gridcolor": "#DFE8F3",
            "linecolor": "#A2B1C6",
            "ticks": ""
           },
           "bgcolor": "white",
           "caxis": {
            "gridcolor": "#DFE8F3",
            "linecolor": "#A2B1C6",
            "ticks": ""
           }
          },
          "title": {
           "x": 0.05
          },
          "xaxis": {
           "automargin": true,
           "gridcolor": "#EBF0F8",
           "linecolor": "#EBF0F8",
           "ticks": "",
           "title": {
            "standoff": 15
           },
           "zerolinecolor": "#EBF0F8",
           "zerolinewidth": 2
          },
          "yaxis": {
           "automargin": true,
           "gridcolor": "#EBF0F8",
           "linecolor": "#EBF0F8",
           "ticks": "",
           "title": {
            "standoff": 15
           },
           "zerolinecolor": "#EBF0F8",
           "zerolinewidth": 2
          }
         }
        },
        "title": {
         "text": "Counts of top bi-grams"
        },
        "xaxis": {
         "anchor": "y",
         "domain": [
          0,
          1
         ],
         "title": {
          "text": "Bigram"
         }
        },
        "yaxis": {
         "anchor": "x",
         "domain": [
          0,
          1
         ],
         "title": {
          "text": "Count"
         }
        }
       }
      },
      "text/html": [
       "<div>\n",
       "        \n",
       "        \n",
       "            <div id=\"ba1798d1-b21e-4a31-a5d8-32e5b67be412\" class=\"plotly-graph-div\" style=\"height:525px; width:100%;\"></div>\n",
       "            <script type=\"text/javascript\">\n",
       "                require([\"plotly\"], function(Plotly) {\n",
       "                    window.PLOTLYENV=window.PLOTLYENV || {};\n",
       "                    \n",
       "                if (document.getElementById(\"ba1798d1-b21e-4a31-a5d8-32e5b67be412\")) {\n",
       "                    Plotly.newPlot(\n",
       "                        'ba1798d1-b21e-4a31-a5d8-32e5b67be412',\n",
       "                        [{\"alignmentgroup\": \"True\", \"hovertemplate\": \"Bigram=%{x}<br>Count=%{y}<extra></extra>\", \"legendgroup\": \"\", \"marker\": {\"color\": \"#636efa\"}, \"name\": \"\", \"offsetgroup\": \"\", \"orientation\": \"v\", \"showlegend\": false, \"textposition\": \"auto\", \"type\": \"bar\", \"x\": [\"machine_learning\", \"write_write\", \"neural_network\", \"anomaly_detection\", \"deep_learning\", \"natural_language\", \"zero_trust\", \"data_point\", \"active_learning\", \"machine_learn\", \"artificial_intelligence\", \"collaborative_filtering\", \"use_case\", \"real_world\", \"cosine_similarity\", \"genetic_algorithm\", \"euclidean_distance\", \"search_engine\", \"recommendation_system\", \"real_time\"], \"xaxis\": \"x\", \"y\": [475, 265, 241, 203, 156, 132, 131, 121, 121, 120, 117, 115, 108, 108, 108, 104, 86, 86, 84, 83], \"yaxis\": \"y\"}],\n",
       "                        {\"barmode\": \"relative\", \"legend\": {\"tracegroupgap\": 0}, \"template\": {\"data\": {\"bar\": [{\"error_x\": {\"color\": \"#2a3f5f\"}, \"error_y\": {\"color\": \"#2a3f5f\"}, \"marker\": {\"line\": {\"color\": \"white\", \"width\": 0.5}}, \"type\": \"bar\"}], \"barpolar\": [{\"marker\": {\"line\": {\"color\": \"white\", \"width\": 0.5}}, \"type\": \"barpolar\"}], \"carpet\": [{\"aaxis\": {\"endlinecolor\": \"#2a3f5f\", \"gridcolor\": \"#C8D4E3\", \"linecolor\": \"#C8D4E3\", \"minorgridcolor\": \"#C8D4E3\", \"startlinecolor\": \"#2a3f5f\"}, \"baxis\": {\"endlinecolor\": \"#2a3f5f\", \"gridcolor\": \"#C8D4E3\", \"linecolor\": \"#C8D4E3\", \"minorgridcolor\": \"#C8D4E3\", \"startlinecolor\": \"#2a3f5f\"}, \"type\": \"carpet\"}], \"choropleth\": [{\"colorbar\": {\"outlinewidth\": 0, \"ticks\": \"\"}, \"type\": \"choropleth\"}], \"contour\": [{\"colorbar\": {\"outlinewidth\": 0, \"ticks\": \"\"}, \"colorscale\": [[0.0, \"#0d0887\"], [0.1111111111111111, \"#46039f\"], [0.2222222222222222, \"#7201a8\"], [0.3333333333333333, \"#9c179e\"], [0.4444444444444444, \"#bd3786\"], [0.5555555555555556, \"#d8576b\"], [0.6666666666666666, \"#ed7953\"], [0.7777777777777778, \"#fb9f3a\"], [0.8888888888888888, \"#fdca26\"], [1.0, \"#f0f921\"]], \"type\": \"contour\"}], \"contourcarpet\": [{\"colorbar\": {\"outlinewidth\": 0, \"ticks\": \"\"}, \"type\": \"contourcarpet\"}], \"heatmap\": [{\"colorbar\": {\"outlinewidth\": 0, \"ticks\": \"\"}, \"colorscale\": [[0.0, \"#0d0887\"], [0.1111111111111111, \"#46039f\"], [0.2222222222222222, \"#7201a8\"], [0.3333333333333333, \"#9c179e\"], [0.4444444444444444, \"#bd3786\"], [0.5555555555555556, \"#d8576b\"], [0.6666666666666666, \"#ed7953\"], [0.7777777777777778, \"#fb9f3a\"], [0.8888888888888888, \"#fdca26\"], [1.0, \"#f0f921\"]], \"type\": \"heatmap\"}], \"heatmapgl\": [{\"colorbar\": {\"outlinewidth\": 0, \"ticks\": \"\"}, \"colorscale\": [[0.0, \"#0d0887\"], [0.1111111111111111, \"#46039f\"], [0.2222222222222222, \"#7201a8\"], [0.3333333333333333, \"#9c179e\"], [0.4444444444444444, \"#bd3786\"], [0.5555555555555556, \"#d8576b\"], [0.6666666666666666, \"#ed7953\"], [0.7777777777777778, \"#fb9f3a\"], [0.8888888888888888, \"#fdca26\"], [1.0, \"#f0f921\"]], \"type\": \"heatmapgl\"}], \"histogram\": [{\"marker\": {\"colorbar\": {\"outlinewidth\": 0, \"ticks\": \"\"}}, \"type\": \"histogram\"}], \"histogram2d\": [{\"colorbar\": {\"outlinewidth\": 0, \"ticks\": \"\"}, \"colorscale\": [[0.0, \"#0d0887\"], [0.1111111111111111, \"#46039f\"], [0.2222222222222222, \"#7201a8\"], [0.3333333333333333, \"#9c179e\"], [0.4444444444444444, \"#bd3786\"], [0.5555555555555556, \"#d8576b\"], [0.6666666666666666, \"#ed7953\"], [0.7777777777777778, \"#fb9f3a\"], [0.8888888888888888, \"#fdca26\"], [1.0, \"#f0f921\"]], \"type\": \"histogram2d\"}], \"histogram2dcontour\": [{\"colorbar\": {\"outlinewidth\": 0, \"ticks\": \"\"}, \"colorscale\": [[0.0, \"#0d0887\"], [0.1111111111111111, \"#46039f\"], [0.2222222222222222, \"#7201a8\"], [0.3333333333333333, \"#9c179e\"], [0.4444444444444444, \"#bd3786\"], [0.5555555555555556, \"#d8576b\"], [0.6666666666666666, \"#ed7953\"], [0.7777777777777778, \"#fb9f3a\"], [0.8888888888888888, \"#fdca26\"], [1.0, \"#f0f921\"]], \"type\": \"histogram2dcontour\"}], \"mesh3d\": [{\"colorbar\": {\"outlinewidth\": 0, \"ticks\": \"\"}, \"type\": \"mesh3d\"}], \"parcoords\": [{\"line\": {\"colorbar\": {\"outlinewidth\": 0, \"ticks\": \"\"}}, \"type\": \"parcoords\"}], \"pie\": [{\"automargin\": true, \"type\": \"pie\"}], \"scatter\": [{\"marker\": {\"colorbar\": {\"outlinewidth\": 0, \"ticks\": \"\"}}, \"type\": \"scatter\"}], \"scatter3d\": [{\"line\": {\"colorbar\": {\"outlinewidth\": 0, \"ticks\": \"\"}}, \"marker\": {\"colorbar\": {\"outlinewidth\": 0, \"ticks\": \"\"}}, \"type\": \"scatter3d\"}], \"scattercarpet\": [{\"marker\": {\"colorbar\": {\"outlinewidth\": 0, \"ticks\": \"\"}}, \"type\": \"scattercarpet\"}], \"scattergeo\": [{\"marker\": {\"colorbar\": {\"outlinewidth\": 0, \"ticks\": \"\"}}, \"type\": \"scattergeo\"}], \"scattergl\": [{\"marker\": {\"colorbar\": {\"outlinewidth\": 0, \"ticks\": \"\"}}, \"type\": \"scattergl\"}], \"scattermapbox\": [{\"marker\": {\"colorbar\": {\"outlinewidth\": 0, \"ticks\": \"\"}}, \"type\": \"scattermapbox\"}], \"scatterpolar\": [{\"marker\": {\"colorbar\": {\"outlinewidth\": 0, \"ticks\": \"\"}}, \"type\": \"scatterpolar\"}], \"scatterpolargl\": [{\"marker\": {\"colorbar\": {\"outlinewidth\": 0, \"ticks\": \"\"}}, \"type\": \"scatterpolargl\"}], \"scatterternary\": [{\"marker\": {\"colorbar\": {\"outlinewidth\": 0, \"ticks\": \"\"}}, \"type\": \"scatterternary\"}], \"surface\": [{\"colorbar\": {\"outlinewidth\": 0, \"ticks\": \"\"}, \"colorscale\": [[0.0, \"#0d0887\"], [0.1111111111111111, \"#46039f\"], [0.2222222222222222, \"#7201a8\"], [0.3333333333333333, \"#9c179e\"], [0.4444444444444444, \"#bd3786\"], [0.5555555555555556, \"#d8576b\"], [0.6666666666666666, \"#ed7953\"], [0.7777777777777778, \"#fb9f3a\"], [0.8888888888888888, \"#fdca26\"], [1.0, \"#f0f921\"]], \"type\": \"surface\"}], \"table\": [{\"cells\": {\"fill\": {\"color\": \"#EBF0F8\"}, \"line\": {\"color\": \"white\"}}, \"header\": {\"fill\": {\"color\": \"#C8D4E3\"}, \"line\": {\"color\": \"white\"}}, \"type\": \"table\"}]}, \"layout\": {\"annotationdefaults\": {\"arrowcolor\": \"#2a3f5f\", \"arrowhead\": 0, \"arrowwidth\": 1}, \"coloraxis\": {\"colorbar\": {\"outlinewidth\": 0, \"ticks\": \"\"}}, \"colorscale\": {\"diverging\": [[0, \"#8e0152\"], [0.1, \"#c51b7d\"], [0.2, \"#de77ae\"], [0.3, \"#f1b6da\"], [0.4, \"#fde0ef\"], [0.5, \"#f7f7f7\"], [0.6, \"#e6f5d0\"], [0.7, \"#b8e186\"], [0.8, \"#7fbc41\"], [0.9, \"#4d9221\"], [1, \"#276419\"]], \"sequential\": [[0.0, \"#0d0887\"], [0.1111111111111111, \"#46039f\"], [0.2222222222222222, \"#7201a8\"], [0.3333333333333333, \"#9c179e\"], [0.4444444444444444, \"#bd3786\"], [0.5555555555555556, \"#d8576b\"], [0.6666666666666666, \"#ed7953\"], [0.7777777777777778, \"#fb9f3a\"], [0.8888888888888888, \"#fdca26\"], [1.0, \"#f0f921\"]], \"sequentialminus\": [[0.0, \"#0d0887\"], [0.1111111111111111, \"#46039f\"], [0.2222222222222222, \"#7201a8\"], [0.3333333333333333, \"#9c179e\"], [0.4444444444444444, \"#bd3786\"], [0.5555555555555556, \"#d8576b\"], [0.6666666666666666, \"#ed7953\"], [0.7777777777777778, \"#fb9f3a\"], [0.8888888888888888, \"#fdca26\"], [1.0, \"#f0f921\"]]}, \"colorway\": [\"#636efa\", \"#EF553B\", \"#00cc96\", \"#ab63fa\", \"#FFA15A\", \"#19d3f3\", \"#FF6692\", \"#B6E880\", \"#FF97FF\", \"#FECB52\"], \"font\": {\"color\": \"#2a3f5f\"}, \"geo\": {\"bgcolor\": \"white\", \"lakecolor\": \"white\", \"landcolor\": \"white\", \"showlakes\": true, \"showland\": true, \"subunitcolor\": \"#C8D4E3\"}, \"hoverlabel\": {\"align\": \"left\"}, \"hovermode\": \"closest\", \"mapbox\": {\"style\": \"light\"}, \"paper_bgcolor\": \"white\", \"plot_bgcolor\": \"white\", \"polar\": {\"angularaxis\": {\"gridcolor\": \"#EBF0F8\", \"linecolor\": \"#EBF0F8\", \"ticks\": \"\"}, \"bgcolor\": \"white\", \"radialaxis\": {\"gridcolor\": \"#EBF0F8\", \"linecolor\": \"#EBF0F8\", \"ticks\": \"\"}}, \"scene\": {\"xaxis\": {\"backgroundcolor\": \"white\", \"gridcolor\": \"#DFE8F3\", \"gridwidth\": 2, \"linecolor\": \"#EBF0F8\", \"showbackground\": true, \"ticks\": \"\", \"zerolinecolor\": \"#EBF0F8\"}, \"yaxis\": {\"backgroundcolor\": \"white\", \"gridcolor\": \"#DFE8F3\", \"gridwidth\": 2, \"linecolor\": \"#EBF0F8\", \"showbackground\": true, \"ticks\": \"\", \"zerolinecolor\": \"#EBF0F8\"}, \"zaxis\": {\"backgroundcolor\": \"white\", \"gridcolor\": \"#DFE8F3\", \"gridwidth\": 2, \"linecolor\": \"#EBF0F8\", \"showbackground\": true, \"ticks\": \"\", \"zerolinecolor\": \"#EBF0F8\"}}, \"shapedefaults\": {\"line\": {\"color\": \"#2a3f5f\"}}, \"ternary\": {\"aaxis\": {\"gridcolor\": \"#DFE8F3\", \"linecolor\": \"#A2B1C6\", \"ticks\": \"\"}, \"baxis\": {\"gridcolor\": \"#DFE8F3\", \"linecolor\": \"#A2B1C6\", \"ticks\": \"\"}, \"bgcolor\": \"white\", \"caxis\": {\"gridcolor\": \"#DFE8F3\", \"linecolor\": \"#A2B1C6\", \"ticks\": \"\"}}, \"title\": {\"x\": 0.05}, \"xaxis\": {\"automargin\": true, \"gridcolor\": \"#EBF0F8\", \"linecolor\": \"#EBF0F8\", \"ticks\": \"\", \"title\": {\"standoff\": 15}, \"zerolinecolor\": \"#EBF0F8\", \"zerolinewidth\": 2}, \"yaxis\": {\"automargin\": true, \"gridcolor\": \"#EBF0F8\", \"linecolor\": \"#EBF0F8\", \"ticks\": \"\", \"title\": {\"standoff\": 15}, \"zerolinecolor\": \"#EBF0F8\", \"zerolinewidth\": 2}}}, \"title\": {\"text\": \"Counts of top bi-grams\"}, \"xaxis\": {\"anchor\": \"y\", \"domain\": [0.0, 1.0], \"title\": {\"text\": \"Bigram\"}}, \"yaxis\": {\"anchor\": \"x\", \"domain\": [0.0, 1.0], \"title\": {\"text\": \"Count\"}}},\n",
       "                        {\"responsive\": true}\n",
       "                    ).then(function(){\n",
       "                            \n",
       "var gd = document.getElementById('ba1798d1-b21e-4a31-a5d8-32e5b67be412');\n",
       "var x = new MutationObserver(function (mutations, observer) {{\n",
       "        var display = window.getComputedStyle(gd).display;\n",
       "        if (!display || display === 'none') {{\n",
       "            console.log([gd, 'removed!']);\n",
       "            Plotly.purge(gd);\n",
       "            observer.disconnect();\n",
       "        }}\n",
       "}});\n",
       "\n",
       "// Listen for the removal of the full notebook cells\n",
       "var notebookContainer = gd.closest('#notebook-container');\n",
       "if (notebookContainer) {{\n",
       "    x.observe(notebookContainer, {childList: true});\n",
       "}}\n",
       "\n",
       "// Listen for the clearing of the current output cell\n",
       "var outputEl = gd.closest('.output');\n",
       "if (outputEl) {{\n",
       "    x.observe(outputEl, {childList: true});\n",
       "}}\n",
       "\n",
       "                        })\n",
       "                };\n",
       "                });\n",
       "            </script>\n",
       "        </div>"
      ]
     },
     "metadata": {},
     "output_type": "display_data"
    },
    {
     "data": {
      "application/vnd.plotly.v1+json": {
       "config": {
        "plotlyServerURL": "https://plot.ly"
       },
       "data": [
        {
         "alignmentgroup": "True",
         "hovertemplate": "Trigram=%{x}<br>Count=%{y}<extra></extra>",
         "legendgroup": "",
         "marker": {
          "color": "#636efa"
         },
         "name": "",
         "offsetgroup": "",
         "orientation": "v",
         "showlegend": false,
         "textposition": "auto",
         "type": "bar",
         "x": [
          "natural_language_processing",
          "multi_head_attention",
          "example_research_tutorial",
          "hand_real_world",
          "machine_learn_algorithm",
          "look_write_write",
          "skip_gram_model",
          "deep_neural_network",
          "hidden_markov_model",
          "user_data_all",
          "real_world_example",
          "product_enriched_topics",
          "user_data_append",
          "score_cb_normed",
          "score_user_product",
          "start_comprehend_job",
          "https://www.airpair.com/nlp/keyword-extraction-tutorialhttps://github.com/zelandiya/rake-tutorialhttp://textminingonline.com/getting-started-with-keyword-extractionhttps://en.wikipedia.org/wiki/automatic_summarization#keyphrase_extractionhttp://www.diva-portal.org/smash/get/diva2:352481/fulltext01.pdf",
          "https://www.ischool.utexas.edu/~i385d/readings/goldberg_usingcollaborative_92.pdf4",
          "b_10_transpose",
          "model_evaluation_utils"
         ],
         "xaxis": "x",
         "y": [
          76,
          41,
          32,
          32,
          30,
          24,
          22,
          22,
          19,
          8,
          7,
          4,
          4,
          4,
          4,
          4,
          2,
          2,
          2,
          2
         ],
         "yaxis": "y"
        }
       ],
       "layout": {
        "barmode": "relative",
        "legend": {
         "tracegroupgap": 0
        },
        "template": {
         "data": {
          "bar": [
           {
            "error_x": {
             "color": "#2a3f5f"
            },
            "error_y": {
             "color": "#2a3f5f"
            },
            "marker": {
             "line": {
              "color": "white",
              "width": 0.5
             }
            },
            "type": "bar"
           }
          ],
          "barpolar": [
           {
            "marker": {
             "line": {
              "color": "white",
              "width": 0.5
             }
            },
            "type": "barpolar"
           }
          ],
          "carpet": [
           {
            "aaxis": {
             "endlinecolor": "#2a3f5f",
             "gridcolor": "#C8D4E3",
             "linecolor": "#C8D4E3",
             "minorgridcolor": "#C8D4E3",
             "startlinecolor": "#2a3f5f"
            },
            "baxis": {
             "endlinecolor": "#2a3f5f",
             "gridcolor": "#C8D4E3",
             "linecolor": "#C8D4E3",
             "minorgridcolor": "#C8D4E3",
             "startlinecolor": "#2a3f5f"
            },
            "type": "carpet"
           }
          ],
          "choropleth": [
           {
            "colorbar": {
             "outlinewidth": 0,
             "ticks": ""
            },
            "type": "choropleth"
           }
          ],
          "contour": [
           {
            "colorbar": {
             "outlinewidth": 0,
             "ticks": ""
            },
            "colorscale": [
             [
              0,
              "#0d0887"
             ],
             [
              0.1111111111111111,
              "#46039f"
             ],
             [
              0.2222222222222222,
              "#7201a8"
             ],
             [
              0.3333333333333333,
              "#9c179e"
             ],
             [
              0.4444444444444444,
              "#bd3786"
             ],
             [
              0.5555555555555556,
              "#d8576b"
             ],
             [
              0.6666666666666666,
              "#ed7953"
             ],
             [
              0.7777777777777778,
              "#fb9f3a"
             ],
             [
              0.8888888888888888,
              "#fdca26"
             ],
             [
              1,
              "#f0f921"
             ]
            ],
            "type": "contour"
           }
          ],
          "contourcarpet": [
           {
            "colorbar": {
             "outlinewidth": 0,
             "ticks": ""
            },
            "type": "contourcarpet"
           }
          ],
          "heatmap": [
           {
            "colorbar": {
             "outlinewidth": 0,
             "ticks": ""
            },
            "colorscale": [
             [
              0,
              "#0d0887"
             ],
             [
              0.1111111111111111,
              "#46039f"
             ],
             [
              0.2222222222222222,
              "#7201a8"
             ],
             [
              0.3333333333333333,
              "#9c179e"
             ],
             [
              0.4444444444444444,
              "#bd3786"
             ],
             [
              0.5555555555555556,
              "#d8576b"
             ],
             [
              0.6666666666666666,
              "#ed7953"
             ],
             [
              0.7777777777777778,
              "#fb9f3a"
             ],
             [
              0.8888888888888888,
              "#fdca26"
             ],
             [
              1,
              "#f0f921"
             ]
            ],
            "type": "heatmap"
           }
          ],
          "heatmapgl": [
           {
            "colorbar": {
             "outlinewidth": 0,
             "ticks": ""
            },
            "colorscale": [
             [
              0,
              "#0d0887"
             ],
             [
              0.1111111111111111,
              "#46039f"
             ],
             [
              0.2222222222222222,
              "#7201a8"
             ],
             [
              0.3333333333333333,
              "#9c179e"
             ],
             [
              0.4444444444444444,
              "#bd3786"
             ],
             [
              0.5555555555555556,
              "#d8576b"
             ],
             [
              0.6666666666666666,
              "#ed7953"
             ],
             [
              0.7777777777777778,
              "#fb9f3a"
             ],
             [
              0.8888888888888888,
              "#fdca26"
             ],
             [
              1,
              "#f0f921"
             ]
            ],
            "type": "heatmapgl"
           }
          ],
          "histogram": [
           {
            "marker": {
             "colorbar": {
              "outlinewidth": 0,
              "ticks": ""
             }
            },
            "type": "histogram"
           }
          ],
          "histogram2d": [
           {
            "colorbar": {
             "outlinewidth": 0,
             "ticks": ""
            },
            "colorscale": [
             [
              0,
              "#0d0887"
             ],
             [
              0.1111111111111111,
              "#46039f"
             ],
             [
              0.2222222222222222,
              "#7201a8"
             ],
             [
              0.3333333333333333,
              "#9c179e"
             ],
             [
              0.4444444444444444,
              "#bd3786"
             ],
             [
              0.5555555555555556,
              "#d8576b"
             ],
             [
              0.6666666666666666,
              "#ed7953"
             ],
             [
              0.7777777777777778,
              "#fb9f3a"
             ],
             [
              0.8888888888888888,
              "#fdca26"
             ],
             [
              1,
              "#f0f921"
             ]
            ],
            "type": "histogram2d"
           }
          ],
          "histogram2dcontour": [
           {
            "colorbar": {
             "outlinewidth": 0,
             "ticks": ""
            },
            "colorscale": [
             [
              0,
              "#0d0887"
             ],
             [
              0.1111111111111111,
              "#46039f"
             ],
             [
              0.2222222222222222,
              "#7201a8"
             ],
             [
              0.3333333333333333,
              "#9c179e"
             ],
             [
              0.4444444444444444,
              "#bd3786"
             ],
             [
              0.5555555555555556,
              "#d8576b"
             ],
             [
              0.6666666666666666,
              "#ed7953"
             ],
             [
              0.7777777777777778,
              "#fb9f3a"
             ],
             [
              0.8888888888888888,
              "#fdca26"
             ],
             [
              1,
              "#f0f921"
             ]
            ],
            "type": "histogram2dcontour"
           }
          ],
          "mesh3d": [
           {
            "colorbar": {
             "outlinewidth": 0,
             "ticks": ""
            },
            "type": "mesh3d"
           }
          ],
          "parcoords": [
           {
            "line": {
             "colorbar": {
              "outlinewidth": 0,
              "ticks": ""
             }
            },
            "type": "parcoords"
           }
          ],
          "pie": [
           {
            "automargin": true,
            "type": "pie"
           }
          ],
          "scatter": [
           {
            "marker": {
             "colorbar": {
              "outlinewidth": 0,
              "ticks": ""
             }
            },
            "type": "scatter"
           }
          ],
          "scatter3d": [
           {
            "line": {
             "colorbar": {
              "outlinewidth": 0,
              "ticks": ""
             }
            },
            "marker": {
             "colorbar": {
              "outlinewidth": 0,
              "ticks": ""
             }
            },
            "type": "scatter3d"
           }
          ],
          "scattercarpet": [
           {
            "marker": {
             "colorbar": {
              "outlinewidth": 0,
              "ticks": ""
             }
            },
            "type": "scattercarpet"
           }
          ],
          "scattergeo": [
           {
            "marker": {
             "colorbar": {
              "outlinewidth": 0,
              "ticks": ""
             }
            },
            "type": "scattergeo"
           }
          ],
          "scattergl": [
           {
            "marker": {
             "colorbar": {
              "outlinewidth": 0,
              "ticks": ""
             }
            },
            "type": "scattergl"
           }
          ],
          "scattermapbox": [
           {
            "marker": {
             "colorbar": {
              "outlinewidth": 0,
              "ticks": ""
             }
            },
            "type": "scattermapbox"
           }
          ],
          "scatterpolar": [
           {
            "marker": {
             "colorbar": {
              "outlinewidth": 0,
              "ticks": ""
             }
            },
            "type": "scatterpolar"
           }
          ],
          "scatterpolargl": [
           {
            "marker": {
             "colorbar": {
              "outlinewidth": 0,
              "ticks": ""
             }
            },
            "type": "scatterpolargl"
           }
          ],
          "scatterternary": [
           {
            "marker": {
             "colorbar": {
              "outlinewidth": 0,
              "ticks": ""
             }
            },
            "type": "scatterternary"
           }
          ],
          "surface": [
           {
            "colorbar": {
             "outlinewidth": 0,
             "ticks": ""
            },
            "colorscale": [
             [
              0,
              "#0d0887"
             ],
             [
              0.1111111111111111,
              "#46039f"
             ],
             [
              0.2222222222222222,
              "#7201a8"
             ],
             [
              0.3333333333333333,
              "#9c179e"
             ],
             [
              0.4444444444444444,
              "#bd3786"
             ],
             [
              0.5555555555555556,
              "#d8576b"
             ],
             [
              0.6666666666666666,
              "#ed7953"
             ],
             [
              0.7777777777777778,
              "#fb9f3a"
             ],
             [
              0.8888888888888888,
              "#fdca26"
             ],
             [
              1,
              "#f0f921"
             ]
            ],
            "type": "surface"
           }
          ],
          "table": [
           {
            "cells": {
             "fill": {
              "color": "#EBF0F8"
             },
             "line": {
              "color": "white"
             }
            },
            "header": {
             "fill": {
              "color": "#C8D4E3"
             },
             "line": {
              "color": "white"
             }
            },
            "type": "table"
           }
          ]
         },
         "layout": {
          "annotationdefaults": {
           "arrowcolor": "#2a3f5f",
           "arrowhead": 0,
           "arrowwidth": 1
          },
          "coloraxis": {
           "colorbar": {
            "outlinewidth": 0,
            "ticks": ""
           }
          },
          "colorscale": {
           "diverging": [
            [
             0,
             "#8e0152"
            ],
            [
             0.1,
             "#c51b7d"
            ],
            [
             0.2,
             "#de77ae"
            ],
            [
             0.3,
             "#f1b6da"
            ],
            [
             0.4,
             "#fde0ef"
            ],
            [
             0.5,
             "#f7f7f7"
            ],
            [
             0.6,
             "#e6f5d0"
            ],
            [
             0.7,
             "#b8e186"
            ],
            [
             0.8,
             "#7fbc41"
            ],
            [
             0.9,
             "#4d9221"
            ],
            [
             1,
             "#276419"
            ]
           ],
           "sequential": [
            [
             0,
             "#0d0887"
            ],
            [
             0.1111111111111111,
             "#46039f"
            ],
            [
             0.2222222222222222,
             "#7201a8"
            ],
            [
             0.3333333333333333,
             "#9c179e"
            ],
            [
             0.4444444444444444,
             "#bd3786"
            ],
            [
             0.5555555555555556,
             "#d8576b"
            ],
            [
             0.6666666666666666,
             "#ed7953"
            ],
            [
             0.7777777777777778,
             "#fb9f3a"
            ],
            [
             0.8888888888888888,
             "#fdca26"
            ],
            [
             1,
             "#f0f921"
            ]
           ],
           "sequentialminus": [
            [
             0,
             "#0d0887"
            ],
            [
             0.1111111111111111,
             "#46039f"
            ],
            [
             0.2222222222222222,
             "#7201a8"
            ],
            [
             0.3333333333333333,
             "#9c179e"
            ],
            [
             0.4444444444444444,
             "#bd3786"
            ],
            [
             0.5555555555555556,
             "#d8576b"
            ],
            [
             0.6666666666666666,
             "#ed7953"
            ],
            [
             0.7777777777777778,
             "#fb9f3a"
            ],
            [
             0.8888888888888888,
             "#fdca26"
            ],
            [
             1,
             "#f0f921"
            ]
           ]
          },
          "colorway": [
           "#636efa",
           "#EF553B",
           "#00cc96",
           "#ab63fa",
           "#FFA15A",
           "#19d3f3",
           "#FF6692",
           "#B6E880",
           "#FF97FF",
           "#FECB52"
          ],
          "font": {
           "color": "#2a3f5f"
          },
          "geo": {
           "bgcolor": "white",
           "lakecolor": "white",
           "landcolor": "white",
           "showlakes": true,
           "showland": true,
           "subunitcolor": "#C8D4E3"
          },
          "hoverlabel": {
           "align": "left"
          },
          "hovermode": "closest",
          "mapbox": {
           "style": "light"
          },
          "paper_bgcolor": "white",
          "plot_bgcolor": "white",
          "polar": {
           "angularaxis": {
            "gridcolor": "#EBF0F8",
            "linecolor": "#EBF0F8",
            "ticks": ""
           },
           "bgcolor": "white",
           "radialaxis": {
            "gridcolor": "#EBF0F8",
            "linecolor": "#EBF0F8",
            "ticks": ""
           }
          },
          "scene": {
           "xaxis": {
            "backgroundcolor": "white",
            "gridcolor": "#DFE8F3",
            "gridwidth": 2,
            "linecolor": "#EBF0F8",
            "showbackground": true,
            "ticks": "",
            "zerolinecolor": "#EBF0F8"
           },
           "yaxis": {
            "backgroundcolor": "white",
            "gridcolor": "#DFE8F3",
            "gridwidth": 2,
            "linecolor": "#EBF0F8",
            "showbackground": true,
            "ticks": "",
            "zerolinecolor": "#EBF0F8"
           },
           "zaxis": {
            "backgroundcolor": "white",
            "gridcolor": "#DFE8F3",
            "gridwidth": 2,
            "linecolor": "#EBF0F8",
            "showbackground": true,
            "ticks": "",
            "zerolinecolor": "#EBF0F8"
           }
          },
          "shapedefaults": {
           "line": {
            "color": "#2a3f5f"
           }
          },
          "ternary": {
           "aaxis": {
            "gridcolor": "#DFE8F3",
            "linecolor": "#A2B1C6",
            "ticks": ""
           },
           "baxis": {
            "gridcolor": "#DFE8F3",
            "linecolor": "#A2B1C6",
            "ticks": ""
           },
           "bgcolor": "white",
           "caxis": {
            "gridcolor": "#DFE8F3",
            "linecolor": "#A2B1C6",
            "ticks": ""
           }
          },
          "title": {
           "x": 0.05
          },
          "xaxis": {
           "automargin": true,
           "gridcolor": "#EBF0F8",
           "linecolor": "#EBF0F8",
           "ticks": "",
           "title": {
            "standoff": 15
           },
           "zerolinecolor": "#EBF0F8",
           "zerolinewidth": 2
          },
          "yaxis": {
           "automargin": true,
           "gridcolor": "#EBF0F8",
           "linecolor": "#EBF0F8",
           "ticks": "",
           "title": {
            "standoff": 15
           },
           "zerolinecolor": "#EBF0F8",
           "zerolinewidth": 2
          }
         }
        },
        "title": {
         "text": "Counts of top trigrams"
        },
        "xaxis": {
         "anchor": "y",
         "domain": [
          0,
          1
         ],
         "title": {
          "text": "Trigram"
         }
        },
        "yaxis": {
         "anchor": "x",
         "domain": [
          0,
          1
         ],
         "title": {
          "text": "Count"
         }
        }
       }
      },
      "text/html": [
       "<div>\n",
       "        \n",
       "        \n",
       "            <div id=\"3388857c-0f1e-4ede-af45-70d9fb964a48\" class=\"plotly-graph-div\" style=\"height:525px; width:100%;\"></div>\n",
       "            <script type=\"text/javascript\">\n",
       "                require([\"plotly\"], function(Plotly) {\n",
       "                    window.PLOTLYENV=window.PLOTLYENV || {};\n",
       "                    \n",
       "                if (document.getElementById(\"3388857c-0f1e-4ede-af45-70d9fb964a48\")) {\n",
       "                    Plotly.newPlot(\n",
       "                        '3388857c-0f1e-4ede-af45-70d9fb964a48',\n",
       "                        [{\"alignmentgroup\": \"True\", \"hovertemplate\": \"Trigram=%{x}<br>Count=%{y}<extra></extra>\", \"legendgroup\": \"\", \"marker\": {\"color\": \"#636efa\"}, \"name\": \"\", \"offsetgroup\": \"\", \"orientation\": \"v\", \"showlegend\": false, \"textposition\": \"auto\", \"type\": \"bar\", \"x\": [\"natural_language_processing\", \"multi_head_attention\", \"example_research_tutorial\", \"hand_real_world\", \"machine_learn_algorithm\", \"look_write_write\", \"skip_gram_model\", \"deep_neural_network\", \"hidden_markov_model\", \"user_data_all\", \"real_world_example\", \"product_enriched_topics\", \"user_data_append\", \"score_cb_normed\", \"score_user_product\", \"start_comprehend_job\", \"https://www.airpair.com/nlp/keyword-extraction-tutorialhttps://github.com/zelandiya/rake-tutorialhttp://textminingonline.com/getting-started-with-keyword-extractionhttps://en.wikipedia.org/wiki/automatic_summarization#keyphrase_extractionhttp://www.diva-portal.org/smash/get/diva2:352481/fulltext01.pdf\", \"https://www.ischool.utexas.edu/~i385d/readings/goldberg_usingcollaborative_92.pdf4\", \"b_10_transpose\", \"model_evaluation_utils\"], \"xaxis\": \"x\", \"y\": [76, 41, 32, 32, 30, 24, 22, 22, 19, 8, 7, 4, 4, 4, 4, 4, 2, 2, 2, 2], \"yaxis\": \"y\"}],\n",
       "                        {\"barmode\": \"relative\", \"legend\": {\"tracegroupgap\": 0}, \"template\": {\"data\": {\"bar\": [{\"error_x\": {\"color\": \"#2a3f5f\"}, \"error_y\": {\"color\": \"#2a3f5f\"}, \"marker\": {\"line\": {\"color\": \"white\", \"width\": 0.5}}, \"type\": \"bar\"}], \"barpolar\": [{\"marker\": {\"line\": {\"color\": \"white\", \"width\": 0.5}}, \"type\": \"barpolar\"}], \"carpet\": [{\"aaxis\": {\"endlinecolor\": \"#2a3f5f\", \"gridcolor\": \"#C8D4E3\", \"linecolor\": \"#C8D4E3\", \"minorgridcolor\": \"#C8D4E3\", \"startlinecolor\": \"#2a3f5f\"}, \"baxis\": {\"endlinecolor\": \"#2a3f5f\", \"gridcolor\": \"#C8D4E3\", \"linecolor\": \"#C8D4E3\", \"minorgridcolor\": \"#C8D4E3\", \"startlinecolor\": \"#2a3f5f\"}, \"type\": \"carpet\"}], \"choropleth\": [{\"colorbar\": {\"outlinewidth\": 0, \"ticks\": \"\"}, \"type\": \"choropleth\"}], \"contour\": [{\"colorbar\": {\"outlinewidth\": 0, \"ticks\": \"\"}, \"colorscale\": [[0.0, \"#0d0887\"], [0.1111111111111111, \"#46039f\"], [0.2222222222222222, \"#7201a8\"], [0.3333333333333333, \"#9c179e\"], [0.4444444444444444, \"#bd3786\"], [0.5555555555555556, \"#d8576b\"], [0.6666666666666666, \"#ed7953\"], [0.7777777777777778, \"#fb9f3a\"], [0.8888888888888888, \"#fdca26\"], [1.0, \"#f0f921\"]], \"type\": \"contour\"}], \"contourcarpet\": [{\"colorbar\": {\"outlinewidth\": 0, \"ticks\": \"\"}, \"type\": \"contourcarpet\"}], \"heatmap\": [{\"colorbar\": {\"outlinewidth\": 0, \"ticks\": \"\"}, \"colorscale\": [[0.0, \"#0d0887\"], [0.1111111111111111, \"#46039f\"], [0.2222222222222222, \"#7201a8\"], [0.3333333333333333, \"#9c179e\"], [0.4444444444444444, \"#bd3786\"], [0.5555555555555556, \"#d8576b\"], [0.6666666666666666, \"#ed7953\"], [0.7777777777777778, \"#fb9f3a\"], [0.8888888888888888, \"#fdca26\"], [1.0, \"#f0f921\"]], \"type\": \"heatmap\"}], \"heatmapgl\": [{\"colorbar\": {\"outlinewidth\": 0, \"ticks\": \"\"}, \"colorscale\": [[0.0, \"#0d0887\"], [0.1111111111111111, \"#46039f\"], [0.2222222222222222, \"#7201a8\"], [0.3333333333333333, \"#9c179e\"], [0.4444444444444444, \"#bd3786\"], [0.5555555555555556, \"#d8576b\"], [0.6666666666666666, \"#ed7953\"], [0.7777777777777778, \"#fb9f3a\"], [0.8888888888888888, \"#fdca26\"], [1.0, \"#f0f921\"]], \"type\": \"heatmapgl\"}], \"histogram\": [{\"marker\": {\"colorbar\": {\"outlinewidth\": 0, \"ticks\": \"\"}}, \"type\": \"histogram\"}], \"histogram2d\": [{\"colorbar\": {\"outlinewidth\": 0, \"ticks\": \"\"}, \"colorscale\": [[0.0, \"#0d0887\"], [0.1111111111111111, \"#46039f\"], [0.2222222222222222, \"#7201a8\"], [0.3333333333333333, \"#9c179e\"], [0.4444444444444444, \"#bd3786\"], [0.5555555555555556, \"#d8576b\"], [0.6666666666666666, \"#ed7953\"], [0.7777777777777778, \"#fb9f3a\"], [0.8888888888888888, \"#fdca26\"], [1.0, \"#f0f921\"]], \"type\": \"histogram2d\"}], \"histogram2dcontour\": [{\"colorbar\": {\"outlinewidth\": 0, \"ticks\": \"\"}, \"colorscale\": [[0.0, \"#0d0887\"], [0.1111111111111111, \"#46039f\"], [0.2222222222222222, \"#7201a8\"], [0.3333333333333333, \"#9c179e\"], [0.4444444444444444, \"#bd3786\"], [0.5555555555555556, \"#d8576b\"], [0.6666666666666666, \"#ed7953\"], [0.7777777777777778, \"#fb9f3a\"], [0.8888888888888888, \"#fdca26\"], [1.0, \"#f0f921\"]], \"type\": \"histogram2dcontour\"}], \"mesh3d\": [{\"colorbar\": {\"outlinewidth\": 0, \"ticks\": \"\"}, \"type\": \"mesh3d\"}], \"parcoords\": [{\"line\": {\"colorbar\": {\"outlinewidth\": 0, \"ticks\": \"\"}}, \"type\": \"parcoords\"}], \"pie\": [{\"automargin\": true, \"type\": \"pie\"}], \"scatter\": [{\"marker\": {\"colorbar\": {\"outlinewidth\": 0, \"ticks\": \"\"}}, \"type\": \"scatter\"}], \"scatter3d\": [{\"line\": {\"colorbar\": {\"outlinewidth\": 0, \"ticks\": \"\"}}, \"marker\": {\"colorbar\": {\"outlinewidth\": 0, \"ticks\": \"\"}}, \"type\": \"scatter3d\"}], \"scattercarpet\": [{\"marker\": {\"colorbar\": {\"outlinewidth\": 0, \"ticks\": \"\"}}, \"type\": \"scattercarpet\"}], \"scattergeo\": [{\"marker\": {\"colorbar\": {\"outlinewidth\": 0, \"ticks\": \"\"}}, \"type\": \"scattergeo\"}], \"scattergl\": [{\"marker\": {\"colorbar\": {\"outlinewidth\": 0, \"ticks\": \"\"}}, \"type\": \"scattergl\"}], \"scattermapbox\": [{\"marker\": {\"colorbar\": {\"outlinewidth\": 0, \"ticks\": \"\"}}, \"type\": \"scattermapbox\"}], \"scatterpolar\": [{\"marker\": {\"colorbar\": {\"outlinewidth\": 0, \"ticks\": \"\"}}, \"type\": \"scatterpolar\"}], \"scatterpolargl\": [{\"marker\": {\"colorbar\": {\"outlinewidth\": 0, \"ticks\": \"\"}}, \"type\": \"scatterpolargl\"}], \"scatterternary\": [{\"marker\": {\"colorbar\": {\"outlinewidth\": 0, \"ticks\": \"\"}}, \"type\": \"scatterternary\"}], \"surface\": [{\"colorbar\": {\"outlinewidth\": 0, \"ticks\": \"\"}, \"colorscale\": [[0.0, \"#0d0887\"], [0.1111111111111111, \"#46039f\"], [0.2222222222222222, \"#7201a8\"], [0.3333333333333333, \"#9c179e\"], [0.4444444444444444, \"#bd3786\"], [0.5555555555555556, \"#d8576b\"], [0.6666666666666666, \"#ed7953\"], [0.7777777777777778, \"#fb9f3a\"], [0.8888888888888888, \"#fdca26\"], [1.0, \"#f0f921\"]], \"type\": \"surface\"}], \"table\": [{\"cells\": {\"fill\": {\"color\": \"#EBF0F8\"}, \"line\": {\"color\": \"white\"}}, \"header\": {\"fill\": {\"color\": \"#C8D4E3\"}, \"line\": {\"color\": \"white\"}}, \"type\": \"table\"}]}, \"layout\": {\"annotationdefaults\": {\"arrowcolor\": \"#2a3f5f\", \"arrowhead\": 0, \"arrowwidth\": 1}, \"coloraxis\": {\"colorbar\": {\"outlinewidth\": 0, \"ticks\": \"\"}}, \"colorscale\": {\"diverging\": [[0, \"#8e0152\"], [0.1, \"#c51b7d\"], [0.2, \"#de77ae\"], [0.3, \"#f1b6da\"], [0.4, \"#fde0ef\"], [0.5, \"#f7f7f7\"], [0.6, \"#e6f5d0\"], [0.7, \"#b8e186\"], [0.8, \"#7fbc41\"], [0.9, \"#4d9221\"], [1, \"#276419\"]], \"sequential\": [[0.0, \"#0d0887\"], [0.1111111111111111, \"#46039f\"], [0.2222222222222222, \"#7201a8\"], [0.3333333333333333, \"#9c179e\"], [0.4444444444444444, \"#bd3786\"], [0.5555555555555556, \"#d8576b\"], [0.6666666666666666, \"#ed7953\"], [0.7777777777777778, \"#fb9f3a\"], [0.8888888888888888, \"#fdca26\"], [1.0, \"#f0f921\"]], \"sequentialminus\": [[0.0, \"#0d0887\"], [0.1111111111111111, \"#46039f\"], [0.2222222222222222, \"#7201a8\"], [0.3333333333333333, \"#9c179e\"], [0.4444444444444444, \"#bd3786\"], [0.5555555555555556, \"#d8576b\"], [0.6666666666666666, \"#ed7953\"], [0.7777777777777778, \"#fb9f3a\"], [0.8888888888888888, \"#fdca26\"], [1.0, \"#f0f921\"]]}, \"colorway\": [\"#636efa\", \"#EF553B\", \"#00cc96\", \"#ab63fa\", \"#FFA15A\", \"#19d3f3\", \"#FF6692\", \"#B6E880\", \"#FF97FF\", \"#FECB52\"], \"font\": {\"color\": \"#2a3f5f\"}, \"geo\": {\"bgcolor\": \"white\", \"lakecolor\": \"white\", \"landcolor\": \"white\", \"showlakes\": true, \"showland\": true, \"subunitcolor\": \"#C8D4E3\"}, \"hoverlabel\": {\"align\": \"left\"}, \"hovermode\": \"closest\", \"mapbox\": {\"style\": \"light\"}, \"paper_bgcolor\": \"white\", \"plot_bgcolor\": \"white\", \"polar\": {\"angularaxis\": {\"gridcolor\": \"#EBF0F8\", \"linecolor\": \"#EBF0F8\", \"ticks\": \"\"}, \"bgcolor\": \"white\", \"radialaxis\": {\"gridcolor\": \"#EBF0F8\", \"linecolor\": \"#EBF0F8\", \"ticks\": \"\"}}, \"scene\": {\"xaxis\": {\"backgroundcolor\": \"white\", \"gridcolor\": \"#DFE8F3\", \"gridwidth\": 2, \"linecolor\": \"#EBF0F8\", \"showbackground\": true, \"ticks\": \"\", \"zerolinecolor\": \"#EBF0F8\"}, \"yaxis\": {\"backgroundcolor\": \"white\", \"gridcolor\": \"#DFE8F3\", \"gridwidth\": 2, \"linecolor\": \"#EBF0F8\", \"showbackground\": true, \"ticks\": \"\", \"zerolinecolor\": \"#EBF0F8\"}, \"zaxis\": {\"backgroundcolor\": \"white\", \"gridcolor\": \"#DFE8F3\", \"gridwidth\": 2, \"linecolor\": \"#EBF0F8\", \"showbackground\": true, \"ticks\": \"\", \"zerolinecolor\": \"#EBF0F8\"}}, \"shapedefaults\": {\"line\": {\"color\": \"#2a3f5f\"}}, \"ternary\": {\"aaxis\": {\"gridcolor\": \"#DFE8F3\", \"linecolor\": \"#A2B1C6\", \"ticks\": \"\"}, \"baxis\": {\"gridcolor\": \"#DFE8F3\", \"linecolor\": \"#A2B1C6\", \"ticks\": \"\"}, \"bgcolor\": \"white\", \"caxis\": {\"gridcolor\": \"#DFE8F3\", \"linecolor\": \"#A2B1C6\", \"ticks\": \"\"}}, \"title\": {\"x\": 0.05}, \"xaxis\": {\"automargin\": true, \"gridcolor\": \"#EBF0F8\", \"linecolor\": \"#EBF0F8\", \"ticks\": \"\", \"title\": {\"standoff\": 15}, \"zerolinecolor\": \"#EBF0F8\", \"zerolinewidth\": 2}, \"yaxis\": {\"automargin\": true, \"gridcolor\": \"#EBF0F8\", \"linecolor\": \"#EBF0F8\", \"ticks\": \"\", \"title\": {\"standoff\": 15}, \"zerolinecolor\": \"#EBF0F8\", \"zerolinewidth\": 2}}}, \"title\": {\"text\": \"Counts of top trigrams\"}, \"xaxis\": {\"anchor\": \"y\", \"domain\": [0.0, 1.0], \"title\": {\"text\": \"Trigram\"}}, \"yaxis\": {\"anchor\": \"x\", \"domain\": [0.0, 1.0], \"title\": {\"text\": \"Count\"}}},\n",
       "                        {\"responsive\": true}\n",
       "                    ).then(function(){\n",
       "                            \n",
       "var gd = document.getElementById('3388857c-0f1e-4ede-af45-70d9fb964a48');\n",
       "var x = new MutationObserver(function (mutations, observer) {{\n",
       "        var display = window.getComputedStyle(gd).display;\n",
       "        if (!display || display === 'none') {{\n",
       "            console.log([gd, 'removed!']);\n",
       "            Plotly.purge(gd);\n",
       "            observer.disconnect();\n",
       "        }}\n",
       "}});\n",
       "\n",
       "// Listen for the removal of the full notebook cells\n",
       "var notebookContainer = gd.closest('#notebook-container');\n",
       "if (notebookContainer) {{\n",
       "    x.observe(notebookContainer, {childList: true});\n",
       "}}\n",
       "\n",
       "// Listen for the clearing of the current output cell\n",
       "var outputEl = gd.closest('.output');\n",
       "if (outputEl) {{\n",
       "    x.observe(outputEl, {childList: true});\n",
       "}}\n",
       "\n",
       "                        })\n",
       "                };\n",
       "                });\n",
       "            </script>\n",
       "        </div>"
      ]
     },
     "metadata": {},
     "output_type": "display_data"
    },
    {
     "name": "stdout",
     "output_type": "stream",
     "text": [
      "n-gram took: 17 seconds\n"
     ]
    }
   ],
   "source": [
    "# ========== Add n-grams ==========\n",
    "start = time.time()\n",
    "\n",
    "docs = deepcopy(unigram_docs)  # Make new instance before manipulating docs\n",
    "\n",
    "# Build bigrams\n",
    "bigram = Phrases(docs, min_count=30)\n",
    "trigram = Phrases(bigram[docs], min_count=15)\n",
    "for i in range(len(docs)):\n",
    "    doc = docs[i]\n",
    "    bigrams_ = [b for b in bigram[doc] if b.count(\"_\") == 1]\n",
    "    trigrams_ = [t for t in trigram[bigram[doc]] if t.count(\"_\") == 2]\n",
    "    # print(f'Found bigrams {bigrams_}')\n",
    "    # print(f'Found trigrams {trigrams_}')\n",
    "    docs[i] = doc + bigrams_ + trigrams_\n",
    "\n",
    "\n",
    "# ===== Inspect n-grams =====\n",
    "def vis_ngrams(docs_in, n_ngrams=20):\n",
    "\n",
    "    from collections import Counter\n",
    "\n",
    "    frequencies = Counter([])\n",
    "    for text in docs_in:\n",
    "        frequencies += Counter(text)\n",
    "\n",
    "    unigram_df = pd.DataFrame(\n",
    "        [{\"ngram\": k, \"count\": v}\n",
    "            for k, v in frequencies.items() if \"_\" not in k]\n",
    "    ).sort_values(\"count\", ascending=False)\n",
    "    bi_gram_df = pd.DataFrame(\n",
    "        [{\"ngram\": k, \"count\": v} for k, v in frequencies.items() if \"_\" in k]\n",
    "    ).sort_values(\"count\", ascending=False)\n",
    "    trigram_df = pd.DataFrame(\n",
    "        [{\"ngram\": k, \"count\": v}\n",
    "            for k, v in frequencies.items() if k.count(\"_\") == 2]\n",
    "    ).sort_values(\"count\", ascending=False)\n",
    "    print(unigram_df[:n_ngrams])\n",
    "    print(bi_gram_df[:n_ngrams])\n",
    "    print(trigram_df[:n_ngrams])\n",
    "\n",
    "    # Visualise counts of top n-grams\n",
    "    fig = px.bar(\n",
    "        unigram_df[:n_ngrams],\n",
    "        x=\"ngram\",\n",
    "        y=\"count\",\n",
    "        title=\"Counts of top unigrams\",\n",
    "        template=\"plotly_white\",\n",
    "        labels={\"ngram\": \"Unigram\", \"count\": \"Count\"},\n",
    "    )\n",
    "    fig.show()\n",
    "    fig = px.bar(\n",
    "        bi_gram_df[:n_ngrams],\n",
    "        x=\"ngram\",\n",
    "        y=\"count\",\n",
    "        title=\"Counts of top bi-grams\",\n",
    "        template=\"plotly_white\",\n",
    "        labels={\"ngram\": \"Bigram\", \"count\": \"Count\"},\n",
    "    )\n",
    "    fig.show()\n",
    "    fig = px.bar(\n",
    "        trigram_df[:n_ngrams],\n",
    "        x=\"ngram\",\n",
    "        y=\"count\",\n",
    "        title=\"Counts of top trigrams\",\n",
    "        template=\"plotly_white\",\n",
    "        labels={\"ngram\": \"Trigram\", \"count\": \"Count\"},\n",
    "    )\n",
    "    fig.show()\n",
    "    return True\n",
    "\n",
    "\n",
    "vis_ngrams(docs, n_ngrams=20)  # TODO - THIS IS SLOW AS SHIT\n",
    "\n",
    "\n",
    "print(\"n-gram took: \" + str(int(time.time() - start)) + \" seconds\")"
   ]
  },
  {
   "cell_type": "code",
   "execution_count": 78,
   "metadata": {},
   "outputs": [
    {
     "name": "stdout",
     "output_type": "stream",
     "text": [
      "Number of unique tokens: 1093\n",
      "Number of documents: 308\n",
      "remove stop-words took: 0 seconds\n"
     ]
    }
   ],
   "source": [
    "# ========== Further filtering ==========\n",
    "start = time.time()\n",
    "# Remove custom stopwords\n",
    "custom_stopwords = [\n",
    "    \"play_important_role\",\n",
    "    \"play_critical_role\",\n",
    "    \"play_key_role\",\n",
    "    \"95_confidence_interval\",\n",
    "    \"provide_new_insight\",\n",
    "    \"et_al\",\n",
    "    \"pubmed_abstract\",\n",
    "    \"publisher_text\",\n",
    "    \"present_study\",\n",
    "    \"results_suggest\",\n",
    "    \"result_suggest\",\n",
    "    \"95_ci\",\n",
    "    \"play_important\",\n",
    "    \"study\",\n",
    "    \"result\",\n",
    "    \"analysis\",\n",
    "    \"method\",\n",
    "]\n",
    "docs = [\n",
    "    [token for token in doc if token.lower() not in custom_stopwords] for doc in docs\n",
    "]\n",
    "\n",
    "# # Visualis n-grams again\n",
    "# vis_ngrams(docs)\n",
    "# write out the docs for UI iterations\n",
    "with open('./app/outputs/list_input_lda.txt', 'w') as f:\n",
    "    for doc in docs:\n",
    "        f.write(\"%s\\n\" % doc)\n",
    "\n",
    "# Create a dictionary representation of the documents.\n",
    "dictionary = Dictionary(docs)\n",
    "\n",
    "# Filter out words that occur less than 20 documents, or more than 50% of the documents.\n",
    "dictionary.filter_extremes(no_below=20, no_above=0.5)\n",
    "\n",
    "# Bag-of-words representation of the documents.\n",
    "corpus = [dictionary.doc2bow(doc) for doc in docs]\n",
    "\n",
    "print(\"Number of unique tokens: %d\" % len(dictionary))\n",
    "print(\"Number of documents: %d\" % len(corpus))\n",
    "\n",
    "\n",
    "print(\"remove stop-words took: \" + str(int(time.time() - start)) + \" seconds\")"
   ]
  },
  {
   "cell_type": "code",
   "execution_count": 79,
   "metadata": {},
   "outputs": [
    {
     "name": "stdout",
     "output_type": "stream",
     "text": [
      "[0.0, 0.1, 0.2, 0.3, 0.4, 0.5, 0.6, 0.7, 0.8, 0.9]\n",
      "eta:0.0\n",
      "Average topic coherence: 0.4650.\n",
      "eta:0.1\n",
      "Average topic coherence: 0.4909.\n"
     ]
    },
    {
     "ename": "KeyboardInterrupt",
     "evalue": "",
     "output_type": "error",
     "traceback": [
      "\u001b[0;31m---------------------------------------------------------------------------\u001b[0m",
      "\u001b[0;31mKeyboardInterrupt\u001b[0m                         Traceback (most recent call last)",
      "\u001b[0;32m<ipython-input-79-2c3eee5422e5>\u001b[0m in \u001b[0;36m<module>\u001b[0;34m\u001b[0m\n\u001b[1;32m     45\u001b[0m \u001b[0;34m\u001b[0m\u001b[0m\n\u001b[1;32m     46\u001b[0m \u001b[0;32mfor\u001b[0m \u001b[0meta\u001b[0m \u001b[0;32min\u001b[0m \u001b[0meta_t\u001b[0m\u001b[0;34m:\u001b[0m\u001b[0;34m\u001b[0m\u001b[0;34m\u001b[0m\u001b[0m\n\u001b[0;32m---> 47\u001b[0;31m     \u001b[0msc\u001b[0m \u001b[0;34m=\u001b[0m \u001b[0mrun_lda\u001b[0m\u001b[0;34m(\u001b[0m\u001b[0meta\u001b[0m\u001b[0;34m)\u001b[0m\u001b[0;34m\u001b[0m\u001b[0;34m\u001b[0m\u001b[0m\n\u001b[0m\u001b[1;32m     48\u001b[0m     \u001b[0mcoh_scs\u001b[0m\u001b[0;34m.\u001b[0m\u001b[0mappend\u001b[0m\u001b[0;34m(\u001b[0m\u001b[0msc\u001b[0m\u001b[0;34m)\u001b[0m\u001b[0;34m\u001b[0m\u001b[0;34m\u001b[0m\u001b[0m\n",
      "\u001b[0;32m<ipython-input-79-2c3eee5422e5>\u001b[0m in \u001b[0;36mrun_lda\u001b[0;34m(eta)\u001b[0m\n\u001b[1;32m     25\u001b[0m         \u001b[0mnum_topics\u001b[0m\u001b[0;34m=\u001b[0m\u001b[0mnum_topics\u001b[0m\u001b[0;34m,\u001b[0m\u001b[0;34m\u001b[0m\u001b[0;34m\u001b[0m\u001b[0m\n\u001b[1;32m     26\u001b[0m         \u001b[0mpasses\u001b[0m\u001b[0;34m=\u001b[0m\u001b[0mpasses\u001b[0m\u001b[0;34m,\u001b[0m\u001b[0;34m\u001b[0m\u001b[0;34m\u001b[0m\u001b[0m\n\u001b[0;32m---> 27\u001b[0;31m         \u001b[0meval_every\u001b[0m\u001b[0;34m=\u001b[0m\u001b[0meval_every\u001b[0m\u001b[0;34m,\u001b[0m\u001b[0;34m\u001b[0m\u001b[0;34m\u001b[0m\u001b[0m\n\u001b[0m\u001b[1;32m     28\u001b[0m     )\n\u001b[1;32m     29\u001b[0m \u001b[0;34m\u001b[0m\u001b[0m\n",
      "\u001b[0;32m~/opt/anaconda3/lib/python3.7/site-packages/gensim/models/ldamodel.py\u001b[0m in \u001b[0;36m__init__\u001b[0;34m(self, corpus, num_topics, id2word, distributed, chunksize, passes, update_every, alpha, eta, decay, offset, eval_every, iterations, gamma_threshold, minimum_probability, random_state, ns_conf, minimum_phi_value, per_word_topics, callbacks, dtype)\u001b[0m\n\u001b[1;32m    517\u001b[0m         \u001b[0;32mif\u001b[0m \u001b[0mcorpus\u001b[0m \u001b[0;32mis\u001b[0m \u001b[0;32mnot\u001b[0m \u001b[0;32mNone\u001b[0m\u001b[0;34m:\u001b[0m\u001b[0;34m\u001b[0m\u001b[0;34m\u001b[0m\u001b[0m\n\u001b[1;32m    518\u001b[0m             \u001b[0muse_numpy\u001b[0m \u001b[0;34m=\u001b[0m \u001b[0mself\u001b[0m\u001b[0;34m.\u001b[0m\u001b[0mdispatcher\u001b[0m \u001b[0;32mis\u001b[0m \u001b[0;32mnot\u001b[0m \u001b[0;32mNone\u001b[0m\u001b[0;34m\u001b[0m\u001b[0;34m\u001b[0m\u001b[0m\n\u001b[0;32m--> 519\u001b[0;31m             \u001b[0mself\u001b[0m\u001b[0;34m.\u001b[0m\u001b[0mupdate\u001b[0m\u001b[0;34m(\u001b[0m\u001b[0mcorpus\u001b[0m\u001b[0;34m,\u001b[0m \u001b[0mchunks_as_numpy\u001b[0m\u001b[0;34m=\u001b[0m\u001b[0muse_numpy\u001b[0m\u001b[0;34m)\u001b[0m\u001b[0;34m\u001b[0m\u001b[0;34m\u001b[0m\u001b[0m\n\u001b[0m\u001b[1;32m    520\u001b[0m \u001b[0;34m\u001b[0m\u001b[0m\n\u001b[1;32m    521\u001b[0m     \u001b[0;32mdef\u001b[0m \u001b[0minit_dir_prior\u001b[0m\u001b[0;34m(\u001b[0m\u001b[0mself\u001b[0m\u001b[0;34m,\u001b[0m \u001b[0mprior\u001b[0m\u001b[0;34m,\u001b[0m \u001b[0mname\u001b[0m\u001b[0;34m)\u001b[0m\u001b[0;34m:\u001b[0m\u001b[0;34m\u001b[0m\u001b[0;34m\u001b[0m\u001b[0m\n",
      "\u001b[0;32m~/opt/anaconda3/lib/python3.7/site-packages/gensim/models/ldamodel.py\u001b[0m in \u001b[0;36mupdate\u001b[0;34m(self, corpus, chunksize, decay, offset, passes, update_every, eval_every, iterations, gamma_threshold, chunks_as_numpy)\u001b[0m\n\u001b[1;32m    978\u001b[0m                         \u001b[0mpass_\u001b[0m\u001b[0;34m,\u001b[0m \u001b[0mchunk_no\u001b[0m \u001b[0;34m*\u001b[0m \u001b[0mchunksize\u001b[0m \u001b[0;34m+\u001b[0m \u001b[0mlen\u001b[0m\u001b[0;34m(\u001b[0m\u001b[0mchunk\u001b[0m\u001b[0;34m)\u001b[0m\u001b[0;34m,\u001b[0m \u001b[0mlencorpus\u001b[0m\u001b[0;34m\u001b[0m\u001b[0;34m\u001b[0m\u001b[0m\n\u001b[1;32m    979\u001b[0m                     )\n\u001b[0;32m--> 980\u001b[0;31m                     \u001b[0mgammat\u001b[0m \u001b[0;34m=\u001b[0m \u001b[0mself\u001b[0m\u001b[0;34m.\u001b[0m\u001b[0mdo_estep\u001b[0m\u001b[0;34m(\u001b[0m\u001b[0mchunk\u001b[0m\u001b[0;34m,\u001b[0m \u001b[0mother\u001b[0m\u001b[0;34m)\u001b[0m\u001b[0;34m\u001b[0m\u001b[0;34m\u001b[0m\u001b[0m\n\u001b[0m\u001b[1;32m    981\u001b[0m \u001b[0;34m\u001b[0m\u001b[0m\n\u001b[1;32m    982\u001b[0m                     \u001b[0;32mif\u001b[0m \u001b[0mself\u001b[0m\u001b[0;34m.\u001b[0m\u001b[0moptimize_alpha\u001b[0m\u001b[0;34m:\u001b[0m\u001b[0;34m\u001b[0m\u001b[0;34m\u001b[0m\u001b[0m\n",
      "\u001b[0;32m~/opt/anaconda3/lib/python3.7/site-packages/gensim/models/ldamodel.py\u001b[0m in \u001b[0;36mdo_estep\u001b[0;34m(self, chunk, state)\u001b[0m\n\u001b[1;32m    740\u001b[0m         \u001b[0;32mif\u001b[0m \u001b[0mstate\u001b[0m \u001b[0;32mis\u001b[0m \u001b[0;32mNone\u001b[0m\u001b[0;34m:\u001b[0m\u001b[0;34m\u001b[0m\u001b[0;34m\u001b[0m\u001b[0m\n\u001b[1;32m    741\u001b[0m             \u001b[0mstate\u001b[0m \u001b[0;34m=\u001b[0m \u001b[0mself\u001b[0m\u001b[0;34m.\u001b[0m\u001b[0mstate\u001b[0m\u001b[0;34m\u001b[0m\u001b[0;34m\u001b[0m\u001b[0m\n\u001b[0;32m--> 742\u001b[0;31m         \u001b[0mgamma\u001b[0m\u001b[0;34m,\u001b[0m \u001b[0msstats\u001b[0m \u001b[0;34m=\u001b[0m \u001b[0mself\u001b[0m\u001b[0;34m.\u001b[0m\u001b[0minference\u001b[0m\u001b[0;34m(\u001b[0m\u001b[0mchunk\u001b[0m\u001b[0;34m,\u001b[0m \u001b[0mcollect_sstats\u001b[0m\u001b[0;34m=\u001b[0m\u001b[0;32mTrue\u001b[0m\u001b[0;34m)\u001b[0m\u001b[0;34m\u001b[0m\u001b[0;34m\u001b[0m\u001b[0m\n\u001b[0m\u001b[1;32m    743\u001b[0m         \u001b[0mstate\u001b[0m\u001b[0;34m.\u001b[0m\u001b[0msstats\u001b[0m \u001b[0;34m+=\u001b[0m \u001b[0msstats\u001b[0m\u001b[0;34m\u001b[0m\u001b[0;34m\u001b[0m\u001b[0m\n\u001b[1;32m    744\u001b[0m         \u001b[0mstate\u001b[0m\u001b[0;34m.\u001b[0m\u001b[0mnumdocs\u001b[0m \u001b[0;34m+=\u001b[0m \u001b[0mgamma\u001b[0m\u001b[0;34m.\u001b[0m\u001b[0mshape\u001b[0m\u001b[0;34m[\u001b[0m\u001b[0;36m0\u001b[0m\u001b[0;34m]\u001b[0m  \u001b[0;31m# avoids calling len(chunk) on a generator\u001b[0m\u001b[0;34m\u001b[0m\u001b[0;34m\u001b[0m\u001b[0m\n",
      "\u001b[0;32m~/opt/anaconda3/lib/python3.7/site-packages/gensim/models/ldamodel.py\u001b[0m in \u001b[0;36minference\u001b[0;34m(self, chunk, collect_sstats)\u001b[0m\n\u001b[1;32m    694\u001b[0m                 \u001b[0mElogthetad\u001b[0m \u001b[0;34m=\u001b[0m \u001b[0mdirichlet_expectation\u001b[0m\u001b[0;34m(\u001b[0m\u001b[0mgammad\u001b[0m\u001b[0;34m)\u001b[0m\u001b[0;34m\u001b[0m\u001b[0;34m\u001b[0m\u001b[0m\n\u001b[1;32m    695\u001b[0m                 \u001b[0mexpElogthetad\u001b[0m \u001b[0;34m=\u001b[0m \u001b[0mnp\u001b[0m\u001b[0;34m.\u001b[0m\u001b[0mexp\u001b[0m\u001b[0;34m(\u001b[0m\u001b[0mElogthetad\u001b[0m\u001b[0;34m)\u001b[0m\u001b[0;34m\u001b[0m\u001b[0;34m\u001b[0m\u001b[0m\n\u001b[0;32m--> 696\u001b[0;31m                 \u001b[0mphinorm\u001b[0m \u001b[0;34m=\u001b[0m \u001b[0mnp\u001b[0m\u001b[0;34m.\u001b[0m\u001b[0mdot\u001b[0m\u001b[0;34m(\u001b[0m\u001b[0mexpElogthetad\u001b[0m\u001b[0;34m,\u001b[0m \u001b[0mexpElogbetad\u001b[0m\u001b[0;34m)\u001b[0m \u001b[0;34m+\u001b[0m \u001b[0mepsilon\u001b[0m\u001b[0;34m\u001b[0m\u001b[0;34m\u001b[0m\u001b[0m\n\u001b[0m\u001b[1;32m    697\u001b[0m                 \u001b[0;31m# If gamma hasn't changed much, we're done.\u001b[0m\u001b[0;34m\u001b[0m\u001b[0;34m\u001b[0m\u001b[0;34m\u001b[0m\u001b[0m\n\u001b[1;32m    698\u001b[0m                 \u001b[0mmeanchange\u001b[0m \u001b[0;34m=\u001b[0m \u001b[0mmean_absolute_difference\u001b[0m\u001b[0;34m(\u001b[0m\u001b[0mgammad\u001b[0m\u001b[0;34m,\u001b[0m \u001b[0mlastgamma\u001b[0m\u001b[0;34m)\u001b[0m\u001b[0;34m\u001b[0m\u001b[0;34m\u001b[0m\u001b[0m\n",
      "\u001b[0;32m<__array_function__ internals>\u001b[0m in \u001b[0;36mdot\u001b[0;34m(*args, **kwargs)\u001b[0m\n",
      "\u001b[0;31mKeyboardInterrupt\u001b[0m: "
     ]
    }
   ],
   "source": [
    "# ========== LDA - train our model with Gensim ==========\n",
    "\n",
    "start = time.time()\n",
    "# Set training parameters.\n",
    "#num_topics = 3\n",
    "\n",
    "def run_lda(eta):\n",
    "    num_topics = 12\n",
    "    chunksize = 2000\n",
    "    passes = 20\n",
    "    iterations = 400\n",
    "    eval_every = None  # Don't evaluate model perplexity, takes too much time.\n",
    "\n",
    "    # Make a index to word dictionary.\n",
    "    temp = dictionary[0]  # This is only to \"load\" the dictionary.\n",
    "    id2word = dictionary.id2token\n",
    "\n",
    "    lda = LdaModel(\n",
    "        corpus=corpus,\n",
    "        id2word=id2word,\n",
    "        chunksize=chunksize,\n",
    "        alpha=0.9,\n",
    "        eta=eta,\n",
    "        iterations=iterations,\n",
    "        num_topics=num_topics,\n",
    "        passes=passes,\n",
    "        eval_every=eval_every,\n",
    "    )\n",
    "\n",
    "    top_topics = lda.top_topics(corpus, coherence='c_v', texts=docs, dictionary=dictionary)  # , num_words=20)\n",
    "    #top_topics = lda.top_topics(corpus, coherence='u_mass')  # , num_words=20)\n",
    "\n",
    "    # Average topic coherence is the sum of topic coherences of all topics, divided by the number of topics.\n",
    "    avg_topic_coherence = sum([t[1] for t in top_topics]) / num_topics\n",
    "    \n",
    "    print(\"eta:\" + str(eta))\n",
    "    print(\"Average topic coherence: %.4f.\" % avg_topic_coherence)\n",
    "    return avg_topic_coherence\n",
    "\n",
    "    #print(\"remove stop-words took: \" + str(int(time.time() - start)) + \" seconds\")\n",
    "    \n",
    "eta_t = [p/10 for p in range(0, 10)]\n",
    "print(eta_t)\n",
    "coh_scs = []\n",
    "\n",
    "for eta in eta_t:\n",
    "    sc = run_lda(eta)\n",
    "    coh_scs.append(sc)"
   ]
  },
  {
   "cell_type": "code",
   "execution_count": 95,
   "metadata": {},
   "outputs": [
    {
     "name": "stderr",
     "output_type": "stream",
     "text": [
      "/Users/zruxi/opt/anaconda3/lib/python3.7/site-packages/plotly/basedatatypes.py:1839: DeprecationWarning:\n",
      "\n",
      "The append_trace method is deprecated and will be removed in a future version.\n",
      "Please use the add_trace method with the row and col parameters.\n",
      "\n",
      "\n",
      "/Users/zruxi/opt/anaconda3/lib/python3.7/site-packages/plotly/basedatatypes.py:1839: DeprecationWarning:\n",
      "\n",
      "The append_trace method is deprecated and will be removed in a future version.\n",
      "Please use the add_trace method with the row and col parameters.\n",
      "\n",
      "\n"
     ]
    },
    {
     "data": {
      "application/vnd.plotly.v1+json": {
       "config": {
        "plotlyServerURL": "https://plot.ly"
       },
       "data": [
        {
         "line": {
          "color": "rgb(67,67,67)",
          "width": 2
         },
         "marker": {
          "color": "rgb(115,115,115)"
         },
         "showlegend": false,
         "type": "scatter",
         "x": [
          1,
          2,
          3,
          4,
          5,
          6,
          7,
          8,
          9,
          10,
          11,
          12,
          13,
          14,
          15,
          16,
          17,
          18,
          19,
          20,
          21,
          22,
          23,
          24,
          25,
          26,
          27,
          28,
          29,
          30
         ],
         "xaxis": "x",
         "y": [
          0.19921742699847628,
          0.28079662350484474,
          0.35980371058093724,
          0.395017079201736,
          0.4821590803817702,
          0.43829619683937177,
          0.45860677830182006,
          0.4818942613262664,
          0.39528114776635404,
          0.4798636229252404,
          0.47909922816392786,
          0.5190775770023021,
          0.5329843618934249,
          0.48934076284832456,
          0.5303980874590332,
          0.47465643487712117,
          0.4866388160726669,
          0.5045434450081916,
          0.46565409150392145,
          0.48598599284530025,
          0.49349514919643056,
          0.5103408896851072,
          0.4908687552060693,
          0.4796660939604231,
          0.5095330442975221,
          0.46985626127636565,
          0.4844917466283094,
          0.49604733184726285,
          0.4773774264746204,
          0.48247793245538884
         ],
         "yaxis": "y"
        },
        {
         "line": {
          "color": "rgb(67,67,67)",
          "width": 2
         },
         "marker": {
          "color": "rgb(49,130,189)"
         },
         "showlegend": false,
         "type": "scatter",
         "x": [
          1,
          2,
          3,
          4,
          5,
          6,
          7,
          8,
          9,
          10,
          11,
          12,
          13,
          14,
          15,
          16,
          17,
          18,
          19,
          20,
          21,
          22,
          23,
          24,
          25,
          26,
          27,
          28,
          29,
          30
         ],
         "xaxis": "x2",
         "y": [
          -0.8978147181782018,
          -0.9928057788091744,
          -1.1104580738655876,
          -1.0608213337352475,
          -1.2320093303138713,
          -1.1861190198977658,
          -1.1424316771171663,
          -1.0424943377624214,
          -1.1475245129297282,
          -1.1714240778717329,
          -1.0453274630994847,
          -1.1056946547895485,
          -1.0513800652020002,
          -1.215334278746648,
          -1.0754648311409247,
          -1.2885182074179897,
          -1.1163046546247972,
          -1.0617696141618247,
          -1.0782215651872822,
          -1.1223966448032467,
          -1.1083426758328354,
          -1.257567500221343,
          -1.0501582206591515,
          -1.1265728237660053,
          -1.0631668810115849,
          -1.1102809849620843,
          -1.1664045674346477,
          -1.2160498090724865,
          -1.1077271903862107,
          -1.0876131227710812
         ],
         "yaxis": "y2"
        }
       ],
       "layout": {
        "annotations": [
         {
          "font": {
           "size": 16
          },
          "showarrow": false,
          "text": "c_v",
          "x": 0.5,
          "xanchor": "center",
          "xref": "paper",
          "y": 1,
          "yanchor": "bottom",
          "yref": "paper"
         },
         {
          "font": {
           "size": 16
          },
          "showarrow": false,
          "text": "u_mass",
          "x": 0.5,
          "xanchor": "center",
          "xref": "paper",
          "y": 0.375,
          "yanchor": "bottom",
          "yref": "paper"
         }
        ],
        "height": 800,
        "template": {
         "data": {
          "bar": [
           {
            "error_x": {
             "color": "#2a3f5f"
            },
            "error_y": {
             "color": "#2a3f5f"
            },
            "marker": {
             "line": {
              "color": "#E5ECF6",
              "width": 0.5
             }
            },
            "type": "bar"
           }
          ],
          "barpolar": [
           {
            "marker": {
             "line": {
              "color": "#E5ECF6",
              "width": 0.5
             }
            },
            "type": "barpolar"
           }
          ],
          "carpet": [
           {
            "aaxis": {
             "endlinecolor": "#2a3f5f",
             "gridcolor": "white",
             "linecolor": "white",
             "minorgridcolor": "white",
             "startlinecolor": "#2a3f5f"
            },
            "baxis": {
             "endlinecolor": "#2a3f5f",
             "gridcolor": "white",
             "linecolor": "white",
             "minorgridcolor": "white",
             "startlinecolor": "#2a3f5f"
            },
            "type": "carpet"
           }
          ],
          "choropleth": [
           {
            "colorbar": {
             "outlinewidth": 0,
             "ticks": ""
            },
            "type": "choropleth"
           }
          ],
          "contour": [
           {
            "colorbar": {
             "outlinewidth": 0,
             "ticks": ""
            },
            "colorscale": [
             [
              0,
              "#0d0887"
             ],
             [
              0.1111111111111111,
              "#46039f"
             ],
             [
              0.2222222222222222,
              "#7201a8"
             ],
             [
              0.3333333333333333,
              "#9c179e"
             ],
             [
              0.4444444444444444,
              "#bd3786"
             ],
             [
              0.5555555555555556,
              "#d8576b"
             ],
             [
              0.6666666666666666,
              "#ed7953"
             ],
             [
              0.7777777777777778,
              "#fb9f3a"
             ],
             [
              0.8888888888888888,
              "#fdca26"
             ],
             [
              1,
              "#f0f921"
             ]
            ],
            "type": "contour"
           }
          ],
          "contourcarpet": [
           {
            "colorbar": {
             "outlinewidth": 0,
             "ticks": ""
            },
            "type": "contourcarpet"
           }
          ],
          "heatmap": [
           {
            "colorbar": {
             "outlinewidth": 0,
             "ticks": ""
            },
            "colorscale": [
             [
              0,
              "#0d0887"
             ],
             [
              0.1111111111111111,
              "#46039f"
             ],
             [
              0.2222222222222222,
              "#7201a8"
             ],
             [
              0.3333333333333333,
              "#9c179e"
             ],
             [
              0.4444444444444444,
              "#bd3786"
             ],
             [
              0.5555555555555556,
              "#d8576b"
             ],
             [
              0.6666666666666666,
              "#ed7953"
             ],
             [
              0.7777777777777778,
              "#fb9f3a"
             ],
             [
              0.8888888888888888,
              "#fdca26"
             ],
             [
              1,
              "#f0f921"
             ]
            ],
            "type": "heatmap"
           }
          ],
          "heatmapgl": [
           {
            "colorbar": {
             "outlinewidth": 0,
             "ticks": ""
            },
            "colorscale": [
             [
              0,
              "#0d0887"
             ],
             [
              0.1111111111111111,
              "#46039f"
             ],
             [
              0.2222222222222222,
              "#7201a8"
             ],
             [
              0.3333333333333333,
              "#9c179e"
             ],
             [
              0.4444444444444444,
              "#bd3786"
             ],
             [
              0.5555555555555556,
              "#d8576b"
             ],
             [
              0.6666666666666666,
              "#ed7953"
             ],
             [
              0.7777777777777778,
              "#fb9f3a"
             ],
             [
              0.8888888888888888,
              "#fdca26"
             ],
             [
              1,
              "#f0f921"
             ]
            ],
            "type": "heatmapgl"
           }
          ],
          "histogram": [
           {
            "marker": {
             "colorbar": {
              "outlinewidth": 0,
              "ticks": ""
             }
            },
            "type": "histogram"
           }
          ],
          "histogram2d": [
           {
            "colorbar": {
             "outlinewidth": 0,
             "ticks": ""
            },
            "colorscale": [
             [
              0,
              "#0d0887"
             ],
             [
              0.1111111111111111,
              "#46039f"
             ],
             [
              0.2222222222222222,
              "#7201a8"
             ],
             [
              0.3333333333333333,
              "#9c179e"
             ],
             [
              0.4444444444444444,
              "#bd3786"
             ],
             [
              0.5555555555555556,
              "#d8576b"
             ],
             [
              0.6666666666666666,
              "#ed7953"
             ],
             [
              0.7777777777777778,
              "#fb9f3a"
             ],
             [
              0.8888888888888888,
              "#fdca26"
             ],
             [
              1,
              "#f0f921"
             ]
            ],
            "type": "histogram2d"
           }
          ],
          "histogram2dcontour": [
           {
            "colorbar": {
             "outlinewidth": 0,
             "ticks": ""
            },
            "colorscale": [
             [
              0,
              "#0d0887"
             ],
             [
              0.1111111111111111,
              "#46039f"
             ],
             [
              0.2222222222222222,
              "#7201a8"
             ],
             [
              0.3333333333333333,
              "#9c179e"
             ],
             [
              0.4444444444444444,
              "#bd3786"
             ],
             [
              0.5555555555555556,
              "#d8576b"
             ],
             [
              0.6666666666666666,
              "#ed7953"
             ],
             [
              0.7777777777777778,
              "#fb9f3a"
             ],
             [
              0.8888888888888888,
              "#fdca26"
             ],
             [
              1,
              "#f0f921"
             ]
            ],
            "type": "histogram2dcontour"
           }
          ],
          "mesh3d": [
           {
            "colorbar": {
             "outlinewidth": 0,
             "ticks": ""
            },
            "type": "mesh3d"
           }
          ],
          "parcoords": [
           {
            "line": {
             "colorbar": {
              "outlinewidth": 0,
              "ticks": ""
             }
            },
            "type": "parcoords"
           }
          ],
          "pie": [
           {
            "automargin": true,
            "type": "pie"
           }
          ],
          "scatter": [
           {
            "marker": {
             "colorbar": {
              "outlinewidth": 0,
              "ticks": ""
             }
            },
            "type": "scatter"
           }
          ],
          "scatter3d": [
           {
            "line": {
             "colorbar": {
              "outlinewidth": 0,
              "ticks": ""
             }
            },
            "marker": {
             "colorbar": {
              "outlinewidth": 0,
              "ticks": ""
             }
            },
            "type": "scatter3d"
           }
          ],
          "scattercarpet": [
           {
            "marker": {
             "colorbar": {
              "outlinewidth": 0,
              "ticks": ""
             }
            },
            "type": "scattercarpet"
           }
          ],
          "scattergeo": [
           {
            "marker": {
             "colorbar": {
              "outlinewidth": 0,
              "ticks": ""
             }
            },
            "type": "scattergeo"
           }
          ],
          "scattergl": [
           {
            "marker": {
             "colorbar": {
              "outlinewidth": 0,
              "ticks": ""
             }
            },
            "type": "scattergl"
           }
          ],
          "scattermapbox": [
           {
            "marker": {
             "colorbar": {
              "outlinewidth": 0,
              "ticks": ""
             }
            },
            "type": "scattermapbox"
           }
          ],
          "scatterpolar": [
           {
            "marker": {
             "colorbar": {
              "outlinewidth": 0,
              "ticks": ""
             }
            },
            "type": "scatterpolar"
           }
          ],
          "scatterpolargl": [
           {
            "marker": {
             "colorbar": {
              "outlinewidth": 0,
              "ticks": ""
             }
            },
            "type": "scatterpolargl"
           }
          ],
          "scatterternary": [
           {
            "marker": {
             "colorbar": {
              "outlinewidth": 0,
              "ticks": ""
             }
            },
            "type": "scatterternary"
           }
          ],
          "surface": [
           {
            "colorbar": {
             "outlinewidth": 0,
             "ticks": ""
            },
            "colorscale": [
             [
              0,
              "#0d0887"
             ],
             [
              0.1111111111111111,
              "#46039f"
             ],
             [
              0.2222222222222222,
              "#7201a8"
             ],
             [
              0.3333333333333333,
              "#9c179e"
             ],
             [
              0.4444444444444444,
              "#bd3786"
             ],
             [
              0.5555555555555556,
              "#d8576b"
             ],
             [
              0.6666666666666666,
              "#ed7953"
             ],
             [
              0.7777777777777778,
              "#fb9f3a"
             ],
             [
              0.8888888888888888,
              "#fdca26"
             ],
             [
              1,
              "#f0f921"
             ]
            ],
            "type": "surface"
           }
          ],
          "table": [
           {
            "cells": {
             "fill": {
              "color": "#EBF0F8"
             },
             "line": {
              "color": "white"
             }
            },
            "header": {
             "fill": {
              "color": "#C8D4E3"
             },
             "line": {
              "color": "white"
             }
            },
            "type": "table"
           }
          ]
         },
         "layout": {
          "annotationdefaults": {
           "arrowcolor": "#2a3f5f",
           "arrowhead": 0,
           "arrowwidth": 1
          },
          "coloraxis": {
           "colorbar": {
            "outlinewidth": 0,
            "ticks": ""
           }
          },
          "colorscale": {
           "diverging": [
            [
             0,
             "#8e0152"
            ],
            [
             0.1,
             "#c51b7d"
            ],
            [
             0.2,
             "#de77ae"
            ],
            [
             0.3,
             "#f1b6da"
            ],
            [
             0.4,
             "#fde0ef"
            ],
            [
             0.5,
             "#f7f7f7"
            ],
            [
             0.6,
             "#e6f5d0"
            ],
            [
             0.7,
             "#b8e186"
            ],
            [
             0.8,
             "#7fbc41"
            ],
            [
             0.9,
             "#4d9221"
            ],
            [
             1,
             "#276419"
            ]
           ],
           "sequential": [
            [
             0,
             "#0d0887"
            ],
            [
             0.1111111111111111,
             "#46039f"
            ],
            [
             0.2222222222222222,
             "#7201a8"
            ],
            [
             0.3333333333333333,
             "#9c179e"
            ],
            [
             0.4444444444444444,
             "#bd3786"
            ],
            [
             0.5555555555555556,
             "#d8576b"
            ],
            [
             0.6666666666666666,
             "#ed7953"
            ],
            [
             0.7777777777777778,
             "#fb9f3a"
            ],
            [
             0.8888888888888888,
             "#fdca26"
            ],
            [
             1,
             "#f0f921"
            ]
           ],
           "sequentialminus": [
            [
             0,
             "#0d0887"
            ],
            [
             0.1111111111111111,
             "#46039f"
            ],
            [
             0.2222222222222222,
             "#7201a8"
            ],
            [
             0.3333333333333333,
             "#9c179e"
            ],
            [
             0.4444444444444444,
             "#bd3786"
            ],
            [
             0.5555555555555556,
             "#d8576b"
            ],
            [
             0.6666666666666666,
             "#ed7953"
            ],
            [
             0.7777777777777778,
             "#fb9f3a"
            ],
            [
             0.8888888888888888,
             "#fdca26"
            ],
            [
             1,
             "#f0f921"
            ]
           ]
          },
          "colorway": [
           "#636efa",
           "#EF553B",
           "#00cc96",
           "#ab63fa",
           "#FFA15A",
           "#19d3f3",
           "#FF6692",
           "#B6E880",
           "#FF97FF",
           "#FECB52"
          ],
          "font": {
           "color": "#2a3f5f"
          },
          "geo": {
           "bgcolor": "white",
           "lakecolor": "white",
           "landcolor": "#E5ECF6",
           "showlakes": true,
           "showland": true,
           "subunitcolor": "white"
          },
          "hoverlabel": {
           "align": "left"
          },
          "hovermode": "closest",
          "mapbox": {
           "style": "light"
          },
          "paper_bgcolor": "white",
          "plot_bgcolor": "#E5ECF6",
          "polar": {
           "angularaxis": {
            "gridcolor": "white",
            "linecolor": "white",
            "ticks": ""
           },
           "bgcolor": "#E5ECF6",
           "radialaxis": {
            "gridcolor": "white",
            "linecolor": "white",
            "ticks": ""
           }
          },
          "scene": {
           "xaxis": {
            "backgroundcolor": "#E5ECF6",
            "gridcolor": "white",
            "gridwidth": 2,
            "linecolor": "white",
            "showbackground": true,
            "ticks": "",
            "zerolinecolor": "white"
           },
           "yaxis": {
            "backgroundcolor": "#E5ECF6",
            "gridcolor": "white",
            "gridwidth": 2,
            "linecolor": "white",
            "showbackground": true,
            "ticks": "",
            "zerolinecolor": "white"
           },
           "zaxis": {
            "backgroundcolor": "#E5ECF6",
            "gridcolor": "white",
            "gridwidth": 2,
            "linecolor": "white",
            "showbackground": true,
            "ticks": "",
            "zerolinecolor": "white"
           }
          },
          "shapedefaults": {
           "line": {
            "color": "#2a3f5f"
           }
          },
          "ternary": {
           "aaxis": {
            "gridcolor": "white",
            "linecolor": "white",
            "ticks": ""
           },
           "baxis": {
            "gridcolor": "white",
            "linecolor": "white",
            "ticks": ""
           },
           "bgcolor": "#E5ECF6",
           "caxis": {
            "gridcolor": "white",
            "linecolor": "white",
            "ticks": ""
           }
          },
          "title": {
           "x": 0.05
          },
          "xaxis": {
           "automargin": true,
           "gridcolor": "white",
           "linecolor": "white",
           "ticks": "",
           "title": {
            "standoff": 15
           },
           "zerolinecolor": "white",
           "zerolinewidth": 2
          },
          "yaxis": {
           "automargin": true,
           "gridcolor": "white",
           "linecolor": "white",
           "ticks": "",
           "title": {
            "standoff": 15
           },
           "zerolinecolor": "white",
           "zerolinewidth": 2
          }
         }
        },
        "title": {
         "text": "LDA coherence scores with respect to number of topics"
        },
        "width": 800,
        "xaxis": {
         "anchor": "y",
         "domain": [
          0,
          1
         ]
        },
        "xaxis2": {
         "anchor": "y2",
         "domain": [
          0,
          1
         ]
        },
        "yaxis": {
         "anchor": "x",
         "domain": [
          0.625,
          1
         ]
        },
        "yaxis2": {
         "anchor": "x2",
         "domain": [
          0,
          0.375
         ]
        }
       }
      },
      "text/html": [
       "<div>\n",
       "        \n",
       "        \n",
       "            <div id=\"f6be48e5-8d42-4ad4-b4c1-e502be242170\" class=\"plotly-graph-div\" style=\"height:800px; width:800px;\"></div>\n",
       "            <script type=\"text/javascript\">\n",
       "                require([\"plotly\"], function(Plotly) {\n",
       "                    window.PLOTLYENV=window.PLOTLYENV || {};\n",
       "                    \n",
       "                if (document.getElementById(\"f6be48e5-8d42-4ad4-b4c1-e502be242170\")) {\n",
       "                    Plotly.newPlot(\n",
       "                        'f6be48e5-8d42-4ad4-b4c1-e502be242170',\n",
       "                        [{\"line\": {\"color\": \"rgb(67,67,67)\", \"width\": 2}, \"marker\": {\"color\": \"rgb(115,115,115)\"}, \"showlegend\": false, \"type\": \"scatter\", \"x\": [1, 2, 3, 4, 5, 6, 7, 8, 9, 10, 11, 12, 13, 14, 15, 16, 17, 18, 19, 20, 21, 22, 23, 24, 25, 26, 27, 28, 29, 30], \"xaxis\": \"x\", \"y\": [0.19921742699847628, 0.28079662350484474, 0.35980371058093724, 0.395017079201736, 0.4821590803817702, 0.43829619683937177, 0.45860677830182006, 0.4818942613262664, 0.39528114776635404, 0.4798636229252404, 0.47909922816392786, 0.5190775770023021, 0.5329843618934249, 0.48934076284832456, 0.5303980874590332, 0.47465643487712117, 0.4866388160726669, 0.5045434450081916, 0.46565409150392145, 0.48598599284530025, 0.49349514919643056, 0.5103408896851072, 0.4908687552060693, 0.4796660939604231, 0.5095330442975221, 0.46985626127636565, 0.4844917466283094, 0.49604733184726285, 0.4773774264746204, 0.48247793245538884], \"yaxis\": \"y\"}, {\"line\": {\"color\": \"rgb(67,67,67)\", \"width\": 2}, \"marker\": {\"color\": \"rgb(49,130,189)\"}, \"showlegend\": false, \"type\": \"scatter\", \"x\": [1, 2, 3, 4, 5, 6, 7, 8, 9, 10, 11, 12, 13, 14, 15, 16, 17, 18, 19, 20, 21, 22, 23, 24, 25, 26, 27, 28, 29, 30], \"xaxis\": \"x2\", \"y\": [-0.8978147181782018, -0.9928057788091744, -1.1104580738655876, -1.0608213337352475, -1.2320093303138713, -1.1861190198977658, -1.1424316771171663, -1.0424943377624214, -1.1475245129297282, -1.1714240778717329, -1.0453274630994847, -1.1056946547895485, -1.0513800652020002, -1.215334278746648, -1.0754648311409247, -1.2885182074179897, -1.1163046546247972, -1.0617696141618247, -1.0782215651872822, -1.1223966448032467, -1.1083426758328354, -1.257567500221343, -1.0501582206591515, -1.1265728237660053, -1.0631668810115849, -1.1102809849620843, -1.1664045674346477, -1.2160498090724865, -1.1077271903862107, -1.0876131227710812], \"yaxis\": \"y2\"}],\n",
       "                        {\"annotations\": [{\"font\": {\"size\": 16}, \"showarrow\": false, \"text\": \"c_v\", \"x\": 0.5, \"xanchor\": \"center\", \"xref\": \"paper\", \"y\": 1.0, \"yanchor\": \"bottom\", \"yref\": \"paper\"}, {\"font\": {\"size\": 16}, \"showarrow\": false, \"text\": \"u_mass\", \"x\": 0.5, \"xanchor\": \"center\", \"xref\": \"paper\", \"y\": 0.375, \"yanchor\": \"bottom\", \"yref\": \"paper\"}], \"height\": 800, \"template\": {\"data\": {\"bar\": [{\"error_x\": {\"color\": \"#2a3f5f\"}, \"error_y\": {\"color\": \"#2a3f5f\"}, \"marker\": {\"line\": {\"color\": \"#E5ECF6\", \"width\": 0.5}}, \"type\": \"bar\"}], \"barpolar\": [{\"marker\": {\"line\": {\"color\": \"#E5ECF6\", \"width\": 0.5}}, \"type\": \"barpolar\"}], \"carpet\": [{\"aaxis\": {\"endlinecolor\": \"#2a3f5f\", \"gridcolor\": \"white\", \"linecolor\": \"white\", \"minorgridcolor\": \"white\", \"startlinecolor\": \"#2a3f5f\"}, \"baxis\": {\"endlinecolor\": \"#2a3f5f\", \"gridcolor\": \"white\", \"linecolor\": \"white\", \"minorgridcolor\": \"white\", \"startlinecolor\": \"#2a3f5f\"}, \"type\": \"carpet\"}], \"choropleth\": [{\"colorbar\": {\"outlinewidth\": 0, \"ticks\": \"\"}, \"type\": \"choropleth\"}], \"contour\": [{\"colorbar\": {\"outlinewidth\": 0, \"ticks\": \"\"}, \"colorscale\": [[0.0, \"#0d0887\"], [0.1111111111111111, \"#46039f\"], [0.2222222222222222, \"#7201a8\"], [0.3333333333333333, \"#9c179e\"], [0.4444444444444444, \"#bd3786\"], [0.5555555555555556, \"#d8576b\"], [0.6666666666666666, \"#ed7953\"], [0.7777777777777778, \"#fb9f3a\"], [0.8888888888888888, \"#fdca26\"], [1.0, \"#f0f921\"]], \"type\": \"contour\"}], \"contourcarpet\": [{\"colorbar\": {\"outlinewidth\": 0, \"ticks\": \"\"}, \"type\": \"contourcarpet\"}], \"heatmap\": [{\"colorbar\": {\"outlinewidth\": 0, \"ticks\": \"\"}, \"colorscale\": [[0.0, \"#0d0887\"], [0.1111111111111111, \"#46039f\"], [0.2222222222222222, \"#7201a8\"], [0.3333333333333333, \"#9c179e\"], [0.4444444444444444, \"#bd3786\"], [0.5555555555555556, \"#d8576b\"], [0.6666666666666666, \"#ed7953\"], [0.7777777777777778, \"#fb9f3a\"], [0.8888888888888888, \"#fdca26\"], [1.0, \"#f0f921\"]], \"type\": \"heatmap\"}], \"heatmapgl\": [{\"colorbar\": {\"outlinewidth\": 0, \"ticks\": \"\"}, \"colorscale\": [[0.0, \"#0d0887\"], [0.1111111111111111, \"#46039f\"], [0.2222222222222222, \"#7201a8\"], [0.3333333333333333, \"#9c179e\"], [0.4444444444444444, \"#bd3786\"], [0.5555555555555556, \"#d8576b\"], [0.6666666666666666, \"#ed7953\"], [0.7777777777777778, \"#fb9f3a\"], [0.8888888888888888, \"#fdca26\"], [1.0, \"#f0f921\"]], \"type\": \"heatmapgl\"}], \"histogram\": [{\"marker\": {\"colorbar\": {\"outlinewidth\": 0, \"ticks\": \"\"}}, \"type\": \"histogram\"}], \"histogram2d\": [{\"colorbar\": {\"outlinewidth\": 0, \"ticks\": \"\"}, \"colorscale\": [[0.0, \"#0d0887\"], [0.1111111111111111, \"#46039f\"], [0.2222222222222222, \"#7201a8\"], [0.3333333333333333, \"#9c179e\"], [0.4444444444444444, \"#bd3786\"], [0.5555555555555556, \"#d8576b\"], [0.6666666666666666, \"#ed7953\"], [0.7777777777777778, \"#fb9f3a\"], [0.8888888888888888, \"#fdca26\"], [1.0, \"#f0f921\"]], \"type\": \"histogram2d\"}], \"histogram2dcontour\": [{\"colorbar\": {\"outlinewidth\": 0, \"ticks\": \"\"}, \"colorscale\": [[0.0, \"#0d0887\"], [0.1111111111111111, \"#46039f\"], [0.2222222222222222, \"#7201a8\"], [0.3333333333333333, \"#9c179e\"], [0.4444444444444444, \"#bd3786\"], [0.5555555555555556, \"#d8576b\"], [0.6666666666666666, \"#ed7953\"], [0.7777777777777778, \"#fb9f3a\"], [0.8888888888888888, \"#fdca26\"], [1.0, \"#f0f921\"]], \"type\": \"histogram2dcontour\"}], \"mesh3d\": [{\"colorbar\": {\"outlinewidth\": 0, \"ticks\": \"\"}, \"type\": \"mesh3d\"}], \"parcoords\": [{\"line\": {\"colorbar\": {\"outlinewidth\": 0, \"ticks\": \"\"}}, \"type\": \"parcoords\"}], \"pie\": [{\"automargin\": true, \"type\": \"pie\"}], \"scatter\": [{\"marker\": {\"colorbar\": {\"outlinewidth\": 0, \"ticks\": \"\"}}, \"type\": \"scatter\"}], \"scatter3d\": [{\"line\": {\"colorbar\": {\"outlinewidth\": 0, \"ticks\": \"\"}}, \"marker\": {\"colorbar\": {\"outlinewidth\": 0, \"ticks\": \"\"}}, \"type\": \"scatter3d\"}], \"scattercarpet\": [{\"marker\": {\"colorbar\": {\"outlinewidth\": 0, \"ticks\": \"\"}}, \"type\": \"scattercarpet\"}], \"scattergeo\": [{\"marker\": {\"colorbar\": {\"outlinewidth\": 0, \"ticks\": \"\"}}, \"type\": \"scattergeo\"}], \"scattergl\": [{\"marker\": {\"colorbar\": {\"outlinewidth\": 0, \"ticks\": \"\"}}, \"type\": \"scattergl\"}], \"scattermapbox\": [{\"marker\": {\"colorbar\": {\"outlinewidth\": 0, \"ticks\": \"\"}}, \"type\": \"scattermapbox\"}], \"scatterpolar\": [{\"marker\": {\"colorbar\": {\"outlinewidth\": 0, \"ticks\": \"\"}}, \"type\": \"scatterpolar\"}], \"scatterpolargl\": [{\"marker\": {\"colorbar\": {\"outlinewidth\": 0, \"ticks\": \"\"}}, \"type\": \"scatterpolargl\"}], \"scatterternary\": [{\"marker\": {\"colorbar\": {\"outlinewidth\": 0, \"ticks\": \"\"}}, \"type\": \"scatterternary\"}], \"surface\": [{\"colorbar\": {\"outlinewidth\": 0, \"ticks\": \"\"}, \"colorscale\": [[0.0, \"#0d0887\"], [0.1111111111111111, \"#46039f\"], [0.2222222222222222, \"#7201a8\"], [0.3333333333333333, \"#9c179e\"], [0.4444444444444444, \"#bd3786\"], [0.5555555555555556, \"#d8576b\"], [0.6666666666666666, \"#ed7953\"], [0.7777777777777778, \"#fb9f3a\"], [0.8888888888888888, \"#fdca26\"], [1.0, \"#f0f921\"]], \"type\": \"surface\"}], \"table\": [{\"cells\": {\"fill\": {\"color\": \"#EBF0F8\"}, \"line\": {\"color\": \"white\"}}, \"header\": {\"fill\": {\"color\": \"#C8D4E3\"}, \"line\": {\"color\": \"white\"}}, \"type\": \"table\"}]}, \"layout\": {\"annotationdefaults\": {\"arrowcolor\": \"#2a3f5f\", \"arrowhead\": 0, \"arrowwidth\": 1}, \"coloraxis\": {\"colorbar\": {\"outlinewidth\": 0, \"ticks\": \"\"}}, \"colorscale\": {\"diverging\": [[0, \"#8e0152\"], [0.1, \"#c51b7d\"], [0.2, \"#de77ae\"], [0.3, \"#f1b6da\"], [0.4, \"#fde0ef\"], [0.5, \"#f7f7f7\"], [0.6, \"#e6f5d0\"], [0.7, \"#b8e186\"], [0.8, \"#7fbc41\"], [0.9, \"#4d9221\"], [1, \"#276419\"]], \"sequential\": [[0.0, \"#0d0887\"], [0.1111111111111111, \"#46039f\"], [0.2222222222222222, \"#7201a8\"], [0.3333333333333333, \"#9c179e\"], [0.4444444444444444, \"#bd3786\"], [0.5555555555555556, \"#d8576b\"], [0.6666666666666666, \"#ed7953\"], [0.7777777777777778, \"#fb9f3a\"], [0.8888888888888888, \"#fdca26\"], [1.0, \"#f0f921\"]], \"sequentialminus\": [[0.0, \"#0d0887\"], [0.1111111111111111, \"#46039f\"], [0.2222222222222222, \"#7201a8\"], [0.3333333333333333, \"#9c179e\"], [0.4444444444444444, \"#bd3786\"], [0.5555555555555556, \"#d8576b\"], [0.6666666666666666, \"#ed7953\"], [0.7777777777777778, \"#fb9f3a\"], [0.8888888888888888, \"#fdca26\"], [1.0, \"#f0f921\"]]}, \"colorway\": [\"#636efa\", \"#EF553B\", \"#00cc96\", \"#ab63fa\", \"#FFA15A\", \"#19d3f3\", \"#FF6692\", \"#B6E880\", \"#FF97FF\", \"#FECB52\"], \"font\": {\"color\": \"#2a3f5f\"}, \"geo\": {\"bgcolor\": \"white\", \"lakecolor\": \"white\", \"landcolor\": \"#E5ECF6\", \"showlakes\": true, \"showland\": true, \"subunitcolor\": \"white\"}, \"hoverlabel\": {\"align\": \"left\"}, \"hovermode\": \"closest\", \"mapbox\": {\"style\": \"light\"}, \"paper_bgcolor\": \"white\", \"plot_bgcolor\": \"#E5ECF6\", \"polar\": {\"angularaxis\": {\"gridcolor\": \"white\", \"linecolor\": \"white\", \"ticks\": \"\"}, \"bgcolor\": \"#E5ECF6\", \"radialaxis\": {\"gridcolor\": \"white\", \"linecolor\": \"white\", \"ticks\": \"\"}}, \"scene\": {\"xaxis\": {\"backgroundcolor\": \"#E5ECF6\", \"gridcolor\": \"white\", \"gridwidth\": 2, \"linecolor\": \"white\", \"showbackground\": true, \"ticks\": \"\", \"zerolinecolor\": \"white\"}, \"yaxis\": {\"backgroundcolor\": \"#E5ECF6\", \"gridcolor\": \"white\", \"gridwidth\": 2, \"linecolor\": \"white\", \"showbackground\": true, \"ticks\": \"\", \"zerolinecolor\": \"white\"}, \"zaxis\": {\"backgroundcolor\": \"#E5ECF6\", \"gridcolor\": \"white\", \"gridwidth\": 2, \"linecolor\": \"white\", \"showbackground\": true, \"ticks\": \"\", \"zerolinecolor\": \"white\"}}, \"shapedefaults\": {\"line\": {\"color\": \"#2a3f5f\"}}, \"ternary\": {\"aaxis\": {\"gridcolor\": \"white\", \"linecolor\": \"white\", \"ticks\": \"\"}, \"baxis\": {\"gridcolor\": \"white\", \"linecolor\": \"white\", \"ticks\": \"\"}, \"bgcolor\": \"#E5ECF6\", \"caxis\": {\"gridcolor\": \"white\", \"linecolor\": \"white\", \"ticks\": \"\"}}, \"title\": {\"x\": 0.05}, \"xaxis\": {\"automargin\": true, \"gridcolor\": \"white\", \"linecolor\": \"white\", \"ticks\": \"\", \"title\": {\"standoff\": 15}, \"zerolinecolor\": \"white\", \"zerolinewidth\": 2}, \"yaxis\": {\"automargin\": true, \"gridcolor\": \"white\", \"linecolor\": \"white\", \"ticks\": \"\", \"title\": {\"standoff\": 15}, \"zerolinecolor\": \"white\", \"zerolinewidth\": 2}}}, \"title\": {\"text\": \"LDA coherence scores with respect to number of topics\"}, \"width\": 800, \"xaxis\": {\"anchor\": \"y\", \"domain\": [0.0, 1.0]}, \"xaxis2\": {\"anchor\": \"y2\", \"domain\": [0.0, 1.0]}, \"yaxis\": {\"anchor\": \"x\", \"domain\": [0.625, 1.0]}, \"yaxis2\": {\"anchor\": \"x2\", \"domain\": [0.0, 0.375]}},\n",
       "                        {\"responsive\": true}\n",
       "                    ).then(function(){\n",
       "                            \n",
       "var gd = document.getElementById('f6be48e5-8d42-4ad4-b4c1-e502be242170');\n",
       "var x = new MutationObserver(function (mutations, observer) {{\n",
       "        var display = window.getComputedStyle(gd).display;\n",
       "        if (!display || display === 'none') {{\n",
       "            console.log([gd, 'removed!']);\n",
       "            Plotly.purge(gd);\n",
       "            observer.disconnect();\n",
       "        }}\n",
       "}});\n",
       "\n",
       "// Listen for the removal of the full notebook cells\n",
       "var notebookContainer = gd.closest('#notebook-container');\n",
       "if (notebookContainer) {{\n",
       "    x.observe(notebookContainer, {childList: true});\n",
       "}}\n",
       "\n",
       "// Listen for the clearing of the current output cell\n",
       "var outputEl = gd.closest('.output');\n",
       "if (outputEl) {{\n",
       "    x.observe(outputEl, {childList: true});\n",
       "}}\n",
       "\n",
       "                        })\n",
       "                };\n",
       "                });\n",
       "            </script>\n",
       "        </div>"
      ]
     },
     "metadata": {},
     "output_type": "display_data"
    }
   ],
   "source": [
    "import plotly.graph_objects as go\n",
    "from plotly.subplots import make_subplots\n",
    "import numpy as np\n",
    "\n",
    "title = 'LDA coherence scores with respect to number of topics'\n",
    "labels = ['c_v', 'u_mass']\n",
    "colors = ['rgb(67,67,67)', 'rgb(115,115,115)', 'rgb(49,130,189)', 'rgb(189,189,189)']\n",
    "\n",
    "fig=make_subplots(rows=2,cols=1,subplot_titles=['c_v','u_mass'])\n",
    "\n",
    "y_data_01 =  [0.19921742699847628,\n",
    " 0.28079662350484474,\n",
    " 0.35980371058093724,\n",
    " 0.395017079201736,\n",
    " 0.4821590803817702,\n",
    " 0.43829619683937177,\n",
    " 0.45860677830182006,\n",
    " 0.4818942613262664,\n",
    " 0.39528114776635404,\n",
    " 0.4798636229252404,\n",
    " 0.47909922816392786,\n",
    " 0.5190775770023021,\n",
    " 0.5329843618934249,\n",
    " 0.48934076284832456,\n",
    " 0.5303980874590332,\n",
    " 0.47465643487712117,\n",
    " 0.4866388160726669,\n",
    " 0.5045434450081916,\n",
    " 0.46565409150392145,\n",
    " 0.48598599284530025,\n",
    " 0.49349514919643056,\n",
    " 0.5103408896851072,\n",
    " 0.4908687552060693,\n",
    " 0.4796660939604231,\n",
    " 0.5095330442975221,\n",
    " 0.46985626127636565,\n",
    " 0.4844917466283094,\n",
    " 0.49604733184726285,\n",
    " 0.4773774264746204,\n",
    " 0.48247793245538884]\n",
    "\n",
    "y_data_02 = [-0.8978147181782018,\n",
    " -0.9928057788091744,\n",
    " -1.1104580738655876,\n",
    " -1.0608213337352475,\n",
    " -1.2320093303138713,\n",
    " -1.1861190198977658,\n",
    " -1.1424316771171663,\n",
    " -1.0424943377624214,\n",
    " -1.1475245129297282,\n",
    " -1.1714240778717329,\n",
    " -1.0453274630994847,\n",
    " -1.1056946547895485,\n",
    " -1.0513800652020002,\n",
    " -1.215334278746648,\n",
    " -1.0754648311409247,\n",
    " -1.2885182074179897,\n",
    " -1.1163046546247972,\n",
    " -1.0617696141618247,\n",
    " -1.0782215651872822,\n",
    " -1.1223966448032467,\n",
    " -1.1083426758328354,\n",
    " -1.257567500221343,\n",
    " -1.0501582206591515,\n",
    " -1.1265728237660053,\n",
    " -1.0631668810115849,\n",
    " -1.1102809849620843,\n",
    " -1.1664045674346477,\n",
    " -1.2160498090724865,\n",
    " -1.1077271903862107,\n",
    " -1.0876131227710812]\n",
    "\n",
    "trace=go.Scatter(x=num_t,\n",
    "                 y=y_data_01,\n",
    "                 line=dict(width=2, color=colors[0]),\n",
    "                 marker=dict(color=colors[1]),\n",
    "                 showlegend=False\n",
    "                )\n",
    "fig.append_trace(trace,1,1)\n",
    "\n",
    "trace=go.Scatter(x=num_t,\n",
    "                 y=y_data_02,\n",
    "                 line=dict(width=2, color=colors[0]),\n",
    "                 marker=dict(color=colors[2]),\n",
    "                 showlegend=False)\n",
    "fig.append_trace(trace,2,1)\n",
    "fig['layout'].update(height=800, width=800, title=title)\n",
    "\n",
    "fig.show()\n",
    "fig.write_html(\"./app/assets/lda_cv_coherence.html\")"
   ]
  },
  {
   "cell_type": "code",
   "execution_count": 80,
   "metadata": {},
   "outputs": [
    {
     "name": "stdout",
     "output_type": "stream",
     "text": [
      "num_topics:12\n",
      "Average topic coherence: 0.5004.\n",
      "remove stop-words took: 10 seconds\n"
     ]
    }
   ],
   "source": [
    "# ========== LDA - train our model with Gensim ==========\n",
    "\n",
    "start = time.time()\n",
    "# Set training parameters.\n",
    "num_topics = 12\n",
    "chunksize = 2000\n",
    "passes = 20\n",
    "iterations = 400\n",
    "eval_every = None  # Don't evaluate model perplexity, takes too much time.\n",
    "\n",
    "# Make a index to word dictionary.\n",
    "temp = dictionary[0]  # This is only to \"load\" the dictionary.\n",
    "id2word = dictionary.id2token\n",
    "\n",
    "lda = LdaModel(\n",
    "        corpus=corpus,\n",
    "        id2word=id2word,\n",
    "        chunksize=chunksize,\n",
    "        alpha=0.9,\n",
    "        eta=\"auto\",\n",
    "        iterations=iterations,\n",
    "        num_topics=num_topics,\n",
    "        passes=passes,\n",
    "        eval_every=eval_every,\n",
    ")\n",
    "\n",
    "top_topics = lda.top_topics(corpus, coherence='c_v', texts=docs, dictionary=dictionary)  # , num_words=20)\n",
    "\n",
    "# Average topic coherence is the sum of topic coherences of all topics, divided by the number of topics.\n",
    "avg_topic_coherence = sum([t[1] for t in top_topics]) / num_topics\n",
    "    \n",
    "print(\"num_topics:\" + str(num_topics))\n",
    "print(\"Average topic coherence: %.4f.\" % avg_topic_coherence)\n",
    "\n",
    "\n",
    "print(\"remove stop-words took: \" + str(int(time.time() - start)) + \" seconds\")"
   ]
  },
  {
   "cell_type": "code",
   "execution_count": 81,
   "metadata": {},
   "outputs": [
    {
     "name": "stdout",
     "output_type": "stream",
     "text": [
      "\n",
      "Perplexity:  -6.3137364866317505\n",
      "\n",
      "Coherence Score:  0.5003597118939366\n"
     ]
    }
   ],
   "source": [
    "# Compute Perplexity\n",
    "print('\\nPerplexity: ', lda.log_perplexity(corpus))  # a measure of how good the model is. lower the better.\n",
    "\n",
    "# Compute Coherence Score\n",
    "coherence_model_lda = CoherenceModel(model=lda, texts=docs, dictionary=dictionary, coherence='c_v')\n",
    "coherence_lda = coherence_model_lda.get_coherence()\n",
    "print('\\nCoherence Score: ', coherence_lda)"
   ]
  },
  {
   "cell_type": "code",
   "execution_count": 82,
   "metadata": {},
   "outputs": [],
   "source": [
    "df_topic_coherence = pd.DataFrame(top_topics)\n",
    "df_topic_coherence.columns = ['keywords', 'coherence']\n",
    "\n",
    "list_topic_number = lda.print_topics()\n",
    "\n",
    "ls_tn = []\n",
    "for tn in list_topic_number:\n",
    "    #print(tn)\n",
    "    ls_tn.append((tn[0], \n",
    "                  [tn[1].split(' + ')[0].split('*')[1].replace('\"', ''), \n",
    "                  tn[1].split(' + ')[1].split('*')[1].replace('\"', ''), \n",
    "                  tn[1].split(' + ')[2].split('*')[1].replace('\"', '')])\n",
    "                 )\n",
    "    \n",
    "def extract_top3(col_keywords):\n",
    "    \n",
    "    res = [k[1] for k in col_keywords][:3]\n",
    "    return res\n",
    "\n",
    "df_topic_coherence['top3'] = df_topic_coherence['keywords'].apply(extract_top3)\n",
    "df_ls_tn = pd.DataFrame(ls_tn)\n",
    "df_ls_tn.columns = ['topic_number', 'top3']\n",
    "df_topic_coherence['top3'] = df_topic_coherence['top3'].astype(str)\n",
    "df_ls_tn['top3'] = df_ls_tn['top3'].astype(str)\n",
    "df_topic_coherence = df_topic_coherence.merge(df_ls_tn, on='top3')\n",
    "\n",
    "df_topic_coherence.to_csv(\"./app/outputs/df_topic_coherence.csv\", index=False)\n"
   ]
  },
  {
   "cell_type": "code",
   "execution_count": 83,
   "metadata": {},
   "outputs": [
    {
     "data": {
      "text/html": [
       "\n",
       "<link rel=\"stylesheet\" type=\"text/css\" href=\"https://cdn.rawgit.com/bmabey/pyLDAvis/files/ldavis.v1.0.0.css\">\n",
       "\n",
       "\n",
       "<div id=\"ldavis_el804581129314494243239568290\"></div>\n",
       "<script type=\"text/javascript\">\n",
       "\n",
       "var ldavis_el804581129314494243239568290_data = {\"mdsDat\": {\"x\": [0.17259875526069896, -0.1164294069849301, 0.004390954099241475, -0.0490537768772931, 0.05910242033838476, -0.06931504106254457, -0.06711905388708318, -0.05666393787845698, -0.029536919399304654, 0.19838212165247493, 0.1427455345946124, -0.18910164985580039], \"y\": [-0.040597894708422275, 0.11849007516187637, 0.006423068696010905, 0.05347572182253051, 0.09583612874534157, 0.05550217889102852, 0.13879689040224802, -0.11159265481456165, -0.012238539167886274, -0.05134045057036615, -0.04037784887392713, -0.21237667558387235], \"topics\": [1, 2, 3, 4, 5, 6, 7, 8, 9, 10, 11, 12], \"cluster\": [1, 1, 1, 1, 1, 1, 1, 1, 1, 1, 1, 1], \"Freq\": [14.89238452911377, 13.027463912963867, 9.401585578918457, 9.158487319946289, 9.130171775817871, 8.303390502929688, 7.7926554679870605, 6.9927873611450195, 5.944111347198486, 5.924657344818115, 5.63563346862793, 3.796666383743286]}, \"tinfo\": {\"Term\": [\"topic\", \"word\", \"distance\", \"user\", \"security\", \"anomaly\", \"item\", \"vector\", \"similarity\", \"recommendation\", \"document\", \"image\", \"network\", \"graph\", \"matrix\", \"metric\", \"attention\", \"point\", \"trust\", \"sequence\", \"text\", \"detection\", \"movie\", \"layer\", \"state\", \"sentence\", \"page\", \"service\", \"calculate\", \"rating\", \"cyber_security\", \"attack\", \"vulnerability\", \"cyber\", \"team\", \"malicious\", \"exploit\", \"professional\", \"threat\", \"design\", \"digital\", \"software\", \"risk\", \"company\", \"cybersecurity\", \"increasingly\", \"financial\", \"assess\", \"concern\", \"development\", \"experience\", \"industry\", \"analyst\", \"game\", \"lack\", \"artificial_intelligence\", \"opportunity\", \"skill\", \"intelligence\", \"drive\", \"ai\", \"challenge\", \"artificial\", \"business\", \"people\", \"customer\", \"security\", \"system\", \"product\", \"technology\", \"day\", \"year\", \"research\", \"user\", \"right\", \"service\", \"encoder\", \"sequence\", \"hidden\", \"encoding\", \"hot\", \"head\", \"attention\", \"word_embedding\", \"transformer\", \"hide\", \"layer\", \"position\", \"state\", \"transition\", \"token\", \"embed\", \"mechanism\", \"input\", \"chain\", \"embedding\", \"output\", \"translation\", \"encode\", \"skip\", \"rnn\", \"weight\", \"forward\", \"feed\", \"pair\", \"multiply\", \"vector\", \"word\", \"representation\", \"sentence\", \"context\", \"probability\", \"neural\", \"training\", \"network\", \"represent\", \"score\", \"train\", \"neural_network\", \"matrix\", \"predict\", \"information\", \"anomaly\", \"anomaly_detection\", \"population\", \"normal\", \"record\", \"detection\", \"algorithms\", \"real_time\", \"deviation\", \"threshold\", \"minimum\", \"generation\", \"series\", \"detect\", \"selection\", \"event\", \"match\", \"solution\", \"fit\", \"significantly\", \"individual\", \"inspire\", \"data_point\", \"optimal\", \"pattern\", \"trend\", \"situation\", \"differ\", \"statistical\", \"profile\", \"select\", \"point\", \"real\", \"source\", \"strategy\", \"parameter\", \"change\", \"random\", \"score\", \"create\", \"technique\", \"function\", \"information\", \"mean\", \"active\", \"classifier\", \"label\", \"class\", \"black\", \"box\", \"gradient\", \"tree\", \"explanation\", \"feature\", \"decision\", \"prediction\", \"sample\", \"loop\", \"plot\", \"pool\", \"boundary\", \"money\", \"effect\", \"importance\", \"predictive\", \"interpret\", \"constraint\", \"activation\", \"dataset\", \"data_scientist\", \"explain\", \"supervised\", \"affect\", \"scientist\", \"training\", \"classification\", \"machine_learning\", \"let_look\", \"random\", \"machine_learn\", \"framework\", \"test\", \"high\", \"train\", \"instance\", \"size\", \"image\", \"predict\", \"distribution\", \"technique\", \"output\", \"select\", \"function\", \"probability\", \"build\", \"input\", \"point\", \"graphs\", \"transfer\", \"2019\", \"state_art\", \"node\", \"graph\", \"market\", \"edge\", \"paper\", \"generative\", \"deep_learning\", \"networks\", \"art\", \"relation\", \"release\", \"publish\", \"propose\", \"2018\", \"experiment\", \"researcher\", \"connection\", \"summary\", \"task\", \"apart\", \"unsupervise\", \"deep\", \"neural\", \"neural_network\", \"aim\", \"capable\", \"network\", \"book\", \"interesting\", \"approach\", \"research\", \"nlp\", \"structure\", \"ai\", \"order\", \"question\", \"train\", \"representation\", \"language\", \"perform\", \"system\", \"image\", \"training\", \"application\", \"dataset\", \"machine_learning\", \"large\", \"topic\", \"lda\", \"latent\", \"modeling\", \"distribution\", \"link\", \"object\", \"variable\", \"page\", \"probabilistic\", \"rank\", \"keyword\", \"site\", \"health\", \"draw\", \"collection\", \"distribute\", \"equation\", \"web\", \"estimate\", \"document\", \"twitter\", \"express\", \"optimal\", \"equal\", \"generative\", \"response\", \"contribute\", \"maximize\", \"approximate\", \"count\", \"component\", \"relationship\", \"matrix\", \"probability\", \"likely\", \"word\", \"term\", \"sample\", \"want\", \"parameter\", \"contain\", \"identify\", \"go\", \"mean\", \"step\", \"high\", \"start\", \"represent\", \"english\", \"natural_language_processing\", \"phrase\", \"natural_language\", \"text\", \"entity\", \"news\", \"nlp\", \"name\", \"dictionary\", \"frequency\", \"document\", \"language\", \"speech\", \"dependency\", \"semantic\", \"corpus\", \"processing\", \"sentence\", \"natural\", \"appear\", \"thursday\", \"learn_daily\", \"technique_deliver\", \"ritual_look\", \"monday_thursday\", \"research_tutorial\", \"monday\", \"meaning\", \"stop\", \"word\", \"remove\", \"computer\", \"article\", \"python\", \"extract\", \"understand\", \"pre\", \"context\", \"human\", \"technique\", \"term\", \"world\", \"negative\", \"code\", \"form\", \"topic\", \"represent\", \"rating\", \"item\", \"collaborative_filtering\", \"collaborative\", \"filtering\", \"recommendation_system\", \"recommender\", \"recommendation\", \"movie\", \"netflix\", \"user\", \"recommend\", \"buy\", \"systems\", \"watch\", \"filter\", \"friend\", \"neighbor\", \"similarity\", \"engine\", \"bias\", \"visit\", \"enjoy\", \"content\", \"history\", \"rate\", \"cosine_similarity\", \"product\", \"recall\", \"interest\", \"similar\", \"system\", \"matrix\", \"cosine\", \"calculate\", \"predict\", \"approach\", \"customer\", \"score\", \"vector\", \"technique\", \"information\", \"build\", \"variance\", \"aws\", \"reduction\", \"ml\", \"data_set\", \"dimension\", \"walk\", \"spread\", \"cluster\", \"prepare\", \"course\", \"direction\", \"dimensionality\", \"straight\", \"means\", \"dimensional\", \"30\", \"shape\", \"maximum\", \"transform\", \"clustering\", \"background\", \"data_science\", \"component\", \"basis\", \"pretty\", \"co\", \"original\", \"question\", \"line\", \"practice\", \"matrix\", \"service\", \"e.g.\", \"machine_learning\", \"feel\", \"point\", \"mean\", \"thing\", \"think\", \"knowledge\", \"try\", \"build\", \"understand\", \"want\", \"graph\", \"vector\", \"go\", \"technique\", \"api\", \"log\", \"provider\", \"amazon\", \"requirement\", \"management\", \"cloud\", \"breach\", \"activity\", \"policy\", \"file\", \"logic\", \"incident\", \"security\", \"integrate\", \"environment\", \"sign\", \"email\", \"infrastructure\", \"service\", \"request\", \"message\", \"monitor\", \"server\", \"organization\", \"manage\", \"open_source\", \"identity\", \"capability\", \"access\", \"account\", \"tool\", \"aws\", \"app\", \"information\", \"application\", \"graph\", \"key\", \"create\", \"available\", \"define\", \"come\", \"user\", \"risk\", \"step\", \"start\", \"trust\", \"search_engine\", \"medium\", \"zero\", \"traffic\", \"website\", \"search\", \"google\", \"image\", \"device\", \"story\", \"engine\", \"click\", \"enterprise\", \"site\", \"inside\", \"access\", \"keyword\", \"corporate\", \"identity\", \"internal\", \"establish\", \"stuff\", \"outside\", \"page\", \"receive\", \"rank\", \"reader\", \"load\", \"optimize\", \"content\", \"view\", \"network\", \"loss\", \"negative\", \"article\", \"architecture\", \"user\", \"web\", \"organization\", \"deep\", \"important\", \"cloud\", \"euclidean_distance\", \"euclidean\", \"distance\", \"formula\", \"metric\", \"cosine\", \"string\", \"cosine_similarity\", \"similarity\", \"absolute\", \"length\", \"degree\", \"dimensional_space\", \"calculate\", \"correlation\", \"prefer\", \"straight\", \"character\", \"generalize\", \"block\", \"space\", \"measure\", \"dimensional\", \"point\", \"machine_learn_algorithm\", \"respectively\", \"difference\", \"vector\", \"sum\", \"calculation\", \"python\", \"similar\", \"cloud\", \"close\", \"function\", \"machine_learning\", \"order\", \"define\", \"represent\", \"document\", \"important\"], \"Freq\": [1050.0, 1787.0, 543.0, 1012.0, 722.0, 440.0, 377.0, 700.0, 411.0, 338.0, 531.0, 506.0, 721.0, 445.0, 582.0, 259.0, 423.0, 556.0, 208.0, 335.0, 415.0, 313.0, 232.0, 448.0, 503.0, 325.0, 303.0, 331.0, 316.0, 186.0, 81.5131607055664, 163.44921875, 51.01512145996094, 213.1839599609375, 175.03001403808594, 48.52350997924805, 35.194114685058594, 46.8925666809082, 155.38296508789062, 337.07012939453125, 58.165443420410156, 90.57731628417969, 230.08859252929688, 156.33526611328125, 107.00651550292969, 18.456979751586914, 38.79766845703125, 32.63005828857422, 28.939693450927734, 80.90535736083984, 152.4430389404297, 84.95661926269531, 19.178081512451172, 103.6389389038086, 23.969131469726562, 85.46281433105469, 38.1429328918457, 42.95063400268555, 111.1232681274414, 64.79801940917969, 230.45384216308594, 72.28894805908203, 85.31097412109375, 118.95475006103516, 147.44290161132812, 104.90776062011719, 301.8565368652344, 281.1613464355469, 179.03392028808594, 78.97061157226562, 83.17286682128906, 80.09185028076172, 99.71565246582031, 161.68295288085938, 83.90904998779297, 84.89070892333984, 149.01280212402344, 320.5487976074219, 116.04179382324219, 63.75820541381836, 70.2079849243164, 94.30912017822266, 380.9246826171875, 64.2392349243164, 172.7472686767578, 107.67457580566406, 358.98944091796875, 132.41102600097656, 393.8496398925781, 69.8374252319336, 90.80430603027344, 66.72533416748047, 57.42732620239258, 338.9399108886719, 50.2343635559082, 162.63494873046875, 342.10546875, 41.176902770996094, 43.78687286376953, 51.83845520019531, 63.74065017700195, 132.11886596679688, 62.21474075317383, 51.73324203491211, 59.215675354003906, 27.9420223236084, 388.3616638183594, 920.772705078125, 168.05857849121094, 164.85491943359375, 128.97476196289062, 172.9104766845703, 133.2522430419922, 134.85910034179688, 165.761962890625, 111.94994354248047, 102.57504272460938, 106.50894927978516, 94.1568832397461, 115.93851470947266, 93.74142456054688, 96.42765808105469, 438.7138977050781, 198.0278778076172, 117.72427368164062, 67.65351104736328, 61.70558547973633, 270.7596130371094, 38.35284423828125, 67.39898681640625, 41.2393684387207, 35.603355407714844, 24.05668830871582, 89.60191345214844, 92.20948028564453, 84.07678985595703, 49.78864288330078, 73.23065948486328, 64.26325988769531, 211.26271057128906, 61.26340866088867, 17.300739288330078, 103.87491607666016, 14.985397338867188, 60.68524169921875, 20.91794204711914, 60.467655181884766, 33.65983200073242, 21.684370040893555, 14.300215721130371, 27.941987991333008, 30.78633689880371, 86.1271743774414, 188.2095489501953, 91.46991729736328, 64.2695083618164, 63.77706527709961, 65.04423522949219, 65.14640045166016, 54.05656433105469, 62.926300048828125, 75.27059173583984, 64.69369506835938, 63.736751556396484, 67.55787658691406, 58.67443084716797, 143.7193603515625, 65.70352172851562, 204.89535522460938, 167.60240173339844, 34.16218566894531, 44.57681655883789, 59.64426803588867, 98.26751708984375, 42.521263122558594, 352.98626708984375, 93.23475646972656, 166.5139923095703, 178.50677490234375, 21.919326782226562, 44.92625427246094, 18.34196662902832, 20.056562423706055, 36.292240142822266, 27.562177658081055, 34.32953643798828, 26.134899139404297, 25.870912551879883, 16.31700325012207, 14.388045310974121, 162.8697052001953, 17.884084701538086, 63.91163635253906, 22.709787368774414, 22.90165138244629, 22.230411529541016, 170.82998657226562, 70.40574645996094, 165.2929229736328, 30.91617202758789, 72.7635498046875, 44.55683135986328, 34.95940399169922, 55.93888854980469, 99.25056457519531, 87.34709167480469, 46.113529205322266, 54.865570068359375, 96.64777374267578, 74.02995300292969, 68.74008178710938, 72.21944427490234, 78.87190246582031, 57.30851364135742, 67.87545776367188, 65.9605712890625, 61.904579162597656, 63.02142333984375, 61.82232666015625, 45.0931396484375, 33.69134521484375, 28.481428146362305, 37.57920455932617, 204.95449829101562, 321.8385009765625, 81.6056137084961, 95.77717590332031, 118.62332153320312, 20.199737548828125, 86.2470474243164, 44.962459564208984, 36.90499496459961, 21.56913948059082, 40.2817497253418, 51.2568244934082, 30.20172691345215, 26.04701042175293, 33.696380615234375, 46.4970703125, 28.68102264404297, 17.373991012573242, 149.62869262695312, 14.909733772277832, 32.77409744262695, 135.65924072265625, 154.82151794433594, 102.82035827636719, 24.514413833618164, 11.081904411315918, 295.2302551269531, 46.39571762084961, 43.25397491455078, 132.3209686279297, 79.95135498046875, 83.21460723876953, 53.38266372680664, 84.87767028808594, 74.99022674560547, 68.97469329833984, 76.50191497802734, 68.88240814208984, 74.4825210571289, 60.07277297973633, 85.35591888427734, 69.34061431884766, 58.99597930908203, 55.887210845947266, 54.29888153076172, 55.95288848876953, 51.91504669189453, 951.4886474609375, 130.70350646972656, 64.19530487060547, 97.36735534667969, 208.3896026611328, 160.08193969726562, 117.79304504394531, 129.62008666992188, 174.29876708984375, 23.881000518798828, 91.5023193359375, 80.21466064453125, 68.0159683227539, 21.42996597290039, 24.078105926513672, 31.723697662353516, 22.9856014251709, 37.674400329589844, 53.84157180786133, 34.572383880615234, 208.07211303710938, 26.014467239379883, 15.201876640319824, 16.879940032958984, 30.345531463623047, 14.001049041748047, 33.30694580078125, 11.083264350891113, 12.78421401977539, 12.81539249420166, 27.85140037536621, 69.91548919677734, 44.70752716064453, 151.2725372314453, 103.29942321777344, 50.813358306884766, 207.23550415039062, 63.71586227416992, 61.51325225830078, 67.93756866455078, 48.43667984008789, 46.42505645751953, 43.56153869628906, 49.33952331542969, 52.29067611694336, 51.45448303222656, 51.19056701660156, 48.92746353149414, 45.417388916015625, 49.025474548339844, 56.48305130004883, 39.768470764160156, 90.8266372680664, 275.6721496582031, 60.929115295410156, 63.50568771362305, 180.22842407226562, 38.30864334106445, 31.263978958129883, 41.339027404785156, 279.2984924316406, 197.7974853515625, 54.06920623779297, 46.884071350097656, 36.11357498168945, 59.33046340942383, 81.16803741455078, 157.68447875976562, 89.8426742553711, 42.0546760559082, 18.944190979003906, 17.418195724487305, 16.536897659301758, 16.52202606201172, 16.51483726501465, 16.495847702026367, 17.772838592529297, 36.798789978027344, 23.778244018554688, 634.6504516601562, 30.175790786743164, 73.76787567138672, 189.91650390625, 49.8355712890625, 47.71767044067383, 96.7191162109375, 47.77741622924805, 70.87391662597656, 67.02838897705078, 78.79659271240234, 64.58484649658203, 57.47949981689453, 47.0965461730957, 53.70021057128906, 48.366825103759766, 58.54361343383789, 47.52641677856445, 185.3845977783203, 374.58441162109375, 112.8033676147461, 136.8833770751953, 156.9261016845703, 82.19424438476562, 86.95912170410156, 328.73101806640625, 220.11244201660156, 76.22687530517578, 703.0380249023438, 95.44026184082031, 43.80009460449219, 21.237449645996094, 37.72916793823242, 23.22772789001465, 16.861331939697266, 23.48270034790039, 177.79591369628906, 74.14435577392578, 32.31266784667969, 18.690242767333984, 12.21265697479248, 80.95170593261719, 16.337844848632812, 49.53772735595703, 38.75128173828125, 132.62246704101562, 11.265987396240234, 24.096837997436523, 112.00404357910156, 179.62991333007812, 156.04100036621094, 40.821659088134766, 65.1886978149414, 64.19343566894531, 76.909912109375, 43.17586135864258, 52.92729187011719, 67.67598724365234, 53.58833694458008, 58.8579216003418, 47.2892951965332, 106.8360595703125, 127.7757339477539, 32.74781799316406, 153.7599639892578, 40.717342376708984, 118.0285873413086, 38.02128601074219, 24.217378616333008, 88.16033172607422, 22.410680770874023, 71.91704559326172, 28.669954299926758, 36.492984771728516, 13.002278327941895, 18.25547981262207, 47.09024429321289, 11.896622657775879, 15.06356430053711, 26.41903305053711, 28.27666664123535, 24.00432014465332, 14.034122467041016, 19.768301010131836, 73.23733520507812, 15.464617729187012, 19.346641540527344, 16.391454696655273, 41.31797409057617, 85.99388885498047, 42.43741226196289, 39.69270324707031, 147.4803466796875, 77.36968994140625, 28.844106674194336, 82.52091217041016, 25.469913482666016, 77.70050811767578, 57.14872360229492, 45.10658645629883, 40.94883728027344, 34.48028564453125, 41.91317367553711, 47.114532470703125, 45.99995803833008, 45.98474884033203, 42.964351654052734, 46.52027130126953, 37.722373962402344, 38.521114349365234, 169.66026306152344, 120.37588500976562, 47.763973236083984, 105.48136138916016, 45.554039001464844, 60.89120864868164, 163.20364379882812, 38.27825927734375, 52.44118118286133, 35.82204055786133, 66.58751678466797, 23.656858444213867, 27.267526626586914, 385.2080383300781, 28.72665023803711, 41.41487503051758, 21.2825927734375, 39.87464904785156, 32.98432540893555, 152.6443328857422, 21.138179779052734, 19.412277221679688, 16.69658660888672, 18.493144989013672, 75.84497833251953, 23.460309982299805, 18.56235694885254, 22.48050308227539, 26.15919303894043, 91.37316131591797, 45.55503845214844, 62.59479904174805, 53.178062438964844, 29.329906463623047, 105.67608642578125, 69.52169799804688, 73.19781494140625, 48.91010284423828, 63.14097213745117, 38.7214241027832, 37.52602767944336, 42.02582931518555, 55.07522964477539, 40.72966384887695, 41.76746368408203, 37.64298629760742, 205.8784637451172, 78.5880355834961, 119.45916748046875, 155.46267700195312, 66.08877563476562, 69.21531677246094, 160.84156799316406, 155.68942260742188, 286.0035705566406, 59.82672882080078, 43.477867126464844, 86.50413513183594, 32.03464126586914, 28.763721466064453, 63.24851608276367, 22.07980728149414, 108.5129623413086, 68.48102569580078, 14.927154541015625, 23.9046688079834, 24.649070739746094, 15.670273780822754, 11.526327133178711, 14.866948127746582, 108.36445617675781, 21.513883590698242, 59.09866714477539, 11.781229972839355, 16.225387573242188, 31.004220962524414, 62.68210983276367, 34.64354705810547, 172.85205078125, 37.273597717285156, 40.27143478393555, 95.4549560546875, 43.24273681640625, 64.935546875, 31.676898956298828, 35.27412033081055, 39.02623748779297, 35.277976989746094, 33.9997673034668, 84.88253021240234, 119.02520751953125, 529.170166015625, 66.34974670410156, 189.10157775878906, 111.55567169189453, 60.81786346435547, 67.11092376708984, 206.2478485107422, 18.912290573120117, 54.491676330566406, 15.879976272583008, 15.955141067504883, 119.19111633300781, 23.98021697998047, 10.325776100158691, 10.178364753723145, 27.497352600097656, 12.83877182006836, 18.18198585510254, 62.65232467651367, 69.39816284179688, 32.5207633972168, 133.4155731201172, 7.170886039733887, 7.531142711639404, 23.51000213623047, 153.81411743164062, 22.56437873840332, 10.728388786315918, 24.104639053344727, 65.45443725585938, 42.542274475097656, 23.670766830444336, 39.15700912475586, 40.68489074707031, 28.484851837158203, 25.376996994018555, 25.275665283203125, 25.39162254333496, 23.186315536499023], \"Total\": [1050.0, 1787.0, 543.0, 1012.0, 722.0, 440.0, 377.0, 700.0, 411.0, 338.0, 531.0, 506.0, 721.0, 445.0, 582.0, 259.0, 423.0, 556.0, 208.0, 335.0, 415.0, 313.0, 232.0, 448.0, 503.0, 325.0, 303.0, 331.0, 316.0, 186.0, 82.72806549072266, 166.47447204589844, 53.432064056396484, 234.18240356445312, 204.63731384277344, 57.443180084228516, 42.20982360839844, 56.35676193237305, 189.8185577392578, 412.7486572265625, 73.33155822753906, 114.89920806884766, 294.3145751953125, 200.01316833496094, 139.30162048339844, 24.097543716430664, 51.083251953125, 42.969032287597656, 38.18198013305664, 106.88743591308594, 202.6925811767578, 115.42050170898438, 26.116518020629883, 141.99859619140625, 33.118473052978516, 118.64659881591797, 53.153507232666016, 60.074642181396484, 156.91983032226562, 97.03923034667969, 353.5533752441406, 109.52439880371094, 131.3800506591797, 198.49737548828125, 261.2904357910156, 188.3978729248047, 722.4955444335938, 678.3760986328125, 386.1473388671875, 144.4725341796875, 173.01051330566406, 162.1796112060547, 278.97845458984375, 1012.2809448242188, 207.65879821777344, 331.5263671875, 153.75437927246094, 335.78656005859375, 122.27738189697266, 67.53368377685547, 74.4525146484375, 103.93905639648438, 423.75360107421875, 71.62014770507812, 198.34750366210938, 128.0091552734375, 448.9220886230469, 166.10984802246094, 503.9224548339844, 90.4156265258789, 118.20574188232422, 88.21275329589844, 77.71813201904297, 475.0870361328125, 71.74078369140625, 233.2407989501953, 491.13482666015625, 59.14668655395508, 63.89463806152344, 78.56504821777344, 96.72831726074219, 201.89239501953125, 101.13336944580078, 85.79563903808594, 100.2000961303711, 49.00603485107422, 700.6876220703125, 1787.068359375, 300.28033447265625, 325.42742919921875, 250.8678741455078, 389.31158447265625, 357.0514831542969, 417.37939453125, 721.1082763671875, 343.6091003417969, 297.0023193359375, 345.65185546875, 239.9889373779297, 582.2279052734375, 321.61956787109375, 573.5645751953125, 440.1440734863281, 199.09417724609375, 121.01084899902344, 75.24018096923828, 70.47525787353516, 313.5997619628906, 44.99620056152344, 82.35671997070312, 52.75120544433594, 49.02002716064453, 34.46265411376953, 129.8541717529297, 143.73704528808594, 132.25079345703125, 80.43238830566406, 122.68278503417969, 107.97134399414062, 371.096923828125, 110.67615509033203, 31.463064193725586, 190.44947814941406, 29.598846435546875, 120.22769165039062, 43.59230422973633, 126.9035415649414, 73.28756713867188, 47.45143508911133, 32.628257751464844, 64.76449584960938, 72.90257263183594, 232.7110595703125, 556.7107543945312, 290.57763671875, 192.67562866210938, 197.97315979003906, 211.23724365234375, 264.4673156738281, 209.33360290527344, 297.0023193359375, 448.29083251953125, 388.9723815917969, 408.0246887207031, 573.5645751953125, 390.3531188964844, 167.32713317871094, 81.99903869628906, 264.5097351074219, 236.7608184814453, 51.027095794677734, 68.07048797607422, 92.5504150390625, 154.3729705810547, 68.58423614501953, 581.9340209960938, 158.45492553710938, 284.2316589355469, 320.81146240234375, 41.85356903076172, 88.35411071777344, 36.917301177978516, 40.60883712768555, 74.18772888183594, 58.08769989013672, 72.83722686767578, 55.77150344848633, 56.139495849609375, 35.677711486816406, 31.80925178527832, 361.31451416015625, 40.84843444824219, 149.4878692626953, 53.366092681884766, 55.114620208740234, 53.932884216308594, 417.37939453125, 180.86463928222656, 475.02484130859375, 76.43781280517578, 209.33360290527344, 120.6183853149414, 89.74275970458984, 170.94923400878906, 412.8224182128906, 345.65185546875, 136.31048583984375, 185.31686401367188, 506.616455078125, 321.61956787109375, 327.4804382324219, 388.9723815917969, 491.13482666015625, 232.7110595703125, 408.0246887207031, 389.31158447265625, 385.9947814941406, 475.0870361328125, 556.7107543945312, 51.19583511352539, 42.18892288208008, 38.12760543823242, 51.048954010009766, 283.2283935546875, 445.931640625, 125.67913818359375, 151.9718017578125, 202.3612518310547, 36.40695571899414, 156.88314819335938, 82.46794128417969, 69.20632934570312, 40.79670715332031, 77.0931625366211, 98.24026489257812, 59.50825119018555, 51.3316764831543, 67.93585968017578, 94.92225646972656, 58.640419006347656, 36.91465759277344, 324.6917419433594, 32.851627349853516, 72.3878402709961, 301.8793640136719, 357.0514831542969, 239.9889373779297, 58.917972564697266, 27.03269386291504, 721.1082763671875, 113.39790344238281, 114.9483871459961, 462.0099182128906, 278.97845458984375, 298.9598388671875, 157.4124755859375, 353.5533752441406, 290.2147216796875, 261.8417053222656, 345.65185546875, 300.28033447265625, 377.3180847167969, 232.40771484375, 678.3760986328125, 506.616455078125, 417.37939453125, 332.2087097167969, 361.31451416015625, 475.02484130859375, 294.6434020996094, 1050.780517578125, 149.83128356933594, 80.83814239501953, 137.22496032714844, 327.4804382324219, 262.46014404296875, 195.93484497070312, 219.4794921875, 303.02978515625, 41.691322326660156, 171.47833251953125, 155.95013427734375, 135.70684814453125, 45.071571350097656, 50.723968505859375, 67.42195892333984, 52.7523193359375, 89.4159927368164, 133.22584533691406, 88.11256408691406, 531.6365966796875, 66.48274230957031, 39.193328857421875, 43.59230422973633, 78.86637878417969, 36.40695571899414, 86.88465881347656, 29.422914505004883, 34.114341735839844, 34.24082946777344, 75.23514556884766, 212.5559844970703, 135.45486450195312, 582.2279052734375, 389.31158447265625, 168.126708984375, 1787.068359375, 342.0315856933594, 320.81146240234375, 399.96844482421875, 211.23724365234375, 199.74661254882812, 187.4862060546875, 314.2087707519531, 390.3531188964844, 378.1939697265625, 412.8224182128906, 381.611328125, 343.6091003417969, 65.99919128417969, 77.20540618896484, 57.9882698059082, 133.4736328125, 415.78717041015625, 95.13629150390625, 100.29351806640625, 298.9598388671875, 63.96501922607422, 55.981998443603516, 75.72032165527344, 531.6365966796875, 377.3180847167969, 104.2265853881836, 91.48321533203125, 71.62353515625, 118.78722381591797, 166.22988891601562, 325.42742919921875, 186.57089233398438, 90.06851959228516, 40.89579391479492, 37.85907745361328, 36.85639953613281, 36.8550910949707, 36.85467529296875, 36.85486602783203, 39.8802490234375, 83.04915618896484, 54.02660369873047, 1787.068359375, 70.43062591552734, 186.96827697753906, 533.173828125, 130.37164306640625, 127.59317016601562, 367.00640869140625, 143.70455932617188, 250.8678741455078, 265.6484069824219, 388.9723815917969, 342.0315856933594, 261.8568420410156, 147.734619140625, 302.5597839355469, 206.29879760742188, 1050.780517578125, 343.6091003417969, 186.44110107421875, 377.8194274902344, 113.8310546875, 138.37185668945312, 158.95948791503906, 83.41512298583984, 89.32677459716797, 338.7361755371094, 232.73617553710938, 82.56673431396484, 1012.2809448242188, 149.60894775390625, 69.27355194091797, 34.486717224121094, 68.8172836303711, 49.63414764404297, 36.84425735473633, 52.264007568359375, 411.3186340332031, 178.0310516357422, 79.52468872070312, 48.27678680419922, 31.617399215698242, 215.1094207763672, 43.828773498535156, 137.76930236816406, 107.91059875488281, 386.1473388671875, 34.34650802612305, 73.75932312011719, 392.6233825683594, 678.3760986328125, 582.2279052734375, 158.5750274658203, 316.9864807128906, 321.61956787109375, 462.0099182128906, 188.3978729248047, 297.0023193359375, 700.6876220703125, 388.9723815917969, 573.5645751953125, 385.9947814941406, 151.40098571777344, 182.9864959716797, 52.2789306640625, 261.9765319824219, 70.03168487548828, 203.8628387451172, 71.80493927001953, 45.81216812133789, 170.7940673828125, 45.575870513916016, 147.1666717529297, 60.888282775878906, 82.0611343383789, 29.665485382080078, 43.412803649902344, 123.31175231933594, 31.455307006835938, 40.797508239746094, 71.97020721435547, 77.8470687866211, 66.14434814453125, 38.86692810058594, 55.65821075439453, 212.5559844970703, 45.487945556640625, 57.09070587158203, 49.08504867553711, 124.16214752197266, 261.8417053222656, 130.5108184814453, 131.73574829101562, 582.2279052734375, 331.5263671875, 102.04563903808594, 475.02484130859375, 86.53421783447266, 556.7107543945312, 390.3531188964844, 255.5943145751953, 216.46713256835938, 153.80775451660156, 262.39935302734375, 385.9947814941406, 367.00640869140625, 399.96844482421875, 445.931640625, 700.6876220703125, 314.2087707519531, 388.9723815917969, 172.291748046875, 135.0065460205078, 58.62054443359375, 143.89451599121094, 66.18041229248047, 94.72105407714844, 260.5436096191406, 61.513633728027344, 84.5684814453125, 58.13340759277344, 108.53453826904297, 40.204105377197266, 47.46049499511719, 722.4955444335938, 55.14430236816406, 81.16336822509766, 42.117740631103516, 84.62557983398438, 70.37599182128906, 331.5263671875, 46.01693344116211, 45.17314529418945, 39.94314956665039, 45.86322784423828, 193.09750366210938, 60.481021881103516, 48.14809036254883, 58.65310287475586, 68.28365325927734, 242.80323791503906, 123.37521362304688, 216.33084106445312, 182.9864959716797, 86.18377685546875, 573.5645751953125, 332.2087097167969, 445.931640625, 246.38754272460938, 448.29083251953125, 162.5430908203125, 199.03170776367188, 315.5317687988281, 1012.2809448242188, 294.3145751953125, 378.1939697265625, 381.611328125, 208.8120574951172, 85.553466796875, 154.92086791992188, 216.28492736816406, 98.95914459228516, 106.79772186279297, 263.6473388671875, 269.0798034667969, 506.616455078125, 117.2394027709961, 88.3042221069336, 178.0310516357422, 66.24142456054688, 59.845558166503906, 135.70684814453125, 47.74979782104492, 242.80323791503906, 155.95013427734375, 34.94076919555664, 58.65310287475586, 61.45828628540039, 40.628929138183594, 30.503307342529297, 40.67829895019531, 303.02978515625, 61.35852813720703, 171.47833251953125, 35.72560119628906, 49.651641845703125, 95.7664794921875, 215.1094207763672, 115.65139770507812, 721.1082763671875, 128.7161865234375, 147.734619140625, 533.173828125, 175.9538116455078, 1012.2809448242188, 133.22584533691406, 193.09750366210938, 301.8793640136719, 331.1527404785156, 260.5436096191406, 86.58284759521484, 121.42412567138672, 543.2410888671875, 86.55564880371094, 259.1131896972656, 158.5750274658203, 91.21817779541016, 107.91059875488281, 411.3186340332031, 39.48982238769531, 116.45391845703125, 34.74342727661133, 41.48468017578125, 316.9864807128906, 67.84300231933594, 29.579601287841797, 29.665485382080078, 81.1996078491211, 39.67182159423828, 58.98777770996094, 230.38162231445312, 257.99530029296875, 123.31175231933594, 556.7107543945312, 30.759151458740234, 32.333438873291016, 105.49378204345703, 700.6876220703125, 105.2475814819336, 54.29521179199219, 130.37164306640625, 392.6233825683594, 260.5436096191406, 132.48635864257812, 408.0246887207031, 475.02484130859375, 290.2147216796875, 199.03170776367188, 343.6091003417969, 531.6365966796875, 331.1527404785156], \"Category\": [\"Default\", \"Default\", \"Default\", \"Default\", \"Default\", \"Default\", \"Default\", \"Default\", \"Default\", \"Default\", \"Default\", \"Default\", \"Default\", \"Default\", \"Default\", \"Default\", \"Default\", \"Default\", \"Default\", \"Default\", \"Default\", \"Default\", \"Default\", \"Default\", \"Default\", \"Default\", \"Default\", \"Default\", \"Default\", \"Default\", \"Topic1\", \"Topic1\", \"Topic1\", \"Topic1\", \"Topic1\", \"Topic1\", \"Topic1\", \"Topic1\", \"Topic1\", \"Topic1\", \"Topic1\", \"Topic1\", \"Topic1\", \"Topic1\", \"Topic1\", \"Topic1\", \"Topic1\", \"Topic1\", \"Topic1\", \"Topic1\", \"Topic1\", \"Topic1\", \"Topic1\", \"Topic1\", \"Topic1\", \"Topic1\", \"Topic1\", \"Topic1\", \"Topic1\", \"Topic1\", \"Topic1\", \"Topic1\", \"Topic1\", \"Topic1\", \"Topic1\", \"Topic1\", \"Topic1\", \"Topic1\", \"Topic1\", \"Topic1\", \"Topic1\", \"Topic1\", \"Topic1\", \"Topic1\", \"Topic1\", \"Topic1\", \"Topic2\", \"Topic2\", \"Topic2\", \"Topic2\", \"Topic2\", \"Topic2\", \"Topic2\", \"Topic2\", \"Topic2\", \"Topic2\", \"Topic2\", \"Topic2\", \"Topic2\", \"Topic2\", \"Topic2\", \"Topic2\", \"Topic2\", \"Topic2\", \"Topic2\", \"Topic2\", \"Topic2\", \"Topic2\", \"Topic2\", \"Topic2\", \"Topic2\", \"Topic2\", \"Topic2\", \"Topic2\", \"Topic2\", \"Topic2\", \"Topic2\", \"Topic2\", \"Topic2\", \"Topic2\", \"Topic2\", \"Topic2\", \"Topic2\", \"Topic2\", \"Topic2\", \"Topic2\", \"Topic2\", \"Topic2\", \"Topic2\", \"Topic2\", \"Topic2\", \"Topic2\", \"Topic3\", \"Topic3\", \"Topic3\", \"Topic3\", \"Topic3\", \"Topic3\", \"Topic3\", \"Topic3\", \"Topic3\", \"Topic3\", \"Topic3\", \"Topic3\", \"Topic3\", \"Topic3\", \"Topic3\", \"Topic3\", \"Topic3\", \"Topic3\", \"Topic3\", \"Topic3\", \"Topic3\", \"Topic3\", \"Topic3\", \"Topic3\", \"Topic3\", \"Topic3\", \"Topic3\", \"Topic3\", \"Topic3\", \"Topic3\", \"Topic3\", \"Topic3\", \"Topic3\", \"Topic3\", \"Topic3\", \"Topic3\", \"Topic3\", \"Topic3\", \"Topic3\", \"Topic3\", \"Topic3\", \"Topic3\", \"Topic3\", \"Topic3\", \"Topic4\", \"Topic4\", \"Topic4\", \"Topic4\", \"Topic4\", \"Topic4\", \"Topic4\", \"Topic4\", \"Topic4\", \"Topic4\", \"Topic4\", \"Topic4\", \"Topic4\", \"Topic4\", \"Topic4\", \"Topic4\", \"Topic4\", \"Topic4\", \"Topic4\", \"Topic4\", \"Topic4\", \"Topic4\", \"Topic4\", \"Topic4\", \"Topic4\", \"Topic4\", \"Topic4\", \"Topic4\", \"Topic4\", \"Topic4\", \"Topic4\", \"Topic4\", \"Topic4\", \"Topic4\", \"Topic4\", \"Topic4\", \"Topic4\", \"Topic4\", \"Topic4\", \"Topic4\", \"Topic4\", \"Topic4\", \"Topic4\", \"Topic4\", \"Topic4\", \"Topic4\", \"Topic4\", \"Topic4\", \"Topic4\", \"Topic4\", \"Topic4\", \"Topic4\", \"Topic4\", \"Topic5\", \"Topic5\", \"Topic5\", \"Topic5\", \"Topic5\", \"Topic5\", \"Topic5\", \"Topic5\", \"Topic5\", \"Topic5\", \"Topic5\", \"Topic5\", \"Topic5\", \"Topic5\", \"Topic5\", \"Topic5\", \"Topic5\", \"Topic5\", \"Topic5\", \"Topic5\", \"Topic5\", \"Topic5\", \"Topic5\", \"Topic5\", \"Topic5\", \"Topic5\", \"Topic5\", \"Topic5\", \"Topic5\", \"Topic5\", \"Topic5\", \"Topic5\", \"Topic5\", \"Topic5\", \"Topic5\", \"Topic5\", \"Topic5\", \"Topic5\", \"Topic5\", \"Topic5\", \"Topic5\", \"Topic5\", \"Topic5\", \"Topic5\", \"Topic5\", \"Topic5\", \"Topic5\", \"Topic5\", \"Topic5\", \"Topic5\", \"Topic5\", \"Topic6\", \"Topic6\", \"Topic6\", \"Topic6\", \"Topic6\", \"Topic6\", \"Topic6\", \"Topic6\", \"Topic6\", \"Topic6\", \"Topic6\", \"Topic6\", \"Topic6\", \"Topic6\", \"Topic6\", \"Topic6\", \"Topic6\", \"Topic6\", \"Topic6\", \"Topic6\", \"Topic6\", \"Topic6\", \"Topic6\", \"Topic6\", \"Topic6\", \"Topic6\", \"Topic6\", \"Topic6\", \"Topic6\", \"Topic6\", \"Topic6\", \"Topic6\", \"Topic6\", \"Topic6\", \"Topic6\", \"Topic6\", \"Topic6\", \"Topic6\", \"Topic6\", \"Topic6\", \"Topic6\", \"Topic6\", \"Topic6\", \"Topic6\", \"Topic6\", \"Topic6\", \"Topic6\", \"Topic6\", \"Topic6\", \"Topic7\", \"Topic7\", \"Topic7\", \"Topic7\", \"Topic7\", \"Topic7\", \"Topic7\", \"Topic7\", \"Topic7\", \"Topic7\", \"Topic7\", \"Topic7\", \"Topic7\", \"Topic7\", \"Topic7\", \"Topic7\", \"Topic7\", \"Topic7\", \"Topic7\", \"Topic7\", \"Topic7\", \"Topic7\", \"Topic7\", \"Topic7\", \"Topic7\", \"Topic7\", \"Topic7\", \"Topic7\", \"Topic7\", \"Topic7\", \"Topic7\", \"Topic7\", \"Topic7\", \"Topic7\", \"Topic7\", \"Topic7\", \"Topic7\", \"Topic7\", \"Topic7\", \"Topic7\", \"Topic7\", \"Topic7\", \"Topic7\", \"Topic7\", \"Topic7\", \"Topic7\", \"Topic7\", \"Topic7\", \"Topic8\", \"Topic8\", \"Topic8\", \"Topic8\", \"Topic8\", \"Topic8\", \"Topic8\", \"Topic8\", \"Topic8\", \"Topic8\", \"Topic8\", \"Topic8\", \"Topic8\", \"Topic8\", \"Topic8\", \"Topic8\", \"Topic8\", \"Topic8\", \"Topic8\", \"Topic8\", \"Topic8\", \"Topic8\", \"Topic8\", \"Topic8\", \"Topic8\", \"Topic8\", \"Topic8\", \"Topic8\", \"Topic8\", \"Topic8\", \"Topic8\", \"Topic8\", \"Topic8\", \"Topic8\", \"Topic8\", \"Topic8\", \"Topic8\", \"Topic8\", \"Topic8\", \"Topic8\", \"Topic8\", \"Topic8\", \"Topic8\", \"Topic9\", \"Topic9\", \"Topic9\", \"Topic9\", \"Topic9\", \"Topic9\", \"Topic9\", \"Topic9\", \"Topic9\", \"Topic9\", \"Topic9\", \"Topic9\", \"Topic9\", \"Topic9\", \"Topic9\", \"Topic9\", \"Topic9\", \"Topic9\", \"Topic9\", \"Topic9\", \"Topic9\", \"Topic9\", \"Topic9\", \"Topic9\", \"Topic9\", \"Topic9\", \"Topic9\", \"Topic9\", \"Topic9\", \"Topic9\", \"Topic9\", \"Topic9\", \"Topic9\", \"Topic9\", \"Topic9\", \"Topic9\", \"Topic9\", \"Topic9\", \"Topic9\", \"Topic9\", \"Topic9\", \"Topic9\", \"Topic9\", \"Topic9\", \"Topic9\", \"Topic9\", \"Topic9\", \"Topic9\", \"Topic9\", \"Topic10\", \"Topic10\", \"Topic10\", \"Topic10\", \"Topic10\", \"Topic10\", \"Topic10\", \"Topic10\", \"Topic10\", \"Topic10\", \"Topic10\", \"Topic10\", \"Topic10\", \"Topic10\", \"Topic10\", \"Topic10\", \"Topic10\", \"Topic10\", \"Topic10\", \"Topic10\", \"Topic10\", \"Topic10\", \"Topic10\", \"Topic10\", \"Topic10\", \"Topic10\", \"Topic10\", \"Topic10\", \"Topic10\", \"Topic10\", \"Topic10\", \"Topic10\", \"Topic10\", \"Topic10\", \"Topic10\", \"Topic10\", \"Topic10\", \"Topic10\", \"Topic10\", \"Topic10\", \"Topic10\", \"Topic10\", \"Topic10\", \"Topic10\", \"Topic10\", \"Topic10\", \"Topic11\", \"Topic11\", \"Topic11\", \"Topic11\", \"Topic11\", \"Topic11\", \"Topic11\", \"Topic11\", \"Topic11\", \"Topic11\", \"Topic11\", \"Topic11\", \"Topic11\", \"Topic11\", \"Topic11\", \"Topic11\", \"Topic11\", \"Topic11\", \"Topic11\", \"Topic11\", \"Topic11\", \"Topic11\", \"Topic11\", \"Topic11\", \"Topic11\", \"Topic11\", \"Topic11\", \"Topic11\", \"Topic11\", \"Topic11\", \"Topic11\", \"Topic11\", \"Topic11\", \"Topic11\", \"Topic11\", \"Topic11\", \"Topic11\", \"Topic11\", \"Topic11\", \"Topic11\", \"Topic11\", \"Topic11\", \"Topic11\", \"Topic12\", \"Topic12\", \"Topic12\", \"Topic12\", \"Topic12\", \"Topic12\", \"Topic12\", \"Topic12\", \"Topic12\", \"Topic12\", \"Topic12\", \"Topic12\", \"Topic12\", \"Topic12\", \"Topic12\", \"Topic12\", \"Topic12\", \"Topic12\", \"Topic12\", \"Topic12\", \"Topic12\", \"Topic12\", \"Topic12\", \"Topic12\", \"Topic12\", \"Topic12\", \"Topic12\", \"Topic12\", \"Topic12\", \"Topic12\", \"Topic12\", \"Topic12\", \"Topic12\", \"Topic12\", \"Topic12\", \"Topic12\", \"Topic12\", \"Topic12\", \"Topic12\", \"Topic12\", \"Topic12\"], \"logprob\": [30.0, 29.0, 28.0, 27.0, 26.0, 25.0, 24.0, 23.0, 22.0, 21.0, 20.0, 19.0, 18.0, 17.0, 16.0, 15.0, 14.0, 13.0, 12.0, 11.0, 10.0, 9.0, 8.0, 7.0, 6.0, 5.0, 4.0, 3.0, 2.0, 1.0, -5.410299777984619, -4.714600086212158, -5.879000186920166, -4.44890022277832, -4.646100044250488, -5.928999900817871, -6.250199794769287, -5.963200092315674, -4.765200138092041, -3.990799903869629, -5.747799873352051, -5.304900169372559, -4.372600078582764, -4.759099960327148, -5.138199806213379, -6.895699977874756, -6.152699947357178, -6.325900077819824, -6.445899963378906, -5.417799949645996, -4.784299850463867, -5.36899995803833, -6.8572998046875, -5.170199871063232, -6.634300231933594, -5.36299991607666, -6.1697998046875, -6.051000118255615, -5.100500106811523, -5.639800071716309, -4.370999813079834, -5.530399799346924, -5.364799976348877, -5.032400131225586, -4.817699909210205, -5.1579999923706055, -4.101099967956543, -4.1722002029418945, -4.623499870300293, -5.441999912261963, -5.390200138092041, -5.4278998374938965, -5.208799839019775, -4.725500106811523, -5.381400108337402, -5.369699954986572, -4.673299789428711, -3.9072999954223633, -4.923399925231934, -5.522200107574463, -5.42579984664917, -5.13070011138916, -3.7346999645233154, -5.514699935913086, -4.5254998207092285, -4.998199939727783, -3.7939999103546143, -4.791399955749512, -3.7012999057769775, -5.431099891662598, -5.168600082397461, -5.4766998291015625, -5.626800060272217, -3.8515000343322754, -5.7606000900268555, -4.5858001708984375, -3.8422000408172607, -5.959400177001953, -5.8979997634887695, -5.7291998863220215, -5.522500038146973, -4.793600082397461, -5.5467000007629395, -5.731200218200684, -5.596099853515625, -6.3471999168396, -3.715399980545044, -2.852099895477295, -4.552999973297119, -4.572199821472168, -4.817699909210205, -4.524499893188477, -4.785099983215332, -4.773099899291992, -4.566800117492676, -4.9593000411987305, -5.0467000007629395, -5.009099960327148, -5.132299900054932, -4.924200057983398, -5.1367998123168945, -5.108500003814697, -3.2672998905181885, -4.062699794769287, -4.582799911499023, -5.13670015335083, -5.228799819946289, -3.7499001026153564, -5.7042999267578125, -5.140500068664551, -5.631700038909912, -5.77869987487793, -6.1707000732421875, -4.8557000160217285, -4.827099800109863, -4.919400215148926, -5.443299770355225, -5.057499885559082, -5.1880998611450195, -3.997999906539917, -5.235899925231934, -6.500400066375732, -4.707900047302246, -6.644000053405762, -5.2453999519348145, -6.310500144958496, -5.249000072479248, -5.834799766540527, -6.274499893188477, -6.690899848937988, -6.020999908447266, -5.924099922180176, -4.895299911499023, -4.11359977722168, -4.835100173950195, -5.188000202178955, -5.195700168609619, -5.17609977722168, -5.174499988555908, -5.361100196838379, -5.209199905395508, -5.03000020980835, -5.18149995803833, -5.196400165557861, -5.1381001472473145, -5.279099941253662, -4.357100009918213, -5.139800071716309, -4.002399921417236, -4.2032999992370605, -5.793799877166748, -5.527699947357178, -5.236499786376953, -4.737199783325195, -5.574900150299072, -3.4584999084472656, -4.78980016708374, -4.209799766540527, -4.1402997970581055, -6.237599849700928, -5.519899845123291, -6.4156999588012695, -6.326399803161621, -5.73330020904541, -6.008500099182129, -5.788899898529053, -6.061699867248535, -6.071800231933594, -6.532700061798096, -6.6585001945495605, -4.23199987411499, -6.440999984741211, -5.167399883270264, -6.202099800109863, -6.193699836730957, -6.223499774932861, -4.184299945831299, -5.070700168609619, -4.217199802398682, -5.893599987030029, -5.037700176239014, -5.528200149536133, -5.770699977874756, -5.3007001876831055, -4.72730016708374, -4.855000019073486, -5.493800163269043, -5.320000171661377, -4.753900051116943, -5.020500183105469, -5.094600200653076, -5.045199871063232, -4.957099914550781, -5.276500225067139, -5.1072998046875, -5.135900020599365, -5.1992998123168945, -5.18149995803833, -5.200699806213379, -5.5131001472473145, -5.804599761962891, -5.972599983215332, -5.695400238037109, -3.999000072479248, -3.547800064086914, -4.919899940490723, -4.759799957275391, -4.545899868011475, -6.316199779510498, -4.86460018157959, -5.515999794006348, -5.713500022888184, -6.2505998611450195, -5.625899791717529, -5.385000228881836, -5.913899898529053, -6.0619001388549805, -5.8043999671936035, -5.482399940490723, -5.96560001373291, -6.466899871826172, -4.313700199127197, -6.619800090789795, -5.832200050354004, -4.4116997718811035, -4.279600143432617, -4.688799858093262, -6.122600078582764, -6.916500091552734, -3.6340999603271484, -5.484600067138672, -5.554699897766113, -4.436600208282471, -4.940400123596191, -4.900400161743164, -5.344299793243408, -4.8805999755859375, -5.004499912261963, -5.088099956512451, -4.984499931335449, -5.089399814605713, -5.011300086975098, -5.22629976272583, -4.875, -5.082799911499023, -5.2444000244140625, -5.298500061035156, -5.327300071716309, -5.297299861907959, -5.372200012207031, -2.3689000606536865, -4.354000091552734, -5.065000057220459, -4.648399829864502, -3.887500047683716, -4.151199817657471, -4.458000183105469, -4.362299919128418, -4.066100120544434, -6.053800106048584, -4.7104997634887695, -4.842199802398682, -5.007199764251709, -6.162099838256836, -6.045599937438965, -5.769800186157227, -6.0920000076293945, -5.597899913787842, -5.240900039672852, -5.683899879455566, -3.8889999389648438, -5.968299865722656, -6.505499839782715, -6.4008002281188965, -5.814300060272217, -6.587800025939941, -5.721099853515625, -6.821499824523926, -6.678699970245361, -6.676300048828125, -5.900000095367432, -4.979599952697754, -5.426799774169922, -4.207799911499023, -4.589300155639648, -5.298799991607666, -3.8931000232696533, -5.072500228881836, -5.107699871063232, -5.008299827575684, -5.346700191497803, -5.389100074768066, -5.452700138092041, -5.328199863433838, -5.270100116729736, -5.286200046539307, -5.291399955749512, -5.336599826812744, -5.410999774932861, -5.271100044250488, -5.129499912261963, -5.480400085449219, -4.6545000076293945, -3.5441999435424805, -5.053699970245361, -5.01230001449585, -3.9691998958587646, -5.5177998542785645, -5.7210001945495605, -5.4415998458862305, -3.531100034713745, -3.876199960708618, -5.1732001304626465, -5.315800189971924, -5.5767998695373535, -5.0802998542785645, -4.766900062561035, -4.102799892425537, -4.66540002822876, -5.424499988555908, -6.22189998626709, -6.3059000968933105, -6.357800006866455, -6.358699798583984, -6.3592000007629395, -6.360300064086914, -6.285799980163574, -5.558000087738037, -5.994699954986572, -2.710400104522705, -5.756400108337402, -4.862500190734863, -3.916800022125244, -5.254700183868408, -5.298099994659424, -4.591599941253662, -5.296899795532227, -4.902500152587891, -4.9583001136779785, -4.796599864959717, -4.9953999519348145, -5.111999988555908, -5.311200141906738, -5.179999828338623, -5.284599781036377, -5.093699932098389, -5.30210018157959, -3.83270001411438, -3.129300117492676, -4.329500198364258, -4.136000156402588, -3.9993999004364014, -4.645999908447266, -4.589700222015381, -3.2599000930786133, -3.6610000133514404, -4.721399784088135, -2.4997000694274902, -4.496600151062012, -5.2754998207092285, -5.9994001388549805, -5.424699783325195, -5.909800052642822, -6.230100154876709, -5.898900032043457, -3.874500036239624, -4.749100208282471, -5.579699993133545, -6.127099990844727, -6.552700042724609, -4.661300182342529, -6.261600017547607, -5.152400016784668, -5.3979997634887695, -4.167600154876709, -6.633299827575684, -5.873000144958496, -4.336599826812744, -3.8642001152038574, -4.005000114440918, -5.345900058746338, -4.877799987792969, -4.893199920654297, -4.712500095367432, -5.28980016708374, -5.08620023727417, -4.840400218963623, -5.073800086975098, -4.980000019073486, -5.198800086975098, -4.221399784088135, -4.042399883270264, -5.403800010681152, -3.857300043106079, -5.185999870300293, -4.121699810028076, -5.254499912261963, -5.705599784851074, -4.41349983215332, -5.783100128173828, -4.617099761962891, -5.536799907684326, -5.295499801635742, -6.327499866485596, -5.9882001876831055, -5.040599822998047, -6.416399955749512, -6.1803998947143555, -5.618599891662598, -5.550600051879883, -5.714399814605713, -6.251200199127197, -5.908599853515625, -4.598899841308594, -6.154099941253662, -5.930099964141846, -6.095900058746338, -5.17140007019043, -4.438399791717529, -5.144599914550781, -5.21150016784668, -3.8989999294281006, -4.544099807739258, -5.530700206756592, -4.479599952697754, -5.655200004577637, -4.53980016708374, -4.8470001220703125, -5.083600044250488, -5.180300235748291, -5.35230016708374, -5.1570000648498535, -5.04010009765625, -5.064000129699707, -5.064300060272217, -5.132299900054932, -5.052800178527832, -5.262400150299072, -5.241399765014648, -3.7555999755859375, -4.098800182342529, -5.023099899291992, -4.230800151824951, -5.070499897003174, -4.780300140380859, -3.7943999767303467, -5.244500160217285, -4.929699897766113, -5.310800075531006, -4.690899848937988, -5.7256999015808105, -5.583700180053711, -2.9356000423431396, -5.531499862670898, -5.1656999588012695, -5.831500053405762, -5.20359992980957, -5.3933000564575195, -3.861299991607666, -5.8383002281188965, -5.923500061035156, -6.07420015335083, -5.9720001220703125, -4.560699939727783, -5.734099864959717, -5.968200206756592, -5.776700019836426, -5.625199794769287, -4.3744001388549805, -5.070400238037109, -4.752699851989746, -4.9156999588012695, -5.510799884796143, -4.229000091552734, -4.64769983291626, -4.596199989318848, -4.9994001388549805, -4.74399995803833, -5.232999801635742, -5.2642998695373535, -5.151100158691406, -4.88070011138916, -5.182400226593018, -5.157299995422363, -5.261199951171875, -3.5120999813079834, -4.475100040435791, -4.056399822235107, -3.7929999828338623, -4.648399829864502, -4.602099895477295, -3.7588999271392822, -3.7915000915527344, -3.1833999156951904, -4.747900009155273, -5.0671000480651855, -4.379199981689453, -5.372499942779541, -5.480199813842773, -4.692299842834473, -5.744699954986572, -4.152500152587891, -4.612800121307373, -6.136199951171875, -5.665299892425537, -5.6346001625061035, -6.087600231170654, -6.394700050354004, -6.140200138092041, -4.153900146484375, -5.770699977874756, -4.7600998878479, -6.372799873352051, -6.052800178527832, -5.405200004577637, -4.701300144195557, -5.2941999435424805, -3.6868999004364014, -5.221099853515625, -5.143700122833252, -4.280700206756592, -5.072500228881836, -4.665999889373779, -5.383800029754639, -5.276199817657471, -5.175099849700928, -5.276100158691406, -5.313000202178955, -4.0030999183654785, -3.6649999618530273, -2.173099994659424, -4.2494001388549805, -3.2021000385284424, -3.72979998588562, -4.33650016784668, -4.23799991607666, -3.115299940109253, -5.5046000480651855, -4.446300029754639, -5.679299831390381, -5.674600124359131, -3.663599967956543, -5.267099857330322, -6.1097002029418945, -6.124100208282471, -5.130300045013428, -5.891900062561035, -5.543900012969971, -4.30679988861084, -4.204500198364258, -4.962500095367432, -3.5508999824523926, -6.474299907684326, -6.425300121307373, -5.286900043487549, -3.408600091934204, -5.328000068664551, -6.071499824523926, -5.26200008392334, -4.263000011444092, -4.693900108337402, -5.280099868774414, -4.776800155639648, -4.738500118255615, -5.09499979019165, -5.2104997634887695, -5.2144999504089355, -5.210000038146973, -5.30079984664917], \"loglift\": [30.0, 29.0, 28.0, 27.0, 26.0, 25.0, 24.0, 23.0, 22.0, 21.0, 20.0, 19.0, 18.0, 17.0, 16.0, 15.0, 14.0, 13.0, 12.0, 11.0, 10.0, 9.0, 8.0, 7.0, 6.0, 5.0, 4.0, 3.0, 2.0, 1.0, 1.8895000219345093, 1.8860000371932983, 1.8580000400543213, 1.8104000091552734, 1.7480000257492065, 1.7355999946594238, 1.722499966621399, 1.7204999923706055, 1.7041000127792358, 1.701799988746643, 1.6726000308990479, 1.6664999723434448, 1.6581000089645386, 1.6578999757766724, 1.6405999660491943, 1.6376999616622925, 1.6291999816894531, 1.62909996509552, 1.6272000074386597, 1.6258000135421753, 1.6194000244140625, 1.5979000329971313, 1.5954999923706055, 1.589400053024292, 1.5809999704360962, 1.576300024986267, 1.5724999904632568, 1.5687999725341797, 1.5592000484466553, 1.500499963760376, 1.4763000011444092, 1.488800048828125, 1.472499966621399, 1.392300009727478, 1.3321000337600708, 1.3187999725341797, 1.031599998474121, 1.0234999656677246, 1.135699987411499, 1.3003000020980835, 1.1719000339508057, 1.198799967765808, 0.8755000233650208, 0.07000000029802322, 0.998199999332428, 0.5419999957084656, 2.0067999362945557, 1.9917000532150269, 1.98580002784729, 1.9805999994277954, 1.9794000387191772, 1.9408999681472778, 1.9315999746322632, 1.9292999505996704, 1.899899959564209, 1.8651000261306763, 1.8145999908447266, 1.811400055885315, 1.791700005531311, 1.7798999547958374, 1.774399995803833, 1.7589000463485718, 1.7354999780654907, 1.7003999948501587, 1.6818000078201294, 1.6775000095367432, 1.6764999628067017, 1.6759999990463257, 1.6601999998092651, 1.6223000288009644, 1.621000051498413, 1.6140999794006348, 1.552299976348877, 1.5321999788284302, 1.5120999813079834, 1.4763000011444092, 1.4479999542236328, 1.375, 1.4577000141143799, 1.3580000400543213, 1.3727999925613403, 1.2265000343322754, 1.0525000095367432, 0.90829998254776, 0.5679000020027161, 0.916700005531311, 0.9750000238418579, 0.8608999848365784, 1.1024999618530273, 0.4242999851703644, 0.8052999973297119, 0.2549999952316284, 2.3610000610351562, 2.3589000701904297, 2.3368000984191895, 2.257999897003174, 2.2314000129699707, 2.217400074005127, 2.2044999599456787, 2.1638998985290527, 2.1180999279022217, 2.0445001125335693, 2.0048000812530518, 1.993299961090088, 1.9204000234603882, 1.9112999439239502, 1.8846999406814575, 1.8482999801635742, 1.8453999757766724, 1.8008999824523926, 1.7728999853134155, 1.7661999464035034, 1.7581000328063965, 1.6835999488830566, 1.6806000471115112, 1.6299999952316284, 1.6230000257492065, 1.5861999988555908, 1.5812000036239624, 1.5393999814987183, 1.5236999988555908, 1.5022000074386597, 1.370300054550171, 1.2798000574111938, 1.208400011062622, 1.2663999795913696, 1.231600046157837, 1.186400055885315, 0.9631999731063843, 1.0104000568389893, 0.8125, 0.5799000263214111, 0.5703999996185303, 0.5077000260353088, 0.22540000081062317, 0.4691999852657318, 2.2383999824523926, 2.1689000129699707, 2.1350998878479004, 2.0450000762939453, 1.989300012588501, 1.9672000408172607, 1.9510999917984009, 1.9387999773025513, 1.9124000072479248, 1.8905999660491943, 1.8601000308990479, 1.8558000326156616, 1.8042999505996704, 1.7437000274658203, 1.7142000198364258, 1.690999984741211, 1.6850999593734741, 1.6755000352859497, 1.6449999809265137, 1.6382999420166016, 1.6325000524520874, 1.6158000230789185, 1.608199954032898, 1.597100019454956, 1.5937000513076782, 1.5644999742507935, 1.5407999753952026, 1.5361000299453735, 1.5123000144958496, 1.5041999816894531, 1.4972000122070312, 1.4470000267028809, 1.3348000049591064, 1.4852999448776245, 1.333799958229065, 1.3946000337600708, 1.447700023651123, 1.2733999490737915, 0.9650999903678894, 1.0148999691009521, 1.3066999912261963, 1.17330002784729, 0.7337999939918518, 0.9215999841690063, 0.8294000029563904, 0.7067000269889832, 0.5616000294685364, 0.9890999794006348, 0.5968000292778015, 0.6151999831199646, 0.5602999925613403, 0.37049999833106995, 0.19269999861717224, 2.266700029373169, 2.1686999797821045, 2.101900100708008, 2.0873000621795654, 2.0701000690460205, 2.067500114440918, 1.9617999792099, 1.9319000244140625, 1.8595000505447388, 1.8044999837875366, 1.795300006866455, 1.7869999408721924, 1.764799952507019, 1.7561999559402466, 1.7445000410079956, 1.7430000305175781, 1.715399980545044, 1.7151999473571777, 1.6923999786376953, 1.679900050163269, 1.6784000396728516, 1.6399999856948853, 1.618899941444397, 1.603600025177002, 1.601199984550476, 1.5937000513076782, 1.5579999685287476, 1.5460000038146973, 1.516700029373169, 1.5018999576568604, 1.500599980354309, 1.499899983406067, 1.416200041770935, 1.1432000398635864, 1.1439000368118286, 1.1146999597549438, 1.3121999502182007, 0.9667999744415283, 1.0403000116348267, 1.0595999956130981, 0.8855000138282776, 0.9212999939918518, 0.7710999846458435, 1.0405999422073364, 0.3206999897956848, 0.4049000144004822, 0.43709999322891235, 0.6111999750137329, 0.4982999861240387, 0.2547000050544739, 0.6574000120162964, 2.38919997215271, 2.351900100708008, 2.257999897003174, 2.145400047302246, 2.0364999771118164, 1.9940999746322632, 1.979699969291687, 1.961899995803833, 1.9354000091552734, 1.9313000440597534, 1.8603999614715576, 1.823699951171875, 1.7977999448776245, 1.7450000047683716, 1.743399977684021, 1.7345999479293823, 1.6577999591827393, 1.6241999864578247, 1.5824999809265137, 1.552899956703186, 1.5504000186920166, 1.5501999855041504, 1.5413999557495117, 1.5398000478744507, 1.533400058746338, 1.5328999757766724, 1.5297000408172607, 1.5121999979019165, 1.5069999694824219, 1.5056999921798706, 1.4947999715805054, 1.3766000270843506, 1.3799999952316284, 1.1406999826431274, 1.1618000268936157, 1.2919000387191772, 0.33399999141693115, 0.8080000281333923, 0.836899995803833, 0.7156999707221985, 1.0157999992370605, 1.0292999744415283, 1.0290000438690186, 0.6371999979019165, 0.478300005197525, 0.49380001425743103, 0.4009999930858612, 0.4343999922275543, 0.4648999869823456, 2.254699945449829, 2.239500045776367, 2.174799919128418, 2.1670000553131104, 2.1410000324249268, 2.1064000129699707, 2.0950000286102295, 2.0459001064300537, 2.039299964904785, 1.9694000482559204, 1.9466999769210815, 1.9083000421524048, 1.9061000347137451, 1.8956999778747559, 1.8834999799728394, 1.8672000169754028, 1.857800006866455, 1.8351000547409058, 1.8273999691009521, 1.8212000131607056, 1.7904000282287598, 1.7825000286102295, 1.7755999565124512, 1.750599980354309, 1.7496999502182007, 1.7493000030517578, 1.7481000423431396, 1.7438000440597534, 1.7380000352859497, 1.7312999963760376, 1.516700029373169, 1.7043999433517456, 1.621999979019165, 1.519700050354004, 1.5902999639511108, 1.5684000253677368, 1.218400001525879, 1.4507999420166016, 1.2879999876022339, 1.1749000549316406, 0.955299973487854, 0.8851000070571899, 1.035599946975708, 1.4088000059127808, 0.8230999708175659, 1.1015000343322754, -0.33550000190734863, 0.5738000273704529, 2.654599905014038, 2.651700019836426, 2.65120005607605, 2.6494998931884766, 2.64739990234375, 2.6454999446868896, 2.6333999633789062, 2.6303000450134277, 2.6045000553131104, 2.580399990081787, 2.2957000732421875, 2.2107999324798584, 2.201900005340576, 2.17549991607666, 2.059299945831299, 1.9010000228881836, 1.878600001335144, 1.860200047492981, 1.8215999603271484, 1.7842999696731567, 1.7596999406814575, 1.711300015449524, 1.7091000080108643, 1.6829999685287476, 1.6734999418258667, 1.6374000310897827, 1.636199951171875, 1.591599941253662, 1.5456000566482544, 1.541599988937378, 1.406000018119812, 1.3315000534057617, 1.343500018119812, 1.3033000230789185, 1.0786999464035034, 1.048799991607666, 0.8672999739646912, 1.187000036239624, 0.9355000257492065, 0.3230000138282776, 0.6780999898910522, 0.38350000977516174, 0.5608000159263611, 2.474100112915039, 2.463599920272827, 2.3550000190734863, 2.289900064468384, 2.2804999351501465, 2.27620005607605, 2.187000036239624, 2.18530011177063, 2.1614999771118164, 2.1129000186920166, 2.1066999435424805, 2.0696001052856445, 2.012399911880493, 1.9979000091552734, 1.9565000534057617, 1.8601000308990479, 1.8504999876022339, 1.8264000415802002, 1.8206000328063965, 1.8100999593734741, 1.8092000484466553, 1.8041000366210938, 1.787600040435791, 1.7573000192642212, 1.743899941444397, 1.7405999898910522, 1.7259999513626099, 1.722499966621399, 1.7093000411987305, 1.6993000507354736, 1.6231000423431396, 1.4495999813079834, 1.3676999807357788, 1.5592999458312988, 1.0724999904632568, 1.5996999740600586, 0.853600025177002, 0.9014000296592712, 1.0881999731063843, 1.1576999425888062, 1.3274999856948853, 0.9884999990463257, 0.7195000052452087, 0.7459999918937683, 0.6596999764442444, 0.4830000102519989, 0.11060000211000443, 0.703000009059906, 0.5105000138282776, 2.810699939727783, 2.7112998962402344, 2.6212000846862793, 2.515500068664551, 2.4526000022888184, 2.384200096130371, 2.358299970626831, 2.3517000675201416, 2.3482000827789307, 2.341900110244751, 2.3375000953674316, 2.2957000732421875, 2.2718000411987305, 2.1970999240875244, 2.1738998889923096, 2.1531999111175537, 2.1435000896453857, 2.0736000537872314, 2.06820011138916, 2.05049991607666, 2.048099994659424, 1.9815000295639038, 1.9537999629974365, 1.917799949645996, 1.8914999961853027, 1.878999948501587, 1.8729000091552734, 1.8671000003814697, 1.8666000366210938, 1.8487000465393066, 1.829699993133545, 1.5858999490737915, 1.5902999639511108, 1.7482000589370728, 1.134600043296814, 1.2618999481201172, 1.0190000534057617, 1.2091000080108643, 0.8659999966621399, 1.3914999961853027, 1.1576000452041626, 0.8101000189781189, -0.0851999968290329, 0.8483999967575073, 0.6227999925613403, 0.5098000168800354, 2.8619000911712646, 2.791100025177002, 2.6161000728607178, 2.5459001064300537, 2.472399950027466, 2.4423000812530518, 2.3819000720977783, 2.328900098800659, 2.30430006980896, 2.2032999992370605, 2.1675000190734863, 2.1542999744415283, 2.149600028991699, 2.143399953842163, 2.112600088119507, 2.1047000885009766, 2.07069993019104, 2.053100109100342, 2.025599956512451, 1.9785000085830688, 1.962399959564209, 1.92330002784729, 1.902899980545044, 1.8695000410079956, 1.8476999998092651, 1.8279999494552612, 1.8107999563217163, 1.766700029373169, 1.757599949836731, 1.7482999563217163, 1.6430000066757202, 1.6706000566482544, 1.447700023651123, 1.6367000341415405, 1.576300024986267, 1.155900001525879, 1.4726999998092651, 0.12950000166893005, 1.4395999908447266, 1.1759999990463257, 0.830299973487854, 0.6366999745368958, 0.8396000266075134, 3.251199960708618, 3.2511000633239746, 3.244800090789795, 3.005199909210205, 2.9560999870300293, 2.919300079345703, 2.8657000064849854, 2.796099901199341, 2.5808000564575195, 2.5348000526428223, 2.5116000175476074, 2.488100051879883, 2.315500020980835, 2.2929000854492188, 2.231100082397461, 2.218600034713745, 2.2012999057769775, 2.188199996948242, 2.142899990081787, 2.094099998474121, 1.9688999652862549, 1.9579999446868896, 1.9381999969482422, 1.8424999713897705, 1.8149000406265259, 1.8140000104904175, 1.7697999477386475, 1.754699945449829, 1.7310999631881714, 1.6495000123977661, 1.5830999612808228, 1.479599952697754, 1.458799958229065, 1.548799991607666, 0.927299976348877, 0.8134999871253967, 0.9498000144958496, 1.211400032043457, 0.6614000201225281, 0.22949999570846558, 0.6119999885559082]}, \"token.table\": {\"Topic\": [1, 4, 5, 7, 10, 11, 1, 5, 9, 10, 11, 2, 5, 6, 8, 9, 10, 2, 3, 4, 8, 10, 12, 1, 2, 4, 5, 7, 8, 10, 11, 12, 1, 2, 3, 4, 5, 6, 8, 10, 11, 12, 2, 4, 5, 1, 4, 8, 10, 1, 3, 5, 8, 9, 10, 1, 2, 3, 4, 6, 7, 8, 9, 11, 1, 3, 4, 5, 7, 9, 10, 12, 1, 2, 3, 4, 5, 6, 7, 8, 9, 10, 11, 12, 3, 6, 7, 9, 12, 1, 3, 7, 8, 9, 10, 1, 3, 5, 10, 11, 3, 3, 1, 2, 4, 5, 6, 9, 11, 12, 1, 5, 10, 1, 6, 7, 8, 10, 11, 1, 2, 4, 6, 7, 8, 9, 10, 11, 1, 2, 3, 4, 5, 6, 7, 8, 9, 10, 11, 12, 1, 2, 3, 4, 5, 6, 7, 8, 9, 10, 11, 12, 3, 4, 5, 6, 8, 1, 2, 3, 5, 9, 10, 11, 1, 2, 4, 5, 6, 7, 1, 2, 3, 4, 5, 6, 7, 8, 9, 10, 11, 12, 1, 2, 3, 4, 5, 7, 8, 10, 12, 1, 2, 3, 4, 5, 7, 10, 12, 1, 3, 6, 7, 11, 1, 5, 10, 1, 2, 5, 9, 11, 1, 2, 3, 4, 5, 6, 7, 8, 9, 10, 11, 9, 10, 1, 2, 3, 4, 5, 9, 10, 11, 1, 2, 3, 4, 5, 6, 8, 9, 10, 12, 1, 4, 5, 6, 8, 9, 11, 1, 4, 5, 7, 11, 1, 2, 4, 5, 7, 12, 1, 4, 5, 6, 7, 8, 9, 1, 3, 4, 6, 10, 11, 1, 2, 4, 5, 6, 7, 8, 10, 1, 10, 11, 1, 2, 3, 4, 5, 6, 7, 8, 9, 10, 11, 1, 3, 4, 6, 7, 8, 9, 10, 11, 12, 1, 4, 5, 7, 8, 11, 2, 3, 4, 5, 6, 7, 8, 9, 12, 2, 4, 5, 6, 7, 8, 9, 12, 1, 2, 3, 4, 5, 7, 9, 10, 1, 2, 3, 5, 8, 10, 1, 2, 3, 5, 6, 7, 9, 1, 3, 4, 5, 6, 7, 10, 11, 1, 2, 3, 4, 5, 6, 7, 8, 9, 10, 11, 12, 2, 3, 6, 7, 12, 2, 3, 4, 5, 6, 7, 8, 10, 11, 12, 2, 3, 4, 5, 6, 7, 8, 9, 11, 12, 2, 4, 5, 8, 1, 3, 4, 6, 8, 10, 11, 1, 2, 3, 4, 5, 6, 7, 8, 9, 10, 11, 12, 1, 3, 5, 9, 10, 11, 12, 3, 4, 5, 6, 7, 8, 9, 12, 3, 4, 5, 9, 12, 2, 6, 7, 8, 9, 11, 12, 1, 2, 3, 4, 5, 6, 7, 8, 9, 10, 11, 12, 8, 8, 1, 3, 6, 7, 8, 9, 10, 1, 2, 3, 4, 5, 6, 7, 8, 9, 10, 11, 12, 1, 3, 4, 5, 6, 7, 8, 9, 10, 11, 12, 1, 2, 3, 4, 5, 6, 7, 9, 10, 12, 1, 2, 3, 4, 5, 7, 9, 10, 11, 1, 5, 7, 11, 12, 2, 5, 9, 10, 1, 2, 3, 4, 6, 8, 10, 11, 12, 1, 2, 3, 4, 5, 6, 7, 8, 9, 10, 11, 12, 1, 2, 4, 5, 6, 7, 8, 9, 10, 11, 12, 1, 2, 3, 4, 5, 6, 7, 8, 10, 11, 1, 2, 3, 4, 6, 8, 1, 7, 10, 11, 2, 5, 6, 7, 3, 4, 6, 8, 12, 2, 8, 12, 2, 8, 12, 2, 4, 6, 7, 8, 9, 12, 1, 2, 3, 4, 5, 6, 7, 8, 9, 10, 11, 1, 2, 3, 4, 5, 6, 7, 8, 9, 10, 11, 12, 1, 3, 4, 5, 7, 8, 9, 10, 11, 12, 1, 5, 10, 1, 1, 3, 10, 11, 2, 3, 4, 6, 7, 9, 12, 1, 2, 3, 4, 7, 9, 10, 12, 1, 3, 4, 5, 6, 7, 8, 9, 10, 1, 3, 4, 7, 8, 9, 12, 2, 3, 4, 5, 6, 7, 8, 9, 12, 1, 2, 3, 4, 5, 6, 7, 8, 9, 10, 11, 12, 1, 3, 4, 5, 8, 10, 11, 12, 1, 2, 3, 4, 5, 6, 7, 8, 9, 10, 11, 12, 2, 3, 4, 5, 7, 8, 9, 10, 12, 1, 2, 3, 4, 5, 6, 7, 8, 9, 10, 11, 12, 1, 3, 4, 5, 6, 7, 12, 2, 4, 6, 7, 8, 10, 1, 2, 3, 4, 5, 6, 8, 9, 10, 11, 1, 2, 3, 5, 7, 10, 12, 1, 3, 4, 5, 10, 11, 1, 4, 5, 9, 10, 3, 6, 8, 9, 1, 3, 5, 10, 11, 2, 7, 8, 10, 1, 2, 3, 4, 5, 7, 8, 12, 1, 2, 3, 4, 5, 6, 7, 8, 9, 10, 11, 12, 1, 3, 5, 8, 9, 11, 12, 2, 4, 6, 8, 9, 12, 2, 3, 4, 5, 6, 8, 9, 12, 2, 8, 9, 12, 2, 4, 6, 7, 8, 9, 12, 1, 2, 4, 6, 9, 10, 12, 2, 3, 11, 12, 2, 3, 4, 5, 6, 7, 9, 11, 2, 3, 4, 5, 6, 7, 9, 1, 2, 5, 6, 7, 8, 9, 10, 12, 1, 4, 6, 7, 8, 9, 11, 12, 1, 3, 4, 5, 6, 7, 8, 11, 12, 1, 2, 3, 4, 5, 6, 7, 8, 9, 10, 2, 3, 4, 5, 6, 7, 9, 10, 11, 12, 1, 2, 4, 5, 8, 10, 11, 12, 1, 2, 3, 4, 5, 7, 8, 10, 11, 1, 2, 5, 8, 9, 11, 2, 4, 5, 7, 8, 9, 11, 2, 3, 4, 5, 2, 5, 2, 3, 1, 2, 4, 5, 6, 7, 8, 10, 11, 2, 3, 7, 8, 10, 1, 5, 6, 8, 9, 12, 1, 10, 11, 1, 3, 5, 6, 7, 8, 9, 10, 11, 12, 1, 3, 5, 10, 11, 12, 1, 2, 3, 4, 6, 8, 9, 11, 12, 2, 3, 4, 6, 8, 12, 1, 2, 6, 8, 10, 11, 1, 2, 3, 4, 5, 6, 8, 10, 11, 5, 11, 12, 11, 12, 1, 3, 5, 6, 7, 10, 1, 3, 4, 5, 8, 9, 11, 12, 1, 2, 3, 4, 5, 6, 9, 10, 11, 1, 2, 3, 4, 5, 6, 7, 8, 9, 10, 2, 4, 6, 9, 11, 1, 3, 5, 11, 1, 2, 3, 6, 7, 8, 10, 11, 12, 1, 2, 3, 4, 5, 6, 7, 8, 9, 10, 1, 2, 3, 4, 5, 6, 7, 8, 9, 10, 11, 12, 2, 4, 5, 7, 8, 9, 10, 11, 1, 2, 3, 4, 5, 6, 7, 9, 11, 1, 2, 5, 6, 7, 8, 10, 11, 1, 3, 5, 7, 8, 10, 11, 3, 8, 1, 3, 5, 6, 10, 1, 2, 3, 4, 5, 6, 9, 11, 1, 2, 3, 4, 5, 6, 7, 8, 9, 10, 11, 12, 4, 6, 7, 8, 12, 1, 2, 3, 4, 5, 6, 8, 11, 1, 3, 4, 5, 6, 10, 11, 1, 2, 3, 5, 7, 8, 4, 5, 8, 10, 2, 3, 4, 5, 6, 7, 8, 9, 10, 11, 12, 1, 2, 4, 5, 6, 9, 3, 4, 5, 6, 12, 1, 2, 3, 5, 6, 8, 10, 2, 5, 6, 7, 1, 2, 3, 4, 5, 6, 7, 8, 9, 10, 11, 12, 1, 2, 5, 6, 8, 9, 10, 11, 2, 3, 4, 5, 8, 2, 5, 6, 9, 10, 11, 3, 5, 9, 10, 1, 2, 5, 7, 11, 1, 3, 5, 6, 11, 2, 5, 6, 1, 2, 3, 6, 1, 2, 3, 4, 5, 6, 7, 8, 9, 10, 11, 12, 1, 2, 4, 5, 7, 8, 9, 10, 11, 2, 4, 8, 1, 2, 3, 4, 5, 6, 7, 9, 10, 11, 12, 1, 2, 3, 4, 5, 6, 7, 8, 9, 10, 11, 12, 3, 10, 11, 12, 2, 4, 5, 6, 7, 8, 9, 11, 12, 1, 3, 4, 6, 7, 8, 10, 11, 1, 2, 3, 4, 5, 6, 7, 8, 9, 10, 11, 12, 1, 3, 10, 11, 12, 1, 2, 5, 8, 1, 2, 3, 4, 5, 6, 7, 8, 9, 10, 11, 1, 3, 4, 5, 7, 8, 9, 10, 11, 12, 1, 2, 3, 4, 5, 6, 7, 8, 9, 10, 11, 12, 1, 3, 5, 10, 11, 12, 2, 3, 4, 5, 6, 7, 8, 10, 12, 1, 3, 4, 5, 6, 7, 10, 11, 1, 2, 3, 4, 5, 8, 9, 1, 2, 3, 4, 5, 6, 7, 8, 10, 11, 1, 2, 3, 4, 6, 10, 1, 2, 3, 4, 5, 7, 10, 1, 2, 4, 5, 6, 8, 9, 10, 11, 1, 2, 4, 5, 6, 7, 8, 9, 12, 1, 2, 4, 5, 6, 7, 9, 10, 11, 4, 5, 6, 10, 11, 12, 4, 5, 7, 8, 1, 2, 3, 4, 5, 6, 7, 8, 9, 10, 11, 12, 2, 6, 8, 11, 1, 2, 3, 4, 5, 6, 7, 8, 9, 10, 1, 2, 3, 4, 5, 6, 7, 8, 9, 1, 3, 5, 6, 8, 10, 1, 2, 3, 5, 6, 7, 9, 10, 1, 2, 3, 4, 5, 6, 7, 8, 9, 10, 11, 12, 2, 5, 6, 7, 8, 2, 3, 4, 5, 8, 10, 11, 6, 7, 2, 3, 4, 7, 9, 12, 2, 3, 4, 5, 6, 7, 9, 10, 12, 1, 2, 3, 4, 6, 7, 9, 11, 12, 1, 2, 3, 4, 5, 6, 7, 8, 9, 10, 11, 12, 1, 2, 3, 4, 5, 6, 7, 8, 9, 10, 11, 12, 2, 3, 5, 6, 7, 8, 9, 10, 11, 12, 2, 4, 7, 8, 10, 11, 2, 3, 6, 10, 1, 2, 4, 5, 8, 10, 1, 2, 3, 4, 5, 1, 2, 3, 4, 5, 8, 9, 11, 12, 1, 3, 4, 5, 6, 7, 8, 9, 10, 12, 1, 3, 4, 5, 6, 7, 8, 9, 12, 1, 2, 3, 4, 5, 7, 8, 9, 10, 12, 1, 3, 5, 10, 1, 10, 11, 12, 1, 3, 10, 11, 12, 1, 3, 5, 9, 11, 1, 2, 3, 5, 6, 7, 8, 9, 11, 12, 2, 4, 5, 6, 7, 8, 9, 12, 1, 3, 4, 6, 9, 1, 2, 3, 4, 5, 6, 7, 9, 10, 1, 2, 3, 4, 5, 6, 7, 8, 9, 10, 11, 12, 2, 3, 4, 5, 6, 7, 8, 9, 3, 4, 9, 10, 12, 1, 2, 3, 4, 5, 6, 7, 8, 9, 10, 11, 12, 1, 2, 3, 10, 11, 1, 3, 5, 6, 7, 8, 9, 11, 1, 2, 5, 6, 7, 10, 1, 3, 4, 5, 6, 7, 8, 9, 10, 11, 12, 1, 3, 4, 5, 7, 10, 1, 3, 4, 5, 6, 7, 9, 10, 12, 2, 3, 4, 5, 6, 7, 9, 10, 1, 2, 3, 4, 7, 8, 9, 12, 2, 3, 4, 7, 9, 12, 1, 4, 5, 6, 11, 12, 1, 3, 5, 6, 8, 10, 2, 7, 8, 12, 2, 4, 6, 8, 9, 12, 3, 4, 5, 7, 12, 1, 2, 3, 5, 6, 7, 9, 10, 11, 1, 2, 3, 5, 7, 10, 1, 2, 3, 5, 7, 2, 3, 4, 6, 7, 8, 9, 10, 11, 12, 2, 3, 4, 5, 8, 9, 12, 1, 4, 7, 8, 1, 2, 3, 4, 5, 8, 9, 10, 11, 2, 3, 5, 9, 11, 2, 3, 4, 5, 7, 8, 9, 11, 2, 3, 4, 5, 8, 11, 1, 2, 4, 5, 7, 8, 9, 10, 11, 2, 5, 7, 9, 10, 2, 4, 5, 9, 10, 3, 4, 6, 7, 1, 2, 3, 4, 5, 6, 7, 8, 9, 10, 11, 12, 3, 4, 5, 7, 10, 1, 2, 3, 4, 5, 8, 9, 2, 3, 5, 6, 11, 1, 2, 3, 4, 6, 8, 9, 10, 11, 1, 2, 3, 4, 5, 6, 7, 8, 9, 10, 11, 12, 1, 3, 5, 7, 10, 11, 12, 2, 3, 4, 5, 6, 7, 8, 9, 10, 11, 2, 3, 4, 5, 6, 7, 8, 9, 10, 1, 3, 5, 7, 10, 11, 1, 3, 6, 7, 8, 9, 10, 11, 2, 3, 5, 8, 9, 11, 1, 2, 3, 4, 5, 6, 7, 8, 9, 11, 2, 3, 4, 5, 6, 7, 8, 9, 10, 11, 12, 2, 3, 4, 5, 6, 7, 8, 9, 10, 11, 12, 1, 2, 3, 4, 5, 6, 7, 8, 9, 10, 11, 12, 1, 2, 3, 4, 5, 6, 7, 8, 9, 10, 11, 12, 1, 2, 6, 7, 9, 10, 11, 1, 2, 3, 4, 6, 8, 9, 10, 12, 1, 2, 3, 4, 5, 6, 7, 8, 9, 10, 11, 12, 4, 5, 6, 10, 11, 12, 1, 3, 4, 5, 8, 11, 12, 3, 6, 11, 1, 2, 3, 5, 7, 9, 10, 11, 12, 1, 2, 3, 4, 5, 6, 7, 9, 10, 11, 12, 2, 4, 5, 6, 7, 8, 9, 10, 11, 12, 1, 2, 3, 4, 5, 7, 8, 11, 1, 2, 3, 4, 5, 7, 8, 9, 1, 2, 3, 4, 5, 7, 11, 1, 4, 6, 8, 9, 11, 12, 1, 2, 3, 7, 8, 9, 10, 11, 1, 2, 3, 4, 6, 7, 9, 2, 4, 6, 7, 8, 10, 2, 3, 4, 6, 7, 11, 1, 2, 3, 5, 6, 7, 10, 1, 2, 3, 4, 5, 6, 7, 8, 9, 10, 11, 12, 1, 2, 3, 10, 11, 1, 3, 5, 6, 8, 1, 2, 3, 4, 5, 6, 11, 1, 9, 10, 12, 1, 2, 4, 5, 8, 9, 10, 11, 12, 2, 3, 4, 5, 6, 7, 8, 9, 10, 12, 1, 2, 3, 4, 5, 6, 7, 8, 9, 10, 11, 12, 2, 3, 4, 5, 6, 7, 9, 4, 6, 8, 9, 11, 12, 1, 2, 3, 4, 5, 6, 8, 11, 8, 2, 4, 5, 7, 8, 9, 11, 1, 2, 3, 4, 5, 6, 7, 8, 9, 10, 11, 12, 1, 3, 8, 1, 2, 3, 4, 6, 8, 2, 3, 4, 5, 6, 7, 8, 9, 10, 11, 1, 2, 4, 6, 8, 9, 10, 11, 12, 1, 8, 12, 8, 4, 5, 8, 2, 3, 5, 7, 10, 2, 3, 4, 6, 7, 8, 9, 2, 4, 5, 7, 8, 9, 2, 4, 5, 6, 7, 9, 10, 11, 12, 1, 4, 5, 7, 8, 9, 10, 11, 1, 2, 3, 4, 5, 6, 7, 8, 9, 10, 1, 2, 3, 4, 5, 6, 7, 8, 9, 11, 12, 2, 3, 4, 5, 6, 7, 8, 9, 10, 12, 1, 3, 4, 5, 6, 7, 10, 11, 1, 3, 5, 6, 9, 10, 12, 1, 2, 3, 4, 5, 6, 7, 8, 9, 10, 11, 12, 2, 3, 4, 7, 9, 12, 1, 4, 5, 6, 11, 2, 3, 6, 8, 9, 12, 1, 6, 10, 1, 2, 3, 4, 5, 6, 7, 8, 9, 10, 11, 12, 1, 3, 4, 5, 10, 11, 12, 2, 3, 4, 7, 9, 12, 2, 3, 5, 1, 2, 3, 4, 5, 6, 7, 9, 10, 11, 12, 1, 3, 4, 5, 6, 7, 8, 9, 10, 2, 3, 4, 5, 6, 7, 8, 9, 11, 12, 2, 3, 4, 5, 6, 7, 8, 9, 10, 11, 2, 6, 9, 11, 1, 5, 10, 11, 12, 2, 3, 4, 6, 7, 8, 9, 10, 11, 3, 4, 6, 8, 9, 2, 5, 6, 7, 9, 11, 2, 7, 9, 2, 3, 5, 7, 1, 2, 3, 4, 5, 7, 8, 9, 10, 1, 3, 5, 10, 11, 12, 1, 3, 5, 6, 8, 9, 10, 11, 12, 1, 3, 4, 5, 7, 9, 11, 1, 2, 4, 7, 10, 11, 12, 2, 3, 4, 5, 8, 9, 11, 12, 1, 2, 3, 4, 5, 6, 7, 8, 9, 10, 11, 12, 2, 4, 5, 7, 8, 11, 12, 3, 6, 8, 10, 11, 3, 4, 5, 8, 9, 10, 11, 12, 1, 2, 3, 4, 5, 6, 7, 8, 10, 11, 12, 1, 3, 5, 6, 7, 8, 9, 2, 6, 7, 9, 1, 3, 5, 6, 10, 12, 1, 2, 3, 4, 5, 6, 8, 9, 10, 11, 12, 1, 2, 3, 4, 5, 6, 7, 8, 9, 10, 11, 12, 1, 2, 3, 4, 5, 6, 7, 8, 9, 11, 12, 1, 2, 5, 7, 10, 1, 2, 5, 7, 9, 10, 1, 2, 3, 4, 5, 6, 7, 8, 9, 10, 11, 12, 1, 2, 3, 4, 5, 6, 7, 9, 10, 11, 2, 4, 5, 6, 7, 11, 2, 3, 4, 5, 6, 7, 8, 1, 2, 3, 4, 5, 6, 7, 8, 9, 10, 11, 12, 1, 2, 3, 6, 7, 9, 12, 1, 2, 3, 5, 8, 11, 12, 2, 4, 9, 11, 12, 1, 2, 3, 4, 5, 7, 8, 9, 11, 2, 3, 4, 7, 8, 10, 12, 2, 3, 4, 5, 6, 7, 9, 10, 3, 4, 5, 6, 8, 9, 11, 2, 3, 4, 5, 6, 8, 9, 12, 1, 2, 3, 4, 5, 7, 9, 10, 11, 3, 4, 5, 6, 12, 1, 2, 3, 4, 5, 6, 7, 8, 9, 10, 11, 12, 1, 3, 4, 5, 6, 8, 12, 1, 2, 3, 4, 5, 6, 7, 8, 9, 10, 11, 12, 1, 2, 3, 4, 5, 8, 9, 10, 1, 2, 3, 4, 5, 6, 7, 8, 9, 10, 11, 12, 2, 3, 4, 7, 9, 12, 1, 3, 5, 6, 7, 8, 9, 10, 11, 1, 2, 3, 4, 5, 6, 7, 8, 9, 10, 11, 12, 1, 2, 3, 4, 5, 6, 7, 8, 9, 10, 2, 3, 4, 5, 6, 7, 9, 10, 11, 12, 1, 2, 3, 4, 5, 6, 7, 8, 9, 10, 11, 12, 1, 2, 3, 4, 5, 6, 7, 8, 9, 10, 11, 12, 1, 10, 11, 2, 3, 4, 6, 7, 2, 3, 4, 7, 9, 12, 2, 7, 10, 1, 3, 4, 5, 6, 7, 8, 9, 10, 11, 12, 1, 5, 6, 7, 9, 11, 1, 3, 5, 6, 10, 11, 1, 2, 3, 4, 5, 6, 7, 8, 9, 10, 11, 1, 2, 3, 4, 5, 6, 7, 8, 9, 11, 1, 5, 9, 12, 1, 2, 3, 5, 6, 7, 9, 10, 2, 5, 1, 2, 6, 11, 2, 5, 7, 9, 10, 11, 2, 3, 4, 7, 9, 1, 3, 5, 6, 8, 10, 4, 5, 11, 1, 2, 3, 4, 5, 6, 7, 8, 9, 10, 11, 12, 1, 3, 5, 6, 7, 8, 11, 1, 2, 3, 4, 5, 6, 7, 8, 9, 10, 11, 12, 3, 4, 5, 6, 7, 9, 12, 1, 3, 4, 5, 6, 7, 8, 9, 10, 11, 12, 2, 3, 4, 6, 8, 12, 4, 6, 9, 2, 4, 5, 6, 7, 8, 9, 12, 1, 2, 3, 4, 5, 6, 8, 9, 10, 11, 1, 3, 4, 5, 6, 7, 8, 11, 12, 1, 11, 1, 2, 3, 5, 6, 7, 8, 9, 12, 1, 2, 3, 4, 5, 6, 7, 8, 9, 10, 11, 12, 2, 7, 8, 9, 11, 12, 1, 5, 6, 7, 8, 10, 11, 1, 3, 5, 6, 7, 8, 9, 10, 11, 2, 4, 5, 6, 7, 8, 9, 11, 1, 2, 4, 5, 6, 7, 8, 9, 10, 11, 12, 2, 5, 7, 1, 2, 3, 4, 5, 6, 7, 8, 9, 10, 11, 12, 1, 2, 3, 5, 6, 7, 8, 9, 10, 11, 1, 2, 4, 6, 9, 11, 12], \"Freq\": [0.07792459428310394, 0.05844344571232796, 0.5065098404884338, 0.019481148570775986, 0.2727360725402832, 0.03896229714155197, 0.026227716356515884, 0.7343760132789612, 0.026227716356515884, 0.07868314534425735, 0.07868314534425735, 0.1271645575761795, 0.06358227878808975, 0.19074682891368866, 0.09537341445684433, 0.3814936578273773, 0.09537341445684433, 0.20258384943008423, 0.22790682315826416, 0.02532298117876053, 0.02532298117876053, 0.02532298117876053, 0.48113662004470825, 0.13179396092891693, 0.004118561279028654, 0.004118561279028654, 0.004118561279028654, 0.016474245116114616, 0.008237122558057308, 0.3747890591621399, 0.44892317056655884, 0.004118561279028654, 0.1296856850385666, 0.04863213375210762, 0.03242142125964165, 0.040526777505874634, 0.08105355501174927, 0.17021247744560242, 0.04863213375210762, 0.3728463649749756, 0.02431606687605381, 0.040526777505874634, 0.3458113372325897, 0.4401235282421112, 0.15718697011470795, 0.02390526793897152, 0.8605896830558777, 0.09562107175588608, 0.01195263396948576, 0.2010205239057541, 0.10642262548208237, 0.01182473637163639, 0.02364947274327278, 0.03547421097755432, 0.6148862838745117, 0.3265921175479889, 0.01814400590956211, 0.01814400590956211, 0.4173121452331543, 0.01814400590956211, 0.0907200276851654, 0.01814400590956211, 0.01814400590956211, 0.07257602363824844, 0.6505382657051086, 0.008485281839966774, 0.07636753469705582, 0.24041631817817688, 0.002828427357599139, 0.008485281839966774, 0.008485281839966774, 0.002828427357599139, 0.13578200340270996, 0.016972750425338745, 0.03394550085067749, 0.03394550085067749, 0.42431873083114624, 0.016972750425338745, 0.06789100170135498, 0.05091824755072594, 0.11880924552679062, 0.05091824755072594, 0.05091824755072594, 0.016972750425338745, 0.8445157408714294, 0.022224098443984985, 0.06667229533195496, 0.022224098443984985, 0.022224098443984985, 0.006949535105377436, 0.013899070210754871, 0.03474767506122589, 0.14594024419784546, 0.06254581362009048, 0.7297012209892273, 0.7275089025497437, 0.07657988369464874, 0.07657988369464874, 0.03828994184732437, 0.03828994184732437, 0.99740070104599, 0.9945042133331299, 0.1217595711350441, 0.030439892783761024, 0.030439892783761024, 0.4565983712673187, 0.09131968021392822, 0.09131968021392822, 0.06087978556752205, 0.1217595711350441, 0.005804108455777168, 0.005804108455777168, 0.9866984486579895, 0.3480933606624603, 0.03480933606624603, 0.011603111401200294, 0.04641244560480118, 0.3364902436733246, 0.2088560163974762, 0.03330797329545021, 0.02220531739294529, 0.07771860808134079, 0.23315583169460297, 0.46631166338920593, 0.03330797329545021, 0.07771860808134079, 0.011102658696472645, 0.03330797329545021, 0.1264265477657318, 0.02709140256047249, 0.17458903789520264, 0.030101558193564415, 0.16856873035430908, 0.021071091294288635, 0.09331483393907547, 0.015050779096782207, 0.021071091294288635, 0.21071091294288635, 0.08428436517715454, 0.030101558193564415, 0.13203179836273193, 0.07359149307012558, 0.0887426808476448, 0.0887426808476448, 0.28570815920829773, 0.04328911378979683, 0.04112465679645538, 0.16666309535503387, 0.03030237928032875, 0.015151189640164375, 0.03030237928032875, 0.006493367254734039, 0.05840979889035225, 0.2628440856933594, 0.08761470019817352, 0.37966370582580566, 0.20443430542945862, 0.03409985825419426, 0.4148816168308258, 0.028416547924280167, 0.22733238339424133, 0.005683309864252806, 0.03978316858410835, 0.2443823218345642, 0.17339454591274261, 0.07224772870540619, 0.10114681720733643, 0.5346331596374512, 0.014449545182287693, 0.08669727295637131, 0.024382291361689568, 0.04126233980059624, 0.031884536147117615, 0.09377804398536682, 0.09565360844135284, 0.0693957507610321, 0.35635659098625183, 0.018755609169602394, 0.05439126864075661, 0.013128926046192646, 0.17817829549312592, 0.024382291361689568, 0.646977961063385, 0.030446022748947144, 0.11417258530855179, 0.045669034123420715, 0.06850355118513107, 0.0532805398106575, 0.015223011374473572, 0.007611505687236786, 0.015223011374473572, 0.7164132595062256, 0.025285175070166588, 0.05899874120950699, 0.050570350140333176, 0.0674271360039711, 0.0674271360039711, 0.008428392000496387, 0.008428392000496387, 0.7679949402809143, 0.06981772184371948, 0.11636286973953247, 0.023272573947906494, 0.023272573947906494, 0.9791290760040283, 0.006006926763802767, 0.006006926763802767, 0.028318343684077263, 0.8991073966026306, 0.04955710098147392, 0.014159171842038631, 0.007079585921019316, 0.07382657378911972, 0.03691328689455986, 0.1722620129585266, 0.09843543916940689, 0.07382657378911972, 0.012304429896175861, 0.13534872233867645, 0.05536993220448494, 0.030761074274778366, 0.23993638157844543, 0.07997879385948181, 0.6995051503181458, 0.28963884711265564, 0.2572881579399109, 0.05145762860774994, 0.02572881430387497, 0.07718644291162491, 0.12864407896995544, 0.36020341515541077, 0.07718644291162491, 0.02572881430387497, 0.13190308213233948, 0.02198384702205658, 0.1099192276597023, 0.04396769404411316, 0.13190308213233948, 0.08793538808822632, 0.06595154106616974, 0.3297576904296875, 0.02198384702205658, 0.02198384702205658, 0.1634712517261505, 0.26406893134117126, 0.11317240446805954, 0.012574710883200169, 0.4023907482624054, 0.012574710883200169, 0.012574710883200169, 0.09798715263605118, 0.6663126349449158, 0.019597431644797325, 0.019597431644797325, 0.17637687921524048, 0.20343197882175446, 0.10171598941087723, 0.16952665150165558, 0.16952665150165558, 0.03390532732009888, 0.3051479458808899, 0.11464057117700577, 0.017637010663747787, 0.4056512415409088, 0.11464057117700577, 0.11464057117700577, 0.11464057117700577, 0.11464057117700577, 0.024625182151794434, 0.19700145721435547, 0.49250364303588867, 0.12312591075897217, 0.0738755464553833, 0.0738755464553833, 0.1469065397977829, 0.05876261740922928, 0.661079466342926, 0.02938130870461464, 0.02938130870461464, 0.01469065435230732, 0.02938130870461464, 0.04407196119427681, 0.22759182751178741, 0.6177492141723633, 0.13005247712135315, 0.13989827036857605, 0.04404204711318016, 0.041451338678598404, 0.1606239378452301, 0.08808409422636032, 0.0595862977206707, 0.09326551109552383, 0.12176330387592316, 0.12176330387592316, 0.09067480266094208, 0.03626992180943489, 0.5995041728019714, 0.11083269864320755, 0.020151399075984955, 0.005037849768996239, 0.04030279815196991, 0.04030279815196991, 0.020151399075984955, 0.11587055027484894, 0.0453406497836113, 0.010075699537992477, 0.15879076719284058, 0.12991970777511597, 0.014435524120926857, 0.014435524120926857, 0.6351630687713623, 0.028871048241853714, 0.16404485702514648, 0.09779597073793411, 0.03785650432109833, 0.00630941754207015, 0.08517713099718094, 0.009464126080274582, 0.2050560563802719, 0.01577354408800602, 0.3754103183746338, 0.4236100912094116, 0.07367131859064102, 0.12892481684684753, 0.07367131859064102, 0.055253490805625916, 0.018417829647660255, 0.03683565929532051, 0.20259612798690796, 0.17573751509189606, 0.043934378772974014, 0.08786875754594803, 0.08786875754594803, 0.14644794166088104, 0.02928958646953106, 0.01464479323476553, 0.3807646334171295, 0.2589457035064697, 0.11097673326730728, 0.03699224442243576, 0.40691468119621277, 0.03699224442243576, 0.11097673326730728, 0.08363443613052368, 0.6969536542892456, 0.05575628951191902, 0.02787814475595951, 0.04181721806526184, 0.0696953609585762, 0.013939072377979755, 0.6573877930641174, 0.10956462472677231, 0.00913038570433855, 0.06391269713640213, 0.00913038570433855, 0.0365215428173542, 0.10043424367904663, 0.00913038570433855, 0.24199587106704712, 0.06049896776676178, 0.24577705562114716, 0.1247791275382042, 0.01890592835843563, 0.09074845165014267, 0.011343556456267834, 0.04915541410446167, 0.03781185671687126, 0.08696726709604263, 0.015124741941690445, 0.011343556456267834, 0.38177523016929626, 0.012315330095589161, 0.024630660191178322, 0.23399128019809723, 0.3325139284133911, 0.025342030450701714, 0.03378937393426895, 0.7095768451690674, 0.07602608948945999, 0.05490773543715477, 0.05068406090140343, 0.008447343483567238, 0.004223671741783619, 0.025342030450701714, 0.008447343483567238, 0.044231973588466644, 0.016586991026997566, 0.387029767036438, 0.26539185643196106, 0.027644984424114227, 0.11610893160104752, 0.04976097121834755, 0.016586991026997566, 0.016586991026997566, 0.055289968848228455, 0.12195264548063278, 0.8048874735832214, 0.036585792899131775, 0.024390529841184616, 0.12077035009860992, 0.01509629376232624, 0.06038517504930496, 0.10567405819892883, 0.09057775884866714, 0.13586664199829102, 0.4830814003944397, 0.06793152540922165, 0.24908225238323212, 0.09057535976171494, 0.166054829955101, 0.04528767988085747, 0.052835628390312195, 0.022643839940428734, 0.06038357689976692, 0.03773973509669304, 0.007547947112470865, 0.022643839940428734, 0.18115071952342987, 0.05757193639874458, 0.003838129108771682, 0.003838129108771682, 0.015352516435086727, 0.6256150603294373, 0.13049638271331787, 0.1650395542383194, 0.2576201856136322, 0.03513002768158913, 0.017565013840794563, 0.11124508082866669, 0.017565013840794563, 0.0058550043031573296, 0.5152403712272644, 0.03513002768158913, 0.30236899852752686, 0.04535534977912903, 0.09071069955825806, 0.3628427982330322, 0.1814213991165161, 0.3259648382663727, 0.08149120956659317, 0.06111840903759003, 0.12223681807518005, 0.3259648382663727, 0.040745604783296585, 0.020372802391648293, 0.14212067425251007, 0.09254369139671326, 0.12228988111019135, 0.09915395826101303, 0.14212067425251007, 0.023135922849178314, 0.17847712337970734, 0.1057642251253128, 0.00661026407033205, 0.02974618785083294, 0.01652565971016884, 0.04627184569835663, 0.9900857210159302, 0.9926992058753967, 0.04449588805437088, 0.04449588805437088, 0.47462281584739685, 0.222479447722435, 0.059327851980924606, 0.08899177610874176, 0.059327851980924606, 0.2313554733991623, 0.10458534955978394, 0.09824684262275696, 0.08873908221721649, 0.09507758915424347, 0.05387730151414871, 0.02535402402281761, 0.02535402402281761, 0.06655431538820267, 0.13310863077640533, 0.044369541108608246, 0.0285232774913311, 0.7799486517906189, 0.034997694194316864, 0.0049996706657111645, 0.02999802492558956, 0.019998682662844658, 0.0049996706657111645, 0.034997694194316864, 0.01499901246279478, 0.05999604985117912, 0.0049996706657111645, 0.009999341331422329, 0.018818572163581848, 0.0987975001335144, 0.1364346444606781, 0.028227856382727623, 0.004704643040895462, 0.32932499051094055, 0.018818572163581848, 0.34343892335891724, 0.009409286081790924, 0.014113928191363811, 0.2888190448284149, 0.016045503318309784, 0.042788006365299225, 0.03209100663661957, 0.13906101882457733, 0.3957890570163727, 0.016045503318309784, 0.06418201327323914, 0.005348500795662403, 0.7595205903053284, 0.07857109606266022, 0.026190364733338356, 0.10476145893335342, 0.026190364733338356, 0.39222094416618347, 0.49453943967819214, 0.034106168895959854, 0.05115925148129463, 0.028028704226017, 0.112114816904068, 0.056057408452034, 0.448459267616272, 0.112114816904068, 0.056057408452034, 0.056057408452034, 0.028028704226017, 0.056057408452034, 0.02002537064254284, 0.09512051194906235, 0.12015222758054733, 0.01001268532127142, 0.03504439815878868, 0.23029176890850067, 0.22528542578220367, 0.07509513944387436, 0.025031713768839836, 0.060076113790273666, 0.045057084411382675, 0.060076113790273666, 0.03719037398695946, 0.027892781421542168, 0.009297593496739864, 0.009297593496739864, 0.03719037398695946, 0.07438074797391891, 0.376552551984787, 0.04183917120099068, 0.046487968415021896, 0.29287421703338623, 0.04183917120099068, 0.01993080973625183, 0.5142149329185486, 0.003986162133514881, 0.011958486400544643, 0.027903134003281593, 0.0677647516131401, 0.28301751613616943, 0.03188929706811905, 0.035875458270311356, 0.003986162133514881, 0.27189692854881287, 0.06797423213720322, 0.06797423213720322, 0.13594846427440643, 0.3738582730293274, 0.06797423213720322, 0.2575787603855133, 0.057239726185798645, 0.22895890474319458, 0.42929792404174805, 0.32831814885139465, 0.025255240499973297, 0.13469462096691132, 0.4966863989830017, 0.029479827731847763, 0.13265922665596008, 0.20635879039764404, 0.26531845331192017, 0.35375791788101196, 0.03153081610798836, 0.2585527002811432, 0.7062903046607971, 0.009266930632293224, 0.3614102900028229, 0.620884358882904, 0.013291660696268082, 0.039874982088804245, 0.3721664845943451, 0.146208256483078, 0.26583319902420044, 0.039874982088804245, 0.09304162114858627, 0.18346545100212097, 0.006795016583055258, 0.006795016583055258, 0.020385051146149635, 0.19026046991348267, 0.013590033166110516, 0.013590033166110516, 0.033975083380937576, 0.48924121260643005, 0.020385051146149635, 0.013590033166110516, 0.12938030064105988, 0.14276446402072906, 0.16730210185050964, 0.05130597949028015, 0.05130597949028015, 0.04461389407515526, 0.08922778815031052, 0.08030501008033752, 0.04015250504016876, 0.14053377509117126, 0.05576736852526665, 0.006692084018141031, 0.5573311448097229, 0.00530791562050581, 0.02123166248202324, 0.015923745930194855, 0.02123166248202324, 0.22824037075042725, 0.01061583124101162, 0.12208205461502075, 0.00530791562050581, 0.01061583124101162, 0.9095473885536194, 0.004270175471901894, 0.08113333582878113, 0.9911993145942688, 0.7681174278259277, 0.007178667467087507, 0.20818135142326355, 0.007178667467087507, 0.008317551575601101, 0.50737065076828, 0.21625633537769318, 0.008317551575601101, 0.016635103151202202, 0.19130368530750275, 0.05822286009788513, 0.12576760351657867, 0.017966801300644875, 0.143734410405159, 0.143734410405159, 0.10780080407857895, 0.3593360185623169, 0.03593360260128975, 0.03593360260128975, 0.09792296588420868, 0.04896148294210434, 0.44065335392951965, 0.02448074147105217, 0.09792296588420868, 0.04896148294210434, 0.04896148294210434, 0.07344222813844681, 0.09792296588420868, 0.028558501973748207, 0.22846801578998566, 0.057117003947496414, 0.042837753891944885, 0.028558501973748207, 0.5854492783546448, 0.014279250986874104, 0.02214137464761734, 0.09133317321538925, 0.4511305093765259, 0.1494542807340622, 0.06642412394285202, 0.09686851501464844, 0.08026248216629028, 0.030444389209151268, 0.01107068732380867, 0.47973963618278503, 0.16761986911296844, 0.12715990841388702, 0.017339985817670822, 0.02889997698366642, 0.04045996814966202, 0.005779995582997799, 0.017339985817670822, 0.07513993978500366, 0.011559991165995598, 0.017339985817670822, 0.017339985817670822, 0.2398158311843872, 0.06310942769050598, 0.5869176983833313, 0.025243772193789482, 0.018932828679680824, 0.03786565735936165, 0.0063109430484473705, 0.025243772193789482, 0.0066251629032194614, 0.07618937641382217, 0.0563138872385025, 0.14575359225273132, 0.45051109790802, 0.009937744587659836, 0.029813233762979507, 0.04968872293829918, 0.03643839806318283, 0.0066251629032194614, 0.12919068336486816, 0.0033125814516097307, 0.06374170631170273, 0.10198673605918884, 0.15935426950454712, 0.5481786727905273, 0.06374170631170273, 0.019122513011097908, 0.038245026022195816, 0.006374171003699303, 0.006374171003699303, 0.07536487281322479, 0.09043785184621811, 0.17585137486457825, 0.03517027571797371, 0.010048650205135345, 0.08541352301836014, 0.06029190123081207, 0.07034055143594742, 0.045218925923109055, 0.19092434644699097, 0.030145950615406036, 0.12560813128948212, 0.14391210675239563, 0.14391210675239563, 0.05756484344601631, 0.05756484344601631, 0.05756484344601631, 0.05756484344601631, 0.4605187475681305, 0.3607219159603119, 0.05465483292937279, 0.03279289975762367, 0.5137554407119751, 0.010930966585874557, 0.021861933171749115, 0.8164775371551514, 0.007268345914781094, 0.024227820336818695, 0.024227820336818695, 0.026650601997971535, 0.004845563787966967, 0.014536691829562187, 0.014536691829562187, 0.05330120399594307, 0.009691127575933933, 0.18903478980064392, 0.007561391219496727, 0.6351568698883057, 0.04536834731698036, 0.060491129755973816, 0.04536834731698036, 0.015122782438993454, 0.06696433573961258, 0.8641588091850281, 0.0031887779477983713, 0.0350765585899353, 0.022321445867419243, 0.006377555895596743, 0.7578065395355225, 0.028066908940672874, 0.13097891211509705, 0.009355636313557625, 0.06548945605754852, 0.7772334218025208, 0.03791382536292076, 0.05687073990702629, 0.11374147981405258, 0.33265265822410583, 0.09382510930299759, 0.00852955598384142, 0.051177334040403366, 0.5117733478546143, 0.2500803768634796, 0.5537494421005249, 0.01786288432776928, 0.16076596081256866, 0.15324139595031738, 0.06129655987024307, 0.4290759265422821, 0.030648279935121536, 0.18388968706130981, 0.030648279935121536, 0.06129655987024307, 0.030648279935121536, 0.12323001027107239, 0.047396156936883926, 0.05687538906931877, 0.21802233159542084, 0.028437694534659386, 0.03791692852973938, 0.06635462492704391, 0.047396156936883926, 0.06635462492704391, 0.03791692852973938, 0.05687538906931877, 0.22750155627727509, 0.7909282445907593, 0.013636693358421326, 0.02727338671684265, 0.02727338671684265, 0.013636693358421326, 0.09545685350894928, 0.02727338671684265, 0.25016820430755615, 0.03924207016825676, 0.029431553557515144, 0.01962103508412838, 0.578820526599884, 0.07848414033651352, 0.17840959131717682, 0.008109526708722115, 0.06487621366977692, 0.008109526708722115, 0.05676668882369995, 0.048657163977622986, 0.3811477720737457, 0.2676143944263458, 0.24105283617973328, 0.048210568726062775, 0.31336867809295654, 0.3856845498085022, 0.13404640555381775, 0.1584184765815735, 0.036558110266923904, 0.036558110266923904, 0.024372072890400887, 0.43869733810424805, 0.1584184765815735, 0.01642352156341076, 0.06569408625364304, 0.08211760222911835, 0.21350577473640442, 0.47628211975097656, 0.01642352156341076, 0.13138817250728607, 0.003681606613099575, 0.016567230224609375, 0.0018408033065497875, 0.9737849831581116, 0.13269558548927307, 0.03791302442550659, 0.09478256106376648, 0.17060860991477966, 0.4359997808933258, 0.07582604885101318, 0.018956512212753296, 0.018956512212753296, 0.05496511608362198, 0.05496511608362198, 0.21069960296154022, 0.012214469723403454, 0.6351524591445923, 0.02748255804181099, 0.0030536174308508635, 0.001880984171293676, 0.001880984171293676, 0.005642952397465706, 0.39124470949172974, 0.5247945785522461, 0.015047873370349407, 0.003761968342587352, 0.007523936685174704, 0.04702460393309593, 0.11828727275133133, 0.059143636375665665, 0.4731490910053253, 0.059143636375665665, 0.03942909091711044, 0.11828727275133133, 0.059143636375665665, 0.03942909091711044, 0.669832170009613, 0.030915331095457077, 0.041220441460609436, 0.030915331095457077, 0.051525551825761795, 0.010305110365152359, 0.08244088292121887, 0.07213577628135681, 0.010305110365152359, 0.009799537248909473, 0.07839629799127579, 0.05879722163081169, 0.06859675794839859, 0.17639166116714478, 0.08819583058357239, 0.019599074497818947, 0.05879722163081169, 0.28418657183647156, 0.14699305593967438, 0.026320671662688255, 0.05264134332537651, 0.05922151356935501, 0.6316961646080017, 0.006580167915672064, 0.05922151356935501, 0.07896202057600021, 0.006580167915672064, 0.06580168008804321, 0.019740505144000053, 0.2754455804824829, 0.06886139512062073, 0.4820297658443451, 0.034430697560310364, 0.017215348780155182, 0.017215348780155182, 0.051646046340465546, 0.034430697560310364, 0.31905245780944824, 0.035450272262096405, 0.02363351546227932, 0.02363351546227932, 0.02363351546227932, 0.035450272262096405, 0.02363351546227932, 0.472670316696167, 0.04726703092455864, 0.011336229741573334, 0.7595273852348328, 0.011336229741573334, 0.07935360819101334, 0.011336229741573334, 0.13603475689888, 0.6988485455513, 0.004287414718419313, 0.1800714135169983, 0.004287414718419313, 0.060023803263902664, 0.025724487379193306, 0.025724487379193306, 0.6886336803436279, 0.10955535620450974, 0.15650765597820282, 0.031301531940698624, 0.9690780639648438, 0.026015518233180046, 0.9476752281188965, 0.029614850878715515, 0.011233995668590069, 0.016850993037223816, 0.005616997834295034, 0.011233995668590069, 0.022467991337180138, 0.016850993037223816, 0.41565781831741333, 0.011233995668590069, 0.48867878317832947, 0.19697211682796478, 0.01515170093625784, 0.7424333691596985, 0.01515170093625784, 0.01515170093625784, 0.22139708697795868, 0.03162815421819687, 0.06325630843639374, 0.3795378506183624, 0.1897689253091812, 0.06325630843639374, 0.3007742166519165, 0.20051613450050354, 0.4845806658267975, 0.010511236265301704, 0.1156235933303833, 0.02102247253060341, 0.02102247253060341, 0.6411854028701782, 0.02102247253060341, 0.02102247253060341, 0.12613482773303986, 0.02102247253060341, 0.010511236265301704, 0.11088746041059494, 0.12320829182863235, 0.03696248680353165, 0.505154013633728, 0.17249161005020142, 0.03696248680353165, 0.03803902119398117, 0.25359347462654114, 0.012679674662649632, 0.012679674662649632, 0.3803902268409729, 0.025359349325299263, 0.12679673731327057, 0.012679674662649632, 0.12679673731327057, 0.24604099988937378, 0.011183681897819042, 0.0671020895242691, 0.42497989535331726, 0.1342041790485382, 0.10065313428640366, 0.2707430422306061, 0.12306501716375351, 0.07383900880813599, 0.02461300417780876, 0.12306501716375351, 0.3938080668449402, 0.1929350346326828, 0.034047357738018036, 0.12484031170606613, 0.12484031170606613, 0.011349119246006012, 0.397219181060791, 0.06809471547603607, 0.04539647698402405, 0.011349119246006012, 0.008235595189034939, 0.008235595189034939, 0.9800359010696411, 0.01154963206499815, 0.9817187190055847, 0.13856874406337738, 0.5950304865837097, 0.008151102811098099, 0.008151102811098099, 0.016302205622196198, 0.22823087871074677, 0.7499040961265564, 0.024667898193001747, 0.004933579824864864, 0.014800739474594593, 0.019734319299459457, 0.15787455439567566, 0.014800739474594593, 0.009867159649729729, 0.02943953312933445, 0.02943953312933445, 0.1177581325173378, 0.1177581325173378, 0.5004720687866211, 0.014719766564667225, 0.04415930062532425, 0.10303836315870285, 0.04415930062532425, 0.09365308284759521, 0.07358456403017044, 0.04013703763484955, 0.4281283915042877, 0.026758024469017982, 0.026758024469017982, 0.10703209787607193, 0.11372160166501999, 0.06689506024122238, 0.013379012234508991, 0.10206426680088043, 0.6269662380218506, 0.07290305197238922, 0.13122549653053284, 0.05832244083285332, 0.8291908502578735, 0.04738233610987663, 0.023691168054938316, 0.0710735023021698, 0.025514546781778336, 0.10205818712711334, 0.025514546781778336, 0.38271820545196533, 0.22963091731071472, 0.07654363662004471, 0.10205818712711334, 0.025514546781778336, 0.025514546781778336, 0.023512231186032295, 0.03134964033961296, 0.039187051355838776, 0.08621151000261307, 0.22728489339351654, 0.08621151000261307, 0.3761956989765167, 0.04702446237206459, 0.07053668797016144, 0.01567482016980648, 0.02233930304646492, 0.05155223608016968, 0.03952338173985481, 0.6065979599952698, 0.06186268478631973, 0.02233930304646492, 0.018902486190199852, 0.04639701172709465, 0.05155223608016968, 0.036086566746234894, 0.036086566746234894, 0.005155223421752453, 0.6060914397239685, 0.023311208933591843, 0.11655604094266891, 0.06993362307548523, 0.05827802047133446, 0.05827802047133446, 0.034966811537742615, 0.023311208933591843, 0.32357141375541687, 0.04622448980808258, 0.034668367356061935, 0.08089285343885422, 0.02311224490404129, 0.06933673471212387, 0.10400509834289551, 0.28890305757522583, 0.011556122452020645, 0.03685462847352028, 0.05528194084763527, 0.027640970423817635, 0.00921365711838007, 0.09213656932115555, 0.03685462847352028, 0.6173149943351746, 0.12899120151996613, 0.020147420465946198, 0.040294840931892395, 0.24176903069019318, 0.14103193581104279, 0.46339064836502075, 0.060442257672548294, 0.020147420465946198, 0.006290911231189966, 0.9876730442047119, 0.7634596228599548, 0.1370312124490738, 0.01957588829100132, 0.03915177658200264, 0.01957588829100132, 0.08131832629442215, 0.08131832629442215, 0.551157534122467, 0.09035369753837585, 0.01807074062526226, 0.12649518251419067, 0.03614148125052452, 0.00903537031263113, 0.10664143413305283, 0.1260307878255844, 0.17450416088104248, 0.0727100670337677, 0.06786273419857025, 0.05332071706652641, 0.23267222940921783, 0.033931367099285126, 0.05332071706652641, 0.009694675914943218, 0.019389351829886436, 0.05332071706652641, 0.09242609143257141, 0.023106522858142853, 0.046213045716285706, 0.057766303420066833, 0.7625152468681335, 0.06921552866697311, 0.6130518317222595, 0.10876726359128952, 0.019775865599513054, 0.06921552866697311, 0.03955173119902611, 0.05932759866118431, 0.009887932799756527, 0.08914367854595184, 0.10028664022684097, 0.39000362157821655, 0.20057328045368195, 0.02228591963648796, 0.01114295981824398, 0.1782873570919037, 0.039619483053684235, 0.18489092588424683, 0.02641298808157444, 0.02641298808157444, 0.5414662957191467, 0.15847793221473694, 0.02714127115905285, 0.1899888962507248, 0.4614016115665436, 0.3256952464580536, 0.1789107471704483, 0.15685325860977173, 0.16665658354759216, 0.11518910527229309, 0.03921331465244293, 0.06127080321311951, 0.07352495938539505, 0.024508321657776833, 0.0588199719786644, 0.0294099859893322, 0.09558244794607162, 0.7324016094207764, 0.007042323239147663, 0.20422737300395966, 0.04225393757224083, 0.007042323239147663, 0.007042323239147663, 0.05041361600160599, 0.27727487683296204, 0.15124085545539856, 0.15124085545539856, 0.3276885151863098, 0.053906623274087906, 0.007700946182012558, 0.6930851936340332, 0.16942082345485687, 0.007700946182012558, 0.03850473091006279, 0.030803784728050232, 0.027467278763651848, 0.5493455529212952, 0.38454189896583557, 0.027467278763651848, 0.1400342881679535, 0.17186026275157928, 0.07956493645906448, 0.07001714408397675, 0.028643375262618065, 0.1559472680091858, 0.08274753391742706, 0.022278182208538055, 0.12093869596719742, 0.09547792375087738, 0.009547792375087738, 0.022278182208538055, 0.02601458691060543, 0.08919286727905273, 0.06689465045928955, 0.16352026164531708, 0.0037163696251809597, 0.03716369718313217, 0.033447325229644775, 0.5797536373138428, 0.20529352128505707, 0.07563444972038269, 0.6482952833175659, 0.010804921388626099, 0.05402461066842079, 0.008969984948635101, 0.7220837473869324, 0.004484992474317551, 0.09642733633518219, 0.16370221972465515, 0.0022424962371587753, 0.019532838836312294, 0.8789777755737305, 0.03906567767262459, 0.03906567767262459, 0.048105113208293915, 0.9043760895729065, 0.009621022269129753, 0.009621022269129753, 0.019242044538259506, 0.42155176401138306, 0.02218693494796753, 0.02218693494796753, 0.4659256339073181, 0.04437386989593506, 0.9486627578735352, 0.008178126998245716, 0.032712507992982864, 0.023435823619365692, 0.8436896800994873, 0.031247764825820923, 0.09374329447746277, 0.048446983098983765, 0.0993163138628006, 0.12111745029687881, 0.23981255292892456, 0.021801142022013664, 0.12353980541229248, 0.0532916784286499, 0.08235986530780792, 0.06298107653856277, 0.02664583921432495, 0.06298107653856277, 0.05571402981877327, 0.11408030986785889, 0.045632123947143555, 0.022816061973571777, 0.06844818592071533, 0.06844818592071533, 0.36505699157714844, 0.022816061973571777, 0.25097668170928955, 0.022816061973571777, 0.9401965737342834, 0.040294140577316284, 0.013431379571557045, 0.27479931712150574, 0.030114993453025818, 0.048936862498521805, 0.15810371935367584, 0.19198308885097504, 0.030114993453025818, 0.2522130608558655, 0.0075287483632564545, 0.0075287483632564545, 0.0037643741816282272, 0.0037643741816282272, 0.21334902942180634, 0.005333725828677416, 0.19201412796974182, 0.0746721625328064, 0.016001177951693535, 0.23468393087387085, 0.0746721625328064, 0.021334903314709663, 0.016001177951693535, 0.09067333489656448, 0.04266980662941933, 0.021334903314709663, 0.1875433623790741, 0.3750867247581482, 0.4091854989528656, 0.01704939641058445, 0.011843279004096985, 0.1914663463830948, 0.13619770109653473, 0.005921639502048492, 0.007895519025623798, 0.02368655800819397, 0.029608197510242462, 0.5645296573638916, 0.02566043846309185, 0.10983394831418991, 0.013729243539273739, 0.46679428219795227, 0.08237545937299728, 0.15102167427539825, 0.027458487078547478, 0.04118772968649864, 0.08237545937299728, 0.1358889490365982, 0.10569141060113907, 0.057375337928533554, 0.03925681114196777, 0.10267165303230286, 0.08455312997102737, 0.0905926376581192, 0.03623705357313156, 0.10569141060113907, 0.06341484934091568, 0.10569141060113907, 0.06945435702800751, 0.33712247014045715, 0.021070154383778572, 0.5688942074775696, 0.021070154383778572, 0.021070154383778572, 0.7469640970230103, 0.08299601078033447, 0.08299601078033447, 0.041498005390167236, 0.12601767480373383, 0.005250736139714718, 0.5460765957832336, 0.1365191489458084, 0.031504418700933456, 0.031504418700933456, 0.026253681629896164, 0.015752209350466728, 0.005250736139714718, 0.047256626188755035, 0.026253681629896164, 0.7364376187324524, 0.11263163387775421, 0.017327943816781044, 0.017327943816781044, 0.02599191665649414, 0.017327943816781044, 0.008663971908390522, 0.03465588763356209, 0.02599191665649414, 0.008663971908390522, 0.12030031532049179, 0.1673743575811386, 0.11855683475732803, 0.0401001051068306, 0.08717413991689682, 0.026152241975069046, 0.07845672965049744, 0.10286548733711243, 0.04184358939528465, 0.18480917811393738, 0.020921794697642326, 0.01220437977463007, 0.28418782353401184, 0.07104695588350296, 0.014209391549229622, 0.4689099192619324, 0.08525634557008743, 0.07104695588350296, 0.7135534882545471, 0.06946095824241638, 0.13260728120803833, 0.02946828491985798, 0.00210487749427557, 0.027363406494259834, 0.01052438747137785, 0.00841950997710228, 0.00420975498855114, 0.2094249725341797, 0.04188499227166176, 0.04188499227166176, 0.08376998454332352, 0.02094249613583088, 0.06282749027013779, 0.08376998454332352, 0.46073493361473083, 0.13514040410518646, 0.033785101026296616, 0.5067765116691589, 0.033785101026296616, 0.13514040410518646, 0.10135529935359955, 0.033785101026296616, 0.14672385156154633, 0.022008579224348068, 0.27877533435821533, 0.3374648690223694, 0.08803431689739227, 0.007336192764341831, 0.044017158448696136, 0.044017158448696136, 0.022008579224348068, 0.007336192764341831, 0.12693968415260315, 0.07253696024417877, 0.10880544036626816, 0.12693968415260315, 0.036268480122089386, 0.525892972946167, 0.7073675990104675, 0.012745361775159836, 0.06372680515050888, 0.03186340257525444, 0.08284485340118408, 0.03823608532547951, 0.044608764350414276, 0.13557608425617218, 0.040672823786735535, 0.040672823786735535, 0.08134564757347107, 0.1898065209388733, 0.3253825902938843, 0.08134564757347107, 0.013557608239352703, 0.08134564757347107, 0.03479822725057602, 0.03479822725057602, 0.3131840229034424, 0.37408092617988586, 0.06959645450115204, 0.13049334287643433, 0.026098670437932014, 0.01739911362528801, 0.008699556812644005, 0.2603391706943512, 0.1789831817150116, 0.048813596367836, 0.01627119816839695, 0.01627119816839695, 0.01627119816839695, 0.0325423963367939, 0.0325423963367939, 0.4067799746990204, 0.4631320536136627, 0.05343831330537796, 0.3562554121017456, 0.01781277172267437, 0.01781277172267437, 0.07125108689069748, 0.0026467670686542988, 0.0026467670686542988, 0.0026467670686542988, 0.9925376176834106, 0.174521803855896, 0.3287504017353058, 0.07305563986301422, 0.07305563986301422, 0.012175939977169037, 0.020293233916163445, 0.028410527855157852, 0.03652781993150711, 0.028410527855157852, 0.19887368381023407, 0.016234587877988815, 0.012175939977169037, 0.02564922533929348, 0.5129845142364502, 0.01282461266964674, 0.4360368251800537, 0.37059250473976135, 0.013003245927393436, 0.032508112490177155, 0.05851460620760918, 0.22105517983436584, 0.039009734988212585, 0.032508112490177155, 0.006501622963696718, 0.22105517983436584, 0.006501622963696718, 0.0037805791944265366, 0.049147527664899826, 0.007561158388853073, 0.7750187516212463, 0.09073390066623688, 0.0037805791944265366, 0.04158636927604675, 0.01134173758327961, 0.015122316777706146, 0.7246710658073425, 0.030194628983736038, 0.12077851593494415, 0.030194628983736038, 0.030194628983736038, 0.030194628983736038, 0.029153121635317802, 0.18021929264068604, 0.015901703387498856, 0.1961210072040558, 0.002650283742696047, 0.5247561931610107, 0.002650283742696047, 0.04505482316017151, 0.0848483294248581, 0.10521192848682404, 0.09163619577884674, 0.19006025791168213, 0.17648452520370483, 0.115393728017807, 0.05430293083190918, 0.023757532238960266, 0.030545398592948914, 0.06787866353988647, 0.030545398592948914, 0.03393933176994324, 0.0247407965362072, 0.03711119294166565, 0.7917054891586304, 0.08659278601408005, 0.06185198947787285, 0.7996933460235596, 0.0022275580558925867, 0.03786848485469818, 0.07796452939510345, 0.0022275580558925867, 0.008910232223570347, 0.06905429810285568, 0.8743167519569397, 0.12013512849807739, 0.10565497726202011, 0.15848246216773987, 0.15848246216773987, 0.44903364777565, 0.026413744315505028, 0.052827488631010056, 0.2919609844684601, 0.042935438454151154, 0.01717417500913143, 0.008587087504565716, 0.06869670003652573, 0.008587087504565716, 0.051522526890039444, 0.03434835001826286, 0.4637027382850647, 0.05233012139797211, 0.23548553884029388, 0.07849518209695816, 0.40555843710899353, 0.026165060698986053, 0.09157770872116089, 0.06541264802217484, 0.026165060698986053, 0.013082530349493027, 0.22007210552692413, 0.10111421346664429, 0.09516631811857224, 0.15464526414871216, 0.005947894882410765, 0.30334264039993286, 0.035687368363142014, 0.04758315905928612, 0.005947894882410765, 0.02379157952964306, 0.005947894882410765, 0.017843684181571007, 0.06129759922623634, 0.09194640070199966, 0.0689598023891449, 0.0689598023891449, 0.015324399806559086, 0.07662200182676315, 0.015324399806559086, 0.022986600175499916, 0.32181239128112793, 0.08428420126438141, 0.03064879961311817, 0.1379196047782898, 0.019050510600209236, 0.022860614582896233, 0.09144245833158493, 0.6096163392066956, 0.019050510600209236, 0.04953132942318916, 0.04953132942318916, 0.030480818822979927, 0.10287275910377502, 0.007620204705744982, 0.16112256050109863, 0.24168385565280914, 0.1409822404384613, 0.04028064012527466, 0.060420963913202286, 0.32224512100219727, 0.007407048251479864, 0.007407048251479864, 0.08888457715511322, 0.8888458013534546, 0.02487308159470558, 0.07461924850940704, 0.04974616318941116, 0.1243654116988182, 0.09949232637882233, 0.5969539880752563, 0.14335694909095764, 0.16724976897239685, 0.11946412175893784, 0.5256421566009521, 0.023892825469374657, 0.05438321456313133, 0.10876642912626266, 0.1320735216140747, 0.2952231764793396, 0.023307092487812042, 0.06992127746343613, 0.015538061037659645, 0.28745412826538086, 0.015538061037659645, 0.0414530485868454, 0.0829060971736908, 0.3730774521827698, 0.091196708381176, 0.008290610276162624, 0.066324882209301, 0.0248718298971653, 0.20726525783538818, 0.01658122055232525, 0.0994873195886612, 0.16255325078964233, 0.09753195196390152, 0.09753195196390152, 0.03251064941287041, 0.03251064941287041, 0.06502129882574081, 0.16255325078964233, 0.09753195196390152, 0.22757454216480255, 0.08210097253322601, 0.002105153165757656, 0.08631127327680588, 0.34735026955604553, 0.11788856983184814, 0.05683913454413414, 0.027366990223526955, 0.17472770810127258, 0.01894637756049633, 0.08631127327680588, 0.8530168533325195, 0.03481701388955116, 0.05222552269697189, 0.06963402777910233, 0.479489266872406, 0.3802845776081085, 0.0661364495754242, 0.0330682247877121, 0.1794743537902832, 0.010557315312325954, 0.6439962387084961, 0.1372450888156891, 0.010557315312325954, 0.3023572564125061, 0.00795677024871111, 0.6524551510810852, 0.00795677024871111, 0.01591354049742222, 0.04630858451128006, 0.03704686835408211, 0.5927498936653137, 0.03704686835408211, 0.04630858451128006, 0.06483201682567596, 0.03704686835408211, 0.009261717088520527, 0.03704686835408211, 0.06483201682567596, 0.19923469424247742, 0.00687016174197197, 0.0017175404354929924, 0.259348601102829, 0.003435080870985985, 0.2679363191127777, 0.2524784505367279, 0.005152621306478977, 0.029313184320926666, 0.29313185811042786, 0.20519229769706726, 0.38107138872146606, 0.08793955296278, 0.055578552186489105, 0.04168391600251198, 0.22231420874595642, 0.06947319209575653, 0.08336783200502396, 0.09726247191429138, 0.027789276093244553, 0.3612605929374695, 0.04168391600251198, 0.08453883975744247, 0.07941527664661407, 0.15114520490169525, 0.14345985651016235, 0.012808915227651596, 0.13321271538734436, 0.048673879355192184, 0.09478597342967987, 0.14602163434028625, 0.017932482063770294, 0.03330317884683609, 0.053797442466020584, 0.2889854907989502, 0.01204106118530035, 0.0240821223706007, 0.0240821223706007, 0.1444927453994751, 0.44551926851272583, 0.01204106118530035, 0.0240821223706007, 0.2994508147239685, 0.023034678772091866, 0.4146242141723633, 0.06910403817892075, 0.1612427532672882, 0.1317853480577469, 0.011628118343651295, 0.027132276445627213, 0.1589176207780838, 0.02325623668730259, 0.17054574191570282, 0.0038760395254939795, 0.1162811890244484, 0.07752079516649246, 0.007752079050987959, 0.0038760395254939795, 0.26744672656059265, 0.1286700963973999, 0.7334195971488953, 0.06433504819869995, 0.03860102966427803, 0.012867010198533535, 0.045184358954429626, 0.03227454051375389, 0.03227454051375389, 0.025819633156061172, 0.051639266312122345, 0.019364725798368454, 0.012909816578030586, 0.7681341171264648, 0.17709636688232422, 0.022137045860290527, 0.1549593210220337, 0.08854818344116211, 0.11068522930145264, 0.42060387134552, 0.019296586513519287, 0.08104566484689713, 0.04631180688738823, 0.0077186343260109425, 0.019296586513519287, 0.0077186343260109425, 0.05788975954055786, 0.011577951721847057, 0.0038593171630054712, 0.015437268652021885, 0.7294109463691711, 0.11606767028570175, 0.6964060068130493, 0.029016917571425438, 0.058033835142850876, 0.029016917571425438, 0.058033835142850876, 0.0572570376098156, 0.03817135840654373, 0.12214834243059158, 0.09161125868558884, 0.015268542803823948, 0.06489130854606628, 0.587838888168335, 0.003817135700955987, 0.015268542803823948, 0.05829843133687973, 0.007287303917109966, 0.05829843133687973, 0.0874476507306099, 0.7068684697151184, 0.04372382536530495, 0.021861912682652473, 0.014574607834219933, 0.05015013739466667, 0.10030027478933334, 0.15045040845870972, 0.15045040845870972, 0.45135125517845154, 0.025075068697333336, 0.025075068697333336, 0.05015013739466667, 0.10853439569473267, 0.18993519246578217, 0.18993519246578217, 0.461271196603775, 0.027133598923683167, 0.05426719784736633, 0.35046225786209106, 0.4852554500102997, 0.013479318469762802, 0.013479318469762802, 0.12131386250257492, 0.013479318469762802, 0.2002846598625183, 0.30042698979377747, 0.05007116496562958, 0.02503558248281479, 0.02503558248281479, 0.425604909658432, 0.004296710714697838, 0.01718684285879135, 0.9452763199806213, 0.030076975002884865, 0.5713582038879395, 0.06121695041656494, 0.08162260055541992, 0.06121695041656494, 0.18365085124969482, 0.04081130027770996, 0.20323608815670013, 0.03126709163188934, 0.12506836652755737, 0.5940747261047363, 0.03126709163188934, 0.016079679131507874, 0.09647807478904724, 0.14471711218357086, 0.18759624660015106, 0.0214395709335804, 0.4823903739452362, 0.0053598927333951, 0.03751925006508827, 0.0107197854667902, 0.007492116652429104, 0.09739751368761063, 0.007492116652429104, 0.1798107922077179, 0.681782603263855, 0.022476349025964737, 0.012952460907399654, 0.10361968725919724, 0.012952460907399654, 0.11657214909791946, 0.7253378033638, 0.040613364428281784, 0.08122672885656357, 0.10830231010913849, 0.047382257878780365, 0.3181380331516266, 0.07445783913135529, 0.0067688943818211555, 0.0067688943818211555, 0.2707557678222656, 0.0338444709777832, 0.07653450965881348, 0.13393539190292358, 0.03826725482940674, 0.11480175703763962, 0.4400734007358551, 0.03826725482940674, 0.15306901931762695, 0.04844566062092781, 0.012111415155231953, 0.012111415155231953, 0.9204675555229187, 0.01525429729372263, 0.23020121455192566, 0.03050859458744526, 0.009707280434668064, 0.409092515707016, 0.013867543078958988, 0.0013867543311789632, 0.047149647027254105, 0.23990848660469055, 0.2910221815109253, 0.060629621148109436, 0.5456665754318237, 0.03637777268886566, 0.04850369691848755, 0.37249529361724854, 0.05881504714488983, 0.06161576509475708, 0.4341110587120056, 0.005601433105766773, 0.050412897020578384, 0.005601433105766773, 0.008402150124311447, 0.39168471097946167, 0.07083659619092941, 0.07083659619092941, 0.42918646335601807, 0.029168011620640755, 0.004166858736425638, 0.1395902782678604, 0.009970733895897865, 0.049853671342134476, 0.009970733895897865, 0.6381269693374634, 0.07976587116718292, 0.01994146779179573, 0.009970733895897865, 0.049853671342134476, 0.10369285941123962, 0.2776292562484741, 0.6020875573158264, 0.0033449309412389994, 0.006689861882477999, 0.0812065452337265, 0.07767582684755325, 0.7237975001335144, 0.10945229977369308, 0.0035307195503264666, 0.9037724137306213, 0.01329077035188675, 0.0265815407037735, 0.03987231105566025, 0.010207475163042545, 0.010207475163042545, 0.1020747497677803, 0.02041495032608509, 0.1326971799135208, 0.602241039276123, 0.035726163536310196, 0.005103737581521273, 0.01531121227890253, 0.01531121227890253, 0.005103737581521273, 0.05614111199975014, 0.1453847885131836, 0.10384628176689148, 0.2700003385543823, 0.06230776757001877, 0.39461585879325867, 0.7149105072021484, 0.03762686625123024, 0.01881343312561512, 0.03762686625123024, 0.03762686625123024, 0.03762686625123024, 0.09406717121601105, 0.045879658311605453, 0.481736421585083, 0.022939829155802727, 0.3899770975112915, 0.045879658311605453, 0.10442066937685013, 0.010442066937685013, 0.09397860616445541, 0.04176826775074005, 0.3237040638923645, 0.010442066937685013, 0.0835365355014801, 0.010442066937685013, 0.3237040638923645, 0.11715463548898697, 0.1447204351425171, 0.031011521816253662, 0.0689144879579544, 0.2584293484687805, 0.06546876579523087, 0.0344572439789772, 0.04134869575500488, 0.04134869575500488, 0.044794417917728424, 0.051685869693756104, 0.09648028761148453, 0.38322609663009644, 0.015536192804574966, 0.005178730934858322, 0.015536192804574966, 0.3935835361480713, 0.18125557899475098, 0.005178730934858322, 0.09664781391620636, 0.008053984493017197, 0.12080976366996765, 0.016107968986034393, 0.20134961605072021, 0.11275578290224075, 0.016107968986034393, 0.33021336793899536, 0.07248585671186447, 0.016107968986034393, 0.6963464617729187, 0.012216604314744473, 0.16085195541381836, 0.01628880575299263, 0.014252705499529839, 0.04683031886816025, 0.03664981573820114, 0.008144402876496315, 0.0040722014382481575, 0.27041444182395935, 0.19666506350040436, 0.04916626587510109, 0.024583132937550545, 0.04916626587510109, 0.3687469959259033, 0.01650002785027027, 0.0033000055700540543, 0.5742009878158569, 0.02310003899037838, 0.0033000055700540543, 0.0066000111401081085, 0.013200022280216217, 0.35640060901641846, 0.5888217687606812, 0.10978033393621445, 0.11976036429405212, 0.06986021250486374, 0.02994009107351303, 0.06986021250486374, 0.039533261209726334, 0.09883315116167068, 0.039533261209726334, 0.05435823276638985, 0.5880572199821472, 0.04941657558083534, 0.029649944975972176, 0.029649944975972176, 0.02470828779041767, 0.04447491839528084, 0.1846265345811844, 0.3077108860015869, 0.13728639483451843, 0.047340136021375656, 0.2272326499223709, 0.009468027390539646, 0.009468027390539646, 0.014202040620148182, 0.004734013695269823, 0.009468027390539646, 0.04260612279176712, 0.06304000318050385, 0.47280004620552063, 0.08668000996112823, 0.1024400070309639, 0.04728000611066818, 0.01576000079512596, 0.03940000385046005, 0.11820001155138016, 0.03940000385046005, 0.01576000079512596, 0.00788000039756298, 0.5625923275947571, 0.01530863530933857, 0.007654317654669285, 0.06888885796070099, 0.07271602004766464, 0.05358022451400757, 0.05740738287568092, 0.06123454123735428, 0.019135793671011925, 0.019135793671011925, 0.04592590779066086, 0.01530863530933857, 0.034422263503074646, 0.10756957530975342, 0.1333862841129303, 0.06884452700614929, 0.25816699862480164, 0.04733061417937279, 0.08175288140773773, 0.021513916552066803, 0.10756957530975342, 0.07745009660720825, 0.030119482427835464, 0.034422263503074646, 0.051734600216150284, 0.017244866117835045, 0.06897946447134018, 0.689794659614563, 0.017244866117835045, 0.03448973223567009, 0.13795892894268036, 0.022636184468865395, 0.06790855526924133, 0.16977138817310333, 0.5093141794204712, 0.05659046396613121, 0.022636184468865395, 0.06790855526924133, 0.022636184468865395, 0.07922665029764175, 0.04131409153342247, 0.028740238398313522, 0.3376978039741516, 0.11136842519044876, 0.007185059599578381, 0.039517827332019806, 0.007185059599578381, 0.0035925297997891903, 0.14010865986347198, 0.021555179730057716, 0.021555179730057716, 0.2389032393693924, 0.01720181293785572, 0.05160543695092201, 0.05160543695092201, 0.6192652583122253, 0.24082538485527039, 0.01720181293785572, 0.10835028439760208, 0.13543784618377686, 0.48757627606391907, 0.10835028439760208, 0.02708757109940052, 0.08126271516084671, 0.02708757109940052, 0.9751191735267639, 0.008263722062110901, 0.008263722062110901, 0.09030169248580933, 0.7946548461914062, 0.00602011289447546, 0.01204022578895092, 0.01204022578895092, 0.018060337752103806, 0.00602011289447546, 0.018060337752103806, 0.03612067550420761, 0.25050148367881775, 0.030363814905285835, 0.007590953726321459, 0.09109144657850266, 0.0531366765499115, 0.015181907452642918, 0.007590953726321459, 0.30363816022872925, 0.15181908011436462, 0.06831858307123184, 0.030363814905285835, 0.22963780164718628, 0.08350465446710587, 0.2644314169883728, 0.013917443342506886, 0.33401861786842346, 0.006958721671253443, 0.020876163616776466, 0.020876163616776466, 0.006958721671253443, 0.013917443342506886, 0.024874107912182808, 0.2922707796096802, 0.09327790886163712, 0.23008550703525543, 0.09949643164873123, 0.05596674233675003, 0.19899286329746246, 0.003109263489022851, 0.003518256824463606, 0.14073027670383453, 0.0527738519012928, 0.5875489115715027, 0.09147468209266663, 0.04573734104633331, 0.06332862377166748, 0.014073027297854424, 0.16137273609638214, 0.035860609263181686, 0.2510242462158203, 0.46618789434432983, 0.017930304631590843, 0.035860609263181686, 0.017930304631590843, 0.06761416047811508, 0.10142124444246292, 0.169035404920578, 0.13522832095623016, 0.06761416047811508, 0.10142124444246292, 0.338070809841156, 0.19747291505336761, 0.10970717668533325, 0.06582430750131607, 0.04388286918401718, 0.04388286918401718, 0.4827115833759308, 0.04388286918401718, 0.02194143459200859, 0.14012788236141205, 0.10509591549634933, 0.03503197059035301, 0.08757992833852768, 0.21019183099269867, 0.08757992833852768, 0.33280372619628906, 0.1439148336648941, 0.07195741683244705, 0.5756593346595764, 0.07195741683244705, 0.09594322741031647, 0.023985806852579117, 0.444374144077301, 0.03852954879403114, 0.1695300191640854, 0.26456958055496216, 0.07449046522378922, 0.002568636555224657, 0.02406306192278862, 0.12633107602596283, 0.21055178344249725, 0.10226801037788391, 0.01804729551076889, 0.48727700114250183, 0.02406306192278862, 0.46355363726615906, 0.06992149353027344, 0.002589685143902898, 0.002589685143902898, 0.005179370287805796, 0.00776905519887805, 0.00776905519887805, 0.3444281220436096, 0.03884527459740639, 0.02589685097336769, 0.018127795308828354, 0.018127795308828354, 0.833972692489624, 0.035488199442625046, 0.035488199442625046, 0.07097639888525009, 0.017744099721312523, 0.23318792879581451, 0.42522504925727844, 0.01371693704277277, 0.01371693704277277, 0.2880556881427765, 0.03360878303647041, 0.13443513214588165, 0.05041317641735077, 0.03360878303647041, 0.5041317939758301, 0.10082635283470154, 0.1512395292520523, 0.06823546439409256, 0.01705886609852314, 0.8188255429267883, 0.08529432862997055, 0.15268687903881073, 0.06107475236058235, 0.030537376180291176, 0.5191354155540466, 0.01017912570387125, 0.0203582514077425, 0.11197037994861603, 0.08143300563097, 0.01017912570387125, 0.03835189715027809, 0.09971493482589722, 0.05369265750050545, 0.015340759418904781, 0.015340759418904781, 0.3835189938545227, 0.13039645552635193, 0.030681518837809563, 0.03835189715027809, 0.18408910930156708, 0.08783932775259018, 0.06874382495880127, 0.02673370949923992, 0.03819101303815842, 0.26351797580718994, 0.06110562011599541, 0.01909550651907921, 0.01909550651907921, 0.3284427225589752, 0.01909550651907921, 0.06110562011599541, 0.007638202514499426, 0.11942660063505173, 0.2579614520072937, 0.34872567653656006, 0.06687889248132706, 0.08121008425951004, 0.009554128162562847, 0.10509540885686874, 0.005831640679389238, 0.5365109443664551, 0.017494922503829002, 0.04665312543511391, 0.3440667986869812, 0.05248476564884186, 0.11613617837429047, 0.021775532513856888, 0.23227235674858093, 0.11613617837429047, 0.036292556673288345, 0.09436064213514328, 0.36292555928230286, 0.021775532513856888, 0.9922704696655273, 0.02799113094806671, 0.11196452379226685, 0.16794678568840027, 0.11196452379226685, 0.08397339284420013, 0.13995565474033356, 0.33589357137680054, 0.16862963140010834, 0.03441420942544937, 0.31316933035850525, 0.06194557994604111, 0.08259410411119461, 0.02408994734287262, 0.13421541452407837, 0.05162131413817406, 0.04817989468574524, 0.020648526027798653, 0.013765684328973293, 0.04817989468574524, 0.13356530666351318, 0.8135340809822083, 0.03642690181732178, 0.05823008343577385, 0.05823008343577385, 0.14557521045207977, 0.2329203337430954, 0.20380528271198273, 0.32026544213294983, 0.08148826658725739, 0.11408357322216034, 0.13038122653961182, 0.04889295995235443, 0.016297653317451477, 0.06519061326980591, 0.06519061326980591, 0.04889295995235443, 0.08148826658725739, 0.3585483729839325, 0.05347273871302605, 0.02005227655172348, 0.046788644045591354, 0.046788644045591354, 0.6349887847900391, 0.12699775397777557, 0.02005227655172348, 0.013368184678256512, 0.026736369356513023, 0.017712900415062904, 0.9712573289871216, 0.008856450207531452, 0.983035147190094, 0.01119485218077898, 0.01119485218077898, 0.9739521145820618, 0.02837875299155712, 0.879741370677948, 0.01418937649577856, 0.01418937649577856, 0.05675750598311424, 0.03825632855296135, 0.019128164276480675, 0.09564082324504852, 0.09564082324504852, 0.09564082324504852, 0.03825632855296135, 0.6312294602394104, 0.2696295976638794, 0.04902356490492821, 0.5392591953277588, 0.024511782452464104, 0.04902356490492821, 0.07353534549474716, 0.11812052875757217, 0.13288559019565582, 0.07382532954216003, 0.33221396803855896, 0.07382532954216003, 0.11073799431324005, 0.04429519921541214, 0.014765066094696522, 0.10335545986890793, 0.14268450438976288, 0.05188527703285217, 0.5188527703285217, 0.05188527703285217, 0.03891395777463913, 0.03891395777463913, 0.025942638516426086, 0.11674187332391739, 0.028396736830472946, 0.08519021421670914, 0.07099184393882751, 0.028396736830472946, 0.07099184393882751, 0.14198368787765503, 0.4259510636329651, 0.014198368415236473, 0.09938858449459076, 0.04259510710835457, 0.005820567719638348, 0.32595178484916687, 0.04074397310614586, 0.052385106682777405, 0.07857766002416611, 0.1309627741575241, 0.13969361782073975, 0.06984680891036987, 0.07857766002416611, 0.002910283859819174, 0.07275709509849548, 0.5594772100448608, 0.06660442799329758, 0.06327420473098755, 0.2297852784395218, 0.003330221399664879, 0.04995332285761833, 0.003330221399664879, 0.009990664198994637, 0.009990664198994637, 0.003330221399664879, 0.04346226155757904, 0.13038678467273712, 0.08692452311515808, 0.02173113077878952, 0.02173113077878952, 0.06519339233636856, 0.4563537538051605, 0.17384904623031616, 0.015110211446881294, 0.15110211074352264, 0.015110211446881294, 0.045330632477998734, 0.07555105537176132, 0.6950697302818298, 0.015110211446881294, 0.35845062136650085, 0.025091543793678284, 0.04659857973456383, 0.05376759171485901, 0.28676050901412964, 0.05735209956765175, 0.06810561567544937, 0.039429567754268646, 0.010753518901765347, 0.021507037803530693, 0.028676049783825874, 0.0035845062229782343, 0.1085338369011879, 0.18993420898914337, 0.18993420898914337, 0.4341353476047516, 0.027133459225296974, 0.05426691845059395, 0.32658305764198303, 0.042139749974012375, 0.48460710048675537, 0.12641924619674683, 0.010534937493503094, 0.4329882860183716, 0.030927734449505806, 0.12371093779802322, 0.12371093779802322, 0.030927734449505806, 0.24742187559604645, 0.5179280042648315, 0.37981387972831726, 0.09207609295845032, 0.4045097231864929, 0.13965216279029846, 0.0626026913523674, 0.057787101715803146, 0.043340325355529785, 0.08186505734920502, 0.02407795935869217, 0.02407795935869217, 0.02407795935869217, 0.009631183929741383, 0.07704947143793106, 0.05297150835394859, 0.7814767360687256, 0.006795450113713741, 0.0033977250568568707, 0.006795450113713741, 0.13930672407150269, 0.061159051954746246, 0.0033977250568568707, 0.10853317379951477, 0.18993304669857025, 0.16279976069927216, 0.4612659811973572, 0.027133293449878693, 0.054266586899757385, 0.6616469621658325, 0.010338233783841133, 0.32048526406288147, 0.006234191358089447, 0.04675643518567085, 0.05610772222280502, 0.5579600930213928, 0.0031170956790447235, 0.19325992465019226, 0.0529906265437603, 0.01870257407426834, 0.0031170956790447235, 0.03740514814853668, 0.02805386111140251, 0.203957200050354, 0.07416625320911407, 0.407914400100708, 0.03708312660455704, 0.055624689906835556, 0.055624689906835556, 0.03708312660455704, 0.055624689906835556, 0.07416625320911407, 0.3467986285686493, 0.21211954951286316, 0.04377070069313049, 0.006733953952789307, 0.0033669769763946533, 0.11111024022102356, 0.17844977974891663, 0.023568838834762573, 0.06733953952789307, 0.006733953952789307, 0.034136511385440826, 0.10620247572660446, 0.015171782113611698, 0.018964728340506554, 0.08723774552345276, 0.034136511385440826, 0.022757673636078835, 0.011378836818039417, 0.05310123786330223, 0.6106642484664917, 0.0233771950006485, 0.046754390001297, 0.01168859750032425, 0.9233991503715515, 0.4179956614971161, 0.0027681831270456314, 0.5328752398490906, 0.04013865441083908, 0.004152274690568447, 0.03867457062005997, 0.3695569932460785, 0.2449389398097992, 0.08164631575345993, 0.06445761770009995, 0.017188698053359985, 0.1203208789229393, 0.04297174513339996, 0.017188698053359985, 0.621640145778656, 0.24865604937076569, 0.09946241974830627, 0.012432802468538284, 0.012432802468538284, 0.11169512569904327, 0.12565702199935913, 0.08377134799957275, 0.5026280879974365, 0.02792378142476082, 0.12565702199935913, 0.5070254802703857, 0.4855153262615204, 0.006145763676613569, 0.9559643864631653, 0.02680274099111557, 0.005956164561212063, 0.008934246376156807, 0.020871445536613464, 0.03478574380278587, 0.6400576829910278, 0.0626143366098404, 0.0765286386013031, 0.11131437867879868, 0.02782859466969967, 0.006957148667424917, 0.013914297334849834, 0.0872158408164978, 0.1744316816329956, 0.02180396020412445, 0.3924712836742401, 0.3052554428577423, 0.02180396020412445, 0.256389856338501, 0.009049054235219955, 0.003016351256519556, 0.006032702513039112, 0.012065405026078224, 0.23225905001163483, 0.46150174736976624, 0.006032702513039112, 0.015081756748259068, 0.049022600054740906, 0.07353390008211136, 0.2696243226528168, 0.07353390008211136, 0.14706780016422272, 0.3676695227622986, 0.024511300027370453, 0.02374296449124813, 0.09497185796499252, 0.1187148168683052, 0.04748592898249626, 0.4986022412776947, 0.1424577832221985, 0.02374296449124813, 0.03178330138325691, 0.540316104888916, 0.12713320553302765, 0.06356660276651382, 0.09534990042448044, 0.03178330138325691, 0.06356660276651382, 0.03178330138325691, 0.04329849034547806, 0.17828790843486786, 0.050939399749040604, 0.06367424875497818, 0.033110611140728, 0.05603334307670593, 0.06367424875497818, 0.2852606475353241, 0.02037576027214527, 0.002546970034018159, 0.03820455074310303, 0.1655530482530594, 0.012156026437878609, 0.002431205241009593, 0.002431205241009593, 0.009724820964038372, 0.4327545166015625, 0.03646807745099068, 0.5008282661437988, 0.007368824910372496, 0.5010800957679749, 0.014737649820744991, 0.007368824910372496, 0.46423596143722534, 0.46363192796707153, 0.10537089407444, 0.06322253495454788, 0.02107417769730091, 0.12644506990909576, 0.14751924574375153, 0.02107417769730091, 0.04214835539460182, 0.010792326182126999, 0.2698081433773041, 0.10792326182126999, 0.2967889606952667, 0.064753957092762, 0.0161884892731905, 0.0161884892731905, 0.07015012204647064, 0.048565465956926346, 0.032376978546381, 0.064753957092762, 0.7157762050628662, 0.03329191729426384, 0.03329191729426384, 0.04993787407875061, 0.01664595864713192, 0.04993787407875061, 0.08322979509830475, 0.6618719100952148, 0.05091322585940361, 0.1145547553896904, 0.1654679775238037, 0.7919985055923462, 0.017406560480594635, 0.026109840720891953, 0.017406560480594635, 0.1479557603597641, 0.008703280240297318, 0.09700969606637955, 0.018862996250391006, 0.5685846209526062, 0.00808414164930582, 0.03233656659722328, 0.024252424016594887, 0.029641851782798767, 0.07545198500156403, 0.08353612571954727, 0.048504848033189774, 0.0134735694155097, 0.062280841171741486, 0.08304111659526825, 0.332164466381073, 0.031140420585870743, 0.09342125803232193, 0.07785104960203171, 0.07785104960203171, 0.041520558297634125, 0.005190069787204266, 0.1297517567873001, 0.057090770453214645, 0.010380139574408531, 0.034724991768598557, 0.17362496256828308, 0.1302187144756317, 0.12587809562683105, 0.034724991768598557, 0.03038436733186245, 0.0043406239710748196, 0.03038436733186245, 0.1519218385219574, 0.0043406239710748196, 0.2734593152999878, 0.009594481438398361, 0.2014840990304947, 0.04797240346670151, 0.5181019902229309, 0.220673069357872, 0.30559566617012024, 0.021828262135386467, 0.06548478454351425, 0.06548478454351425, 0.523878276348114, 0.021828262135386467, 0.18605317175388336, 0.09957775473594666, 0.05765027925372124, 0.1126800924539566, 0.052409347146749496, 0.12840290367603302, 0.05765027925372124, 0.06289121508598328, 0.0786140188574791, 0.09957775473594666, 0.06289121508598328, 0.0026204672176390886, 0.03175091743469238, 0.7818663120269775, 0.01587545871734619, 0.011906594038009644, 0.09525275230407715, 0.03373534977436066, 0.001984432339668274, 0.001984432339668274, 0.01984432339668274, 0.005953297019004822, 0.07835616171360016, 0.07835616171360016, 0.7443835139274597, 0.01958904042840004, 0.03917808085680008, 0.03917808085680008, 0.015440559014678001, 0.43233564496040344, 0.07720279693603516, 0.030881118029356003, 0.18528670072555542, 0.21616782248020172, 0.046321675181388855, 0.04495047777891159, 0.23268483579158783, 0.14542801678180695, 0.05288291722536087, 0.01586487516760826, 0.13485144078731537, 0.09254510700702667, 0.08990095555782318, 0.039662186056375504, 0.11105412244796753, 0.039662186056375504, 0.0026441458612680435, 0.33316919207572937, 0.0185093991458416, 0.1295657902956009, 0.0185093991458416, 0.44422557950019836, 0.0185093991458416, 0.0185093991458416, 0.23781421780586243, 0.022648973390460014, 0.03397345915436745, 0.10192038118839264, 0.05662243440747261, 0.48695293068885803, 0.04529794678092003, 0.1348368227481842, 0.03370920568704605, 0.43821969628334045, 0.03370920568704605, 0.3370920717716217, 0.363685667514801, 0.025255948305130005, 0.3232761323451996, 0.1818428337574005, 0.010102379135787487, 0.04040951654314995, 0.010102379135787487, 0.010102379135787487, 0.04040951654314995, 0.02192545495927334, 0.1973290890455246, 0.01096272747963667, 0.02192545495927334, 0.03288818150758743, 0.03288818150758743, 0.66872638463974, 0.07623284310102463, 0.02541094645857811, 0.04446915537118912, 0.3366950452327728, 0.08893831074237823, 0.2922258973121643, 0.10799652338027954, 0.019058210775256157, 0.09834998846054077, 0.06556665897369385, 0.06556665897369385, 0.06556665897369385, 0.1311333179473877, 0.19669997692108154, 0.3933999538421631, 0.4750702977180481, 0.009501405991613865, 0.11401686817407608, 0.02850421704351902, 0.0950140580534935, 0.009501405991613865, 0.04750702902674675, 0.21853233873844147, 0.02708951011300087, 0.08126853406429291, 0.10835804045200348, 0.05417902022600174, 0.4605216681957245, 0.10835804045200348, 0.05417902022600174, 0.02708951011300087, 0.05417902022600174, 0.018738489598035812, 0.4309852719306946, 0.20612339675426483, 0.2810773551464081, 0.037476979196071625, 0.4142245054244995, 0.011792868375778198, 0.06633488088846207, 0.008844651281833649, 0.12529923021793365, 0.032430388033390045, 0.011792868375778198, 0.26533952355384827, 0.011792868375778198, 0.03685271367430687, 0.011792868375778198, 0.004422325640916824, 0.057993341237306595, 0.057993341237306595, 0.028996670618653297, 0.08699001371860504, 0.028996670618653297, 0.6089301109313965, 0.11598668247461319, 0.06775657087564468, 0.2494673877954483, 0.009239532984793186, 0.061596885323524475, 0.46197664737701416, 0.030798442661762238, 0.06467673182487488, 0.012319376692175865, 0.018479065969586372, 0.006159688346087933, 0.006159688346087933, 0.009239532984793186, 0.8551715016365051, 0.009773388504981995, 0.004886694252490997, 0.03420685976743698, 0.06352702528238297, 0.004886694252490997, 0.004886694252490997, 0.024433471262454987, 0.025708766654133797, 0.035992272198200226, 0.1671069860458374, 0.18510311841964722, 0.09255155920982361, 0.030850518494844437, 0.20309925079345703, 0.1388273388147354, 0.10026419162750244, 0.005141753237694502, 0.015425259247422218, 0.002570876618847251, 0.10852932184934616, 0.18992631137371063, 0.18992631137371063, 0.46124961972236633, 0.02713233046233654, 0.05426466092467308, 0.5468167662620544, 0.0622955784201622, 0.13151288032531738, 0.03460865467786789, 0.09690423309803009, 0.006921730935573578, 0.006921730935573578, 0.07613904029130936, 0.03460865467786789, 0.1052534356713295, 0.11694826185703278, 0.08771120011806488, 0.020465945824980736, 0.05262671783566475, 0.18711721897125244, 0.1900409311056137, 0.09648231416940689, 0.07894007861614227, 0.008771119639277458, 0.029237065464258194, 0.026313358917832375, 0.15794162452220917, 0.03509813919663429, 0.21643853187561035, 0.32758262753486633, 0.08774534612894058, 0.04094782844185829, 0.029248449951410294, 0.017549069598317146, 0.08189565688371658, 0.005849689710885286, 0.09860814362764359, 0.0024050765205174685, 0.007215229794383049, 0.043291378766298294, 0.10822844505310059, 0.6638011336326599, 0.009620306082069874, 0.031265996396541595, 0.036076150834560394, 0.0024050765205174685, 0.22692210972309113, 0.02738715149462223, 0.04303695261478424, 0.02347470074892044, 0.10172370076179504, 0.07042410224676132, 0.07042410224676132, 0.0586867518723011, 0.1760602593421936, 0.10172370076179504, 0.08998635411262512, 0.007824900560081005, 0.2771783471107483, 0.07853386551141739, 0.0554356686770916, 0.0554356686770916, 0.041576750576496124, 0.06005530804395676, 0.05081602931022644, 0.07853386551141739, 0.18940520286560059, 0.041576750576496124, 0.04619638994336128, 0.0277178343385458, 0.8165692687034607, 0.1685820370912552, 0.005268188659101725, 0.04079965129494667, 0.7343937158584595, 0.16319860517978668, 0.04079965129494667, 0.020399825647473335, 0.0978095680475235, 0.14671435952186584, 0.22007152438163757, 0.4645954668521881, 0.024452392011880875, 0.04890478402376175, 0.7698441743850708, 0.19457599520683289, 0.033839304000139236, 0.30508825182914734, 0.04160294309258461, 0.060093142092227936, 0.060093142092227936, 0.0739607885479927, 0.05547059327363968, 0.009245098568499088, 0.04160294309258461, 0.29122060537338257, 0.046225495636463165, 0.01386764831840992, 0.0019033470889553428, 0.03235689923167229, 0.905041515827179, 0.05614873766899109, 0.0028550205752253532, 0.0009516735444776714, 0.01010518055409193, 0.09094662219285965, 0.030315540730953217, 0.1717880666255951, 0.02021036110818386, 0.6669418811798096, 0.008679253049194813, 0.30956003069877625, 0.028930844739079475, 0.2516983449459076, 0.22276750206947327, 0.03471701219677925, 0.09836486726999283, 0.008679253049194813, 0.02314467541873455, 0.002893084427341819, 0.011572337709367275, 0.011979508213698864, 0.32344672083854675, 0.04073032736778259, 0.4096992015838623, 0.14135819673538208, 0.007187705021351576, 0.026354918256402016, 0.009583606384694576, 0.023959016427397728, 0.004791803192347288, 0.14221742749214172, 0.8058987259864807, 0.02370290458202362, 0.02370290458202362, 0.06422849744558334, 0.17983978986740112, 0.17983978986740112, 0.07707419246435165, 0.06422849744558334, 0.025691397488117218, 0.35967957973480225, 0.03853709623217583, 0.8722065687179565, 0.12604141235351562, 0.16590052843093872, 0.7742024660110474, 0.033180106431245804, 0.011060034856200218, 0.6931918263435364, 0.1183498278260231, 0.13525694608688354, 0.016907118260860443, 0.016907118260860443, 0.016907118260860443, 0.045344725251197815, 0.032389089465141296, 0.6348261833190918, 0.2720683515071869, 0.012955635786056519, 0.24560782313346863, 0.46392589807510376, 0.16373854875564575, 0.04093463718891144, 0.013644878752529621, 0.06822439283132553, 0.0047889952547848225, 0.0047889952547848225, 0.9865330457687378, 0.14481742680072784, 0.10289659351110458, 0.049542803317308426, 0.20579318702220917, 0.04192083328962326, 0.05335379019379616, 0.09146364033222198, 0.05335379019379616, 0.16006137430667877, 0.04573182016611099, 0.022865910083055496, 0.02667689509689808, 0.1955394744873047, 0.22562246024608612, 0.06016599014401436, 0.3910789489746094, 0.06016599014401436, 0.01504149753600359, 0.045124493539333344, 0.12261366099119186, 0.1280631572008133, 0.03269697725772858, 0.08174244314432144, 0.06266920268535614, 0.054494962096214294, 0.26430055499076843, 0.054494962096214294, 0.12533840537071228, 0.01634848862886429, 0.0054494962096214294, 0.054494962096214294, 0.19340264797210693, 0.06907237321138382, 0.4558776617050171, 0.09670132398605347, 0.027628948912024498, 0.12433027476072311, 0.027628948912024498, 0.16003462672233582, 0.010866548866033554, 0.003951472230255604, 0.000987868057563901, 0.004939340054988861, 0.002963604172691703, 0.6944712400436401, 0.000987868057563901, 0.05433274433016777, 0.0642114207148552, 0.002963604172691703, 0.14124326407909393, 0.1002371534705162, 0.06834351271390915, 0.5923104882240295, 0.004556234460324049, 0.09112468361854553, 0.11888958513736725, 0.16512441635131836, 0.7067325115203857, 0.5537417531013489, 0.007135847583413124, 0.0028543390799313784, 0.03853357583284378, 0.014271695166826248, 0.09704752266407013, 0.06707696616649628, 0.21978409588336945, 0.13834679126739502, 0.06917339563369751, 0.008646674454212189, 0.05188004672527313, 0.06917339563369751, 0.13834679126739502, 0.017293348908424377, 0.11240676790475845, 0.09511341899633408, 0.3026336133480072, 0.16571110486984253, 0.1449972242116928, 0.04142777621746063, 0.020713888108730316, 0.10356944799423218, 0.06214166805148125, 0.3935638964176178, 0.04142777621746063, 0.04142777621746063, 0.9544830322265625, 0.018715353682637215, 0.013926618732511997, 0.2506791353225708, 0.027853237465023994, 0.027853237465023994, 0.05570647493004799, 0.013926618732511997, 0.027853237465023994, 0.5292115211486816, 0.041779857128858566, 0.1325104534626007, 0.12000946700572968, 0.04250335320830345, 0.09000710397958755, 0.040003154426813126, 0.1700134128332138, 0.08250650763511658, 0.05750453472137451, 0.11500906944274902, 0.05000394582748413, 0.055004339665174484, 0.047503747045993805, 0.1598435640335083, 0.014531233347952366, 0.5521868467330933, 0.13078109920024872, 0.07265616953372955, 0.08718740195035934, 0.09007260948419571, 0.045036304742097855, 0.4053267538547516, 0.022518152371048927, 0.045036304742097855, 0.14261497557163239, 0.24019363522529602, 0.12172544002532959, 0.08427146077156067, 0.01872699148952961, 0.009363495744764805, 0.06554447114467621, 0.01872699148952961, 0.009363495744764805, 0.01872699148952961, 0.6460812091827393, 0.6538136601448059, 0.09906267374753952, 0.03467193618416786, 0.10896893590688705, 0.014859400689601898, 0.04953133687376976, 0.029718801379203796, 0.004953133407980204, 0.0005595756811089814, 0.515369176864624, 0.0005595756811089814, 0.0022383027244359255, 0.11583216488361359, 0.35533055663108826, 0.0011191513622179627, 0.001678727101534605, 0.0005595756811089814, 0.0022383027244359255, 0.004476605448871851, 0.8936033248901367, 0.08377531170845032, 0.013962551951408386, 0.29023492336273193, 0.015275522135198116, 0.07637760788202286, 0.09547201544046402, 0.11074753850698471, 0.03818880394101143, 0.21767619252204895, 0.045826565474271774, 0.05346432700753212, 0.022913282737135887, 0.015275522135198116, 0.015275522135198116, 0.4932802617549896, 0.0369960181415081, 0.0739920362830162, 0.22814211249351501, 0.0369960181415081, 0.0554940290749073, 0.02466401271522045, 0.01849800907075405, 0.02466401271522045, 0.006166003178805113, 0.004623530898243189, 0.09247061610221863, 0.01387059222906828, 0.06010589748620987, 0.09247061610221863, 0.7166472673416138, 0.018494123592972755], \"Term\": [\"2018\", \"2018\", \"2018\", \"2018\", \"2018\", \"2018\", \"2019\", \"2019\", \"2019\", \"2019\", \"2019\", \"30\", \"30\", \"30\", \"30\", \"30\", \"30\", \"absolute\", \"absolute\", \"absolute\", \"absolute\", \"absolute\", \"absolute\", \"access\", \"access\", \"access\", \"access\", \"access\", \"access\", \"access\", \"access\", \"access\", \"account\", \"account\", \"account\", \"account\", \"account\", \"account\", \"account\", \"account\", \"account\", \"account\", \"activation\", \"activation\", \"activation\", \"active\", \"active\", \"active\", \"active\", \"activity\", \"activity\", \"activity\", \"activity\", \"activity\", \"activity\", \"affect\", \"affect\", \"affect\", \"affect\", \"affect\", \"affect\", \"affect\", \"affect\", \"affect\", \"ai\", \"ai\", \"ai\", \"ai\", \"ai\", \"ai\", \"ai\", \"ai\", \"aim\", \"aim\", \"aim\", \"aim\", \"aim\", \"aim\", \"aim\", \"aim\", \"aim\", \"aim\", \"aim\", \"aim\", \"algorithms\", \"algorithms\", \"algorithms\", \"algorithms\", \"algorithms\", \"amazon\", \"amazon\", \"amazon\", \"amazon\", \"amazon\", \"amazon\", \"analyst\", \"analyst\", \"analyst\", \"analyst\", \"analyst\", \"anomaly\", \"anomaly_detection\", \"apart\", \"apart\", \"apart\", \"apart\", \"apart\", \"apart\", \"apart\", \"apart\", \"api\", \"api\", \"api\", \"app\", \"app\", \"app\", \"app\", \"app\", \"app\", \"appear\", \"appear\", \"appear\", \"appear\", \"appear\", \"appear\", \"appear\", \"appear\", \"appear\", \"application\", \"application\", \"application\", \"application\", \"application\", \"application\", \"application\", \"application\", \"application\", \"application\", \"application\", \"application\", \"approach\", \"approach\", \"approach\", \"approach\", \"approach\", \"approach\", \"approach\", \"approach\", \"approach\", \"approach\", \"approach\", \"approach\", \"approximate\", \"approximate\", \"approximate\", \"approximate\", \"approximate\", \"architecture\", \"architecture\", \"architecture\", \"architecture\", \"architecture\", \"architecture\", \"architecture\", \"art\", \"art\", \"art\", \"art\", \"art\", \"art\", \"article\", \"article\", \"article\", \"article\", \"article\", \"article\", \"article\", \"article\", \"article\", \"article\", \"article\", \"article\", \"artificial\", \"artificial\", \"artificial\", \"artificial\", \"artificial\", \"artificial\", \"artificial\", \"artificial\", \"artificial\", \"artificial_intelligence\", \"artificial_intelligence\", \"artificial_intelligence\", \"artificial_intelligence\", \"artificial_intelligence\", \"artificial_intelligence\", \"artificial_intelligence\", \"artificial_intelligence\", \"assess\", \"assess\", \"assess\", \"assess\", \"assess\", \"attack\", \"attack\", \"attack\", \"attention\", \"attention\", \"attention\", \"attention\", \"attention\", \"available\", \"available\", \"available\", \"available\", \"available\", \"available\", \"available\", \"available\", \"available\", \"available\", \"available\", \"aws\", \"aws\", \"background\", \"background\", \"background\", \"background\", \"background\", \"background\", \"background\", \"background\", \"basis\", \"basis\", \"basis\", \"basis\", \"basis\", \"basis\", \"basis\", \"basis\", \"basis\", \"basis\", \"bias\", \"bias\", \"bias\", \"bias\", \"bias\", \"bias\", \"bias\", \"black\", \"black\", \"black\", \"black\", \"black\", \"block\", \"block\", \"block\", \"block\", \"block\", \"block\", \"book\", \"book\", \"book\", \"book\", \"book\", \"book\", \"book\", \"boundary\", \"boundary\", \"boundary\", \"boundary\", \"boundary\", \"boundary\", \"box\", \"box\", \"box\", \"box\", \"box\", \"box\", \"box\", \"box\", \"breach\", \"breach\", \"breach\", \"build\", \"build\", \"build\", \"build\", \"build\", \"build\", \"build\", \"build\", \"build\", \"build\", \"build\", \"business\", \"business\", \"business\", \"business\", \"business\", \"business\", \"business\", \"business\", \"business\", \"business\", \"buy\", \"buy\", \"buy\", \"buy\", \"buy\", \"buy\", \"calculate\", \"calculate\", \"calculate\", \"calculate\", \"calculate\", \"calculate\", \"calculate\", \"calculate\", \"calculate\", \"calculation\", \"calculation\", \"calculation\", \"calculation\", \"calculation\", \"calculation\", \"calculation\", \"calculation\", \"capability\", \"capability\", \"capability\", \"capability\", \"capability\", \"capability\", \"capability\", \"capability\", \"capable\", \"capable\", \"capable\", \"capable\", \"capable\", \"capable\", \"chain\", \"chain\", \"chain\", \"chain\", \"chain\", \"chain\", \"chain\", \"challenge\", \"challenge\", \"challenge\", \"challenge\", \"challenge\", \"challenge\", \"challenge\", \"challenge\", \"change\", \"change\", \"change\", \"change\", \"change\", \"change\", \"change\", \"change\", \"change\", \"change\", \"change\", \"change\", \"character\", \"character\", \"character\", \"character\", \"character\", \"class\", \"class\", \"class\", \"class\", \"class\", \"class\", \"class\", \"class\", \"class\", \"class\", \"classification\", \"classification\", \"classification\", \"classification\", \"classification\", \"classification\", \"classification\", \"classification\", \"classification\", \"classification\", \"classifier\", \"classifier\", \"classifier\", \"classifier\", \"click\", \"click\", \"click\", \"click\", \"click\", \"click\", \"click\", \"close\", \"close\", \"close\", \"close\", \"close\", \"close\", \"close\", \"close\", \"close\", \"close\", \"close\", \"close\", \"cloud\", \"cloud\", \"cloud\", \"cloud\", \"cloud\", \"cloud\", \"cloud\", \"cluster\", \"cluster\", \"cluster\", \"cluster\", \"cluster\", \"cluster\", \"cluster\", \"cluster\", \"clustering\", \"clustering\", \"clustering\", \"clustering\", \"clustering\", \"co\", \"co\", \"co\", \"co\", \"co\", \"co\", \"co\", \"code\", \"code\", \"code\", \"code\", \"code\", \"code\", \"code\", \"code\", \"code\", \"code\", \"code\", \"code\", \"collaborative\", \"collaborative_filtering\", \"collection\", \"collection\", \"collection\", \"collection\", \"collection\", \"collection\", \"collection\", \"come\", \"come\", \"come\", \"come\", \"come\", \"come\", \"come\", \"come\", \"come\", \"come\", \"come\", \"come\", \"company\", \"company\", \"company\", \"company\", \"company\", \"company\", \"company\", \"company\", \"company\", \"company\", \"company\", \"component\", \"component\", \"component\", \"component\", \"component\", \"component\", \"component\", \"component\", \"component\", \"component\", \"computer\", \"computer\", \"computer\", \"computer\", \"computer\", \"computer\", \"computer\", \"computer\", \"computer\", \"concern\", \"concern\", \"concern\", \"concern\", \"concern\", \"connection\", \"connection\", \"connection\", \"connection\", \"constraint\", \"constraint\", \"constraint\", \"constraint\", \"constraint\", \"constraint\", \"constraint\", \"constraint\", \"constraint\", \"contain\", \"contain\", \"contain\", \"contain\", \"contain\", \"contain\", \"contain\", \"contain\", \"contain\", \"contain\", \"contain\", \"contain\", \"content\", \"content\", \"content\", \"content\", \"content\", \"content\", \"content\", \"content\", \"content\", \"content\", \"content\", \"context\", \"context\", \"context\", \"context\", \"context\", \"context\", \"context\", \"context\", \"context\", \"context\", \"contribute\", \"contribute\", \"contribute\", \"contribute\", \"contribute\", \"contribute\", \"corporate\", \"corporate\", \"corporate\", \"corporate\", \"corpus\", \"corpus\", \"corpus\", \"corpus\", \"correlation\", \"correlation\", \"correlation\", \"correlation\", \"correlation\", \"cosine\", \"cosine\", \"cosine\", \"cosine_similarity\", \"cosine_similarity\", \"cosine_similarity\", \"count\", \"count\", \"count\", \"count\", \"count\", \"count\", \"count\", \"course\", \"course\", \"course\", \"course\", \"course\", \"course\", \"course\", \"course\", \"course\", \"course\", \"course\", \"create\", \"create\", \"create\", \"create\", \"create\", \"create\", \"create\", \"create\", \"create\", \"create\", \"create\", \"create\", \"customer\", \"customer\", \"customer\", \"customer\", \"customer\", \"customer\", \"customer\", \"customer\", \"customer\", \"customer\", \"cyber\", \"cyber\", \"cyber\", \"cyber_security\", \"cybersecurity\", \"cybersecurity\", \"cybersecurity\", \"cybersecurity\", \"data_point\", \"data_point\", \"data_point\", \"data_point\", \"data_point\", \"data_point\", \"data_point\", \"data_science\", \"data_science\", \"data_science\", \"data_science\", \"data_science\", \"data_science\", \"data_science\", \"data_science\", \"data_scientist\", \"data_scientist\", \"data_scientist\", \"data_scientist\", \"data_scientist\", \"data_scientist\", \"data_scientist\", \"data_scientist\", \"data_scientist\", \"data_set\", \"data_set\", \"data_set\", \"data_set\", \"data_set\", \"data_set\", \"data_set\", \"dataset\", \"dataset\", \"dataset\", \"dataset\", \"dataset\", \"dataset\", \"dataset\", \"dataset\", \"dataset\", \"day\", \"day\", \"day\", \"day\", \"day\", \"day\", \"day\", \"day\", \"day\", \"day\", \"day\", \"day\", \"decision\", \"decision\", \"decision\", \"decision\", \"decision\", \"decision\", \"decision\", \"decision\", \"deep\", \"deep\", \"deep\", \"deep\", \"deep\", \"deep\", \"deep\", \"deep\", \"deep\", \"deep\", \"deep\", \"deep\", \"deep_learning\", \"deep_learning\", \"deep_learning\", \"deep_learning\", \"deep_learning\", \"deep_learning\", \"deep_learning\", \"deep_learning\", \"deep_learning\", \"define\", \"define\", \"define\", \"define\", \"define\", \"define\", \"define\", \"define\", \"define\", \"define\", \"define\", \"define\", \"degree\", \"degree\", \"degree\", \"degree\", \"degree\", \"degree\", \"degree\", \"dependency\", \"dependency\", \"dependency\", \"dependency\", \"dependency\", \"dependency\", \"design\", \"design\", \"design\", \"design\", \"design\", \"design\", \"design\", \"design\", \"design\", \"design\", \"detect\", \"detect\", \"detect\", \"detect\", \"detect\", \"detect\", \"detect\", \"detection\", \"detection\", \"detection\", \"detection\", \"detection\", \"detection\", \"development\", \"development\", \"development\", \"development\", \"development\", \"deviation\", \"deviation\", \"deviation\", \"deviation\", \"device\", \"device\", \"device\", \"device\", \"device\", \"dictionary\", \"dictionary\", \"dictionary\", \"dictionary\", \"differ\", \"differ\", \"differ\", \"differ\", \"differ\", \"differ\", \"differ\", \"differ\", \"difference\", \"difference\", \"difference\", \"difference\", \"difference\", \"difference\", \"difference\", \"difference\", \"difference\", \"difference\", \"difference\", \"difference\", \"digital\", \"digital\", \"digital\", \"digital\", \"digital\", \"digital\", \"digital\", \"dimension\", \"dimension\", \"dimension\", \"dimension\", \"dimension\", \"dimension\", \"dimensional\", \"dimensional\", \"dimensional\", \"dimensional\", \"dimensional\", \"dimensional\", \"dimensional\", \"dimensional\", \"dimensional_space\", \"dimensional_space\", \"dimensional_space\", \"dimensional_space\", \"dimensionality\", \"dimensionality\", \"dimensionality\", \"dimensionality\", \"dimensionality\", \"dimensionality\", \"dimensionality\", \"direction\", \"direction\", \"direction\", \"direction\", \"direction\", \"direction\", \"direction\", \"distance\", \"distance\", \"distance\", \"distance\", \"distribute\", \"distribute\", \"distribute\", \"distribute\", \"distribute\", \"distribute\", \"distribute\", \"distribute\", \"distribution\", \"distribution\", \"distribution\", \"distribution\", \"distribution\", \"distribution\", \"distribution\", \"document\", \"document\", \"document\", \"document\", \"document\", \"document\", \"document\", \"document\", \"document\", \"draw\", \"draw\", \"draw\", \"draw\", \"draw\", \"draw\", \"draw\", \"draw\", \"drive\", \"drive\", \"drive\", \"drive\", \"drive\", \"drive\", \"drive\", \"drive\", \"drive\", \"e.g.\", \"e.g.\", \"e.g.\", \"e.g.\", \"e.g.\", \"e.g.\", \"e.g.\", \"e.g.\", \"e.g.\", \"e.g.\", \"edge\", \"edge\", \"edge\", \"edge\", \"edge\", \"edge\", \"edge\", \"edge\", \"edge\", \"edge\", \"effect\", \"effect\", \"effect\", \"effect\", \"effect\", \"effect\", \"effect\", \"effect\", \"email\", \"email\", \"email\", \"email\", \"email\", \"email\", \"email\", \"email\", \"email\", \"embed\", \"embed\", \"embed\", \"embed\", \"embed\", \"embed\", \"embedding\", \"embedding\", \"embedding\", \"embedding\", \"embedding\", \"embedding\", \"embedding\", \"encode\", \"encode\", \"encode\", \"encode\", \"encoder\", \"encoder\", \"encoding\", \"encoding\", \"engine\", \"engine\", \"engine\", \"engine\", \"engine\", \"engine\", \"engine\", \"engine\", \"engine\", \"english\", \"english\", \"english\", \"english\", \"english\", \"enjoy\", \"enjoy\", \"enjoy\", \"enjoy\", \"enjoy\", \"enjoy\", \"enterprise\", \"enterprise\", \"enterprise\", \"entity\", \"entity\", \"entity\", \"entity\", \"entity\", \"entity\", \"entity\", \"entity\", \"entity\", \"entity\", \"environment\", \"environment\", \"environment\", \"environment\", \"environment\", \"environment\", \"equal\", \"equal\", \"equal\", \"equal\", \"equal\", \"equal\", \"equal\", \"equal\", \"equal\", \"equation\", \"equation\", \"equation\", \"equation\", \"equation\", \"equation\", \"establish\", \"establish\", \"establish\", \"establish\", \"establish\", \"establish\", \"estimate\", \"estimate\", \"estimate\", \"estimate\", \"estimate\", \"estimate\", \"estimate\", \"estimate\", \"estimate\", \"euclidean\", \"euclidean\", \"euclidean\", \"euclidean_distance\", \"euclidean_distance\", \"event\", \"event\", \"event\", \"event\", \"event\", \"event\", \"experience\", \"experience\", \"experience\", \"experience\", \"experience\", \"experience\", \"experience\", \"experience\", \"experiment\", \"experiment\", \"experiment\", \"experiment\", \"experiment\", \"experiment\", \"experiment\", \"experiment\", \"experiment\", \"explain\", \"explain\", \"explain\", \"explain\", \"explain\", \"explain\", \"explain\", \"explain\", \"explain\", \"explain\", \"explanation\", \"explanation\", \"explanation\", \"explanation\", \"explanation\", \"exploit\", \"exploit\", \"exploit\", \"exploit\", \"express\", \"express\", \"express\", \"express\", \"express\", \"express\", \"express\", \"express\", \"express\", \"extract\", \"extract\", \"extract\", \"extract\", \"extract\", \"extract\", \"extract\", \"extract\", \"extract\", \"extract\", \"feature\", \"feature\", \"feature\", \"feature\", \"feature\", \"feature\", \"feature\", \"feature\", \"feature\", \"feature\", \"feature\", \"feature\", \"feed\", \"feed\", \"feed\", \"feed\", \"feed\", \"feed\", \"feed\", \"feed\", \"feel\", \"feel\", \"feel\", \"feel\", \"feel\", \"feel\", \"feel\", \"feel\", \"feel\", \"file\", \"file\", \"file\", \"file\", \"file\", \"file\", \"file\", \"file\", \"filter\", \"filter\", \"filter\", \"filter\", \"filter\", \"filter\", \"filter\", \"filtering\", \"filtering\", \"financial\", \"financial\", \"financial\", \"financial\", \"financial\", \"fit\", \"fit\", \"fit\", \"fit\", \"fit\", \"fit\", \"fit\", \"fit\", \"form\", \"form\", \"form\", \"form\", \"form\", \"form\", \"form\", \"form\", \"form\", \"form\", \"form\", \"form\", \"formula\", \"formula\", \"formula\", \"formula\", \"formula\", \"forward\", \"forward\", \"forward\", \"forward\", \"forward\", \"forward\", \"forward\", \"forward\", \"framework\", \"framework\", \"framework\", \"framework\", \"framework\", \"framework\", \"framework\", \"frequency\", \"frequency\", \"frequency\", \"frequency\", \"frequency\", \"frequency\", \"friend\", \"friend\", \"friend\", \"friend\", \"function\", \"function\", \"function\", \"function\", \"function\", \"function\", \"function\", \"function\", \"function\", \"function\", \"function\", \"game\", \"game\", \"game\", \"game\", \"game\", \"game\", \"generalize\", \"generalize\", \"generalize\", \"generalize\", \"generalize\", \"generation\", \"generation\", \"generation\", \"generation\", \"generation\", \"generation\", \"generation\", \"generative\", \"generative\", \"generative\", \"generative\", \"go\", \"go\", \"go\", \"go\", \"go\", \"go\", \"go\", \"go\", \"go\", \"go\", \"go\", \"go\", \"google\", \"google\", \"google\", \"google\", \"google\", \"google\", \"google\", \"google\", \"gradient\", \"gradient\", \"gradient\", \"gradient\", \"gradient\", \"graph\", \"graph\", \"graph\", \"graph\", \"graph\", \"graph\", \"graphs\", \"graphs\", \"graphs\", \"graphs\", \"head\", \"head\", \"head\", \"head\", \"head\", \"health\", \"health\", \"health\", \"health\", \"health\", \"hidden\", \"hidden\", \"hidden\", \"hide\", \"hide\", \"hide\", \"hide\", \"high\", \"high\", \"high\", \"high\", \"high\", \"high\", \"high\", \"high\", \"high\", \"high\", \"high\", \"high\", \"history\", \"history\", \"history\", \"history\", \"history\", \"history\", \"history\", \"history\", \"history\", \"hot\", \"hot\", \"hot\", \"human\", \"human\", \"human\", \"human\", \"human\", \"human\", \"human\", \"human\", \"human\", \"human\", \"human\", \"identify\", \"identify\", \"identify\", \"identify\", \"identify\", \"identify\", \"identify\", \"identify\", \"identify\", \"identify\", \"identify\", \"identify\", \"identity\", \"identity\", \"identity\", \"identity\", \"image\", \"image\", \"image\", \"image\", \"image\", \"image\", \"image\", \"image\", \"image\", \"importance\", \"importance\", \"importance\", \"importance\", \"importance\", \"importance\", \"importance\", \"importance\", \"important\", \"important\", \"important\", \"important\", \"important\", \"important\", \"important\", \"important\", \"important\", \"important\", \"important\", \"important\", \"incident\", \"incident\", \"incident\", \"incident\", \"incident\", \"increasingly\", \"increasingly\", \"increasingly\", \"increasingly\", \"individual\", \"individual\", \"individual\", \"individual\", \"individual\", \"individual\", \"individual\", \"individual\", \"individual\", \"individual\", \"individual\", \"industry\", \"industry\", \"industry\", \"industry\", \"industry\", \"industry\", \"industry\", \"industry\", \"industry\", \"industry\", \"information\", \"information\", \"information\", \"information\", \"information\", \"information\", \"information\", \"information\", \"information\", \"information\", \"information\", \"information\", \"infrastructure\", \"infrastructure\", \"infrastructure\", \"infrastructure\", \"infrastructure\", \"infrastructure\", \"input\", \"input\", \"input\", \"input\", \"input\", \"input\", \"input\", \"input\", \"input\", \"inside\", \"inside\", \"inside\", \"inside\", \"inside\", \"inside\", \"inside\", \"inside\", \"inspire\", \"inspire\", \"inspire\", \"inspire\", \"inspire\", \"inspire\", \"inspire\", \"instance\", \"instance\", \"instance\", \"instance\", \"instance\", \"instance\", \"instance\", \"instance\", \"instance\", \"instance\", \"integrate\", \"integrate\", \"integrate\", \"integrate\", \"integrate\", \"integrate\", \"intelligence\", \"intelligence\", \"intelligence\", \"intelligence\", \"intelligence\", \"intelligence\", \"intelligence\", \"interest\", \"interest\", \"interest\", \"interest\", \"interest\", \"interest\", \"interest\", \"interest\", \"interest\", \"interesting\", \"interesting\", \"interesting\", \"interesting\", \"interesting\", \"interesting\", \"interesting\", \"interesting\", \"interesting\", \"internal\", \"internal\", \"internal\", \"internal\", \"internal\", \"internal\", \"internal\", \"internal\", \"internal\", \"interpret\", \"interpret\", \"interpret\", \"interpret\", \"interpret\", \"interpret\", \"item\", \"item\", \"item\", \"item\", \"key\", \"key\", \"key\", \"key\", \"key\", \"key\", \"key\", \"key\", \"key\", \"key\", \"key\", \"key\", \"keyword\", \"keyword\", \"keyword\", \"keyword\", \"knowledge\", \"knowledge\", \"knowledge\", \"knowledge\", \"knowledge\", \"knowledge\", \"knowledge\", \"knowledge\", \"knowledge\", \"knowledge\", \"label\", \"label\", \"label\", \"label\", \"label\", \"label\", \"label\", \"label\", \"label\", \"lack\", \"lack\", \"lack\", \"lack\", \"lack\", \"lack\", \"language\", \"language\", \"language\", \"language\", \"language\", \"language\", \"language\", \"language\", \"large\", \"large\", \"large\", \"large\", \"large\", \"large\", \"large\", \"large\", \"large\", \"large\", \"large\", \"large\", \"latent\", \"latent\", \"latent\", \"latent\", \"latent\", \"layer\", \"layer\", \"layer\", \"layer\", \"layer\", \"layer\", \"layer\", \"lda\", \"lda\", \"learn_daily\", \"learn_daily\", \"learn_daily\", \"learn_daily\", \"learn_daily\", \"learn_daily\", \"length\", \"length\", \"length\", \"length\", \"length\", \"length\", \"length\", \"length\", \"length\", \"let_look\", \"let_look\", \"let_look\", \"let_look\", \"let_look\", \"let_look\", \"let_look\", \"let_look\", \"let_look\", \"likely\", \"likely\", \"likely\", \"likely\", \"likely\", \"likely\", \"likely\", \"likely\", \"likely\", \"likely\", \"likely\", \"likely\", \"line\", \"line\", \"line\", \"line\", \"line\", \"line\", \"line\", \"line\", \"line\", \"line\", \"line\", \"line\", \"link\", \"link\", \"link\", \"link\", \"link\", \"link\", \"link\", \"link\", \"link\", \"link\", \"load\", \"load\", \"load\", \"load\", \"load\", \"load\", \"log\", \"log\", \"log\", \"log\", \"logic\", \"logic\", \"logic\", \"logic\", \"logic\", \"logic\", \"loop\", \"loop\", \"loop\", \"loop\", \"loop\", \"loss\", \"loss\", \"loss\", \"loss\", \"loss\", \"loss\", \"loss\", \"loss\", \"loss\", \"machine_learn\", \"machine_learn\", \"machine_learn\", \"machine_learn\", \"machine_learn\", \"machine_learn\", \"machine_learn\", \"machine_learn\", \"machine_learn\", \"machine_learn\", \"machine_learn_algorithm\", \"machine_learn_algorithm\", \"machine_learn_algorithm\", \"machine_learn_algorithm\", \"machine_learn_algorithm\", \"machine_learn_algorithm\", \"machine_learn_algorithm\", \"machine_learn_algorithm\", \"machine_learn_algorithm\", \"machine_learning\", \"machine_learning\", \"machine_learning\", \"machine_learning\", \"machine_learning\", \"machine_learning\", \"machine_learning\", \"machine_learning\", \"machine_learning\", \"machine_learning\", \"malicious\", \"malicious\", \"malicious\", \"malicious\", \"manage\", \"manage\", \"manage\", \"manage\", \"management\", \"management\", \"management\", \"management\", \"management\", \"market\", \"market\", \"market\", \"market\", \"market\", \"match\", \"match\", \"match\", \"match\", \"match\", \"match\", \"match\", \"match\", \"match\", \"match\", \"matrix\", \"matrix\", \"matrix\", \"matrix\", \"matrix\", \"matrix\", \"matrix\", \"matrix\", \"maximize\", \"maximize\", \"maximize\", \"maximize\", \"maximize\", \"maximum\", \"maximum\", \"maximum\", \"maximum\", \"maximum\", \"maximum\", \"maximum\", \"maximum\", \"maximum\", \"mean\", \"mean\", \"mean\", \"mean\", \"mean\", \"mean\", \"mean\", \"mean\", \"mean\", \"mean\", \"mean\", \"mean\", \"meaning\", \"meaning\", \"meaning\", \"meaning\", \"meaning\", \"meaning\", \"meaning\", \"meaning\", \"means\", \"means\", \"means\", \"means\", \"means\", \"measure\", \"measure\", \"measure\", \"measure\", \"measure\", \"measure\", \"measure\", \"measure\", \"measure\", \"measure\", \"measure\", \"measure\", \"mechanism\", \"mechanism\", \"mechanism\", \"mechanism\", \"mechanism\", \"medium\", \"medium\", \"medium\", \"medium\", \"medium\", \"medium\", \"medium\", \"medium\", \"message\", \"message\", \"message\", \"message\", \"message\", \"message\", \"metric\", \"metric\", \"metric\", \"metric\", \"metric\", \"metric\", \"metric\", \"metric\", \"metric\", \"metric\", \"metric\", \"minimum\", \"minimum\", \"minimum\", \"minimum\", \"minimum\", \"minimum\", \"ml\", \"ml\", \"ml\", \"ml\", \"ml\", \"ml\", \"ml\", \"ml\", \"ml\", \"modeling\", \"modeling\", \"modeling\", \"modeling\", \"modeling\", \"modeling\", \"modeling\", \"modeling\", \"monday\", \"monday\", \"monday\", \"monday\", \"monday\", \"monday\", \"monday\", \"monday\", \"monday_thursday\", \"monday_thursday\", \"monday_thursday\", \"monday_thursday\", \"monday_thursday\", \"monday_thursday\", \"money\", \"money\", \"money\", \"money\", \"money\", \"money\", \"monitor\", \"monitor\", \"monitor\", \"monitor\", \"monitor\", \"monitor\", \"movie\", \"movie\", \"movie\", \"movie\", \"multiply\", \"multiply\", \"multiply\", \"multiply\", \"multiply\", \"multiply\", \"name\", \"name\", \"name\", \"name\", \"name\", \"natural\", \"natural\", \"natural\", \"natural\", \"natural\", \"natural\", \"natural\", \"natural\", \"natural\", \"natural_language\", \"natural_language\", \"natural_language\", \"natural_language\", \"natural_language\", \"natural_language\", \"natural_language_processing\", \"natural_language_processing\", \"natural_language_processing\", \"natural_language_processing\", \"natural_language_processing\", \"negative\", \"negative\", \"negative\", \"negative\", \"negative\", \"negative\", \"negative\", \"negative\", \"negative\", \"negative\", \"neighbor\", \"neighbor\", \"neighbor\", \"neighbor\", \"neighbor\", \"neighbor\", \"neighbor\", \"netflix\", \"netflix\", \"netflix\", \"netflix\", \"network\", \"network\", \"network\", \"network\", \"network\", \"network\", \"network\", \"network\", \"network\", \"networks\", \"networks\", \"networks\", \"networks\", \"networks\", \"neural\", \"neural\", \"neural\", \"neural\", \"neural\", \"neural\", \"neural\", \"neural\", \"neural_network\", \"neural_network\", \"neural_network\", \"neural_network\", \"neural_network\", \"neural_network\", \"news\", \"news\", \"news\", \"news\", \"news\", \"news\", \"news\", \"news\", \"news\", \"nlp\", \"nlp\", \"nlp\", \"nlp\", \"nlp\", \"node\", \"node\", \"node\", \"node\", \"node\", \"normal\", \"normal\", \"normal\", \"normal\", \"object\", \"object\", \"object\", \"object\", \"object\", \"object\", \"object\", \"object\", \"object\", \"object\", \"object\", \"object\", \"open_source\", \"open_source\", \"open_source\", \"open_source\", \"open_source\", \"opportunity\", \"opportunity\", \"opportunity\", \"opportunity\", \"opportunity\", \"opportunity\", \"opportunity\", \"optimal\", \"optimal\", \"optimal\", \"optimal\", \"optimal\", \"optimize\", \"optimize\", \"optimize\", \"optimize\", \"optimize\", \"optimize\", \"optimize\", \"optimize\", \"optimize\", \"order\", \"order\", \"order\", \"order\", \"order\", \"order\", \"order\", \"order\", \"order\", \"order\", \"order\", \"order\", \"organization\", \"organization\", \"organization\", \"organization\", \"organization\", \"organization\", \"organization\", \"original\", \"original\", \"original\", \"original\", \"original\", \"original\", \"original\", \"original\", \"original\", \"original\", \"output\", \"output\", \"output\", \"output\", \"output\", \"output\", \"output\", \"output\", \"output\", \"outside\", \"outside\", \"outside\", \"outside\", \"outside\", \"outside\", \"page\", \"page\", \"page\", \"page\", \"page\", \"page\", \"page\", \"page\", \"pair\", \"pair\", \"pair\", \"pair\", \"pair\", \"pair\", \"paper\", \"paper\", \"paper\", \"paper\", \"paper\", \"paper\", \"paper\", \"paper\", \"paper\", \"paper\", \"parameter\", \"parameter\", \"parameter\", \"parameter\", \"parameter\", \"parameter\", \"parameter\", \"parameter\", \"parameter\", \"parameter\", \"parameter\", \"pattern\", \"pattern\", \"pattern\", \"pattern\", \"pattern\", \"pattern\", \"pattern\", \"pattern\", \"pattern\", \"pattern\", \"pattern\", \"people\", \"people\", \"people\", \"people\", \"people\", \"people\", \"people\", \"people\", \"people\", \"people\", \"people\", \"people\", \"perform\", \"perform\", \"perform\", \"perform\", \"perform\", \"perform\", \"perform\", \"perform\", \"perform\", \"perform\", \"perform\", \"perform\", \"phrase\", \"phrase\", \"phrase\", \"phrase\", \"phrase\", \"phrase\", \"phrase\", \"plot\", \"plot\", \"plot\", \"plot\", \"plot\", \"plot\", \"plot\", \"plot\", \"plot\", \"point\", \"point\", \"point\", \"point\", \"point\", \"point\", \"point\", \"point\", \"point\", \"point\", \"point\", \"point\", \"policy\", \"policy\", \"policy\", \"policy\", \"policy\", \"policy\", \"pool\", \"pool\", \"pool\", \"pool\", \"pool\", \"pool\", \"pool\", \"population\", \"population\", \"population\", \"position\", \"position\", \"position\", \"position\", \"position\", \"position\", \"position\", \"position\", \"position\", \"practice\", \"practice\", \"practice\", \"practice\", \"practice\", \"practice\", \"practice\", \"practice\", \"practice\", \"practice\", \"practice\", \"pre\", \"pre\", \"pre\", \"pre\", \"pre\", \"pre\", \"pre\", \"pre\", \"pre\", \"pre\", \"predict\", \"predict\", \"predict\", \"predict\", \"predict\", \"predict\", \"predict\", \"predict\", \"prediction\", \"prediction\", \"prediction\", \"prediction\", \"prediction\", \"prediction\", \"prediction\", \"prediction\", \"predictive\", \"predictive\", \"predictive\", \"predictive\", \"predictive\", \"predictive\", \"predictive\", \"prefer\", \"prefer\", \"prefer\", \"prefer\", \"prefer\", \"prefer\", \"prefer\", \"prepare\", \"prepare\", \"prepare\", \"prepare\", \"prepare\", \"prepare\", \"prepare\", \"prepare\", \"pretty\", \"pretty\", \"pretty\", \"pretty\", \"pretty\", \"pretty\", \"pretty\", \"probabilistic\", \"probabilistic\", \"probabilistic\", \"probabilistic\", \"probabilistic\", \"probabilistic\", \"probability\", \"probability\", \"probability\", \"probability\", \"probability\", \"probability\", \"processing\", \"processing\", \"processing\", \"processing\", \"processing\", \"processing\", \"processing\", \"product\", \"product\", \"product\", \"product\", \"product\", \"product\", \"product\", \"product\", \"product\", \"product\", \"product\", \"product\", \"professional\", \"professional\", \"professional\", \"professional\", \"professional\", \"profile\", \"profile\", \"profile\", \"profile\", \"profile\", \"propose\", \"propose\", \"propose\", \"propose\", \"propose\", \"propose\", \"propose\", \"provider\", \"provider\", \"provider\", \"provider\", \"publish\", \"publish\", \"publish\", \"publish\", \"publish\", \"publish\", \"publish\", \"publish\", \"publish\", \"python\", \"python\", \"python\", \"python\", \"python\", \"python\", \"python\", \"python\", \"python\", \"python\", \"question\", \"question\", \"question\", \"question\", \"question\", \"question\", \"question\", \"question\", \"question\", \"question\", \"question\", \"question\", \"random\", \"random\", \"random\", \"random\", \"random\", \"random\", \"random\", \"rank\", \"rank\", \"rank\", \"rank\", \"rank\", \"rank\", \"rate\", \"rate\", \"rate\", \"rate\", \"rate\", \"rate\", \"rate\", \"rate\", \"rating\", \"reader\", \"reader\", \"reader\", \"reader\", \"reader\", \"reader\", \"reader\", \"real\", \"real\", \"real\", \"real\", \"real\", \"real\", \"real\", \"real\", \"real\", \"real\", \"real\", \"real\", \"real_time\", \"real_time\", \"real_time\", \"recall\", \"recall\", \"recall\", \"recall\", \"recall\", \"recall\", \"receive\", \"receive\", \"receive\", \"receive\", \"receive\", \"receive\", \"receive\", \"receive\", \"receive\", \"receive\", \"recommend\", \"recommend\", \"recommend\", \"recommend\", \"recommend\", \"recommend\", \"recommend\", \"recommend\", \"recommend\", \"recommendation\", \"recommendation\", \"recommendation\", \"recommendation_system\", \"recommender\", \"recommender\", \"recommender\", \"record\", \"record\", \"record\", \"record\", \"record\", \"reduction\", \"reduction\", \"reduction\", \"reduction\", \"reduction\", \"reduction\", \"reduction\", \"relation\", \"relation\", \"relation\", \"relation\", \"relation\", \"relation\", \"relationship\", \"relationship\", \"relationship\", \"relationship\", \"relationship\", \"relationship\", \"relationship\", \"relationship\", \"relationship\", \"release\", \"release\", \"release\", \"release\", \"release\", \"release\", \"release\", \"release\", \"remove\", \"remove\", \"remove\", \"remove\", \"remove\", \"remove\", \"remove\", \"remove\", \"remove\", \"remove\", \"represent\", \"represent\", \"represent\", \"represent\", \"represent\", \"represent\", \"represent\", \"represent\", \"represent\", \"represent\", \"represent\", \"representation\", \"representation\", \"representation\", \"representation\", \"representation\", \"representation\", \"representation\", \"representation\", \"representation\", \"representation\", \"request\", \"request\", \"request\", \"request\", \"request\", \"request\", \"request\", \"request\", \"requirement\", \"requirement\", \"requirement\", \"requirement\", \"requirement\", \"requirement\", \"requirement\", \"research\", \"research\", \"research\", \"research\", \"research\", \"research\", \"research\", \"research\", \"research\", \"research\", \"research\", \"research\", \"research_tutorial\", \"research_tutorial\", \"research_tutorial\", \"research_tutorial\", \"research_tutorial\", \"research_tutorial\", \"researcher\", \"researcher\", \"researcher\", \"researcher\", \"researcher\", \"respectively\", \"respectively\", \"respectively\", \"respectively\", \"respectively\", \"respectively\", \"response\", \"response\", \"response\", \"right\", \"right\", \"right\", \"right\", \"right\", \"right\", \"right\", \"right\", \"right\", \"right\", \"right\", \"right\", \"risk\", \"risk\", \"risk\", \"risk\", \"risk\", \"risk\", \"risk\", \"ritual_look\", \"ritual_look\", \"ritual_look\", \"ritual_look\", \"ritual_look\", \"ritual_look\", \"rnn\", \"rnn\", \"rnn\", \"sample\", \"sample\", \"sample\", \"sample\", \"sample\", \"sample\", \"sample\", \"sample\", \"sample\", \"sample\", \"sample\", \"scientist\", \"scientist\", \"scientist\", \"scientist\", \"scientist\", \"scientist\", \"scientist\", \"scientist\", \"scientist\", \"score\", \"score\", \"score\", \"score\", \"score\", \"score\", \"score\", \"score\", \"score\", \"score\", \"search\", \"search\", \"search\", \"search\", \"search\", \"search\", \"search\", \"search\", \"search\", \"search\", \"search_engine\", \"search_engine\", \"search_engine\", \"search_engine\", \"security\", \"security\", \"security\", \"security\", \"security\", \"select\", \"select\", \"select\", \"select\", \"select\", \"select\", \"select\", \"select\", \"select\", \"selection\", \"selection\", \"selection\", \"selection\", \"selection\", \"semantic\", \"semantic\", \"semantic\", \"semantic\", \"semantic\", \"semantic\", \"sentence\", \"sentence\", \"sentence\", \"sequence\", \"sequence\", \"sequence\", \"sequence\", \"series\", \"series\", \"series\", \"series\", \"series\", \"series\", \"series\", \"series\", \"series\", \"server\", \"server\", \"server\", \"server\", \"server\", \"server\", \"service\", \"service\", \"service\", \"service\", \"service\", \"service\", \"service\", \"service\", \"service\", \"shape\", \"shape\", \"shape\", \"shape\", \"shape\", \"shape\", \"shape\", \"sign\", \"sign\", \"sign\", \"sign\", \"sign\", \"sign\", \"sign\", \"significantly\", \"significantly\", \"significantly\", \"significantly\", \"significantly\", \"significantly\", \"significantly\", \"significantly\", \"similar\", \"similar\", \"similar\", \"similar\", \"similar\", \"similar\", \"similar\", \"similar\", \"similar\", \"similar\", \"similar\", \"similar\", \"similarity\", \"similarity\", \"similarity\", \"similarity\", \"similarity\", \"similarity\", \"similarity\", \"site\", \"site\", \"site\", \"site\", \"site\", \"situation\", \"situation\", \"situation\", \"situation\", \"situation\", \"situation\", \"situation\", \"situation\", \"size\", \"size\", \"size\", \"size\", \"size\", \"size\", \"size\", \"size\", \"size\", \"size\", \"size\", \"skill\", \"skill\", \"skill\", \"skill\", \"skill\", \"skill\", \"skill\", \"skip\", \"skip\", \"skip\", \"skip\", \"software\", \"software\", \"software\", \"software\", \"software\", \"software\", \"solution\", \"solution\", \"solution\", \"solution\", \"solution\", \"solution\", \"solution\", \"solution\", \"solution\", \"solution\", \"solution\", \"source\", \"source\", \"source\", \"source\", \"source\", \"source\", \"source\", \"source\", \"source\", \"source\", \"source\", \"source\", \"space\", \"space\", \"space\", \"space\", \"space\", \"space\", \"space\", \"space\", \"space\", \"space\", \"space\", \"speech\", \"speech\", \"speech\", \"speech\", \"speech\", \"spread\", \"spread\", \"spread\", \"spread\", \"spread\", \"spread\", \"start\", \"start\", \"start\", \"start\", \"start\", \"start\", \"start\", \"start\", \"start\", \"start\", \"start\", \"start\", \"state\", \"state\", \"state\", \"state\", \"state\", \"state\", \"state\", \"state\", \"state\", \"state\", \"state_art\", \"state_art\", \"state_art\", \"state_art\", \"state_art\", \"state_art\", \"statistical\", \"statistical\", \"statistical\", \"statistical\", \"statistical\", \"statistical\", \"statistical\", \"step\", \"step\", \"step\", \"step\", \"step\", \"step\", \"step\", \"step\", \"step\", \"step\", \"step\", \"step\", \"stop\", \"stop\", \"stop\", \"stop\", \"stop\", \"stop\", \"stop\", \"story\", \"story\", \"story\", \"story\", \"story\", \"story\", \"story\", \"straight\", \"straight\", \"straight\", \"straight\", \"straight\", \"strategy\", \"strategy\", \"strategy\", \"strategy\", \"strategy\", \"strategy\", \"strategy\", \"strategy\", \"strategy\", \"string\", \"string\", \"string\", \"string\", \"string\", \"string\", \"string\", \"structure\", \"structure\", \"structure\", \"structure\", \"structure\", \"structure\", \"structure\", \"structure\", \"stuff\", \"stuff\", \"stuff\", \"stuff\", \"stuff\", \"stuff\", \"stuff\", \"sum\", \"sum\", \"sum\", \"sum\", \"sum\", \"sum\", \"sum\", \"sum\", \"summary\", \"summary\", \"summary\", \"summary\", \"summary\", \"summary\", \"summary\", \"summary\", \"summary\", \"supervised\", \"supervised\", \"supervised\", \"supervised\", \"supervised\", \"system\", \"system\", \"system\", \"system\", \"system\", \"system\", \"system\", \"system\", \"system\", \"system\", \"system\", \"system\", \"systems\", \"systems\", \"systems\", \"systems\", \"systems\", \"systems\", \"systems\", \"task\", \"task\", \"task\", \"task\", \"task\", \"task\", \"task\", \"task\", \"task\", \"task\", \"task\", \"task\", \"team\", \"team\", \"team\", \"team\", \"team\", \"team\", \"team\", \"team\", \"technique\", \"technique\", \"technique\", \"technique\", \"technique\", \"technique\", \"technique\", \"technique\", \"technique\", \"technique\", \"technique\", \"technique\", \"technique_deliver\", \"technique_deliver\", \"technique_deliver\", \"technique_deliver\", \"technique_deliver\", \"technique_deliver\", \"technology\", \"technology\", \"technology\", \"technology\", \"technology\", \"technology\", \"technology\", \"technology\", \"technology\", \"term\", \"term\", \"term\", \"term\", \"term\", \"term\", \"term\", \"term\", \"term\", \"term\", \"term\", \"term\", \"test\", \"test\", \"test\", \"test\", \"test\", \"test\", \"test\", \"test\", \"test\", \"test\", \"text\", \"text\", \"text\", \"text\", \"text\", \"text\", \"text\", \"text\", \"text\", \"text\", \"thing\", \"thing\", \"thing\", \"thing\", \"thing\", \"thing\", \"thing\", \"thing\", \"thing\", \"thing\", \"thing\", \"thing\", \"think\", \"think\", \"think\", \"think\", \"think\", \"think\", \"think\", \"think\", \"think\", \"think\", \"think\", \"think\", \"threat\", \"threat\", \"threat\", \"threshold\", \"threshold\", \"threshold\", \"threshold\", \"threshold\", \"thursday\", \"thursday\", \"thursday\", \"thursday\", \"thursday\", \"thursday\", \"token\", \"token\", \"token\", \"tool\", \"tool\", \"tool\", \"tool\", \"tool\", \"tool\", \"tool\", \"tool\", \"tool\", \"tool\", \"tool\", \"topic\", \"topic\", \"topic\", \"topic\", \"topic\", \"topic\", \"traffic\", \"traffic\", \"traffic\", \"traffic\", \"traffic\", \"traffic\", \"train\", \"train\", \"train\", \"train\", \"train\", \"train\", \"train\", \"train\", \"train\", \"train\", \"train\", \"training\", \"training\", \"training\", \"training\", \"training\", \"training\", \"training\", \"training\", \"training\", \"training\", \"transfer\", \"transfer\", \"transfer\", \"transfer\", \"transform\", \"transform\", \"transform\", \"transform\", \"transform\", \"transform\", \"transform\", \"transform\", \"transformer\", \"transformer\", \"transition\", \"transition\", \"transition\", \"transition\", \"translation\", \"translation\", \"translation\", \"translation\", \"translation\", \"translation\", \"tree\", \"tree\", \"tree\", \"tree\", \"tree\", \"trend\", \"trend\", \"trend\", \"trend\", \"trend\", \"trend\", \"trust\", \"trust\", \"trust\", \"try\", \"try\", \"try\", \"try\", \"try\", \"try\", \"try\", \"try\", \"try\", \"try\", \"try\", \"try\", \"twitter\", \"twitter\", \"twitter\", \"twitter\", \"twitter\", \"twitter\", \"twitter\", \"understand\", \"understand\", \"understand\", \"understand\", \"understand\", \"understand\", \"understand\", \"understand\", \"understand\", \"understand\", \"understand\", \"understand\", \"unsupervise\", \"unsupervise\", \"unsupervise\", \"unsupervise\", \"unsupervise\", \"unsupervise\", \"unsupervise\", \"user\", \"user\", \"user\", \"user\", \"user\", \"user\", \"user\", \"user\", \"user\", \"user\", \"user\", \"variable\", \"variable\", \"variable\", \"variable\", \"variable\", \"variable\", \"variance\", \"variance\", \"variance\", \"vector\", \"vector\", \"vector\", \"vector\", \"vector\", \"vector\", \"vector\", \"vector\", \"view\", \"view\", \"view\", \"view\", \"view\", \"view\", \"view\", \"view\", \"view\", \"view\", \"visit\", \"visit\", \"visit\", \"visit\", \"visit\", \"visit\", \"visit\", \"visit\", \"visit\", \"vulnerability\", \"vulnerability\", \"walk\", \"walk\", \"walk\", \"walk\", \"walk\", \"walk\", \"walk\", \"walk\", \"walk\", \"want\", \"want\", \"want\", \"want\", \"want\", \"want\", \"want\", \"want\", \"want\", \"want\", \"want\", \"want\", \"watch\", \"watch\", \"watch\", \"watch\", \"watch\", \"watch\", \"web\", \"web\", \"web\", \"web\", \"web\", \"web\", \"web\", \"website\", \"website\", \"website\", \"website\", \"website\", \"website\", \"website\", \"website\", \"website\", \"weight\", \"weight\", \"weight\", \"weight\", \"weight\", \"weight\", \"weight\", \"weight\", \"word\", \"word\", \"word\", \"word\", \"word\", \"word\", \"word\", \"word\", \"word\", \"word\", \"word\", \"word_embedding\", \"word_embedding\", \"word_embedding\", \"world\", \"world\", \"world\", \"world\", \"world\", \"world\", \"world\", \"world\", \"world\", \"world\", \"world\", \"world\", \"year\", \"year\", \"year\", \"year\", \"year\", \"year\", \"year\", \"year\", \"year\", \"year\", \"zero\", \"zero\", \"zero\", \"zero\", \"zero\", \"zero\", \"zero\"]}, \"R\": 30, \"lambda.step\": 0.01, \"plot.opts\": {\"xlab\": \"PC1\", \"ylab\": \"PC2\"}, \"topic.order\": [9, 5, 8, 11, 4, 12, 2, 6, 1, 3, 10, 7]};\n",
       "\n",
       "function LDAvis_load_lib(url, callback){\n",
       "  var s = document.createElement('script');\n",
       "  s.src = url;\n",
       "  s.async = true;\n",
       "  s.onreadystatechange = s.onload = callback;\n",
       "  s.onerror = function(){console.warn(\"failed to load library \" + url);};\n",
       "  document.getElementsByTagName(\"head\")[0].appendChild(s);\n",
       "}\n",
       "\n",
       "if(typeof(LDAvis) !== \"undefined\"){\n",
       "   // already loaded: just create the visualization\n",
       "   !function(LDAvis){\n",
       "       new LDAvis(\"#\" + \"ldavis_el804581129314494243239568290\", ldavis_el804581129314494243239568290_data);\n",
       "   }(LDAvis);\n",
       "}else if(typeof define === \"function\" && define.amd){\n",
       "   // require.js is available: use it to load d3/LDAvis\n",
       "   require.config({paths: {d3: \"https://cdnjs.cloudflare.com/ajax/libs/d3/3.5.5/d3.min\"}});\n",
       "   require([\"d3\"], function(d3){\n",
       "      window.d3 = d3;\n",
       "      LDAvis_load_lib(\"https://cdn.rawgit.com/bmabey/pyLDAvis/files/ldavis.v1.0.0.js\", function(){\n",
       "        new LDAvis(\"#\" + \"ldavis_el804581129314494243239568290\", ldavis_el804581129314494243239568290_data);\n",
       "      });\n",
       "    });\n",
       "}else{\n",
       "    // require.js not available: dynamically load d3 & LDAvis\n",
       "    LDAvis_load_lib(\"https://cdnjs.cloudflare.com/ajax/libs/d3/3.5.5/d3.min.js\", function(){\n",
       "         LDAvis_load_lib(\"https://cdn.rawgit.com/bmabey/pyLDAvis/files/ldavis.v1.0.0.js\", function(){\n",
       "                 new LDAvis(\"#\" + \"ldavis_el804581129314494243239568290\", ldavis_el804581129314494243239568290_data);\n",
       "            })\n",
       "         });\n",
       "}\n",
       "</script>"
      ],
      "text/plain": [
       "PreparedData(topic_coordinates=              x         y  topics  cluster       Freq\n",
       "topic                                                \n",
       "8      0.172599 -0.040598       1        1  14.892385\n",
       "4     -0.116429  0.118490       2        1  13.027464\n",
       "7      0.004391  0.006423       3        1   9.401586\n",
       "10    -0.049054  0.053476       4        1   9.158487\n",
       "3      0.059102  0.095836       5        1   9.130172\n",
       "11    -0.069315  0.055502       6        1   8.303391\n",
       "1     -0.067119  0.138797       7        1   7.792655\n",
       "5     -0.056664 -0.111593       8        1   6.992787\n",
       "0     -0.029537 -0.012239       9        1   5.944111\n",
       "2      0.198382 -0.051340      10        1   5.924657\n",
       "9      0.142746 -0.040378      11        1   5.635633\n",
       "6     -0.189102 -0.212377      12        1   3.796666, topic_info=          Term         Freq        Total Category  logprob  loglift\n",
       "596      topic  1050.000000  1050.000000  Default  30.0000  30.0000\n",
       "230       word  1787.000000  1787.000000  Default  29.0000  29.0000\n",
       "135   distance   543.000000   543.000000  Default  28.0000  28.0000\n",
       "222       user  1012.000000  1012.000000  Default  27.0000  27.0000\n",
       "602   security   722.000000   722.000000  Default  26.0000  26.0000\n",
       "..         ...          ...          ...      ...      ...      ...\n",
       "503      order    28.484852   290.214722  Topic12  -5.0950   0.9498\n",
       "22      define    25.376997   199.031708  Topic12  -5.2105   1.2114\n",
       "191  represent    25.275665   343.609100  Topic12  -5.2145   0.6614\n",
       "136   document    25.391623   531.636597  Topic12  -5.2100   0.2295\n",
       "150  important    23.186316   331.152740  Topic12  -5.3008   0.6120\n",
       "\n",
       "[589 rows x 6 columns], token_table=      Topic      Freq  Term\n",
       "term                       \n",
       "895       1  0.077925  2018\n",
       "895       4  0.058443  2018\n",
       "895       5  0.506510  2018\n",
       "895       7  0.019481  2018\n",
       "895      10  0.272736  2018\n",
       "...     ...       ...   ...\n",
       "599       4  0.013871  zero\n",
       "599       6  0.060106  zero\n",
       "599       9  0.092471  zero\n",
       "599      11  0.716647  zero\n",
       "599      12  0.018494  zero\n",
       "\n",
       "[3258 rows x 3 columns], R=30, lambda_step=0.01, plot_opts={'xlab': 'PC1', 'ylab': 'PC2'}, topic_order=[9, 5, 8, 11, 4, 12, 2, 6, 1, 3, 10, 7])"
      ]
     },
     "execution_count": 83,
     "metadata": {},
     "output_type": "execute_result"
    }
   ],
   "source": [
    "# Visualize the topics\n",
    "pyLDAvis.enable_notebook()\n",
    "vis = pyLDAvis.gensim.prepare(lda, corpus, dictionary)\n",
    "vis"
   ]
  },
  {
   "cell_type": "code",
   "execution_count": 84,
   "metadata": {},
   "outputs": [],
   "source": [
    "pyLDAvis.save_html(vis, './app/assets/lda.html')"
   ]
  },
  {
   "cell_type": "code",
   "execution_count": 85,
   "metadata": {},
   "outputs": [
    {
     "data": {
      "application/vnd.plotly.v1+json": {
       "config": {
        "plotlyServerURL": "https://plot.ly"
       },
       "data": [
        {
         "customdata": [
          [
           "ml; matrix; aws; dimension; variance; cluster; question; machine_learning; point; service"
          ],
          [
           "ml; matrix; aws; dimension; variance; cluster; question; machine_learning; point; service"
          ],
          [
           "ml; matrix; aws; dimension; variance; cluster; question; machine_learning; point; service"
          ],
          [
           "ml; matrix; aws; dimension; variance; cluster; question; machine_learning; point; service"
          ],
          [
           "ml; matrix; aws; dimension; variance; cluster; question; machine_learning; point; service"
          ],
          [
           "ml; matrix; aws; dimension; variance; cluster; question; machine_learning; point; service"
          ],
          [
           "ml; matrix; aws; dimension; variance; cluster; question; machine_learning; point; service"
          ],
          [
           "ml; matrix; aws; dimension; variance; cluster; question; machine_learning; point; service"
          ],
          [
           "ml; matrix; aws; dimension; variance; cluster; question; machine_learning; point; service"
          ],
          [
           "ml; matrix; aws; dimension; variance; cluster; question; machine_learning; point; service"
          ],
          [
           "ml; matrix; aws; dimension; variance; cluster; question; machine_learning; point; service"
          ],
          [
           "ml; matrix; aws; dimension; variance; cluster; question; machine_learning; point; service"
          ],
          [
           "ml; matrix; aws; dimension; variance; cluster; question; machine_learning; point; service"
          ],
          [
           "ml; matrix; aws; dimension; variance; cluster; question; machine_learning; point; service"
          ],
          [
           "ml; matrix; aws; dimension; variance; cluster; question; machine_learning; point; service"
          ],
          [
           "ml; matrix; aws; dimension; variance; cluster; question; machine_learning; point; service"
          ],
          [
           "ml; matrix; aws; dimension; variance; cluster; question; machine_learning; point; service"
          ],
          [
           "ml; matrix; aws; dimension; variance; cluster; question; machine_learning; point; service"
          ],
          [
           "ml; matrix; aws; dimension; variance; cluster; question; machine_learning; point; service"
          ],
          [
           "ml; matrix; aws; dimension; variance; cluster; question; machine_learning; point; service"
          ],
          [
           "ml; matrix; aws; dimension; variance; cluster; question; machine_learning; point; service"
          ],
          [
           "ml; matrix; aws; dimension; variance; cluster; question; machine_learning; point; service"
          ],
          [
           "ml; matrix; aws; dimension; variance; cluster; question; machine_learning; point; service"
          ],
          [
           "ml; matrix; aws; dimension; variance; cluster; question; machine_learning; point; service"
          ]
         ],
         "hovertemplate": "<b>%{hovertext}</b><br><br>color=Topic: 0<br>x=%{x}<br>y=%{y}<br>topic_txt=%{customdata[0]}<extra></extra>",
         "hovertext": [
          "A Beginners Guide to Unsupervised Learning | by Mathanraj Sharma | Analytics Vidhya | Medium",
          "Machine Learning for Humans, Part 3: Unsupervised Learning | by Vishal Maini | Machine Learning for Humans | Medium",
          "Principal Component Analysis. This article is divided into two… | by Mahesh Kumar 👾 | maheshkkumar | Medium",
          "How I Prepared For The AWS Certified Machine Learning Exam (July 2020) | by ___ | Towards AI — Multidisciplinary Science Journal | Medium",
          "Dimensionality reduction and visualization using PCA(Principal Component Analysis) | by Ashwin Singh | Medium",
          "Principal component analysis (PCA): Explained and implemented | by Raghavan | Medium",
          "My Path to Passing the AWS Machine Learning Certification | by Adam DeJans | Medium",
          "5 steps to AWS Machine Learning Specialty Certification, Made Easy | by Daniel S. Flamarich | xplore.ai | Medium",
          "Unsupervised Machine Learning. In case you have not read the basis of… | by Harinath Selvaraj | coding&stuff | Medium",
          "Understanding Principal Components Analysis(PCA) | by Chathurangi Shyalika | Data Driven Investor | Medium",
          "Real-time Anomaly Detection in VPC Flow Logs, Part 1: Introduction | by Igor Kantor | Medium",
          "AWS Machine Learning Speciality Certification in a month | by Dipika Baad | Towards Data Science",
          "Light Final Process. I updated my progress in this google… | by Danqi Qian | 2020 Spring | Light and Interactivity | Medium",
          "Guide to Unsupervised Machine Learning | by Volodymyr Bilyk | Medium",
          "Cheat Sheet for AWS ML Specialty Certification | by Madikanti | The Startup | Aug, 2020 | Medium",
          "PCA: Principal Component Analysis | by Kadir Yasar | Medium",
          "The Google ‘vs’ Trick. How ego graphs can help you learn about… | by David Foster | Applied Data Science | Medium",
          "Understanding Principal Component Analysis | by Rishav Kumar | Medium",
          "How I got AWS Machine Learning Certified | by Paulthi Victor | WomeninAI | Medium",
          "AWS Machine Learning Certification Exam Tips | by Javier Ramos | Medium",
          "My Experience-AWS Machine Learning Certification Specialty Beta | by Manas Narkar | Medium",
          "Principal Component Analysis(PCA) — Dive deep | by Sanjay Ulsha | Analytics Vidhya | Medium",
          "Responses – Harris Brakmic – Medium",
          "Machine Learning (including Deep Learning and Reinforcement Learning) for Engineers — A Technical Primer (Part 2) | by Arun Rao | Medium"
         ],
         "legendgroup": "Topic: 0",
         "marker": {
          "color": "#FD3216",
          "symbol": "circle"
         },
         "mode": "markers",
         "name": "Topic: 0",
         "orientation": "v",
         "showlegend": true,
         "type": "scatter",
         "x": [
          3.1321258544921875,
          3.8652915954589844,
          4.06408166885376,
          3.6104369163513184,
          3.292867422103882,
          2.829678535461426,
          3.4180490970611572,
          2.9304938316345215,
          3.320368528366089,
          3.087611198425293,
          0.2710213363170624,
          3.94052791595459,
          1.1254655122756958,
          1.962110161781311,
          0.4371525049209595,
          2.991201639175415,
          1.0452587604522705,
          4.056516170501709,
          3.5986618995666504,
          3.9956846237182617,
          3.6373167037963867,
          4.054210186004639,
          -0.7031720280647278,
          0.6197216510772705
         ],
         "xaxis": "x",
         "y": [
          1.8529130220413208,
          2.692784547805786,
          2.97944974899292,
          3.1071231365203857,
          2.1345486640930176,
          2.326599359512329,
          3.056157350540161,
          2.5230867862701416,
          2.6123383045196533,
          2.2741174697875977,
          1.6706591844558716,
          3.1791558265686035,
          0.35091733932495117,
          1.6499284505844116,
          0.39850446581840515,
          1.551776647567749,
          2.0749192237854004,
          2.8621811866760254,
          3.15763521194458,
          3.168820858001709,
          3.091677665710449,
          2.8929855823516846,
          1.9895670413970947,
          2.390888214111328
         ],
         "yaxis": "y"
        },
        {
         "customdata": [
          [
           "distance; similarity; metric; vector; point; calculate; euclidean; cosine; euclidean_distance; measure"
          ],
          [
           "distance; similarity; metric; vector; point; calculate; euclidean; cosine; euclidean_distance; measure"
          ],
          [
           "distance; similarity; metric; vector; point; calculate; euclidean; cosine; euclidean_distance; measure"
          ],
          [
           "distance; similarity; metric; vector; point; calculate; euclidean; cosine; euclidean_distance; measure"
          ],
          [
           "distance; similarity; metric; vector; point; calculate; euclidean; cosine; euclidean_distance; measure"
          ],
          [
           "distance; similarity; metric; vector; point; calculate; euclidean; cosine; euclidean_distance; measure"
          ],
          [
           "distance; similarity; metric; vector; point; calculate; euclidean; cosine; euclidean_distance; measure"
          ],
          [
           "distance; similarity; metric; vector; point; calculate; euclidean; cosine; euclidean_distance; measure"
          ],
          [
           "distance; similarity; metric; vector; point; calculate; euclidean; cosine; euclidean_distance; measure"
          ]
         ],
         "hovertemplate": "<b>%{hovertext}</b><br><br>color=Topic: 6<br>x=%{x}<br>y=%{y}<br>topic_txt=%{customdata[0]}<extra></extra>",
         "hovertext": [
          "Importance of Distance Metrics in Machine Learning | by Alekhyo Banerjee | Medium",
          "Various types of Distance Metrics in Machine Learning | by Sourodip Kundu | Analytics Vidhya | Medium",
          "Calculate Similarity — the most relevant Metrics in a Nutshell | by Marvin Lüthe | Towards Data Science",
          "Types of Distance Metrics in Machine Learning. | by Priscila Tamang Ghising | Medium",
          "Similarity Measures — Scoring Textual Articles | by Saif | Towards Data Science",
          "4 Types of Distance Metrics in Machine Learning | by Pulkit Sharma | Analytics Vidhya | Medium",
          "“Different types of Distances used in Machine Learning” | by Chandrima Sarkar | Medium",
          "Different Types of Distance Metrics used in Machine Learning | by Kunal Gohrani | Medium",
          "Role of Distance Metrics in Machine Learning | by Writuparna Banerjee | Analytics Vidhya | Medium"
         ],
         "legendgroup": "Topic: 6",
         "marker": {
          "color": "#00FE35",
          "symbol": "circle"
         },
         "mode": "markers",
         "name": "Topic: 6",
         "orientation": "v",
         "showlegend": true,
         "type": "scatter",
         "x": [
          6.38695764541626,
          6.453482151031494,
          6.435496807098389,
          6.469030857086182,
          6.4414286613464355,
          6.465920925140381,
          6.4526848793029785,
          6.40026330947876,
          6.489295482635498
         ],
         "xaxis": "x",
         "y": [
          7.4098286628723145,
          7.41170072555542,
          7.398947715759277,
          7.4256911277771,
          7.410735130310059,
          7.425172328948975,
          7.412941932678223,
          7.417201042175293,
          7.421083927154541
         ],
         "yaxis": "y"
        },
        {
         "customdata": [
          [
           "anomaly; detection; solution; anomaly_detection; point; population; individual; series; real; generation"
          ],
          [
           "anomaly; detection; solution; anomaly_detection; point; population; individual; series; real; generation"
          ],
          [
           "anomaly; detection; solution; anomaly_detection; point; population; individual; series; real; generation"
          ],
          [
           "anomaly; detection; solution; anomaly_detection; point; population; individual; series; real; generation"
          ],
          [
           "anomaly; detection; solution; anomaly_detection; point; population; individual; series; real; generation"
          ],
          [
           "anomaly; detection; solution; anomaly_detection; point; population; individual; series; real; generation"
          ],
          [
           "anomaly; detection; solution; anomaly_detection; point; population; individual; series; real; generation"
          ],
          [
           "anomaly; detection; solution; anomaly_detection; point; population; individual; series; real; generation"
          ],
          [
           "anomaly; detection; solution; anomaly_detection; point; population; individual; series; real; generation"
          ],
          [
           "anomaly; detection; solution; anomaly_detection; point; population; individual; series; real; generation"
          ],
          [
           "anomaly; detection; solution; anomaly_detection; point; population; individual; series; real; generation"
          ],
          [
           "anomaly; detection; solution; anomaly_detection; point; population; individual; series; real; generation"
          ],
          [
           "anomaly; detection; solution; anomaly_detection; point; population; individual; series; real; generation"
          ],
          [
           "anomaly; detection; solution; anomaly_detection; point; population; individual; series; real; generation"
          ],
          [
           "anomaly; detection; solution; anomaly_detection; point; population; individual; series; real; generation"
          ],
          [
           "anomaly; detection; solution; anomaly_detection; point; population; individual; series; real; generation"
          ],
          [
           "anomaly; detection; solution; anomaly_detection; point; population; individual; series; real; generation"
          ],
          [
           "anomaly; detection; solution; anomaly_detection; point; population; individual; series; real; generation"
          ],
          [
           "anomaly; detection; solution; anomaly_detection; point; population; individual; series; real; generation"
          ],
          [
           "anomaly; detection; solution; anomaly_detection; point; population; individual; series; real; generation"
          ],
          [
           "anomaly; detection; solution; anomaly_detection; point; population; individual; series; real; generation"
          ],
          [
           "anomaly; detection; solution; anomaly_detection; point; population; individual; series; real; generation"
          ],
          [
           "anomaly; detection; solution; anomaly_detection; point; population; individual; series; real; generation"
          ],
          [
           "anomaly; detection; solution; anomaly_detection; point; population; individual; series; real; generation"
          ],
          [
           "anomaly; detection; solution; anomaly_detection; point; population; individual; series; real; generation"
          ],
          [
           "anomaly; detection; solution; anomaly_detection; point; population; individual; series; real; generation"
          ],
          [
           "anomaly; detection; solution; anomaly_detection; point; population; individual; series; real; generation"
          ],
          [
           "anomaly; detection; solution; anomaly_detection; point; population; individual; series; real; generation"
          ],
          [
           "anomaly; detection; solution; anomaly_detection; point; population; individual; series; real; generation"
          ],
          [
           "anomaly; detection; solution; anomaly_detection; point; population; individual; series; real; generation"
          ],
          [
           "anomaly; detection; solution; anomaly_detection; point; population; individual; series; real; generation"
          ],
          [
           "anomaly; detection; solution; anomaly_detection; point; population; individual; series; real; generation"
          ],
          [
           "anomaly; detection; solution; anomaly_detection; point; population; individual; series; real; generation"
          ],
          [
           "anomaly; detection; solution; anomaly_detection; point; population; individual; series; real; generation"
          ],
          [
           "anomaly; detection; solution; anomaly_detection; point; population; individual; series; real; generation"
          ]
         ],
         "hovertemplate": "<b>%{hovertext}</b><br><br>color=Topic: 7<br>x=%{x}<br>y=%{y}<br>topic_txt=%{customdata[0]}<extra></extra>",
         "hovertext": [
          "A gentle introduction to genetic algorithm | by Nguyễn Việt Hưng | The happy lone guy | Medium",
          "Master Data Management, how to match and merge records to unify your data | by Julien Kervizic | Hacking Analytics | Medium",
          "What is anomaly detection?. The director of security for a large… | by Ricky Thomas | Avora | Medium",
          "Time-series Anomaly Detection with Twitter’s ESD test | by Elisha Shrestha | Medium",
          "Accelerate Computing of Anomaly Detection using GPU Platform | by Manish Harsh | Medium",
          "An Insight to Genetic Algorithms — Part I | by Chathurangi Shyalika | Data Driven Investor | Medium",
          "Performing Real-time Anomaly Detection using AWS | by Gautam Krishna | Slalom Data & Analytics | Medium",
          "Real-time anomaly detection with exponentially-distributed data | by Steven Raybon | Towards Data Science",
          "Anomaly Detection and Typical Challenges with Time Series Data | by Amelia Williams | Medium",
          "Biologically-Inspired AI: Genetic Algorithms | by James Le | Cracking The Data Science Interview | Medium",
          "Real-Time Anomaly Detection for Cognitive Intelligence | by Xenonstack | XenonStack AI | Medium",
          "Real-Time Anomaly Detection — A Deep Learning Approach | by Abacus.AI | Abacus.AI Blog (Formerly RealityEngines.AI) | Medium",
          "Time series anomaly detection with “anomalize” library | by Mahbubul Alam | Sep, 2020 | Towards Data Science",
          "Twitter’s Anomaly Detection Algorithm Simplified | by Adarsh Bulusu | Medium",
          "Understanding Genetic Algorithms in the Artificial Intelligence Spectrum | by Manish Kumar | Analytics Vidhya | Medium",
          "Detecting real-time and unsupervised anomalies in streaming data: a starting point | by Jesus L. Lobo | Towards Data Science",
          "Shifting Peaks in Signal Separation and Curve Fitting | by Ossi Myllymäki | Medium",
          "Genetic Algorithms. How human evolution paved the way for… | by Amit Naik | Data Driven Investor | Medium",
          "Introduction to Genetic Algorithms — Including Example Code | by Vijini Mallawaarachchi | Towards Data Science",
          "Algorithm selection for Anomaly Detection | by Sahil Garg | Analytics Vidhya | Medium",
          "Understanding Genetic Algorithms. Solving a Battleship Board Game as an… | by Adam C Dick | Towards Data Science",
          "Detecting the Pope Using Machine Learning and TLC Data | by Geoff P | Medium",
          "Open Source Anomaly Detection Projects | by Himanshu Mittal | Medium",
          "Anomaly Detection of Time Series Data | by Jet New | Medium",
          "Genetic Algorithm: Part 1 -Intuition | by Satvik Tiwari | Koderunners | Medium",
          "Effective Approaches for Time Series Anomaly Detection | by Aditya Bhattacharya | Towards Data Science",
          "Genetic Algorithm and its Wide Spectrum | by Shaashwat Agrawal | The Startup | Medium",
          "Time Series Anomaly Detection With LSTM Autoencoders | by Sarit Maitra | The Startup | Sep, 2020 | Medium",
          "Yes, all event messages are captured in Kafka from the applications and also using debezium… | by Piyush Kumar | Medium",
          "A Comprehensive Guide to Genetic Algorithms (and how to code them) | by Rishabh Anand | Sigmoid | Medium",
          "How Machine Learning Can Enable Anomaly Detection | by Countants | Data Driven Investor | Medium",
          "Practical Guide to Outlier Detection Methods | by A. Tayyip Saka | Towards Data Science",
          "Anomaly Detection with MIDAS. Anomaly detection in graphs is a… | by Nunzio Logallo | Towards AI — Multidisciplinary Science Journal | Medium",
          "Building a real-time anomaly detection system for time series at Pinterest | by Pinterest Engineering | Pinterest Engineering Blog | Medium",
          "Credit Card Fraud Detection: Neural Network vs. Anomaly Detection Algorithms | by Harsh Bansal | Analytics Vidhya | Medium"
         ],
         "legendgroup": "Topic: 7",
         "marker": {
          "color": "#6A76FC",
          "symbol": "circle"
         },
         "mode": "markers",
         "name": "Topic: 7",
         "orientation": "v",
         "showlegend": true,
         "type": "scatter",
         "x": [
          11.382226943969727,
          11.876835823059082,
          10.316642761230469,
          11.844991683959961,
          11.510395050048828,
          10.89298152923584,
          10.883746147155762,
          11.993477821350098,
          9.986612319946289,
          11.122261047363281,
          10.921506881713867,
          10.510053634643555,
          11.910924911499023,
          11.282219886779785,
          10.203369140625,
          11.657391548156738,
          12.113576889038086,
          11.093517303466797,
          11.744279861450195,
          11.377121925354004,
          11.73843002319336,
          0.8850688934326172,
          0.5211737155914307,
          11.255207061767578,
          11.802127838134766,
          11.33056926727295,
          10.675202369689941,
          10.603704452514648,
          0.17205429077148438,
          10.582850456237793,
          10.778374671936035,
          11.462807655334473,
          10.817138671875,
          10.606979370117188,
          11.30525016784668
         ],
         "xaxis": "x",
         "y": [
          -18.40774917602539,
          -17.890520095825195,
          -17.62123680114746,
          -17.989604949951172,
          -17.1910343170166,
          -18.204811096191406,
          -17.62298583984375,
          -16.344928741455078,
          -17.223575592041016,
          -18.28922462463379,
          -17.028987884521484,
          -15.837804794311523,
          -17.100271224975586,
          -17.520530700683594,
          -16.661602020263672,
          -17.34375,
          -16.429412841796875,
          -17.86507797241211,
          -18.13666343688965,
          -17.187822341918945,
          -16.639446258544922,
          0.8585494160652161,
          1.31532621383667,
          -16.619808197021484,
          -18.03496742248535,
          -18.381471633911133,
          -17.114442825317383,
          -16.549455642700195,
          1.3052781820297241,
          -15.47791862487793,
          -18.065874099731445,
          -16.72023582458496,
          -16.059951782226562,
          -17.498971939086914,
          -16.43901824951172
         ],
         "yaxis": "y"
        },
        {
         "customdata": [
          [
           "user; item; recommendation; movie; rating; system; similarity; filtering; matrix; collaborative"
          ],
          [
           "user; item; recommendation; movie; rating; system; similarity; filtering; matrix; collaborative"
          ],
          [
           "user; item; recommendation; movie; rating; system; similarity; filtering; matrix; collaborative"
          ],
          [
           "user; item; recommendation; movie; rating; system; similarity; filtering; matrix; collaborative"
          ],
          [
           "user; item; recommendation; movie; rating; system; similarity; filtering; matrix; collaborative"
          ],
          [
           "user; item; recommendation; movie; rating; system; similarity; filtering; matrix; collaborative"
          ],
          [
           "user; item; recommendation; movie; rating; system; similarity; filtering; matrix; collaborative"
          ],
          [
           "user; item; recommendation; movie; rating; system; similarity; filtering; matrix; collaborative"
          ],
          [
           "user; item; recommendation; movie; rating; system; similarity; filtering; matrix; collaborative"
          ],
          [
           "user; item; recommendation; movie; rating; system; similarity; filtering; matrix; collaborative"
          ],
          [
           "user; item; recommendation; movie; rating; system; similarity; filtering; matrix; collaborative"
          ],
          [
           "user; item; recommendation; movie; rating; system; similarity; filtering; matrix; collaborative"
          ],
          [
           "user; item; recommendation; movie; rating; system; similarity; filtering; matrix; collaborative"
          ],
          [
           "user; item; recommendation; movie; rating; system; similarity; filtering; matrix; collaborative"
          ],
          [
           "user; item; recommendation; movie; rating; system; similarity; filtering; matrix; collaborative"
          ],
          [
           "user; item; recommendation; movie; rating; system; similarity; filtering; matrix; collaborative"
          ],
          [
           "user; item; recommendation; movie; rating; system; similarity; filtering; matrix; collaborative"
          ],
          [
           "user; item; recommendation; movie; rating; system; similarity; filtering; matrix; collaborative"
          ],
          [
           "user; item; recommendation; movie; rating; system; similarity; filtering; matrix; collaborative"
          ],
          [
           "user; item; recommendation; movie; rating; system; similarity; filtering; matrix; collaborative"
          ]
         ],
         "hovertemplate": "<b>%{hovertext}</b><br><br>color=Topic: 5<br>x=%{x}<br>y=%{y}<br>topic_txt=%{customdata[0]}<extra></extra>",
         "hovertext": [
          "Recommendation Systems : User-based Collaborative Filtering using N Nearest Neighbors | by Ashay Pathak | SFU Professional Master’s Program in Computer Science | Medium",
          "Beginner’s guide to build Recommendation Engine in Python | by Amey Band | The Startup | Medium",
          "Recommendation Engines 101. Get Started & Master the Basics | by Pierre Pfennig | data from the trenches | Medium",
          "Content-Based Recommendations — Part 3 | by Rakesh4real | Fnplus Club | Medium",
          "Collaborative Filtering and Embeddings — Part 1 | by Shikhar Gupta | Towards Data Science",
          "Recommendation Systems. Diving into recommendation systems | by Bindhu Balu | Towards AI — Multidisciplinary Science Journal | Medium",
          "Recommendation Engine Explained. Github source code examples can be… | by Mohamed Fawzy | tajawal | Medium",
          "How to Build a Recommendation System for Purchase Data (Step-by-Step) | by Moorissa Tjokro | Data Driven Investor | Medium",
          "How Netflix’s Recommendation Engine Works? | by Springboard India | Medium",
          "Various Implementations of Collaborative Filtering | by Prince Grover | Towards Data Science",
          "Collaborative Filtering in Recommendation Systems | by Kunal Deshmukh | kunalrdeshmukh | Medium",
          "How to Build a Recommender System(RS) | by Gaurav Sharma | Data Driven Investor | Medium",
          "Collaborative Filtering — A Type of Recommendation System | by Bindhu Balu | Towards AI — Multidisciplinary Science Journal | Medium",
          "A simple way to explain the Recommendation Engine in AI | by Roger Chua | Voice Tech Podcast | Medium",
          "Similarity and Distance Metrics for Data Science and Machine Learning | by Gonzalo Ferreiro Volpi | DataSeries | Medium",
          "What similarity metric should you use for your recommendation system? | by Brett Vintch | bag of words | Medium",
          "Introduction to recommendation systems and How to design Recommendation system,that resembling the Amazon | by Madasamy M | Medium",
          "Recommender Systems — User-Based and Item-Based Collaborative Filtering | by Carlos Pinela | Medium",
          "Machine Learning for Recommender systems — Part 1 (algorithms, evaluation and cold start) | by Pavel Kordík | Recombee blog | Medium",
          "USER-USER Collaborative filtering Recommender System in Python | by Ankur Tomar | Medium"
         ],
         "legendgroup": "Topic: 5",
         "marker": {
          "color": "#FED4C4",
          "symbol": "circle"
         },
         "mode": "markers",
         "name": "Topic: 5",
         "orientation": "v",
         "showlegend": true,
         "type": "scatter",
         "x": [
          0.8909080028533936,
          0.8628237247467041,
          0.36718812584877014,
          0.7044607400894165,
          0.36726877093315125,
          0.17006762325763702,
          0.4522528648376465,
          0.1700870841741562,
          -0.3987962603569031,
          0.5115377902984619,
          0.9118528962135315,
          0.7221791744232178,
          0.526586651802063,
          -0.5941570997238159,
          0.8465275168418884,
          0.8285824060440063,
          0.45175400376319885,
          0.8487088680267334,
          0.2490205615758896,
          0.8418265581130981
         ],
         "xaxis": "x",
         "y": [
          7.839688301086426,
          8.011150360107422,
          7.281639099121094,
          6.528375148773193,
          7.048007011413574,
          7.709235191345215,
          8.038167953491211,
          7.587575912475586,
          7.136999607086182,
          7.388237476348877,
          7.629158020019531,
          8.214982032775879,
          7.851774215698242,
          7.208498954772949,
          6.8953776359558105,
          6.378571510314941,
          8.026440620422363,
          7.6842942237854,
          7.173437118530273,
          7.884580135345459
         ],
         "yaxis": "y"
        },
        {
         "customdata": [
          [
           "security; api; cloud; service; log; information; amazon; access; organization; graph"
          ],
          [
           "security; api; cloud; service; log; information; amazon; access; organization; graph"
          ],
          [
           "security; api; cloud; service; log; information; amazon; access; organization; graph"
          ],
          [
           "security; api; cloud; service; log; information; amazon; access; organization; graph"
          ],
          [
           "security; api; cloud; service; log; information; amazon; access; organization; graph"
          ],
          [
           "security; api; cloud; service; log; information; amazon; access; organization; graph"
          ],
          [
           "security; api; cloud; service; log; information; amazon; access; organization; graph"
          ],
          [
           "security; api; cloud; service; log; information; amazon; access; organization; graph"
          ],
          [
           "security; api; cloud; service; log; information; amazon; access; organization; graph"
          ],
          [
           "security; api; cloud; service; log; information; amazon; access; organization; graph"
          ],
          [
           "security; api; cloud; service; log; information; amazon; access; organization; graph"
          ],
          [
           "security; api; cloud; service; log; information; amazon; access; organization; graph"
          ],
          [
           "security; api; cloud; service; log; information; amazon; access; organization; graph"
          ],
          [
           "security; api; cloud; service; log; information; amazon; access; organization; graph"
          ],
          [
           "security; api; cloud; service; log; information; amazon; access; organization; graph"
          ],
          [
           "security; api; cloud; service; log; information; amazon; access; organization; graph"
          ],
          [
           "security; api; cloud; service; log; information; amazon; access; organization; graph"
          ],
          [
           "security; api; cloud; service; log; information; amazon; access; organization; graph"
          ],
          [
           "security; api; cloud; service; log; information; amazon; access; organization; graph"
          ],
          [
           "security; api; cloud; service; log; information; amazon; access; organization; graph"
          ],
          [
           "security; api; cloud; service; log; information; amazon; access; organization; graph"
          ]
         ],
         "hovertemplate": "<b>%{hovertext}</b><br><br>color=Topic: 2<br>x=%{x}<br>y=%{y}<br>topic_txt=%{customdata[0]}<extra></extra>",
         "hovertext": [
          "Berkeley I School – Medium",
          "Cloud Security Design Principles to Follow in 2018 | by Nutanix | Medium",
          "Azure Sentinel Resources. List of resources available for Azure… | by Adrian Grigorof | Medium",
          "Cloud Security & The Shared Responsibility Model: | by Daniel Simmons | Beanfield Metroconnect | Medium",
          "The basics of investigating an Office 365 breach | by Pete Bryan | Positive Security Thinking | Medium",
          "Audio to text conversion using AWS Transcribe and Sentiment Analysis using Comprehend API | by Rana singh | Analytics Vidhya | Medium",
          "Real World Cyber Security. Blog Introduction and  Index | by RealWorldCyberSecurity | Medium",
          "Natural Language Processing: Experimenting Entity Recognition ( Part 2 AWS Comprehend NLP API) | by Patrick Rotzetter | Analytics Vidhya | Medium",
          "Exfiltrating data via GET Headers (X-CSRF-Token) | by Ramon Martinez | byhardest | Medium",
          "cyBERT. Neural network, that’s the tech; To… | by Bartley Richardson | RAPIDS AI | Medium",
          "Is my data safe in Cloud?. GCP Comics #1: Google Cloud & Privacy… | by Priyanka Vergadia | Google Cloud - Community | Medium",
          "GCP Comics: How can Google Cloud help with security of your apps? | by Priyanka Vergadia | Google Cloud - Community | Jul, 2020 | Medium | Google Cloud - Community",
          "Cyber-security Framework for Multi-Cloud Environment | by Taslet | Taslet Security | Medium",
          "What is this Microsoft Intelligent Security Graph everybody is talking about? | by Maarten Goet | Medium",
          "Machine Learning on AWS. “AWS is our ML platform of choice… | by IP Specialist | Medium",
          "Microsoft security integration: Graph Security API to integrate a variety of security solutions | by Antonio Formato | Medium",
          "Teri Radichel – Medium",
          "Main Cloud Security Threats. Cloud computing continues to transform… | by IDM | Medium",
          "Microsoft – Wortell – Medium",
          "Azure Logic Apps & Graph Security API: easy integration of all security alerts to your ticketing system | by Jeroen Niesen | Wortell | Medium",
          "The law and cybersecurity: eight ways to help mitigate legal risks | by Mike Mullane | The Startup | Medium"
         ],
         "legendgroup": "Topic: 2",
         "marker": {
          "color": "#FE00CE",
          "symbol": "circle"
         },
         "mode": "markers",
         "name": "Topic: 2",
         "orientation": "v",
         "showlegend": true,
         "type": "scatter",
         "x": [
          -1.0726606845855713,
          -5.108064651489258,
          -4.8837385177612305,
          -5.2759623527526855,
          -5.361016273498535,
          -4.673694133758545,
          -5.372879505157471,
          -4.138679504394531,
          -2.1093575954437256,
          -3.2138636112213135,
          -2.1197800636291504,
          -4.5225725173950195,
          -5.055799961090088,
          -5.212538242340088,
          -4.375104904174805,
          -5.102391719818115,
          -0.9041420221328735,
          -5.41627311706543,
          -1.4065779447555542,
          -5.319947719573975,
          -5.451854705810547
         ],
         "xaxis": "x",
         "y": [
          1.6882840394973755,
          3.9274115562438965,
          3.6685826778411865,
          5.103854179382324,
          3.4695448875427246,
          3.1601908206939697,
          5.0507893562316895,
          2.5485990047454834,
          3.17463755607605,
          2.86871600151062,
          12.666749954223633,
          5.000969886779785,
          4.268841743469238,
          3.5253355503082275,
          3.588043451309204,
          3.5928494930267334,
          1.589716911315918,
          5.342773914337158,
          2.349665403366089,
          3.6203951835632324,
          5.367976665496826
         ],
         "yaxis": "y"
        },
        {
         "customdata": [
          [
           "design; security; system; ai; risk; cyber; product; team; attack; user"
          ],
          [
           "design; security; system; ai; risk; cyber; product; team; attack; user"
          ],
          [
           "design; security; system; ai; risk; cyber; product; team; attack; user"
          ],
          [
           "design; security; system; ai; risk; cyber; product; team; attack; user"
          ],
          [
           "design; security; system; ai; risk; cyber; product; team; attack; user"
          ],
          [
           "design; security; system; ai; risk; cyber; product; team; attack; user"
          ],
          [
           "design; security; system; ai; risk; cyber; product; team; attack; user"
          ],
          [
           "design; security; system; ai; risk; cyber; product; team; attack; user"
          ],
          [
           "design; security; system; ai; risk; cyber; product; team; attack; user"
          ],
          [
           "design; security; system; ai; risk; cyber; product; team; attack; user"
          ],
          [
           "design; security; system; ai; risk; cyber; product; team; attack; user"
          ],
          [
           "design; security; system; ai; risk; cyber; product; team; attack; user"
          ],
          [
           "design; security; system; ai; risk; cyber; product; team; attack; user"
          ],
          [
           "design; security; system; ai; risk; cyber; product; team; attack; user"
          ],
          [
           "design; security; system; ai; risk; cyber; product; team; attack; user"
          ],
          [
           "design; security; system; ai; risk; cyber; product; team; attack; user"
          ],
          [
           "design; security; system; ai; risk; cyber; product; team; attack; user"
          ],
          [
           "design; security; system; ai; risk; cyber; product; team; attack; user"
          ],
          [
           "design; security; system; ai; risk; cyber; product; team; attack; user"
          ],
          [
           "design; security; system; ai; risk; cyber; product; team; attack; user"
          ],
          [
           "design; security; system; ai; risk; cyber; product; team; attack; user"
          ],
          [
           "design; security; system; ai; risk; cyber; product; team; attack; user"
          ],
          [
           "design; security; system; ai; risk; cyber; product; team; attack; user"
          ],
          [
           "design; security; system; ai; risk; cyber; product; team; attack; user"
          ],
          [
           "design; security; system; ai; risk; cyber; product; team; attack; user"
          ],
          [
           "design; security; system; ai; risk; cyber; product; team; attack; user"
          ],
          [
           "design; security; system; ai; risk; cyber; product; team; attack; user"
          ],
          [
           "design; security; system; ai; risk; cyber; product; team; attack; user"
          ],
          [
           "design; security; system; ai; risk; cyber; product; team; attack; user"
          ],
          [
           "design; security; system; ai; risk; cyber; product; team; attack; user"
          ],
          [
           "design; security; system; ai; risk; cyber; product; team; attack; user"
          ],
          [
           "design; security; system; ai; risk; cyber; product; team; attack; user"
          ],
          [
           "design; security; system; ai; risk; cyber; product; team; attack; user"
          ],
          [
           "design; security; system; ai; risk; cyber; product; team; attack; user"
          ],
          [
           "design; security; system; ai; risk; cyber; product; team; attack; user"
          ],
          [
           "design; security; system; ai; risk; cyber; product; team; attack; user"
          ],
          [
           "design; security; system; ai; risk; cyber; product; team; attack; user"
          ],
          [
           "design; security; system; ai; risk; cyber; product; team; attack; user"
          ],
          [
           "design; security; system; ai; risk; cyber; product; team; attack; user"
          ],
          [
           "design; security; system; ai; risk; cyber; product; team; attack; user"
          ],
          [
           "design; security; system; ai; risk; cyber; product; team; attack; user"
          ],
          [
           "design; security; system; ai; risk; cyber; product; team; attack; user"
          ],
          [
           "design; security; system; ai; risk; cyber; product; team; attack; user"
          ],
          [
           "design; security; system; ai; risk; cyber; product; team; attack; user"
          ],
          [
           "design; security; system; ai; risk; cyber; product; team; attack; user"
          ],
          [
           "design; security; system; ai; risk; cyber; product; team; attack; user"
          ],
          [
           "design; security; system; ai; risk; cyber; product; team; attack; user"
          ],
          [
           "design; security; system; ai; risk; cyber; product; team; attack; user"
          ],
          [
           "design; security; system; ai; risk; cyber; product; team; attack; user"
          ],
          [
           "design; security; system; ai; risk; cyber; product; team; attack; user"
          ],
          [
           "design; security; system; ai; risk; cyber; product; team; attack; user"
          ],
          [
           "design; security; system; ai; risk; cyber; product; team; attack; user"
          ],
          [
           "design; security; system; ai; risk; cyber; product; team; attack; user"
          ],
          [
           "design; security; system; ai; risk; cyber; product; team; attack; user"
          ],
          [
           "design; security; system; ai; risk; cyber; product; team; attack; user"
          ],
          [
           "design; security; system; ai; risk; cyber; product; team; attack; user"
          ],
          [
           "design; security; system; ai; risk; cyber; product; team; attack; user"
          ]
         ],
         "hovertemplate": "<b>%{hovertext}</b><br><br>color=Topic: 8<br>x=%{x}<br>y=%{y}<br>topic_txt=%{customdata[0]}<extra></extra>",
         "hovertext": [
          "AI and Machine Learning in Cyber Security | by Formulatedby | Towards Data Science",
          "The Vandalisation of ‘UX’. The original promise of UX — How UX… | by Max Taylor | Spotless Says | Medium",
          "How Machine Learning is used in Cyber Attacks | by Informer | Sep, 2020 | Medium",
          "Cyber Security Best Practices for Work From Home / Teleworking | by IARM Information Security | IARM Information Security | Medium",
          "Design APIs like you design User Experience | by Prashant Agrawal | Better Practices | Medium",
          "Top 10 Cyber Security Fundamentals for Small to Medium Businesses | by Robert Smith | Medium",
          "3 Powerful Application of AI in Cyber Security | by Praveen Pareek | Data Driven Investor | Aug, 2020 | Medium",
          "The Business Value of Cybersecurity | by JC Gaillard | Security Transformation Leadership | Medium",
          "The External Data Imperative. “First we have to get our internal data… | by Demyst | Medium",
          "AI & Cyber Security. What this technology revolution may… | by Alexis Vander Wilt | Query.AI | Medium",
          "Where Does Machine Learning Stand in Cyber Security? | by Christopher Dossman | AI³ | Theory, Practice, Business | Medium",
          "The Strategic Seventeen: Zero Trust | by Logan Daley | The Startup | Medium",
          "The State of Applied AI. Surveying the landscape: present and… | by Luke Posey | Aug, 2020 | Towards Data Science",
          "Optimization – The Opex Analytics Blog – Medium",
          "Product Discovery Tips. Product discovery refers to the… | by Roman Pichler | Medium",
          "Cyber Security for Beginners. In recent years cybersecurity is the… | by Tarun N | Medium",
          "Don Miller – Medium",
          "How Artificial Intelligence is Changing Cyber Security | by Charu Mitra Dubey | The Startup | Medium",
          "How DevOps Increases System Security | by Adam Hawkins | slashdeploy | Medium",
          "Real-time User Signal Serving for Feature Engineering | by Pinterest Engineering | Pinterest Engineering Blog | Medium",
          "If You Aren’t Considering Cost, You Are Failing At Cyber Due Diligence | by Adam Bobrow | Cyber Risk Register | Medium",
          "Should we be treating algorithms the same way we treat hazardous chemicals? | by Andrew Maynard | EDGE OF INNOVATION | Medium",
          "What Is Games ‘User Experience’ (UX) and How Does It Help? | by Player Research | Medium",
          "Understanding Recommendation Engines in AI | by Humans For AI | humansforai | Medium",
          "AI in Cyber Security: Curse or Blessing? | by Lili Török | Small Business, Big World | Medium",
          "An In-Depth Guide to Personal Cybersecurity | by Nick Rosener | Medium",
          "Project ‘Gredient’ Identifies Food Allergy Risks | by Berkeley I School | BerkeleyISchool | Aug, 2020 | Medium",
          "CyberGRX – Medium",
          "Natural Language Processing in Python | by Paco Nathan | derwen | Medium",
          "The Secret to Advancing the Science of Cyber Risk: A Q&A with Gregory Falco | by FSI Stanford | Freeman Spogli Institute for International Studies | Medium",
          "Free #CyberSecurity: 6 Basic Tips | by Leonard Burger | Medium",
          "Responses – Nathan Johnson – Medium",
          "Cyber Risk Management. Digital Risk Management | by Mohammed Mahboubi | Medium",
          "An Introduction to Natural Language Processing (NLP) | by ODSC - Open Data Science | Medium",
          "AI in Cyber Security, an oversimplified introduction | by Sukant Khurana | Medium",
          "Reviewing UX Portfolios: 4 High-Risk Hiring Mistakes | by Jared M. Spool | Medium",
          "The A to Z of Cyber Security. From BEC scams to DDoS attacks, and… | by Dick O'Brien | Threat Intel | Medium",
          "Understanding UX Threat (part 1). Improving your designs by going down… | by Dave Vronay | ringcentral-ux | Medium",
          "Dasher’s Zero Trust Architecture Approach | by IT Solution Architects | Medium",
          "Top Cybersecurity Trends in Financial Tech Review | by Christopher | Aug, 2020 | Medium",
          "Azure – Wortell – Medium",
          "We’re Optimizing Ourselves to Death | by Zander Nethercutt | Medium",
          "How To Use UX Design To Build Trust & Brand Identity | by Inkbot Design | Medium",
          "How Artificial Intelligence (AI) is Adding New Horizons to Cybersecurity Solutions? | by Sanjay Ratnottar | Towards Data Science",
          "Artificial Intelligence and its impact on Cyber Security | by Chiragh Dewan | Medium",
          "5 Things to Know from 12 Months in Cyber Security | by Threat Intel | Threat Intel | Medium",
          "Cyber SC – Medium",
          "Design Systems Will Change UX/UI Jobs | by Debbie Levitt | Delta CX | Medium",
          "Cyber Risk – Emergynt Thinking – Medium",
          "Piyush Kumar – Medium",
          "Machine Learning in cyber security Secure Us | by RATNAKAR KUMAR | Medium",
          "Role of AI in Cyber Security. As with other fields of use, artificial… | by Inc.Outlook | Medium",
          "Tower Street – Medium",
          "How To Start A Career in Cyber Security | by Dennis Chow | The Startup | Medium",
          "What is User Experience Strategy. Good UX in product development is… | by MentorMate | Medium",
          "Pam Hester O'Neal – Medium",
          "Machine Learning in Cyber Security | by Ebubekir Büber | Deep Learning Turkey | Medium"
         ],
         "legendgroup": "Topic: 8",
         "marker": {
          "color": "#0DF9FF",
          "symbol": "circle"
         },
         "mode": "markers",
         "name": "Topic: 8",
         "orientation": "v",
         "showlegend": true,
         "type": "scatter",
         "x": [
          -2.0773303508758545,
          -8.659767150878906,
          -7.432279586791992,
          -8.05457592010498,
          -5.858017921447754,
          -9.274415969848633,
          -9.486146926879883,
          -8.920001029968262,
          -6.382325649261475,
          -9.4839448928833,
          -7.95526647567749,
          -6.67921781539917,
          -7.145742416381836,
          -1.0441282987594604,
          -9.668524742126465,
          -8.591008186340332,
          -2.0041239261627197,
          -10.279967308044434,
          -9.224639892578125,
          -1.0497685670852661,
          -9.835332870483398,
          -9.3978910446167,
          -10.477781295776367,
          -1.399307370185852,
          -9.748401641845703,
          -5.49471378326416,
          -8.040860176086426,
          -7.221591472625732,
          -1.6580250263214111,
          -8.879429817199707,
          -7.693057537078857,
          -2.407191753387451,
          -8.188228607177734,
          -3.04263973236084,
          -9.321338653564453,
          -10.121403694152832,
          -8.746814727783203,
          -9.89387321472168,
          -2.046726703643799,
          -8.171684265136719,
          -1.0569883584976196,
          -7.7506232261657715,
          -7.295761585235596,
          -10.270075798034668,
          -10.019391059875488,
          -9.826218605041504,
          -5.9029130935668945,
          -8.626800537109375,
          -7.4293413162231445,
          -1.870321273803711,
          -8.484640121459961,
          -10.379728317260742,
          -2.0673811435699463,
          -8.408061981201172,
          -9.447324752807617,
          -1.4615339040756226,
          -8.761646270751953
         ],
         "xaxis": "x",
         "y": [
          1.7250750064849854,
          9.898536682128906,
          8.420842170715332,
          8.874316215515137,
          5.7201690673828125,
          9.635811805725098,
          9.095271110534668,
          9.052313804626465,
          7.876221179962158,
          8.273990631103516,
          9.043464660644531,
          9.408884048461914,
          8.323385238647461,
          0.9074172377586365,
          10.058127403259277,
          8.114469528198242,
          2.239323139190674,
          9.571843147277832,
          8.51015567779541,
          2.519927501678467,
          8.743242263793945,
          9.473901748657227,
          9.782286643981934,
          7.134243965148926,
          9.715871810913086,
          6.062762260437012,
          8.587532043457031,
          7.644107818603516,
          0.619239330291748,
          8.482475280761719,
          7.639570236206055,
          0.5957733392715454,
          7.824687957763672,
          0.11391548067331314,
          9.166661262512207,
          9.969171524047852,
          8.253255844116211,
          9.186531066894531,
          11.506379127502441,
          7.4284892082214355,
          1.3054357767105103,
          9.984254837036133,
          9.452034950256348,
          9.062261581420898,
          8.91152286529541,
          10.057111740112305,
          5.936650276184082,
          9.926773071289062,
          8.097262382507324,
          2.2844696044921875,
          9.468547821044922,
          9.315897941589355,
          2.6864190101623535,
          8.779333114624023,
          9.919981956481934,
          1.8951345682144165,
          9.089638710021973
         ],
         "yaxis": "y"
        },
        {
         "customdata": [
          [
           "image; trust; network; search; google; zero; medium; access; page; article"
          ],
          [
           "image; trust; network; search; google; zero; medium; access; page; article"
          ],
          [
           "image; trust; network; search; google; zero; medium; access; page; article"
          ],
          [
           "image; trust; network; search; google; zero; medium; access; page; article"
          ],
          [
           "image; trust; network; search; google; zero; medium; access; page; article"
          ],
          [
           "image; trust; network; search; google; zero; medium; access; page; article"
          ],
          [
           "image; trust; network; search; google; zero; medium; access; page; article"
          ],
          [
           "image; trust; network; search; google; zero; medium; access; page; article"
          ],
          [
           "image; trust; network; search; google; zero; medium; access; page; article"
          ],
          [
           "image; trust; network; search; google; zero; medium; access; page; article"
          ],
          [
           "image; trust; network; search; google; zero; medium; access; page; article"
          ],
          [
           "image; trust; network; search; google; zero; medium; access; page; article"
          ],
          [
           "image; trust; network; search; google; zero; medium; access; page; article"
          ],
          [
           "image; trust; network; search; google; zero; medium; access; page; article"
          ],
          [
           "image; trust; network; search; google; zero; medium; access; page; article"
          ],
          [
           "image; trust; network; search; google; zero; medium; access; page; article"
          ],
          [
           "image; trust; network; search; google; zero; medium; access; page; article"
          ],
          [
           "image; trust; network; search; google; zero; medium; access; page; article"
          ]
         ],
         "hovertemplate": "<b>%{hovertext}</b><br><br>color=Topic: 9<br>x=%{x}<br>y=%{y}<br>topic_txt=%{customdata[0]}<extra></extra>",
         "hovertext": [
          "Medium SEO: How To Rank Your Medium Articles In Google Search | by Aamir Kamal 🚀🚀🚀 | Menlo Blogging | Medium",
          "The Zero Trust Model: Should we be taking information security advice from Congressmen? | by Drawbridge Networks | Medium",
          "What is zero-trust security?. Everything you need to know about… | by Keyless Technologies | KeylessTech | Medium",
          "Image Similarity using Deep Ranking | by Akarsh Zingade | Medium",
          "What is Zero Trust and how can it transform your enterprise security? | by Fyde | Medium",
          "Introduction to Search Engine Optimization (SEO) | by Mridul Kesharwani | Medium",
          "One Zero trust Architecture to rule them all? | by Andre Camillo | Medium",
          "Zero Trust — Where should you begin? | by Sitaraman Lakshminarayanan | Medium",
          "Cybersecurity – InfoSec Write-ups – Medium",
          "How To Zero Trust: Roll out Zero Trust BeyondCorp security for your Enterprise by extending your Single Sign-On solution | by Tarun Desikan | Banyan Security | Medium",
          "How a Single Medium Article Received 100,000 Views | by Casey Botticello | Blogging Guide | Medium",
          "How to Apply Distance Metric Learning to Street-to-Shop Problem | by Aleksandr Movchan | ML Review | Medium",
          "How To Optimize Your Medium Articles for Google | by Christina M. Ward | Better Marketing | Medium",
          "Building the New Zero Trust Enterprise | by Alissa Knight | Data Driven Investor | Medium",
          "10 Critical Performance Optimization Steps You Should Take | by Ferenc Almasi | Better Programming | Medium",
          "Zero Trust Architecture -“An alternative security model” | by Pyramid Solutions | Medium",
          "Medium SEO: Medium Article Search Engine Optimization | by Casey Botticello | Blogging Guide | Medium",
          "How Google Search Works? Page Rank Algorithm using Python | by Sai Durga Kamesh Kota | Analytics Vidhya | Medium"
         ],
         "legendgroup": "Topic: 9",
         "marker": {
          "color": "#F6F926",
          "symbol": "circle"
         },
         "mode": "markers",
         "name": "Topic: 9",
         "orientation": "v",
         "showlegend": true,
         "type": "scatter",
         "x": [
          -0.2150222659111023,
          -1.6065056324005127,
          -1.6201798915863037,
          -0.03617219626903534,
          -1.2468793392181396,
          -0.37231266498565674,
          -0.7917090654373169,
          -1.376237154006958,
          -1.0017911195755005,
          -1.3622177839279175,
          -0.15661397576332092,
          0.28632503747940063,
          -0.24262255430221558,
          -1.5517914295196533,
          -1.417349100112915,
          -1.3145463466644287,
          -0.24355584383010864,
          -0.7936171889305115
         ],
         "xaxis": "x",
         "y": [
          13.040470123291016,
          11.965370178222656,
          11.74795913696289,
          11.863513946533203,
          12.246358871459961,
          12.65063190460205,
          12.428919792175293,
          12.537981986999512,
          1.042410969734192,
          12.76262092590332,
          13.073253631591797,
          11.228562355041504,
          12.927886009216309,
          12.008133888244629,
          11.876583099365234,
          12.165063858032227,
          12.990148544311523,
          -0.23269809782505035
         ],
         "yaxis": "y"
        },
        {
         "customdata": [
          [
           "word; state; vector; attention; layer; output; input; sequence; probability; transformer"
          ],
          [
           "word; state; vector; attention; layer; output; input; sequence; probability; transformer"
          ],
          [
           "word; state; vector; attention; layer; output; input; sequence; probability; transformer"
          ],
          [
           "word; state; vector; attention; layer; output; input; sequence; probability; transformer"
          ],
          [
           "word; state; vector; attention; layer; output; input; sequence; probability; transformer"
          ],
          [
           "word; state; vector; attention; layer; output; input; sequence; probability; transformer"
          ],
          [
           "word; state; vector; attention; layer; output; input; sequence; probability; transformer"
          ],
          [
           "word; state; vector; attention; layer; output; input; sequence; probability; transformer"
          ],
          [
           "word; state; vector; attention; layer; output; input; sequence; probability; transformer"
          ],
          [
           "word; state; vector; attention; layer; output; input; sequence; probability; transformer"
          ],
          [
           "word; state; vector; attention; layer; output; input; sequence; probability; transformer"
          ],
          [
           "word; state; vector; attention; layer; output; input; sequence; probability; transformer"
          ],
          [
           "word; state; vector; attention; layer; output; input; sequence; probability; transformer"
          ],
          [
           "word; state; vector; attention; layer; output; input; sequence; probability; transformer"
          ],
          [
           "word; state; vector; attention; layer; output; input; sequence; probability; transformer"
          ],
          [
           "word; state; vector; attention; layer; output; input; sequence; probability; transformer"
          ],
          [
           "word; state; vector; attention; layer; output; input; sequence; probability; transformer"
          ],
          [
           "word; state; vector; attention; layer; output; input; sequence; probability; transformer"
          ],
          [
           "word; state; vector; attention; layer; output; input; sequence; probability; transformer"
          ],
          [
           "word; state; vector; attention; layer; output; input; sequence; probability; transformer"
          ],
          [
           "word; state; vector; attention; layer; output; input; sequence; probability; transformer"
          ],
          [
           "word; state; vector; attention; layer; output; input; sequence; probability; transformer"
          ],
          [
           "word; state; vector; attention; layer; output; input; sequence; probability; transformer"
          ],
          [
           "word; state; vector; attention; layer; output; input; sequence; probability; transformer"
          ],
          [
           "word; state; vector; attention; layer; output; input; sequence; probability; transformer"
          ],
          [
           "word; state; vector; attention; layer; output; input; sequence; probability; transformer"
          ],
          [
           "word; state; vector; attention; layer; output; input; sequence; probability; transformer"
          ],
          [
           "word; state; vector; attention; layer; output; input; sequence; probability; transformer"
          ],
          [
           "word; state; vector; attention; layer; output; input; sequence; probability; transformer"
          ],
          [
           "word; state; vector; attention; layer; output; input; sequence; probability; transformer"
          ],
          [
           "word; state; vector; attention; layer; output; input; sequence; probability; transformer"
          ],
          [
           "word; state; vector; attention; layer; output; input; sequence; probability; transformer"
          ]
         ],
         "hovertemplate": "<b>%{hovertext}</b><br><br>color=Topic: 4<br>x=%{x}<br>y=%{y}<br>topic_txt=%{customdata[0]}<extra></extra>",
         "hovertext": [
          "NLP: Word Embedding Techniques for Text Analysis | by Fangyug | SFU Professional Master’s Program in Computer Science | Medium",
          "How Transformers Work. Transformers are a type of neural… | by Giuliano Giacaglia | Towards Data Science",
          "What is a Transformer?. An Introduction to Transformers and… | by Maxime | Inside Machine learning | Medium",
          "What is Hidden in the Hidden Markov Model? | by Vimarsh Karbhari | Acing AI | Medium",
          "Introduction to Hidden Markov Models | by Tomer Amit | Towards Data Science",
          "Word2Vec. Intro | by Long | Medium",
          "Overview Of The Hidden Markov Model (HMM)— What it can do for you in Machine Learning | by Victor Irechukwu | Medium",
          "NLP — Word Embedding & GloVe. BERT is a major milestone in creating… | by Jonathan Hui | Medium",
          "Hidden Markov Model- A Statespace Probabilistic Forecasting Approach in Quantitative Finance | by Sarit Maitra | Analytics Vidhya | Medium",
          "Hidden Markov Models Simplified. Sanjay Dorairaj | by Sanjay Dorairaj | Medium",
          "An Intuitive Introduction of Word2Vec by Building a Word2Vec From Scratch | by Manish Nayak | Towards AI — Multidisciplinary Science Journal | Medium",
          "NLP — BERT & Transformer. Google published an article… | by Jonathan Hui | Medium",
          "NLP: Word Embedding Techniques Demystified | by Rabeh Ayari, PhD | Towards Data Science",
          "BERT — A Practitioner’s Perspective | by Nirupam Purushothama | The Startup | Medium",
          "A Transformer Chatbot Tutorial with TensorFlow 2.0 | by TensorFlow | TensorFlow | Medium",
          "Attention Is All You Need — Transformer | by Sherwin Chen | Towards AI — Multidisciplinary Science Journal | Medium",
          "Word2Vec (Skip-Gram model) Explained | by n0obcoder | Data Driven Investor | Medium",
          "Transformer Architecture: Attention Is All You Need | by Aditya Thiruvengadam | Medium",
          "Hidden Markov Models — Part 1: the Likelihood Problem | by Maria Burlando | Medium",
          "Understanding NLP- BERT & Transformer | by Nehatayade | Aug, 2020 | Medium",
          "Understanding BERT Transformer: Attention isn’t all you need | by Damien Sileo | synapse_dev | Medium",
          "Machine Learning — Hidden Markov Model (HMM) | by Jonathan Hui | Medium",
          "Longformer — The Long-Document Transformer 📝 | by Viktor Karlsson | dair.ai | Medium",
          "Explore Markov Chains With Examples — Markov Chains With Python | by Sayantini Deb | Edureka | Medium",
          "Transformer vs RNN and CNN for Translation Task | by Yacine BENAFFANE | Analytics Vidhya | Medium",
          "Word2Vec Tutorial — The Skip-Gram Model | by Chris McCormick | Nearist.ai | Medium",
          "Introduction to Word Embedding and Word2Vec | by Dhruvil Karani | Towards Data Science",
          "A simple Word2vec tutorial. In this tutorial we are going to… | by Zafar Ali | Medium",
          "Hidden Markov Model. Hidden Markov Model (HMM) is a… | by Eugine Kang | Medium",
          "Word Embedding in NLP: One-Hot Encoding and Skip-Gram Neural Network | by Jianna Park | Towards Data Science",
          "Hidden Markov Model — Part 1 of the HMM series | by Raymond Kwok | Analytics Vidhya | Medium",
          "Illustrated Guide to Transformers- Step by Step Explanation | by Michael Phi | Towards Data Science"
         ],
         "legendgroup": "Topic: 4",
         "marker": {
          "color": "#FF9616",
          "symbol": "circle"
         },
         "mode": "markers",
         "name": "Topic: 4",
         "orientation": "v",
         "showlegend": true,
         "type": "scatter",
         "x": [
          12.701441764831543,
          14.432948112487793,
          14.463350296020508,
          11.434940338134766,
          13.214794158935547,
          13.747135162353516,
          11.977206230163574,
          13.801077842712402,
          10.971580505371094,
          14.166254997253418,
          12.94406795501709,
          14.661890029907227,
          12.367148399353027,
          12.06862735748291,
          14.203348159790039,
          14.130849838256836,
          13.418584823608398,
          14.712121963500977,
          13.451834678649902,
          12.954514503479004,
          12.880821228027344,
          13.280405044555664,
          11.830160140991211,
          12.723758697509766,
          13.89371109008789,
          14.248379707336426,
          13.74991226196289,
          14.72904109954834,
          13.55061149597168,
          12.52791690826416,
          13.974713325500488,
          14.474581718444824
         ],
         "xaxis": "x",
         "y": [
          -6.194242477416992,
          -6.1168532371521,
          -5.415827751159668,
          -5.42227029800415,
          -5.282150745391846,
          -5.683333396911621,
          -5.329826831817627,
          -4.9899797439575195,
          -5.536976337432861,
          -5.1817307472229,
          -5.185953140258789,
          -5.418454170227051,
          -6.333672523498535,
          -4.61585807800293,
          -5.258334159851074,
          -5.757018089294434,
          -6.054414749145508,
          -5.609592914581299,
          -4.725820064544678,
          -5.653995990753174,
          -5.386622428894043,
          -4.707516193389893,
          -4.3884663581848145,
          -5.590414047241211,
          -5.966837406158447,
          -6.133221626281738,
          -6.154263019561768,
          -5.795705795288086,
          -5.406968116760254,
          -5.91976261138916,
          -5.042019367218018,
          -6.106410980224609
         ],
         "yaxis": "y"
        },
        {
         "customdata": [
          [
           "feature; label; sample; training; class; prediction; machine_learning; dataset; active; high"
          ],
          [
           "feature; label; sample; training; class; prediction; machine_learning; dataset; active; high"
          ],
          [
           "feature; label; sample; training; class; prediction; machine_learning; dataset; active; high"
          ],
          [
           "feature; label; sample; training; class; prediction; machine_learning; dataset; active; high"
          ],
          [
           "feature; label; sample; training; class; prediction; machine_learning; dataset; active; high"
          ],
          [
           "feature; label; sample; training; class; prediction; machine_learning; dataset; active; high"
          ],
          [
           "feature; label; sample; training; class; prediction; machine_learning; dataset; active; high"
          ],
          [
           "feature; label; sample; training; class; prediction; machine_learning; dataset; active; high"
          ],
          [
           "feature; label; sample; training; class; prediction; machine_learning; dataset; active; high"
          ],
          [
           "feature; label; sample; training; class; prediction; machine_learning; dataset; active; high"
          ],
          [
           "feature; label; sample; training; class; prediction; machine_learning; dataset; active; high"
          ],
          [
           "feature; label; sample; training; class; prediction; machine_learning; dataset; active; high"
          ],
          [
           "feature; label; sample; training; class; prediction; machine_learning; dataset; active; high"
          ],
          [
           "feature; label; sample; training; class; prediction; machine_learning; dataset; active; high"
          ],
          [
           "feature; label; sample; training; class; prediction; machine_learning; dataset; active; high"
          ],
          [
           "feature; label; sample; training; class; prediction; machine_learning; dataset; active; high"
          ],
          [
           "feature; label; sample; training; class; prediction; machine_learning; dataset; active; high"
          ],
          [
           "feature; label; sample; training; class; prediction; machine_learning; dataset; active; high"
          ],
          [
           "feature; label; sample; training; class; prediction; machine_learning; dataset; active; high"
          ],
          [
           "feature; label; sample; training; class; prediction; machine_learning; dataset; active; high"
          ],
          [
           "feature; label; sample; training; class; prediction; machine_learning; dataset; active; high"
          ],
          [
           "feature; label; sample; training; class; prediction; machine_learning; dataset; active; high"
          ],
          [
           "feature; label; sample; training; class; prediction; machine_learning; dataset; active; high"
          ],
          [
           "feature; label; sample; training; class; prediction; machine_learning; dataset; active; high"
          ],
          [
           "feature; label; sample; training; class; prediction; machine_learning; dataset; active; high"
          ],
          [
           "feature; label; sample; training; class; prediction; machine_learning; dataset; active; high"
          ],
          [
           "feature; label; sample; training; class; prediction; machine_learning; dataset; active; high"
          ]
         ],
         "hovertemplate": "<b>%{hovertext}</b><br><br>color=Topic: 10<br>x=%{x}<br>y=%{y}<br>topic_txt=%{customdata[0]}<extra></extra>",
         "hovertext": [
          "Machine Learning using AWS ML. Machine learning is an application of… | by Janitha Tennakoon | Data Driven Investor | Medium",
          "12 Useful Things to Know about Machine Learning | by James Le | Cracking The Data Science Interview | Medium",
          "Automated and Interpretable Machine Learning | by Francesca Lazzeri | Microsoft Azure | Medium",
          "5 Concepts You Must Know to Pass AWS Machine Learning Certification Exam | The Startup",
          "Optimization Algorithms: Part 1. This article covers the content… | by Parveen Khurana | Medium",
          "Machine Learning | Anomaly detection | by Pierre Portal | Medium",
          "Active Learning. I am sure when you think the words… | by Shivani Kohli | Medium",
          "An Introduction to Active Learning | by ODSC - Open Data Science | Medium",
          "Active Learning: the Theory. Active learning is still a niche… | by Olga Petrova | Scaleway | Medium",
          "How to Improve Data Labeling Efficiency with Auto-Labeling, Uncertainty Estimates, and Active Learning | by Hyun Kim | Towards AI — Multidisciplinary Science Journal | Sep, 2020 | Medium",
          "Active Learning: Your Model’s New Personal Trainer | by ODSC - Open Data Science | Medium",
          "Hands-on Machine Learning Model Interpretation | by Dipanjan (DJ) Sarkar | Towards Data Science",
          "Explainable AI: Interpretation & Trust in Machine Learning Models - Lime | Towards Data Science",
          "Introduction to Active Learning. What is Active Learning? | by Michelle Zhao | Towards Data Science",
          "Neural Networks Intuitions: 9. Distance Metric Learning | by Raghul Asokan | Aug, 2020 | Towards Data Science",
          "How To Use Active Learning To Iteratively Improve Your Machine Learning Models | by ___ | Towards AI — Multidisciplinary Science Journal | Medium",
          "Interpreting Deep Learning Models for Computer Vision | by Dipanjan (DJ) Sarkar | Google Developers Experts | Medium",
          "Understanding Random Forest. How the Algorithm Works and Why it Is… | by Tony Yiu | Towards Data Science",
          "What Is Optimisation?. Understanding The Science Of… | by Farhad Malik | FinTechExplained | Medium",
          "#explainCovid19 challenge. For some time, I’ve been interested in… | by Przemyslaw Biecek | Medium",
          "Spotting Defects! — Deep Metric Learning Solution For MVTec Anomaly Detection Dataset | by daisukelab | Analytics Vidhya | Medium",
          "A Short Introduction to Active Learning | by Raul Incze | Cognifeed | Medium",
          "Active Learning with PyTorch. Building Uncertainty Sampling… | by Robert Munro | PyTorch | Medium",
          "Supervised and Unsupervised Learning | by Vineet Maheshwari | Data Driven Investor | Medium",
          "Explanatory Model Analysis with modelStudio | by Przemyslaw Biecek | Medium",
          "Unsupervised Learning – The Startup – Medium",
          "Human-in-the-Loop Label Generation with Active Learning and Weak Supervision | by ODSC - Open Data Science | Medium"
         ],
         "legendgroup": "Topic: 10",
         "marker": {
          "color": "#479B55",
          "symbol": "circle"
         },
         "mode": "markers",
         "name": "Topic: 10",
         "orientation": "v",
         "showlegend": true,
         "type": "scatter",
         "x": [
          1.2016730308532715,
          2.7868924140930176,
          2.9623658657073975,
          2.8526978492736816,
          1.9483544826507568,
          1.5630881786346436,
          2.5238611698150635,
          2.1834726333618164,
          2.740745782852173,
          2.1160504817962646,
          2.3655879497528076,
          2.4396815299987793,
          2.7481114864349365,
          2.2378106117248535,
          1.8775622844696045,
          2.4996440410614014,
          1.8701276779174805,
          2.597503900527954,
          1.7517083883285522,
          2.6069540977478027,
          1.785516619682312,
          2.6563868522644043,
          2.871574640274048,
          2.1127586364746094,
          2.163731813430786,
          1.18300461769104,
          2.2462849617004395
         ],
         "xaxis": "x",
         "y": [
          -0.28933238983154297,
          -3.6409778594970703,
          -4.343019008636475,
          -3.8350462913513184,
          -3.701131582260132,
          -1.8242599964141846,
          -3.6006295680999756,
          -4.485170364379883,
          -4.228948593139648,
          -4.569096088409424,
          -4.003890514373779,
          -5.1280903816223145,
          -3.9289820194244385,
          -4.868382930755615,
          -1.0043964385986328,
          -4.414062023162842,
          -4.073817253112793,
          -4.894641876220703,
          -2.295215368270874,
          -2.6772091388702393,
          -2.0813004970550537,
          -4.8061041831970215,
          -2.479928493499756,
          -3.60066819190979,
          -3.9827301502227783,
          -0.7411267161369324,
          -3.2345829010009766
         ],
         "yaxis": "y"
        },
        {
         "customdata": [
          [
           "topic; distribution; document; word; page; link; matrix; lda; variable; object"
          ],
          [
           "topic; distribution; document; word; page; link; matrix; lda; variable; object"
          ],
          [
           "topic; distribution; document; word; page; link; matrix; lda; variable; object"
          ],
          [
           "topic; distribution; document; word; page; link; matrix; lda; variable; object"
          ],
          [
           "topic; distribution; document; word; page; link; matrix; lda; variable; object"
          ],
          [
           "topic; distribution; document; word; page; link; matrix; lda; variable; object"
          ],
          [
           "topic; distribution; document; word; page; link; matrix; lda; variable; object"
          ],
          [
           "topic; distribution; document; word; page; link; matrix; lda; variable; object"
          ],
          [
           "topic; distribution; document; word; page; link; matrix; lda; variable; object"
          ],
          [
           "topic; distribution; document; word; page; link; matrix; lda; variable; object"
          ],
          [
           "topic; distribution; document; word; page; link; matrix; lda; variable; object"
          ],
          [
           "topic; distribution; document; word; page; link; matrix; lda; variable; object"
          ],
          [
           "topic; distribution; document; word; page; link; matrix; lda; variable; object"
          ],
          [
           "topic; distribution; document; word; page; link; matrix; lda; variable; object"
          ],
          [
           "topic; distribution; document; word; page; link; matrix; lda; variable; object"
          ],
          [
           "topic; distribution; document; word; page; link; matrix; lda; variable; object"
          ],
          [
           "topic; distribution; document; word; page; link; matrix; lda; variable; object"
          ],
          [
           "topic; distribution; document; word; page; link; matrix; lda; variable; object"
          ],
          [
           "topic; distribution; document; word; page; link; matrix; lda; variable; object"
          ],
          [
           "topic; distribution; document; word; page; link; matrix; lda; variable; object"
          ],
          [
           "topic; distribution; document; word; page; link; matrix; lda; variable; object"
          ],
          [
           "topic; distribution; document; word; page; link; matrix; lda; variable; object"
          ],
          [
           "topic; distribution; document; word; page; link; matrix; lda; variable; object"
          ],
          [
           "topic; distribution; document; word; page; link; matrix; lda; variable; object"
          ],
          [
           "topic; distribution; document; word; page; link; matrix; lda; variable; object"
          ]
         ],
         "hovertemplate": "<b>%{hovertext}</b><br><br>color=Topic: 11<br>x=%{x}<br>y=%{y}<br>topic_txt=%{customdata[0]}<extra></extra>",
         "hovertext": [
          "Intuitive Guide to Latent Dirichlet Allocation | by Thushan Ganegedara | Towards Data Science",
          "Topic Modeling Open Source Tool. A tool built with python and streamlit… | by Bamigbade Opeyemi | Towards AI — Multidisciplinary Science Journal | Medium",
          "Topic Modeling with LSA, PLSA, LDA & lda2Vec | by Joyce Xu | NanoNets | Medium",
          "Topic Modeling of New York Times Articles | by Susan Li | SwiftWorld | Medium",
          "Your Guide to Latent Dirichlet Allocation | by Lettier | Medium",
          "Implementation of Page rank algorithm in python using Random walk method | by ANJALI CHACHRA | Medium",
          "Understanding Principle Component Analysis(PCA) step by step. | by The Nobles | Analytics Vidhya | Medium",
          "Understanding Page Rank. In simple terms, PageRank is an… | by Sarthak Anand | Medium",
          "SEO is Not Hard — A step-by-step SEO Tutorial for beginners that will get you ranked every single time | by Austen Allred | Startup Grind | Medium",
          "Machine Learning — Latent Dirichlet Allocation LDA | by Jonathan Hui | Medium",
          "Topic Modeling (NLP) LSA, pLSA, LDA with python | Medium",
          "Object Modeling for Designers: An Introduction | by Heidi Adkisson | Medium",
          "LDA Topic Modeling: An Explanation | by Tyler Doll | Towards Data Science",
          "Google Page Rank and Markov Chains | by RAvi TeJA GUNdimeDA | Analytics Vidhya | Aug, 2020 | Medium",
          "Interpreting and validating topic models | by Patrick van Kessel | Pew Research Center: Decoded | Medium",
          "Topic Modeling. Optimizing for Human Interpretability | by Alyssa Wisdom | Square Corner Blog | Medium",
          "An intro to topic models for text analysis | by Patrick van Kessel | Pew Research Center: Decoded | Medium",
          "Overcoming the limitations of topic models with a semi-supervised approach | by Patrick van Kessel | Pew Research Center: Decoded | Medium",
          "Latent Dirichlet Allocation for Beginners: A high level intuition | by Pratik Barhate | Medium",
          "How to Perform Fraud Detection with Personalized Page Rank | by Antoine Moreau | Sicara's blog | Medium",
          "Making sense of topic models. Topic models can produce clusters of… | by Patrick van Kessel | Pew Research Center: Decoded | Medium",
          "Principal Component Analysis(PCA) | by Aniket Patil | Analytics Vidhya | Medium",
          "Latent Dirichlet Allocation. What the heck is LDA and how is it used… | by J.P. Rinfret | The Startup | Medium",
          "A Scoop of SEO: How to optimize your Website’s Page Rank? | by Spreeha Dutta | Code To Express | Medium",
          "Machine Learning — Singular Value Decomposition (SVD) & Principal Component Analysis (PCA) | by Jonathan Hui | Medium"
         ],
         "legendgroup": "Topic: 11",
         "marker": {
          "color": "#EEA6FB",
          "symbol": "circle"
         },
         "mode": "markers",
         "name": "Topic: 11",
         "orientation": "v",
         "showlegend": true,
         "type": "scatter",
         "x": [
          -6.223310947418213,
          -5.897578716278076,
          -6.478634357452393,
          -6.214362144470215,
          -7.411348819732666,
          -5.458180904388428,
          -5.64829683303833,
          -7.476318359375,
          -7.295618057250977,
          -7.549169540405273,
          -6.300431251525879,
          -7.798245906829834,
          -5.959010124206543,
          -6.985324382781982,
          -6.98877477645874,
          -7.154780387878418,
          -6.809562683105469,
          -7.375431537628174,
          -6.4136528968811035,
          -0.9904002547264099,
          -7.446747303009033,
          -5.802107334136963,
          -6.706852436065674,
          -7.306320667266846,
          -6.335067272186279
         ],
         "xaxis": "x",
         "y": [
          -3.42336368560791,
          -2.3519387245178223,
          -3.424612522125244,
          -3.6128950119018555,
          -3.9063031673431396,
          -1.4036140441894531,
          -1.34726881980896,
          -3.756227493286133,
          -2.6522717475891113,
          -4.1131272315979,
          -3.6048498153686523,
          -2.832838535308838,
          -3.486701011657715,
          -2.7164289951324463,
          -3.3672540187835693,
          -3.3968420028686523,
          -3.872218370437622,
          -3.381549835205078,
          -3.7366440296173096,
          -1.1764963865280151,
          -3.908188581466675,
          -1.5033879280090332,
          -3.8317275047302246,
          -1.8090623617172241,
          -1.9960761070251465
         ],
         "yaxis": "y"
        },
        {
         "customdata": [
          [
           "word; document; text; language; article; nlp; sentence; understand; natural_language; natural"
          ],
          [
           "word; document; text; language; article; nlp; sentence; understand; natural_language; natural"
          ],
          [
           "word; document; text; language; article; nlp; sentence; understand; natural_language; natural"
          ],
          [
           "word; document; text; language; article; nlp; sentence; understand; natural_language; natural"
          ],
          [
           "word; document; text; language; article; nlp; sentence; understand; natural_language; natural"
          ],
          [
           "word; document; text; language; article; nlp; sentence; understand; natural_language; natural"
          ],
          [
           "word; document; text; language; article; nlp; sentence; understand; natural_language; natural"
          ],
          [
           "word; document; text; language; article; nlp; sentence; understand; natural_language; natural"
          ],
          [
           "word; document; text; language; article; nlp; sentence; understand; natural_language; natural"
          ],
          [
           "word; document; text; language; article; nlp; sentence; understand; natural_language; natural"
          ],
          [
           "word; document; text; language; article; nlp; sentence; understand; natural_language; natural"
          ],
          [
           "word; document; text; language; article; nlp; sentence; understand; natural_language; natural"
          ],
          [
           "word; document; text; language; article; nlp; sentence; understand; natural_language; natural"
          ],
          [
           "word; document; text; language; article; nlp; sentence; understand; natural_language; natural"
          ],
          [
           "word; document; text; language; article; nlp; sentence; understand; natural_language; natural"
          ],
          [
           "word; document; text; language; article; nlp; sentence; understand; natural_language; natural"
          ],
          [
           "word; document; text; language; article; nlp; sentence; understand; natural_language; natural"
          ],
          [
           "word; document; text; language; article; nlp; sentence; understand; natural_language; natural"
          ],
          [
           "word; document; text; language; article; nlp; sentence; understand; natural_language; natural"
          ]
         ],
         "hovertemplate": "<b>%{hovertext}</b><br><br>color=Topic: 1<br>x=%{x}<br>y=%{y}<br>topic_txt=%{customdata[0]}<extra></extra>",
         "hovertext": [
          "Topic Modeling and Latent Dirichlet Allocation (LDA) in Python | by Susan Li | Towards Data Science",
          "A Comprehensive Guide to Natural Language Generation | by Sciforce | Sciforce | Medium",
          "Natural Language Processing is Fun! | by Adam Geitgey | Medium",
          "Topic Modeling Tutorial with Latent Dirichlet Allocation (LDA) | by Michel Kana, Ph.D | Towards Data Science",
          "Get started with NLP (Part I). This is the first part of a series of… | by sigmoider | Medium",
          "Similarity Queries and Text Summarization in NLP | by Aravind CR | The Startup | Medium",
          "Word2Vector using Gensim. Intro : The goal is to build Word2Vec… | by Gaurav Padawe | Analytics Vidhya | Medium",
          "Getting to Know Natural Language Understanding | by ODSC - Open Data Science | Medium",
          "Analyzing historical speeches using Amazon Transcribe and Comprehend | by Gabriel dos Santos Goncalves | Towards Data Science",
          "Automated Keyword Extraction from Articles using NLP | by Sowmya Vivek | Analytics Vidhya | Medium",
          "Natural Language Processing and Social Media | by Paldesk | Medium",
          "I see you have extracted the keywords but what are the scores in the extract key word function? | by Shengyu Chen | Medium",
          "A dive into Natural Language Processing | by Jocelyn D'Souza | GreyAtom | Medium",
          "Using NLP (BERT) to improve OCR accuracy | by Ravi Ilango | States Title | Medium",
          "Latent Dirichlet Allocation(LDA): A guide to probabilistic modelling approach for topic discovery | by Awan-Ur-Rahman | Towards Data Science",
          "A Practitioner's Guide to Natural Language Processing (Part I) — Processing & Understanding Text | by Dipanjan (DJ) Sarkar | Towards Data Science",
          "A Beginner’s Guide To Natural Language Processing | by Manish Shivanandhan | Manish Shivanandhan’s Blog | Medium",
          "A Beginner’s Guide to Latent Dirichlet Allocation(LDA) | by Ria Kulshrestha | Towards Data Science",
          "Intro to Automatic Keyword Extraction | by Nattapong Ousirimaneechai | Medium"
         ],
         "legendgroup": "Topic: 1",
         "marker": {
          "color": "#DC587D",
          "symbol": "circle"
         },
         "mode": "markers",
         "name": "Topic: 1",
         "orientation": "v",
         "showlegend": true,
         "type": "scatter",
         "x": [
          -3.864309072494507,
          -2.093691349029541,
          -3.0423684120178223,
          -4.678660869598389,
          -3.0604000091552734,
          -2.3857333660125732,
          -0.7116529941558838,
          -3.150184154510498,
          -4.0968732833862305,
          -3.3683273792266846,
          -3.026212453842163,
          -0.9122263193130493,
          -2.994943618774414,
          -3.1156513690948486,
          -5.112550258636475,
          -2.9370412826538086,
          -3.213778018951416,
          -3.872305393218994,
          -2.0855391025543213
         ],
         "xaxis": "x",
         "y": [
          -2.9203898906707764,
          -0.44034647941589355,
          -2.7025840282440186,
          -3.3394393920898438,
          -2.455549955368042,
          -1.0001252889633179,
          0.8042052984237671,
          -1.960339903831482,
          2.165130615234375,
          -2.676945924758911,
          -1.8102632761001587,
          0.6141220331192017,
          -2.8035879135131836,
          -2.323000431060791,
          -3.494521379470825,
          -2.885943651199341,
          -0.47869589924812317,
          -2.9578816890716553,
          -0.6452565789222717
         ],
         "yaxis": "y"
        },
        {
         "customdata": [
          [
           "graph; network; node; neural; task; deep; approach; paper; neural_network; edge"
          ],
          [
           "graph; network; node; neural; task; deep; approach; paper; neural_network; edge"
          ],
          [
           "graph; network; node; neural; task; deep; approach; paper; neural_network; edge"
          ],
          [
           "graph; network; node; neural; task; deep; approach; paper; neural_network; edge"
          ],
          [
           "graph; network; node; neural; task; deep; approach; paper; neural_network; edge"
          ],
          [
           "graph; network; node; neural; task; deep; approach; paper; neural_network; edge"
          ],
          [
           "graph; network; node; neural; task; deep; approach; paper; neural_network; edge"
          ],
          [
           "graph; network; node; neural; task; deep; approach; paper; neural_network; edge"
          ],
          [
           "graph; network; node; neural; task; deep; approach; paper; neural_network; edge"
          ],
          [
           "graph; network; node; neural; task; deep; approach; paper; neural_network; edge"
          ],
          [
           "graph; network; node; neural; task; deep; approach; paper; neural_network; edge"
          ],
          [
           "graph; network; node; neural; task; deep; approach; paper; neural_network; edge"
          ],
          [
           "graph; network; node; neural; task; deep; approach; paper; neural_network; edge"
          ],
          [
           "graph; network; node; neural; task; deep; approach; paper; neural_network; edge"
          ],
          [
           "graph; network; node; neural; task; deep; approach; paper; neural_network; edge"
          ],
          [
           "graph; network; node; neural; task; deep; approach; paper; neural_network; edge"
          ],
          [
           "graph; network; node; neural; task; deep; approach; paper; neural_network; edge"
          ],
          [
           "graph; network; node; neural; task; deep; approach; paper; neural_network; edge"
          ],
          [
           "graph; network; node; neural; task; deep; approach; paper; neural_network; edge"
          ],
          [
           "graph; network; node; neural; task; deep; approach; paper; neural_network; edge"
          ],
          [
           "graph; network; node; neural; task; deep; approach; paper; neural_network; edge"
          ]
         ],
         "hovertemplate": "<b>%{hovertext}</b><br><br>color=Topic: 3<br>x=%{x}<br>y=%{y}<br>topic_txt=%{customdata[0]}<extra></extra>",
         "hovertext": [
          "How to get started with machine learning on graphs | by David Mack | Octavian | Medium",
          "Industrial applications of topic model | by Fatma Fatma | Medium",
          "The Computational Complexity of Graph Neural Networks explained | by Franziska Lippoldt | Sep, 2020 | Medium",
          "Finding shortest paths with Graph Neural Networks | by David Mack | Octavian | Medium",
          "🌻The Best and Most Current of Modern Natural Language Processing | by Victor Sanh | HuggingFace | Medium",
          "Algorithmic Trading in Crypto. We explore the design and… | by Kevin Zhou | Galois Capital | Medium",
          "Geoffrey Hinton & Google Brain Unsupervised Learning Algorithm Improves SOTA Accuracy on ImageNet by 7% | by Synced | SyncedReview | Medium",
          "Applications of Graph Neural Networks | by Aishwarya Jadhav | Towards Data Science",
          "GluonNLP 0.6: Closing the Gap in Reproducible Research with BERT | by Eric Haibin Lin | Apache MXNet | Medium",
          "Graph-based Deep Learning: Approaching a True “Neural” Network | by Mark Cleverley | Medium",
          "A collection of must known resources for every Natural Language Processing (NLP) practitioner | by Nikhil Jaiswal | Towards Data Science",
          "Deep learning: the final frontier for signal processing and time series analysis? | by Alexandr Honchar | Medium",
          "Navigating the Unsupervised Learning Landscape | by Eugenio Culurciello | Intuition Machine | Medium",
          "Understanding BERT — The basics. Full credit to Chris Mccormick’s blog… | by Dharti Dhami | Medium",
          "NLP Year in Review — 2019. NLP highlights for the year 2019. | by Elvis | dair.ai | Medium",
          "A Brief Survey of Node Classification with Graph Neural Networks | by ODSC - Open Data Science | Medium",
          "DeepMind et al Paper Trumpets Graph Networks | by Synced | SyncedReview | Medium",
          "An Intro to the Page Rank Algorithm | by Zachary Marszal | Medium",
          "Graph Convolutional Neural Networks- A Talk at IISc | by Sukriti Paul | ACM-W Manipal | Medium",
          "What is Unsupervised Learning?. August 10, 2017 | by Shubham Mishra | Medium",
          "Enhancing a Facial Recognition System via a Deep Learning Model as a Similarity Metric | by Fortune Okorji | Seamfix Engineering | Medium"
         ],
         "legendgroup": "Topic: 3",
         "marker": {
          "color": "#D626FF",
          "symbol": "circle"
         },
         "mode": "markers",
         "name": "Topic: 3",
         "orientation": "v",
         "showlegend": true,
         "type": "scatter",
         "x": [
          7.343264579772949,
          -0.9719337821006775,
          7.725043773651123,
          8.135015487670898,
          8.033960342407227,
          5.7116899490356445,
          7.337884426116943,
          7.725337505340576,
          7.0335001945495605,
          7.872121334075928,
          6.978482246398926,
          6.699382781982422,
          7.6115803718566895,
          7.8374505043029785,
          8.336197853088379,
          8.222087860107422,
          7.476851463317871,
          -0.5661897659301758,
          8.017431259155273,
          6.674044132232666,
          6.894587993621826
         ],
         "xaxis": "x",
         "y": [
          -2.015158176422119,
          -1.3065922260284424,
          -1.6125996112823486,
          -2.0330753326416016,
          -1.0671494007110596,
          -1.5158113241195679,
          -1.517325758934021,
          -1.0898175239562988,
          -0.8687632083892822,
          -1.4043625593185425,
          -0.8000749349594116,
          -1.8767368793487549,
          -1.6860183477401733,
          -1.528923511505127,
          -1.102681040763855,
          -1.2727640867233276,
          -1.1545770168304443,
          -1.0892152786254883,
          -1.64443039894104,
          -1.5647469758987427,
          -1.674453616142273
         ],
         "yaxis": "y"
        }
       ],
       "layout": {
        "legend": {
         "title": {
          "text": "color"
         },
         "tracegroupgap": 0
        },
        "template": {
         "data": {
          "bar": [
           {
            "error_x": {
             "color": "#2a3f5f"
            },
            "error_y": {
             "color": "#2a3f5f"
            },
            "marker": {
             "line": {
              "color": "white",
              "width": 0.5
             }
            },
            "type": "bar"
           }
          ],
          "barpolar": [
           {
            "marker": {
             "line": {
              "color": "white",
              "width": 0.5
             }
            },
            "type": "barpolar"
           }
          ],
          "carpet": [
           {
            "aaxis": {
             "endlinecolor": "#2a3f5f",
             "gridcolor": "#C8D4E3",
             "linecolor": "#C8D4E3",
             "minorgridcolor": "#C8D4E3",
             "startlinecolor": "#2a3f5f"
            },
            "baxis": {
             "endlinecolor": "#2a3f5f",
             "gridcolor": "#C8D4E3",
             "linecolor": "#C8D4E3",
             "minorgridcolor": "#C8D4E3",
             "startlinecolor": "#2a3f5f"
            },
            "type": "carpet"
           }
          ],
          "choropleth": [
           {
            "colorbar": {
             "outlinewidth": 0,
             "ticks": ""
            },
            "type": "choropleth"
           }
          ],
          "contour": [
           {
            "colorbar": {
             "outlinewidth": 0,
             "ticks": ""
            },
            "colorscale": [
             [
              0,
              "#0d0887"
             ],
             [
              0.1111111111111111,
              "#46039f"
             ],
             [
              0.2222222222222222,
              "#7201a8"
             ],
             [
              0.3333333333333333,
              "#9c179e"
             ],
             [
              0.4444444444444444,
              "#bd3786"
             ],
             [
              0.5555555555555556,
              "#d8576b"
             ],
             [
              0.6666666666666666,
              "#ed7953"
             ],
             [
              0.7777777777777778,
              "#fb9f3a"
             ],
             [
              0.8888888888888888,
              "#fdca26"
             ],
             [
              1,
              "#f0f921"
             ]
            ],
            "type": "contour"
           }
          ],
          "contourcarpet": [
           {
            "colorbar": {
             "outlinewidth": 0,
             "ticks": ""
            },
            "type": "contourcarpet"
           }
          ],
          "heatmap": [
           {
            "colorbar": {
             "outlinewidth": 0,
             "ticks": ""
            },
            "colorscale": [
             [
              0,
              "#0d0887"
             ],
             [
              0.1111111111111111,
              "#46039f"
             ],
             [
              0.2222222222222222,
              "#7201a8"
             ],
             [
              0.3333333333333333,
              "#9c179e"
             ],
             [
              0.4444444444444444,
              "#bd3786"
             ],
             [
              0.5555555555555556,
              "#d8576b"
             ],
             [
              0.6666666666666666,
              "#ed7953"
             ],
             [
              0.7777777777777778,
              "#fb9f3a"
             ],
             [
              0.8888888888888888,
              "#fdca26"
             ],
             [
              1,
              "#f0f921"
             ]
            ],
            "type": "heatmap"
           }
          ],
          "heatmapgl": [
           {
            "colorbar": {
             "outlinewidth": 0,
             "ticks": ""
            },
            "colorscale": [
             [
              0,
              "#0d0887"
             ],
             [
              0.1111111111111111,
              "#46039f"
             ],
             [
              0.2222222222222222,
              "#7201a8"
             ],
             [
              0.3333333333333333,
              "#9c179e"
             ],
             [
              0.4444444444444444,
              "#bd3786"
             ],
             [
              0.5555555555555556,
              "#d8576b"
             ],
             [
              0.6666666666666666,
              "#ed7953"
             ],
             [
              0.7777777777777778,
              "#fb9f3a"
             ],
             [
              0.8888888888888888,
              "#fdca26"
             ],
             [
              1,
              "#f0f921"
             ]
            ],
            "type": "heatmapgl"
           }
          ],
          "histogram": [
           {
            "marker": {
             "colorbar": {
              "outlinewidth": 0,
              "ticks": ""
             }
            },
            "type": "histogram"
           }
          ],
          "histogram2d": [
           {
            "colorbar": {
             "outlinewidth": 0,
             "ticks": ""
            },
            "colorscale": [
             [
              0,
              "#0d0887"
             ],
             [
              0.1111111111111111,
              "#46039f"
             ],
             [
              0.2222222222222222,
              "#7201a8"
             ],
             [
              0.3333333333333333,
              "#9c179e"
             ],
             [
              0.4444444444444444,
              "#bd3786"
             ],
             [
              0.5555555555555556,
              "#d8576b"
             ],
             [
              0.6666666666666666,
              "#ed7953"
             ],
             [
              0.7777777777777778,
              "#fb9f3a"
             ],
             [
              0.8888888888888888,
              "#fdca26"
             ],
             [
              1,
              "#f0f921"
             ]
            ],
            "type": "histogram2d"
           }
          ],
          "histogram2dcontour": [
           {
            "colorbar": {
             "outlinewidth": 0,
             "ticks": ""
            },
            "colorscale": [
             [
              0,
              "#0d0887"
             ],
             [
              0.1111111111111111,
              "#46039f"
             ],
             [
              0.2222222222222222,
              "#7201a8"
             ],
             [
              0.3333333333333333,
              "#9c179e"
             ],
             [
              0.4444444444444444,
              "#bd3786"
             ],
             [
              0.5555555555555556,
              "#d8576b"
             ],
             [
              0.6666666666666666,
              "#ed7953"
             ],
             [
              0.7777777777777778,
              "#fb9f3a"
             ],
             [
              0.8888888888888888,
              "#fdca26"
             ],
             [
              1,
              "#f0f921"
             ]
            ],
            "type": "histogram2dcontour"
           }
          ],
          "mesh3d": [
           {
            "colorbar": {
             "outlinewidth": 0,
             "ticks": ""
            },
            "type": "mesh3d"
           }
          ],
          "parcoords": [
           {
            "line": {
             "colorbar": {
              "outlinewidth": 0,
              "ticks": ""
             }
            },
            "type": "parcoords"
           }
          ],
          "pie": [
           {
            "automargin": true,
            "type": "pie"
           }
          ],
          "scatter": [
           {
            "marker": {
             "colorbar": {
              "outlinewidth": 0,
              "ticks": ""
             }
            },
            "type": "scatter"
           }
          ],
          "scatter3d": [
           {
            "line": {
             "colorbar": {
              "outlinewidth": 0,
              "ticks": ""
             }
            },
            "marker": {
             "colorbar": {
              "outlinewidth": 0,
              "ticks": ""
             }
            },
            "type": "scatter3d"
           }
          ],
          "scattercarpet": [
           {
            "marker": {
             "colorbar": {
              "outlinewidth": 0,
              "ticks": ""
             }
            },
            "type": "scattercarpet"
           }
          ],
          "scattergeo": [
           {
            "marker": {
             "colorbar": {
              "outlinewidth": 0,
              "ticks": ""
             }
            },
            "type": "scattergeo"
           }
          ],
          "scattergl": [
           {
            "marker": {
             "colorbar": {
              "outlinewidth": 0,
              "ticks": ""
             }
            },
            "type": "scattergl"
           }
          ],
          "scattermapbox": [
           {
            "marker": {
             "colorbar": {
              "outlinewidth": 0,
              "ticks": ""
             }
            },
            "type": "scattermapbox"
           }
          ],
          "scatterpolar": [
           {
            "marker": {
             "colorbar": {
              "outlinewidth": 0,
              "ticks": ""
             }
            },
            "type": "scatterpolar"
           }
          ],
          "scatterpolargl": [
           {
            "marker": {
             "colorbar": {
              "outlinewidth": 0,
              "ticks": ""
             }
            },
            "type": "scatterpolargl"
           }
          ],
          "scatterternary": [
           {
            "marker": {
             "colorbar": {
              "outlinewidth": 0,
              "ticks": ""
             }
            },
            "type": "scatterternary"
           }
          ],
          "surface": [
           {
            "colorbar": {
             "outlinewidth": 0,
             "ticks": ""
            },
            "colorscale": [
             [
              0,
              "#0d0887"
             ],
             [
              0.1111111111111111,
              "#46039f"
             ],
             [
              0.2222222222222222,
              "#7201a8"
             ],
             [
              0.3333333333333333,
              "#9c179e"
             ],
             [
              0.4444444444444444,
              "#bd3786"
             ],
             [
              0.5555555555555556,
              "#d8576b"
             ],
             [
              0.6666666666666666,
              "#ed7953"
             ],
             [
              0.7777777777777778,
              "#fb9f3a"
             ],
             [
              0.8888888888888888,
              "#fdca26"
             ],
             [
              1,
              "#f0f921"
             ]
            ],
            "type": "surface"
           }
          ],
          "table": [
           {
            "cells": {
             "fill": {
              "color": "#EBF0F8"
             },
             "line": {
              "color": "white"
             }
            },
            "header": {
             "fill": {
              "color": "#C8D4E3"
             },
             "line": {
              "color": "white"
             }
            },
            "type": "table"
           }
          ]
         },
         "layout": {
          "annotationdefaults": {
           "arrowcolor": "#2a3f5f",
           "arrowhead": 0,
           "arrowwidth": 1
          },
          "coloraxis": {
           "colorbar": {
            "outlinewidth": 0,
            "ticks": ""
           }
          },
          "colorscale": {
           "diverging": [
            [
             0,
             "#8e0152"
            ],
            [
             0.1,
             "#c51b7d"
            ],
            [
             0.2,
             "#de77ae"
            ],
            [
             0.3,
             "#f1b6da"
            ],
            [
             0.4,
             "#fde0ef"
            ],
            [
             0.5,
             "#f7f7f7"
            ],
            [
             0.6,
             "#e6f5d0"
            ],
            [
             0.7,
             "#b8e186"
            ],
            [
             0.8,
             "#7fbc41"
            ],
            [
             0.9,
             "#4d9221"
            ],
            [
             1,
             "#276419"
            ]
           ],
           "sequential": [
            [
             0,
             "#0d0887"
            ],
            [
             0.1111111111111111,
             "#46039f"
            ],
            [
             0.2222222222222222,
             "#7201a8"
            ],
            [
             0.3333333333333333,
             "#9c179e"
            ],
            [
             0.4444444444444444,
             "#bd3786"
            ],
            [
             0.5555555555555556,
             "#d8576b"
            ],
            [
             0.6666666666666666,
             "#ed7953"
            ],
            [
             0.7777777777777778,
             "#fb9f3a"
            ],
            [
             0.8888888888888888,
             "#fdca26"
            ],
            [
             1,
             "#f0f921"
            ]
           ],
           "sequentialminus": [
            [
             0,
             "#0d0887"
            ],
            [
             0.1111111111111111,
             "#46039f"
            ],
            [
             0.2222222222222222,
             "#7201a8"
            ],
            [
             0.3333333333333333,
             "#9c179e"
            ],
            [
             0.4444444444444444,
             "#bd3786"
            ],
            [
             0.5555555555555556,
             "#d8576b"
            ],
            [
             0.6666666666666666,
             "#ed7953"
            ],
            [
             0.7777777777777778,
             "#fb9f3a"
            ],
            [
             0.8888888888888888,
             "#fdca26"
            ],
            [
             1,
             "#f0f921"
            ]
           ]
          },
          "colorway": [
           "#636efa",
           "#EF553B",
           "#00cc96",
           "#ab63fa",
           "#FFA15A",
           "#19d3f3",
           "#FF6692",
           "#B6E880",
           "#FF97FF",
           "#FECB52"
          ],
          "font": {
           "color": "#2a3f5f"
          },
          "geo": {
           "bgcolor": "white",
           "lakecolor": "white",
           "landcolor": "white",
           "showlakes": true,
           "showland": true,
           "subunitcolor": "#C8D4E3"
          },
          "hoverlabel": {
           "align": "left"
          },
          "hovermode": "closest",
          "mapbox": {
           "style": "light"
          },
          "paper_bgcolor": "white",
          "plot_bgcolor": "white",
          "polar": {
           "angularaxis": {
            "gridcolor": "#EBF0F8",
            "linecolor": "#EBF0F8",
            "ticks": ""
           },
           "bgcolor": "white",
           "radialaxis": {
            "gridcolor": "#EBF0F8",
            "linecolor": "#EBF0F8",
            "ticks": ""
           }
          },
          "scene": {
           "xaxis": {
            "backgroundcolor": "white",
            "gridcolor": "#DFE8F3",
            "gridwidth": 2,
            "linecolor": "#EBF0F8",
            "showbackground": true,
            "ticks": "",
            "zerolinecolor": "#EBF0F8"
           },
           "yaxis": {
            "backgroundcolor": "white",
            "gridcolor": "#DFE8F3",
            "gridwidth": 2,
            "linecolor": "#EBF0F8",
            "showbackground": true,
            "ticks": "",
            "zerolinecolor": "#EBF0F8"
           },
           "zaxis": {
            "backgroundcolor": "white",
            "gridcolor": "#DFE8F3",
            "gridwidth": 2,
            "linecolor": "#EBF0F8",
            "showbackground": true,
            "ticks": "",
            "zerolinecolor": "#EBF0F8"
           }
          },
          "shapedefaults": {
           "line": {
            "color": "#2a3f5f"
           }
          },
          "ternary": {
           "aaxis": {
            "gridcolor": "#DFE8F3",
            "linecolor": "#A2B1C6",
            "ticks": ""
           },
           "baxis": {
            "gridcolor": "#DFE8F3",
            "linecolor": "#A2B1C6",
            "ticks": ""
           },
           "bgcolor": "white",
           "caxis": {
            "gridcolor": "#DFE8F3",
            "linecolor": "#A2B1C6",
            "ticks": ""
           }
          },
          "title": {
           "x": 0.05
          },
          "xaxis": {
           "automargin": true,
           "gridcolor": "#EBF0F8",
           "linecolor": "#EBF0F8",
           "ticks": "",
           "title": {
            "standoff": 15
           },
           "zerolinecolor": "#EBF0F8",
           "zerolinewidth": 2
          },
          "yaxis": {
           "automargin": true,
           "gridcolor": "#EBF0F8",
           "linecolor": "#EBF0F8",
           "ticks": "",
           "title": {
            "standoff": 15
           },
           "zerolinecolor": "#EBF0F8",
           "zerolinewidth": 2
          }
         }
        },
        "title": {
         "text": "t-SNE test, perplexity: 40"
        },
        "xaxis": {
         "anchor": "y",
         "domain": [
          0,
          1
         ],
         "title": {
          "text": "x"
         }
        },
        "yaxis": {
         "anchor": "x",
         "domain": [
          0,
          1
         ],
         "title": {
          "text": "y"
         }
        }
       }
      },
      "text/html": [
       "<div>\n",
       "        \n",
       "        \n",
       "            <div id=\"ea4e0d48-c0ff-4a4f-8347-44b9ac6fedf3\" class=\"plotly-graph-div\" style=\"height:525px; width:100%;\"></div>\n",
       "            <script type=\"text/javascript\">\n",
       "                require([\"plotly\"], function(Plotly) {\n",
       "                    window.PLOTLYENV=window.PLOTLYENV || {};\n",
       "                    \n",
       "                if (document.getElementById(\"ea4e0d48-c0ff-4a4f-8347-44b9ac6fedf3\")) {\n",
       "                    Plotly.newPlot(\n",
       "                        'ea4e0d48-c0ff-4a4f-8347-44b9ac6fedf3',\n",
       "                        [{\"customdata\": [[\"ml; matrix; aws; dimension; variance; cluster; question; machine_learning; point; service\"], [\"ml; matrix; aws; dimension; variance; cluster; question; machine_learning; point; service\"], [\"ml; matrix; aws; dimension; variance; cluster; question; machine_learning; point; service\"], [\"ml; matrix; aws; dimension; variance; cluster; question; machine_learning; point; service\"], [\"ml; matrix; aws; dimension; variance; cluster; question; machine_learning; point; service\"], [\"ml; matrix; aws; dimension; variance; cluster; question; machine_learning; point; service\"], [\"ml; matrix; aws; dimension; variance; cluster; question; machine_learning; point; service\"], [\"ml; matrix; aws; dimension; variance; cluster; question; machine_learning; point; service\"], [\"ml; matrix; aws; dimension; variance; cluster; question; machine_learning; point; service\"], [\"ml; matrix; aws; dimension; variance; cluster; question; machine_learning; point; service\"], [\"ml; matrix; aws; dimension; variance; cluster; question; machine_learning; point; service\"], [\"ml; matrix; aws; dimension; variance; cluster; question; machine_learning; point; service\"], [\"ml; matrix; aws; dimension; variance; cluster; question; machine_learning; point; service\"], [\"ml; matrix; aws; dimension; variance; cluster; question; machine_learning; point; service\"], [\"ml; matrix; aws; dimension; variance; cluster; question; machine_learning; point; service\"], [\"ml; matrix; aws; dimension; variance; cluster; question; machine_learning; point; service\"], [\"ml; matrix; aws; dimension; variance; cluster; question; machine_learning; point; service\"], [\"ml; matrix; aws; dimension; variance; cluster; question; machine_learning; point; service\"], [\"ml; matrix; aws; dimension; variance; cluster; question; machine_learning; point; service\"], [\"ml; matrix; aws; dimension; variance; cluster; question; machine_learning; point; service\"], [\"ml; matrix; aws; dimension; variance; cluster; question; machine_learning; point; service\"], [\"ml; matrix; aws; dimension; variance; cluster; question; machine_learning; point; service\"], [\"ml; matrix; aws; dimension; variance; cluster; question; machine_learning; point; service\"], [\"ml; matrix; aws; dimension; variance; cluster; question; machine_learning; point; service\"]], \"hovertemplate\": \"<b>%{hovertext}</b><br><br>color=Topic: 0<br>x=%{x}<br>y=%{y}<br>topic_txt=%{customdata[0]}<extra></extra>\", \"hovertext\": [\"A Beginners Guide to Unsupervised Learning | by Mathanraj Sharma | Analytics Vidhya | Medium\", \"Machine Learning for Humans, Part 3: Unsupervised Learning | by Vishal Maini | Machine Learning for Humans | Medium\", \"Principal Component Analysis. This article is divided into two\\u2026 | by Mahesh Kumar \\ud83d\\udc7e | maheshkkumar | Medium\", \"How I Prepared For The AWS Certified Machine Learning Exam (July 2020) | by ___ | Towards AI\\u200a\\u2014\\u200aMultidisciplinary Science Journal | Medium\", \"Dimensionality reduction and visualization using PCA(Principal Component Analysis) | by Ashwin Singh | Medium\", \"Principal component analysis (PCA): Explained and implemented | by Raghavan | Medium\", \"My Path to Passing the AWS Machine Learning Certification | by Adam DeJans | Medium\", \"5 steps to AWS Machine Learning Specialty Certification, Made Easy | by Daniel S. Flamarich | xplore.ai | Medium\", \"Unsupervised Machine Learning. In case you have not read the basis of\\u2026 | by Harinath Selvaraj | coding&stuff | Medium\", \"Understanding Principal Components Analysis(PCA) | by Chathurangi Shyalika | Data Driven Investor | Medium\", \"Real-time Anomaly Detection in VPC Flow Logs, Part 1: Introduction | by Igor Kantor | Medium\", \"AWS Machine Learning Speciality Certification in a month | by Dipika Baad | Towards Data Science\", \"Light Final Process. I updated my progress in this google\\u2026 | by Danqi Qian | 2020 Spring | Light and Interactivity | Medium\", \"Guide to Unsupervised Machine Learning | by Volodymyr Bilyk | Medium\", \"Cheat Sheet for AWS ML Specialty Certification | by Madikanti | The Startup | Aug, 2020 | Medium\", \"PCA: Principal Component Analysis | by Kadir Yasar | Medium\", \"The Google \\u2018vs\\u2019 Trick. How ego graphs can help you learn about\\u2026 | by David Foster | Applied Data Science | Medium\", \"Understanding Principal Component Analysis | by Rishav Kumar | Medium\", \"How I got AWS Machine Learning Certified | by Paulthi Victor | WomeninAI | Medium\", \"AWS Machine Learning Certification Exam Tips | by Javier Ramos | Medium\", \"My Experience-AWS Machine Learning Certification Specialty Beta | by Manas Narkar | Medium\", \"Principal Component Analysis(PCA) \\u2014 Dive deep | by Sanjay Ulsha | Analytics Vidhya | Medium\", \"Responses \\u2013 Harris Brakmic \\u2013 Medium\", \"Machine Learning (including Deep Learning and Reinforcement Learning) for Engineers \\u2014 A Technical Primer (Part 2) | by Arun Rao | Medium\"], \"legendgroup\": \"Topic: 0\", \"marker\": {\"color\": \"#FD3216\", \"symbol\": \"circle\"}, \"mode\": \"markers\", \"name\": \"Topic: 0\", \"orientation\": \"v\", \"showlegend\": true, \"type\": \"scatter\", \"x\": [3.1321258544921875, 3.8652915954589844, 4.06408166885376, 3.6104369163513184, 3.292867422103882, 2.829678535461426, 3.4180490970611572, 2.9304938316345215, 3.320368528366089, 3.087611198425293, 0.2710213363170624, 3.94052791595459, 1.1254655122756958, 1.962110161781311, 0.4371525049209595, 2.991201639175415, 1.0452587604522705, 4.056516170501709, 3.5986618995666504, 3.9956846237182617, 3.6373167037963867, 4.054210186004639, -0.7031720280647278, 0.6197216510772705], \"xaxis\": \"x\", \"y\": [1.8529130220413208, 2.692784547805786, 2.97944974899292, 3.1071231365203857, 2.1345486640930176, 2.326599359512329, 3.056157350540161, 2.5230867862701416, 2.6123383045196533, 2.2741174697875977, 1.6706591844558716, 3.1791558265686035, 0.35091733932495117, 1.6499284505844116, 0.39850446581840515, 1.551776647567749, 2.0749192237854004, 2.8621811866760254, 3.15763521194458, 3.168820858001709, 3.091677665710449, 2.8929855823516846, 1.9895670413970947, 2.390888214111328], \"yaxis\": \"y\"}, {\"customdata\": [[\"distance; similarity; metric; vector; point; calculate; euclidean; cosine; euclidean_distance; measure\"], [\"distance; similarity; metric; vector; point; calculate; euclidean; cosine; euclidean_distance; measure\"], [\"distance; similarity; metric; vector; point; calculate; euclidean; cosine; euclidean_distance; measure\"], [\"distance; similarity; metric; vector; point; calculate; euclidean; cosine; euclidean_distance; measure\"], [\"distance; similarity; metric; vector; point; calculate; euclidean; cosine; euclidean_distance; measure\"], [\"distance; similarity; metric; vector; point; calculate; euclidean; cosine; euclidean_distance; measure\"], [\"distance; similarity; metric; vector; point; calculate; euclidean; cosine; euclidean_distance; measure\"], [\"distance; similarity; metric; vector; point; calculate; euclidean; cosine; euclidean_distance; measure\"], [\"distance; similarity; metric; vector; point; calculate; euclidean; cosine; euclidean_distance; measure\"]], \"hovertemplate\": \"<b>%{hovertext}</b><br><br>color=Topic: 6<br>x=%{x}<br>y=%{y}<br>topic_txt=%{customdata[0]}<extra></extra>\", \"hovertext\": [\"Importance of Distance Metrics in Machine Learning | by Alekhyo Banerjee | Medium\", \"Various types of Distance Metrics in Machine Learning | by Sourodip Kundu | Analytics Vidhya | Medium\", \"Calculate Similarity \\u2014 the most relevant Metrics in a Nutshell | by Marvin L\\u00fcthe | Towards Data Science\", \"Types of Distance Metrics in Machine Learning. | by Priscila Tamang Ghising | Medium\", \"Similarity Measures \\u2014 Scoring Textual Articles | by Saif | Towards Data Science\", \"4 Types of Distance Metrics in Machine Learning | by Pulkit Sharma | Analytics Vidhya | Medium\", \"\\u201cDifferent types of Distances used in Machine Learning\\u201d | by Chandrima Sarkar | Medium\", \"Different Types of Distance Metrics used in Machine Learning | by Kunal Gohrani | Medium\", \"Role of Distance Metrics in Machine Learning | by Writuparna Banerjee | Analytics Vidhya | Medium\"], \"legendgroup\": \"Topic: 6\", \"marker\": {\"color\": \"#00FE35\", \"symbol\": \"circle\"}, \"mode\": \"markers\", \"name\": \"Topic: 6\", \"orientation\": \"v\", \"showlegend\": true, \"type\": \"scatter\", \"x\": [6.38695764541626, 6.453482151031494, 6.435496807098389, 6.469030857086182, 6.4414286613464355, 6.465920925140381, 6.4526848793029785, 6.40026330947876, 6.489295482635498], \"xaxis\": \"x\", \"y\": [7.4098286628723145, 7.41170072555542, 7.398947715759277, 7.4256911277771, 7.410735130310059, 7.425172328948975, 7.412941932678223, 7.417201042175293, 7.421083927154541], \"yaxis\": \"y\"}, {\"customdata\": [[\"anomaly; detection; solution; anomaly_detection; point; population; individual; series; real; generation\"], [\"anomaly; detection; solution; anomaly_detection; point; population; individual; series; real; generation\"], [\"anomaly; detection; solution; anomaly_detection; point; population; individual; series; real; generation\"], [\"anomaly; detection; solution; anomaly_detection; point; population; individual; series; real; generation\"], [\"anomaly; detection; solution; anomaly_detection; point; population; individual; series; real; generation\"], [\"anomaly; detection; solution; anomaly_detection; point; population; individual; series; real; generation\"], [\"anomaly; detection; solution; anomaly_detection; point; population; individual; series; real; generation\"], [\"anomaly; detection; solution; anomaly_detection; point; population; individual; series; real; generation\"], [\"anomaly; detection; solution; anomaly_detection; point; population; individual; series; real; generation\"], [\"anomaly; detection; solution; anomaly_detection; point; population; individual; series; real; generation\"], [\"anomaly; detection; solution; anomaly_detection; point; population; individual; series; real; generation\"], [\"anomaly; detection; solution; anomaly_detection; point; population; individual; series; real; generation\"], [\"anomaly; detection; solution; anomaly_detection; point; population; individual; series; real; generation\"], [\"anomaly; detection; solution; anomaly_detection; point; population; individual; series; real; generation\"], [\"anomaly; detection; solution; anomaly_detection; point; population; individual; series; real; generation\"], [\"anomaly; detection; solution; anomaly_detection; point; population; individual; series; real; generation\"], [\"anomaly; detection; solution; anomaly_detection; point; population; individual; series; real; generation\"], [\"anomaly; detection; solution; anomaly_detection; point; population; individual; series; real; generation\"], [\"anomaly; detection; solution; anomaly_detection; point; population; individual; series; real; generation\"], [\"anomaly; detection; solution; anomaly_detection; point; population; individual; series; real; generation\"], [\"anomaly; detection; solution; anomaly_detection; point; population; individual; series; real; generation\"], [\"anomaly; detection; solution; anomaly_detection; point; population; individual; series; real; generation\"], [\"anomaly; detection; solution; anomaly_detection; point; population; individual; series; real; generation\"], [\"anomaly; detection; solution; anomaly_detection; point; population; individual; series; real; generation\"], [\"anomaly; detection; solution; anomaly_detection; point; population; individual; series; real; generation\"], [\"anomaly; detection; solution; anomaly_detection; point; population; individual; series; real; generation\"], [\"anomaly; detection; solution; anomaly_detection; point; population; individual; series; real; generation\"], [\"anomaly; detection; solution; anomaly_detection; point; population; individual; series; real; generation\"], [\"anomaly; detection; solution; anomaly_detection; point; population; individual; series; real; generation\"], [\"anomaly; detection; solution; anomaly_detection; point; population; individual; series; real; generation\"], [\"anomaly; detection; solution; anomaly_detection; point; population; individual; series; real; generation\"], [\"anomaly; detection; solution; anomaly_detection; point; population; individual; series; real; generation\"], [\"anomaly; detection; solution; anomaly_detection; point; population; individual; series; real; generation\"], [\"anomaly; detection; solution; anomaly_detection; point; population; individual; series; real; generation\"], [\"anomaly; detection; solution; anomaly_detection; point; population; individual; series; real; generation\"]], \"hovertemplate\": \"<b>%{hovertext}</b><br><br>color=Topic: 7<br>x=%{x}<br>y=%{y}<br>topic_txt=%{customdata[0]}<extra></extra>\", \"hovertext\": [\"A gentle introduction to genetic algorithm | by Nguy\\u1ec5n Vi\\u1ec7t H\\u01b0ng | The happy lone guy | Medium\", \"Master Data Management, how to match and merge records to unify your data | by Julien Kervizic | Hacking Analytics | Medium\", \"What is anomaly detection?. The director of security for a large\\u2026 | by Ricky Thomas | Avora | Medium\", \"Time-series Anomaly Detection with Twitter\\u2019s ESD test | by Elisha Shrestha | Medium\", \"Accelerate Computing of Anomaly Detection using GPU Platform | by Manish Harsh | Medium\", \"An Insight to Genetic Algorithms \\u2014 Part I | by Chathurangi Shyalika | Data Driven Investor | Medium\", \"Performing Real-time Anomaly Detection using AWS | by Gautam Krishna | Slalom Data & Analytics | Medium\", \"Real-time anomaly detection with exponentially-distributed data | by Steven Raybon | Towards Data Science\", \"Anomaly Detection and Typical Challenges with Time Series Data | by Amelia Williams | Medium\", \"Biologically-Inspired AI: Genetic Algorithms | by James Le | Cracking The Data Science Interview | Medium\", \"Real-Time Anomaly Detection for Cognitive Intelligence | by Xenonstack | XenonStack AI | Medium\", \"Real-Time Anomaly Detection \\u2014 A Deep Learning Approach | by Abacus.AI | Abacus.AI Blog (Formerly RealityEngines.AI) | Medium\", \"Time series anomaly detection with \\u201canomalize\\u201d library | by Mahbubul Alam | Sep, 2020 | Towards Data Science\", \"Twitter\\u2019s Anomaly Detection Algorithm Simplified | by Adarsh Bulusu | Medium\", \"Understanding Genetic Algorithms in the Artificial Intelligence Spectrum | by Manish Kumar | Analytics Vidhya | Medium\", \"Detecting real-time and unsupervised anomalies in streaming data: a starting point | by Jesus L. Lobo | Towards Data Science\", \"Shifting Peaks in Signal Separation and Curve Fitting | by Ossi Myllym\\u00e4ki | Medium\", \"Genetic Algorithms. How human evolution paved the way for\\u2026 | by Amit Naik | Data Driven Investor | Medium\", \"Introduction to Genetic Algorithms \\u2014 Including Example Code | by Vijini Mallawaarachchi | Towards Data Science\", \"Algorithm selection for Anomaly Detection | by Sahil Garg | Analytics Vidhya | Medium\", \"Understanding Genetic Algorithms. Solving a Battleship Board Game as an\\u2026 | by Adam C Dick | Towards Data Science\", \"Detecting the Pope Using Machine Learning and TLC Data | by Geoff P | Medium\", \"Open Source Anomaly Detection Projects | by Himanshu Mittal | Medium\", \"Anomaly Detection of Time Series Data | by Jet New | Medium\", \"Genetic Algorithm: Part 1 -Intuition | by Satvik Tiwari | Koderunners | Medium\", \"Effective Approaches for Time Series Anomaly Detection | by Aditya Bhattacharya | Towards Data Science\", \"Genetic Algorithm and its Wide Spectrum | by Shaashwat Agrawal | The Startup | Medium\", \"Time Series Anomaly Detection With LSTM Autoencoders | by Sarit Maitra | The Startup | Sep, 2020 | Medium\", \"Yes, all event messages are captured in Kafka from the applications and also using debezium\\u2026 | by Piyush Kumar | Medium\", \"A Comprehensive Guide to Genetic Algorithms (and how to code them) | by Rishabh Anand | Sigmoid | Medium\", \"How Machine Learning Can Enable Anomaly Detection | by Countants | Data Driven Investor | Medium\", \"Practical Guide to Outlier Detection Methods | by A. Tayyip Saka | Towards Data Science\", \"Anomaly Detection with MIDAS. Anomaly detection in graphs is a\\u2026 | by Nunzio Logallo | Towards AI\\u200a\\u2014\\u200aMultidisciplinary Science Journal | Medium\", \"Building a real-time anomaly detection system for time series at Pinterest | by Pinterest Engineering | Pinterest Engineering Blog | Medium\", \"Credit Card Fraud Detection: Neural Network vs. Anomaly Detection Algorithms | by Harsh Bansal | Analytics Vidhya | Medium\"], \"legendgroup\": \"Topic: 7\", \"marker\": {\"color\": \"#6A76FC\", \"symbol\": \"circle\"}, \"mode\": \"markers\", \"name\": \"Topic: 7\", \"orientation\": \"v\", \"showlegend\": true, \"type\": \"scatter\", \"x\": [11.382226943969727, 11.876835823059082, 10.316642761230469, 11.844991683959961, 11.510395050048828, 10.89298152923584, 10.883746147155762, 11.993477821350098, 9.986612319946289, 11.122261047363281, 10.921506881713867, 10.510053634643555, 11.910924911499023, 11.282219886779785, 10.203369140625, 11.657391548156738, 12.113576889038086, 11.093517303466797, 11.744279861450195, 11.377121925354004, 11.73843002319336, 0.8850688934326172, 0.5211737155914307, 11.255207061767578, 11.802127838134766, 11.33056926727295, 10.675202369689941, 10.603704452514648, 0.17205429077148438, 10.582850456237793, 10.778374671936035, 11.462807655334473, 10.817138671875, 10.606979370117188, 11.30525016784668], \"xaxis\": \"x\", \"y\": [-18.40774917602539, -17.890520095825195, -17.62123680114746, -17.989604949951172, -17.1910343170166, -18.204811096191406, -17.62298583984375, -16.344928741455078, -17.223575592041016, -18.28922462463379, -17.028987884521484, -15.837804794311523, -17.100271224975586, -17.520530700683594, -16.661602020263672, -17.34375, -16.429412841796875, -17.86507797241211, -18.13666343688965, -17.187822341918945, -16.639446258544922, 0.8585494160652161, 1.31532621383667, -16.619808197021484, -18.03496742248535, -18.381471633911133, -17.114442825317383, -16.549455642700195, 1.3052781820297241, -15.47791862487793, -18.065874099731445, -16.72023582458496, -16.059951782226562, -17.498971939086914, -16.43901824951172], \"yaxis\": \"y\"}, {\"customdata\": [[\"user; item; recommendation; movie; rating; system; similarity; filtering; matrix; collaborative\"], [\"user; item; recommendation; movie; rating; system; similarity; filtering; matrix; collaborative\"], [\"user; item; recommendation; movie; rating; system; similarity; filtering; matrix; collaborative\"], [\"user; item; recommendation; movie; rating; system; similarity; filtering; matrix; collaborative\"], [\"user; item; recommendation; movie; rating; system; similarity; filtering; matrix; collaborative\"], [\"user; item; recommendation; movie; rating; system; similarity; filtering; matrix; collaborative\"], [\"user; item; recommendation; movie; rating; system; similarity; filtering; matrix; collaborative\"], [\"user; item; recommendation; movie; rating; system; similarity; filtering; matrix; collaborative\"], [\"user; item; recommendation; movie; rating; system; similarity; filtering; matrix; collaborative\"], [\"user; item; recommendation; movie; rating; system; similarity; filtering; matrix; collaborative\"], [\"user; item; recommendation; movie; rating; system; similarity; filtering; matrix; collaborative\"], [\"user; item; recommendation; movie; rating; system; similarity; filtering; matrix; collaborative\"], [\"user; item; recommendation; movie; rating; system; similarity; filtering; matrix; collaborative\"], [\"user; item; recommendation; movie; rating; system; similarity; filtering; matrix; collaborative\"], [\"user; item; recommendation; movie; rating; system; similarity; filtering; matrix; collaborative\"], [\"user; item; recommendation; movie; rating; system; similarity; filtering; matrix; collaborative\"], [\"user; item; recommendation; movie; rating; system; similarity; filtering; matrix; collaborative\"], [\"user; item; recommendation; movie; rating; system; similarity; filtering; matrix; collaborative\"], [\"user; item; recommendation; movie; rating; system; similarity; filtering; matrix; collaborative\"], [\"user; item; recommendation; movie; rating; system; similarity; filtering; matrix; collaborative\"]], \"hovertemplate\": \"<b>%{hovertext}</b><br><br>color=Topic: 5<br>x=%{x}<br>y=%{y}<br>topic_txt=%{customdata[0]}<extra></extra>\", \"hovertext\": [\"Recommendation Systems : User-based Collaborative Filtering using N Nearest Neighbors | by Ashay Pathak | SFU Professional Master\\u2019s Program in Computer Science | Medium\", \"Beginner\\u2019s guide to build Recommendation Engine in Python | by Amey Band | The Startup | Medium\", \"Recommendation Engines 101. Get Started & Master the Basics | by Pierre Pfennig | data from the trenches | Medium\", \"Content-Based Recommendations \\u2014 Part 3 | by Rakesh4real | Fnplus Club | Medium\", \"Collaborative Filtering and Embeddings \\u2014 Part 1 | by Shikhar Gupta | Towards Data Science\", \"Recommendation Systems. Diving into recommendation systems | by Bindhu Balu | Towards AI\\u200a\\u2014\\u200aMultidisciplinary Science Journal | Medium\", \"Recommendation Engine Explained. Github source code examples can be\\u2026 | by Mohamed Fawzy | tajawal | Medium\", \"How to Build a Recommendation System for Purchase Data (Step-by-Step) | by Moorissa Tjokro | Data Driven Investor | Medium\", \"How Netflix\\u2019s Recommendation Engine Works? | by Springboard India | Medium\", \"Various Implementations of Collaborative Filtering | by Prince Grover | Towards Data Science\", \"Collaborative Filtering in Recommendation Systems | by Kunal Deshmukh | kunalrdeshmukh | Medium\", \"How to Build a Recommender System(RS) | by Gaurav Sharma | Data Driven Investor | Medium\", \"Collaborative Filtering \\u2014 A Type of Recommendation System | by Bindhu Balu | Towards AI\\u200a\\u2014\\u200aMultidisciplinary Science Journal | Medium\", \"A simple way to explain the Recommendation Engine in AI | by Roger Chua | Voice Tech Podcast | Medium\", \"Similarity and Distance Metrics for Data Science and Machine Learning | by Gonzalo Ferreiro Volpi | DataSeries | Medium\", \"What similarity metric should you use for your recommendation system? | by Brett Vintch | bag of words | Medium\", \"Introduction to recommendation systems and How to design Recommendation system,that resembling the Amazon | by Madasamy M | Medium\", \"Recommender Systems \\u2014 User-Based and Item-Based Collaborative Filtering | by Carlos Pinela | Medium\", \"Machine Learning for Recommender systems \\u2014 Part 1 (algorithms, evaluation and cold start) | by Pavel Kord\\u00edk | Recombee blog | Medium\", \"USER-USER Collaborative filtering Recommender System in Python | by Ankur Tomar | Medium\"], \"legendgroup\": \"Topic: 5\", \"marker\": {\"color\": \"#FED4C4\", \"symbol\": \"circle\"}, \"mode\": \"markers\", \"name\": \"Topic: 5\", \"orientation\": \"v\", \"showlegend\": true, \"type\": \"scatter\", \"x\": [0.8909080028533936, 0.8628237247467041, 0.36718812584877014, 0.7044607400894165, 0.36726877093315125, 0.17006762325763702, 0.4522528648376465, 0.1700870841741562, -0.3987962603569031, 0.5115377902984619, 0.9118528962135315, 0.7221791744232178, 0.526586651802063, -0.5941570997238159, 0.8465275168418884, 0.8285824060440063, 0.45175400376319885, 0.8487088680267334, 0.2490205615758896, 0.8418265581130981], \"xaxis\": \"x\", \"y\": [7.839688301086426, 8.011150360107422, 7.281639099121094, 6.528375148773193, 7.048007011413574, 7.709235191345215, 8.038167953491211, 7.587575912475586, 7.136999607086182, 7.388237476348877, 7.629158020019531, 8.214982032775879, 7.851774215698242, 7.208498954772949, 6.8953776359558105, 6.378571510314941, 8.026440620422363, 7.6842942237854, 7.173437118530273, 7.884580135345459], \"yaxis\": \"y\"}, {\"customdata\": [[\"security; api; cloud; service; log; information; amazon; access; organization; graph\"], [\"security; api; cloud; service; log; information; amazon; access; organization; graph\"], [\"security; api; cloud; service; log; information; amazon; access; organization; graph\"], [\"security; api; cloud; service; log; information; amazon; access; organization; graph\"], [\"security; api; cloud; service; log; information; amazon; access; organization; graph\"], [\"security; api; cloud; service; log; information; amazon; access; organization; graph\"], [\"security; api; cloud; service; log; information; amazon; access; organization; graph\"], [\"security; api; cloud; service; log; information; amazon; access; organization; graph\"], [\"security; api; cloud; service; log; information; amazon; access; organization; graph\"], [\"security; api; cloud; service; log; information; amazon; access; organization; graph\"], [\"security; api; cloud; service; log; information; amazon; access; organization; graph\"], [\"security; api; cloud; service; log; information; amazon; access; organization; graph\"], [\"security; api; cloud; service; log; information; amazon; access; organization; graph\"], [\"security; api; cloud; service; log; information; amazon; access; organization; graph\"], [\"security; api; cloud; service; log; information; amazon; access; organization; graph\"], [\"security; api; cloud; service; log; information; amazon; access; organization; graph\"], [\"security; api; cloud; service; log; information; amazon; access; organization; graph\"], [\"security; api; cloud; service; log; information; amazon; access; organization; graph\"], [\"security; api; cloud; service; log; information; amazon; access; organization; graph\"], [\"security; api; cloud; service; log; information; amazon; access; organization; graph\"], [\"security; api; cloud; service; log; information; amazon; access; organization; graph\"]], \"hovertemplate\": \"<b>%{hovertext}</b><br><br>color=Topic: 2<br>x=%{x}<br>y=%{y}<br>topic_txt=%{customdata[0]}<extra></extra>\", \"hovertext\": [\"Berkeley I School \\u2013 Medium\", \"Cloud Security Design Principles to Follow in 2018 | by Nutanix | Medium\", \"Azure Sentinel Resources. List of resources available for Azure\\u2026 | by Adrian Grigorof | Medium\", \"Cloud Security & The Shared Responsibility Model: | by Daniel Simmons | Beanfield Metroconnect | Medium\", \"The basics of investigating an Office 365 breach | by Pete Bryan | Positive Security Thinking | Medium\", \"Audio to text conversion using AWS Transcribe and Sentiment Analysis using Comprehend API | by Rana singh | Analytics Vidhya | Medium\", \"Real World Cyber Security. Blog Introduction and  Index | by RealWorldCyberSecurity | Medium\", \"Natural Language Processing: Experimenting Entity Recognition ( Part 2 AWS Comprehend NLP API) | by Patrick Rotzetter | Analytics Vidhya | Medium\", \"Exfiltrating data via GET Headers (X-CSRF-Token) | by Ramon Martinez | byhardest | Medium\", \"cyBERT. Neural network, that\\u2019s the tech; To\\u2026 | by Bartley Richardson | RAPIDS AI | Medium\", \"Is my data safe in Cloud?. GCP Comics #1: Google Cloud & Privacy\\u2026 | by Priyanka Vergadia | Google Cloud - Community | Medium\", \"GCP Comics: How can Google Cloud help with security of your apps? | by Priyanka Vergadia | Google Cloud - Community | Jul, 2020 | Medium | Google Cloud - Community\", \"Cyber-security Framework for Multi-Cloud Environment | by Taslet | Taslet Security | Medium\", \"What is this Microsoft Intelligent Security Graph everybody is talking about? | by Maarten Goet | Medium\", \"Machine Learning on AWS. \\u201cAWS is our ML platform of choice\\u2026 | by IP Specialist | Medium\", \"Microsoft security integration: Graph Security API to integrate a variety of security solutions | by Antonio Formato | Medium\", \"Teri Radichel \\u2013 Medium\", \"Main Cloud Security Threats. Cloud computing continues to transform\\u2026 | by IDM | Medium\", \"Microsoft \\u2013 Wortell \\u2013 Medium\", \"Azure Logic Apps & Graph Security API: easy integration of all security alerts to your ticketing system | by Jeroen Niesen | Wortell | Medium\", \"The law and cybersecurity: eight ways to help mitigate legal risks | by Mike Mullane | The Startup | Medium\"], \"legendgroup\": \"Topic: 2\", \"marker\": {\"color\": \"#FE00CE\", \"symbol\": \"circle\"}, \"mode\": \"markers\", \"name\": \"Topic: 2\", \"orientation\": \"v\", \"showlegend\": true, \"type\": \"scatter\", \"x\": [-1.0726606845855713, -5.108064651489258, -4.8837385177612305, -5.2759623527526855, -5.361016273498535, -4.673694133758545, -5.372879505157471, -4.138679504394531, -2.1093575954437256, -3.2138636112213135, -2.1197800636291504, -4.5225725173950195, -5.055799961090088, -5.212538242340088, -4.375104904174805, -5.102391719818115, -0.9041420221328735, -5.41627311706543, -1.4065779447555542, -5.319947719573975, -5.451854705810547], \"xaxis\": \"x\", \"y\": [1.6882840394973755, 3.9274115562438965, 3.6685826778411865, 5.103854179382324, 3.4695448875427246, 3.1601908206939697, 5.0507893562316895, 2.5485990047454834, 3.17463755607605, 2.86871600151062, 12.666749954223633, 5.000969886779785, 4.268841743469238, 3.5253355503082275, 3.588043451309204, 3.5928494930267334, 1.589716911315918, 5.342773914337158, 2.349665403366089, 3.6203951835632324, 5.367976665496826], \"yaxis\": \"y\"}, {\"customdata\": [[\"design; security; system; ai; risk; cyber; product; team; attack; user\"], [\"design; security; system; ai; risk; cyber; product; team; attack; user\"], [\"design; security; system; ai; risk; cyber; product; team; attack; user\"], [\"design; security; system; ai; risk; cyber; product; team; attack; user\"], [\"design; security; system; ai; risk; cyber; product; team; attack; user\"], [\"design; security; system; ai; risk; cyber; product; team; attack; user\"], [\"design; security; system; ai; risk; cyber; product; team; attack; user\"], [\"design; security; system; ai; risk; cyber; product; team; attack; user\"], [\"design; security; system; ai; risk; cyber; product; team; attack; user\"], [\"design; security; system; ai; risk; cyber; product; team; attack; user\"], [\"design; security; system; ai; risk; cyber; product; team; attack; user\"], [\"design; security; system; ai; risk; cyber; product; team; attack; user\"], [\"design; security; system; ai; risk; cyber; product; team; attack; user\"], [\"design; security; system; ai; risk; cyber; product; team; attack; user\"], [\"design; security; system; ai; risk; cyber; product; team; attack; user\"], [\"design; security; system; ai; risk; cyber; product; team; attack; user\"], [\"design; security; system; ai; risk; cyber; product; team; attack; user\"], [\"design; security; system; ai; risk; cyber; product; team; attack; user\"], [\"design; security; system; ai; risk; cyber; product; team; attack; user\"], [\"design; security; system; ai; risk; cyber; product; team; attack; user\"], [\"design; security; system; ai; risk; cyber; product; team; attack; user\"], [\"design; security; system; ai; risk; cyber; product; team; attack; user\"], [\"design; security; system; ai; risk; cyber; product; team; attack; user\"], [\"design; security; system; ai; risk; cyber; product; team; attack; user\"], [\"design; security; system; ai; risk; cyber; product; team; attack; user\"], [\"design; security; system; ai; risk; cyber; product; team; attack; user\"], [\"design; security; system; ai; risk; cyber; product; team; attack; user\"], [\"design; security; system; ai; risk; cyber; product; team; attack; user\"], [\"design; security; system; ai; risk; cyber; product; team; attack; user\"], [\"design; security; system; ai; risk; cyber; product; team; attack; user\"], [\"design; security; system; ai; risk; cyber; product; team; attack; user\"], [\"design; security; system; ai; risk; cyber; product; team; attack; user\"], [\"design; security; system; ai; risk; cyber; product; team; attack; user\"], [\"design; security; system; ai; risk; cyber; product; team; attack; user\"], [\"design; security; system; ai; risk; cyber; product; team; attack; user\"], [\"design; security; system; ai; risk; cyber; product; team; attack; user\"], [\"design; security; system; ai; risk; cyber; product; team; attack; user\"], [\"design; security; system; ai; risk; cyber; product; team; attack; user\"], [\"design; security; system; ai; risk; cyber; product; team; attack; user\"], [\"design; security; system; ai; risk; cyber; product; team; attack; user\"], [\"design; security; system; ai; risk; cyber; product; team; attack; user\"], [\"design; security; system; ai; risk; cyber; product; team; attack; user\"], [\"design; security; system; ai; risk; cyber; product; team; attack; user\"], [\"design; security; system; ai; risk; cyber; product; team; attack; user\"], [\"design; security; system; ai; risk; cyber; product; team; attack; user\"], [\"design; security; system; ai; risk; cyber; product; team; attack; user\"], [\"design; security; system; ai; risk; cyber; product; team; attack; user\"], [\"design; security; system; ai; risk; cyber; product; team; attack; user\"], [\"design; security; system; ai; risk; cyber; product; team; attack; user\"], [\"design; security; system; ai; risk; cyber; product; team; attack; user\"], [\"design; security; system; ai; risk; cyber; product; team; attack; user\"], [\"design; security; system; ai; risk; cyber; product; team; attack; user\"], [\"design; security; system; ai; risk; cyber; product; team; attack; user\"], [\"design; security; system; ai; risk; cyber; product; team; attack; user\"], [\"design; security; system; ai; risk; cyber; product; team; attack; user\"], [\"design; security; system; ai; risk; cyber; product; team; attack; user\"], [\"design; security; system; ai; risk; cyber; product; team; attack; user\"]], \"hovertemplate\": \"<b>%{hovertext}</b><br><br>color=Topic: 8<br>x=%{x}<br>y=%{y}<br>topic_txt=%{customdata[0]}<extra></extra>\", \"hovertext\": [\"AI and Machine Learning in Cyber Security | by Formulatedby | Towards Data Science\", \"The Vandalisation of \\u2018UX\\u2019. The original promise of UX\\u200a\\u2014\\u200aHow UX\\u2026 | by Max Taylor | Spotless Says | Medium\", \"How Machine Learning is used in Cyber Attacks | by Informer | Sep, 2020 | Medium\", \"Cyber Security Best Practices for Work From Home / Teleworking | by IARM Information Security | IARM Information Security | Medium\", \"Design APIs like you design User Experience | by Prashant Agrawal | Better Practices | Medium\", \"Top 10 Cyber Security Fundamentals for Small to Medium Businesses | by Robert Smith | Medium\", \"3 Powerful Application of AI in Cyber Security | by Praveen Pareek | Data Driven Investor | Aug, 2020 | Medium\", \"The Business Value of Cybersecurity | by JC Gaillard | Security Transformation Leadership | Medium\", \"The External Data Imperative. \\u201cFirst we have to get our internal data\\u2026 | by Demyst | Medium\", \"AI & Cyber Security. What this technology revolution may\\u2026 | by Alexis Vander Wilt | Query.AI | Medium\", \"Where Does Machine Learning Stand in Cyber Security? | by Christopher Dossman | AI\\u00b3 | Theory, Practice, Business | Medium\", \"The Strategic Seventeen: Zero Trust | by Logan Daley | The Startup | Medium\", \"The State of Applied AI. Surveying the landscape: present and\\u2026 | by Luke Posey | Aug, 2020 | Towards Data Science\", \"Optimization \\u2013 The Opex Analytics Blog \\u2013 Medium\", \"Product Discovery Tips. Product discovery refers to the\\u2026 | by Roman Pichler | Medium\", \"Cyber Security for Beginners. In recent years cybersecurity is the\\u2026 | by Tarun N | Medium\", \"Don Miller \\u2013 Medium\", \"How Artificial Intelligence is Changing Cyber Security | by Charu Mitra Dubey | The Startup | Medium\", \"How DevOps Increases System Security | by Adam Hawkins | slashdeploy | Medium\", \"Real-time User Signal Serving for Feature Engineering | by Pinterest Engineering | Pinterest Engineering Blog | Medium\", \"If You Aren\\u2019t Considering Cost, You Are Failing At Cyber Due Diligence | by Adam Bobrow | Cyber Risk Register | Medium\", \"Should we be treating algorithms the same way we treat hazardous chemicals? | by Andrew Maynard | EDGE OF INNOVATION | Medium\", \"What Is Games \\u2018User Experience\\u2019 (UX) and How Does It Help? | by Player Research | Medium\", \"Understanding Recommendation Engines in AI | by Humans For AI | humansforai | Medium\", \"AI in Cyber Security: Curse or Blessing? | by Lili T\\u00f6r\\u00f6k | Small Business, Big World | Medium\", \"An In-Depth Guide to Personal Cybersecurity | by Nick Rosener | Medium\", \"Project \\u2018Gredient\\u2019 Identifies Food Allergy Risks | by Berkeley I School | BerkeleyISchool | Aug, 2020 | Medium\", \"CyberGRX \\u2013 Medium\", \"Natural Language Processing in Python | by Paco Nathan | derwen | Medium\", \"The Secret to Advancing the Science of Cyber Risk: A Q&A with Gregory Falco | by FSI Stanford | Freeman Spogli Institute for International Studies | Medium\", \"Free #CyberSecurity: 6 Basic Tips | by Leonard Burger | Medium\", \"Responses \\u2013 Nathan Johnson \\u2013 Medium\", \"Cyber Risk Management. Digital Risk Management | by Mohammed Mahboubi | Medium\", \"An Introduction to Natural Language Processing (NLP) | by ODSC - Open Data Science | Medium\", \"AI in Cyber Security, an oversimplified introduction | by Sukant Khurana | Medium\", \"Reviewing UX Portfolios: 4 High-Risk Hiring Mistakes | by Jared M. Spool | Medium\", \"The A to Z of Cyber Security. From BEC scams to DDoS attacks, and\\u2026 | by Dick O'Brien | Threat Intel | Medium\", \"Understanding UX Threat (part 1). Improving your designs by going down\\u2026 | by Dave Vronay | ringcentral-ux | Medium\", \"Dasher\\u2019s Zero Trust Architecture Approach | by IT Solution Architects | Medium\", \"Top Cybersecurity Trends in Financial Tech Review | by Christopher | Aug, 2020 | Medium\", \"Azure \\u2013 Wortell \\u2013 Medium\", \"We\\u2019re Optimizing Ourselves to Death | by Zander Nethercutt | Medium\", \"How To Use UX Design To Build Trust & Brand Identity | by Inkbot Design | Medium\", \"How Artificial Intelligence (AI) is Adding New Horizons to Cybersecurity Solutions? | by Sanjay Ratnottar | Towards Data Science\", \"Artificial Intelligence and its impact on Cyber Security | by Chiragh Dewan | Medium\", \"5 Things to Know from 12 Months in Cyber Security | by Threat Intel | Threat Intel | Medium\", \"Cyber SC \\u2013 Medium\", \"Design Systems Will Change UX/UI Jobs | by Debbie Levitt | Delta CX | Medium\", \"Cyber Risk \\u2013 Emergynt Thinking \\u2013 Medium\", \"Piyush Kumar \\u2013 Medium\", \"Machine Learning in cyber security Secure Us | by RATNAKAR KUMAR | Medium\", \"Role of AI in Cyber Security. As with other fields of use, artificial\\u2026 | by Inc.Outlook | Medium\", \"Tower Street \\u2013 Medium\", \"How To Start A Career in Cyber Security | by Dennis Chow | The Startup | Medium\", \"What is User Experience Strategy. Good UX in product development is\\u2026 | by MentorMate | Medium\", \"Pam Hester O'Neal \\u2013 Medium\", \"Machine Learning in Cyber Security | by Ebubekir B\\u00fcber | Deep Learning Turkey | Medium\"], \"legendgroup\": \"Topic: 8\", \"marker\": {\"color\": \"#0DF9FF\", \"symbol\": \"circle\"}, \"mode\": \"markers\", \"name\": \"Topic: 8\", \"orientation\": \"v\", \"showlegend\": true, \"type\": \"scatter\", \"x\": [-2.0773303508758545, -8.659767150878906, -7.432279586791992, -8.05457592010498, -5.858017921447754, -9.274415969848633, -9.486146926879883, -8.920001029968262, -6.382325649261475, -9.4839448928833, -7.95526647567749, -6.67921781539917, -7.145742416381836, -1.0441282987594604, -9.668524742126465, -8.591008186340332, -2.0041239261627197, -10.279967308044434, -9.224639892578125, -1.0497685670852661, -9.835332870483398, -9.3978910446167, -10.477781295776367, -1.399307370185852, -9.748401641845703, -5.49471378326416, -8.040860176086426, -7.221591472625732, -1.6580250263214111, -8.879429817199707, -7.693057537078857, -2.407191753387451, -8.188228607177734, -3.04263973236084, -9.321338653564453, -10.121403694152832, -8.746814727783203, -9.89387321472168, -2.046726703643799, -8.171684265136719, -1.0569883584976196, -7.7506232261657715, -7.295761585235596, -10.270075798034668, -10.019391059875488, -9.826218605041504, -5.9029130935668945, -8.626800537109375, -7.4293413162231445, -1.870321273803711, -8.484640121459961, -10.379728317260742, -2.0673811435699463, -8.408061981201172, -9.447324752807617, -1.4615339040756226, -8.761646270751953], \"xaxis\": \"x\", \"y\": [1.7250750064849854, 9.898536682128906, 8.420842170715332, 8.874316215515137, 5.7201690673828125, 9.635811805725098, 9.095271110534668, 9.052313804626465, 7.876221179962158, 8.273990631103516, 9.043464660644531, 9.408884048461914, 8.323385238647461, 0.9074172377586365, 10.058127403259277, 8.114469528198242, 2.239323139190674, 9.571843147277832, 8.51015567779541, 2.519927501678467, 8.743242263793945, 9.473901748657227, 9.782286643981934, 7.134243965148926, 9.715871810913086, 6.062762260437012, 8.587532043457031, 7.644107818603516, 0.619239330291748, 8.482475280761719, 7.639570236206055, 0.5957733392715454, 7.824687957763672, 0.11391548067331314, 9.166661262512207, 9.969171524047852, 8.253255844116211, 9.186531066894531, 11.506379127502441, 7.4284892082214355, 1.3054357767105103, 9.984254837036133, 9.452034950256348, 9.062261581420898, 8.91152286529541, 10.057111740112305, 5.936650276184082, 9.926773071289062, 8.097262382507324, 2.2844696044921875, 9.468547821044922, 9.315897941589355, 2.6864190101623535, 8.779333114624023, 9.919981956481934, 1.8951345682144165, 9.089638710021973], \"yaxis\": \"y\"}, {\"customdata\": [[\"image; trust; network; search; google; zero; medium; access; page; article\"], [\"image; trust; network; search; google; zero; medium; access; page; article\"], [\"image; trust; network; search; google; zero; medium; access; page; article\"], [\"image; trust; network; search; google; zero; medium; access; page; article\"], [\"image; trust; network; search; google; zero; medium; access; page; article\"], [\"image; trust; network; search; google; zero; medium; access; page; article\"], [\"image; trust; network; search; google; zero; medium; access; page; article\"], [\"image; trust; network; search; google; zero; medium; access; page; article\"], [\"image; trust; network; search; google; zero; medium; access; page; article\"], [\"image; trust; network; search; google; zero; medium; access; page; article\"], [\"image; trust; network; search; google; zero; medium; access; page; article\"], [\"image; trust; network; search; google; zero; medium; access; page; article\"], [\"image; trust; network; search; google; zero; medium; access; page; article\"], [\"image; trust; network; search; google; zero; medium; access; page; article\"], [\"image; trust; network; search; google; zero; medium; access; page; article\"], [\"image; trust; network; search; google; zero; medium; access; page; article\"], [\"image; trust; network; search; google; zero; medium; access; page; article\"], [\"image; trust; network; search; google; zero; medium; access; page; article\"]], \"hovertemplate\": \"<b>%{hovertext}</b><br><br>color=Topic: 9<br>x=%{x}<br>y=%{y}<br>topic_txt=%{customdata[0]}<extra></extra>\", \"hovertext\": [\"Medium SEO: How To Rank Your Medium Articles In Google Search | by Aamir Kamal \\ud83d\\ude80\\ud83d\\ude80\\ud83d\\ude80 | Menlo Blogging | Medium\", \"The Zero Trust Model: Should we be taking information security advice from Congressmen? | by Drawbridge Networks | Medium\", \"What is zero-trust security?. Everything you need to know about\\u2026 | by Keyless Technologies | KeylessTech | Medium\", \"Image Similarity using Deep Ranking | by Akarsh Zingade | Medium\", \"What is Zero Trust and how can it transform your enterprise security? | by Fyde | Medium\", \"Introduction to Search Engine Optimization (SEO) | by Mridul Kesharwani | Medium\", \"One Zero trust Architecture to rule them all? | by Andre Camillo | Medium\", \"Zero Trust \\u2014 Where should you begin? | by Sitaraman Lakshminarayanan | Medium\", \"Cybersecurity \\u2013 InfoSec Write-ups \\u2013 Medium\", \"How To Zero Trust: Roll out Zero Trust BeyondCorp security for your Enterprise by extending your Single Sign-On solution | by Tarun Desikan | Banyan Security | Medium\", \"How a Single Medium Article Received 100,000 Views | by Casey Botticello | Blogging Guide | Medium\", \"How to Apply Distance Metric Learning to Street-to-Shop Problem | by Aleksandr Movchan | ML Review | Medium\", \"How To Optimize Your Medium Articles for Google | by Christina M. Ward | Better Marketing | Medium\", \"Building the New Zero Trust Enterprise | by Alissa Knight | Data Driven Investor | Medium\", \"10 Critical Performance Optimization Steps You Should Take | by Ferenc Almasi | Better Programming | Medium\", \"Zero Trust Architecture -\\u201cAn alternative security model\\u201d | by Pyramid Solutions | Medium\", \"Medium SEO: Medium Article Search Engine Optimization | by Casey Botticello | Blogging Guide | Medium\", \"How Google Search Works? Page Rank Algorithm using Python | by Sai Durga Kamesh Kota | Analytics Vidhya | Medium\"], \"legendgroup\": \"Topic: 9\", \"marker\": {\"color\": \"#F6F926\", \"symbol\": \"circle\"}, \"mode\": \"markers\", \"name\": \"Topic: 9\", \"orientation\": \"v\", \"showlegend\": true, \"type\": \"scatter\", \"x\": [-0.2150222659111023, -1.6065056324005127, -1.6201798915863037, -0.03617219626903534, -1.2468793392181396, -0.37231266498565674, -0.7917090654373169, -1.376237154006958, -1.0017911195755005, -1.3622177839279175, -0.15661397576332092, 0.28632503747940063, -0.24262255430221558, -1.5517914295196533, -1.417349100112915, -1.3145463466644287, -0.24355584383010864, -0.7936171889305115], \"xaxis\": \"x\", \"y\": [13.040470123291016, 11.965370178222656, 11.74795913696289, 11.863513946533203, 12.246358871459961, 12.65063190460205, 12.428919792175293, 12.537981986999512, 1.042410969734192, 12.76262092590332, 13.073253631591797, 11.228562355041504, 12.927886009216309, 12.008133888244629, 11.876583099365234, 12.165063858032227, 12.990148544311523, -0.23269809782505035], \"yaxis\": \"y\"}, {\"customdata\": [[\"word; state; vector; attention; layer; output; input; sequence; probability; transformer\"], [\"word; state; vector; attention; layer; output; input; sequence; probability; transformer\"], [\"word; state; vector; attention; layer; output; input; sequence; probability; transformer\"], [\"word; state; vector; attention; layer; output; input; sequence; probability; transformer\"], [\"word; state; vector; attention; layer; output; input; sequence; probability; transformer\"], [\"word; state; vector; attention; layer; output; input; sequence; probability; transformer\"], [\"word; state; vector; attention; layer; output; input; sequence; probability; transformer\"], [\"word; state; vector; attention; layer; output; input; sequence; probability; transformer\"], [\"word; state; vector; attention; layer; output; input; sequence; probability; transformer\"], [\"word; state; vector; attention; layer; output; input; sequence; probability; transformer\"], [\"word; state; vector; attention; layer; output; input; sequence; probability; transformer\"], [\"word; state; vector; attention; layer; output; input; sequence; probability; transformer\"], [\"word; state; vector; attention; layer; output; input; sequence; probability; transformer\"], [\"word; state; vector; attention; layer; output; input; sequence; probability; transformer\"], [\"word; state; vector; attention; layer; output; input; sequence; probability; transformer\"], [\"word; state; vector; attention; layer; output; input; sequence; probability; transformer\"], [\"word; state; vector; attention; layer; output; input; sequence; probability; transformer\"], [\"word; state; vector; attention; layer; output; input; sequence; probability; transformer\"], [\"word; state; vector; attention; layer; output; input; sequence; probability; transformer\"], [\"word; state; vector; attention; layer; output; input; sequence; probability; transformer\"], [\"word; state; vector; attention; layer; output; input; sequence; probability; transformer\"], [\"word; state; vector; attention; layer; output; input; sequence; probability; transformer\"], [\"word; state; vector; attention; layer; output; input; sequence; probability; transformer\"], [\"word; state; vector; attention; layer; output; input; sequence; probability; transformer\"], [\"word; state; vector; attention; layer; output; input; sequence; probability; transformer\"], [\"word; state; vector; attention; layer; output; input; sequence; probability; transformer\"], [\"word; state; vector; attention; layer; output; input; sequence; probability; transformer\"], [\"word; state; vector; attention; layer; output; input; sequence; probability; transformer\"], [\"word; state; vector; attention; layer; output; input; sequence; probability; transformer\"], [\"word; state; vector; attention; layer; output; input; sequence; probability; transformer\"], [\"word; state; vector; attention; layer; output; input; sequence; probability; transformer\"], [\"word; state; vector; attention; layer; output; input; sequence; probability; transformer\"]], \"hovertemplate\": \"<b>%{hovertext}</b><br><br>color=Topic: 4<br>x=%{x}<br>y=%{y}<br>topic_txt=%{customdata[0]}<extra></extra>\", \"hovertext\": [\"NLP: Word Embedding Techniques for Text Analysis | by Fangyug | SFU Professional Master\\u2019s Program in Computer Science | Medium\", \"How Transformers Work. Transformers are a type of neural\\u2026 | by Giuliano Giacaglia | Towards Data Science\", \"What is a Transformer?. An Introduction to Transformers and\\u2026 | by Maxime | Inside Machine learning | Medium\", \"What is Hidden in the Hidden Markov Model? | by Vimarsh Karbhari | Acing AI | Medium\", \"Introduction to Hidden Markov Models | by Tomer Amit | Towards Data Science\", \"Word2Vec. Intro | by Long | Medium\", \"Overview Of The Hidden Markov Model (HMM)\\u2014 What it can do for you in Machine Learning | by Victor Irechukwu | Medium\", \"NLP \\u2014 Word Embedding & GloVe. BERT is a major milestone in creating\\u2026 | by Jonathan Hui | Medium\", \"Hidden Markov Model- A Statespace Probabilistic Forecasting Approach in Quantitative Finance | by Sarit Maitra | Analytics Vidhya | Medium\", \"Hidden Markov Models Simplified. Sanjay Dorairaj | by Sanjay Dorairaj | Medium\", \"An Intuitive Introduction of Word2Vec by Building a Word2Vec From Scratch | by Manish Nayak | Towards AI\\u200a\\u2014\\u200aMultidisciplinary Science Journal | Medium\", \"NLP \\u2014 BERT & Transformer. Google published an article\\u2026 | by Jonathan Hui | Medium\", \"NLP: Word Embedding Techniques Demystified | by Rabeh Ayari, PhD | Towards Data Science\", \"BERT \\u2014 A Practitioner\\u2019s Perspective | by Nirupam Purushothama | The Startup | Medium\", \"A Transformer Chatbot Tutorial with TensorFlow 2.0 | by TensorFlow | TensorFlow | Medium\", \"Attention Is All You Need \\u2014 Transformer | by Sherwin Chen | Towards AI\\u200a\\u2014\\u200aMultidisciplinary Science Journal | Medium\", \"Word2Vec (Skip-Gram model) Explained | by n0obcoder | Data Driven Investor | Medium\", \"Transformer Architecture: Attention Is All You Need | by Aditya Thiruvengadam | Medium\", \"Hidden Markov Models \\u2014 Part 1: the Likelihood Problem | by Maria Burlando | Medium\", \"Understanding NLP- BERT & Transformer | by Nehatayade | Aug, 2020 | Medium\", \"Understanding BERT Transformer: Attention isn\\u2019t all you need | by Damien Sileo | synapse_dev | Medium\", \"Machine Learning \\u2014 Hidden Markov Model (HMM) | by Jonathan Hui | Medium\", \"Longformer \\u2014 The Long-Document Transformer \\ud83d\\udcdd | by Viktor Karlsson | dair.ai | Medium\", \"Explore Markov Chains With Examples \\u2014 Markov Chains With Python | by Sayantini Deb | Edureka | Medium\", \"Transformer vs RNN and CNN for Translation Task | by Yacine BENAFFANE | Analytics Vidhya | Medium\", \"Word2Vec Tutorial \\u2014 The Skip-Gram Model | by Chris McCormick | Nearist.ai | Medium\", \"Introduction to Word Embedding and Word2Vec | by Dhruvil Karani | Towards Data Science\", \"A simple Word2vec tutorial. In this tutorial we are going to\\u2026 | by Zafar Ali | Medium\", \"Hidden Markov Model. Hidden Markov Model (HMM) is a\\u2026 | by Eugine Kang | Medium\", \"Word Embedding in NLP: One-Hot Encoding and Skip-Gram Neural Network | by Jianna Park | Towards Data Science\", \"Hidden Markov Model \\u2014 Part 1 of the HMM series | by Raymond Kwok | Analytics Vidhya | Medium\", \"Illustrated Guide to Transformers- Step by Step Explanation | by Michael Phi | Towards Data Science\"], \"legendgroup\": \"Topic: 4\", \"marker\": {\"color\": \"#FF9616\", \"symbol\": \"circle\"}, \"mode\": \"markers\", \"name\": \"Topic: 4\", \"orientation\": \"v\", \"showlegend\": true, \"type\": \"scatter\", \"x\": [12.701441764831543, 14.432948112487793, 14.463350296020508, 11.434940338134766, 13.214794158935547, 13.747135162353516, 11.977206230163574, 13.801077842712402, 10.971580505371094, 14.166254997253418, 12.94406795501709, 14.661890029907227, 12.367148399353027, 12.06862735748291, 14.203348159790039, 14.130849838256836, 13.418584823608398, 14.712121963500977, 13.451834678649902, 12.954514503479004, 12.880821228027344, 13.280405044555664, 11.830160140991211, 12.723758697509766, 13.89371109008789, 14.248379707336426, 13.74991226196289, 14.72904109954834, 13.55061149597168, 12.52791690826416, 13.974713325500488, 14.474581718444824], \"xaxis\": \"x\", \"y\": [-6.194242477416992, -6.1168532371521, -5.415827751159668, -5.42227029800415, -5.282150745391846, -5.683333396911621, -5.329826831817627, -4.9899797439575195, -5.536976337432861, -5.1817307472229, -5.185953140258789, -5.418454170227051, -6.333672523498535, -4.61585807800293, -5.258334159851074, -5.757018089294434, -6.054414749145508, -5.609592914581299, -4.725820064544678, -5.653995990753174, -5.386622428894043, -4.707516193389893, -4.3884663581848145, -5.590414047241211, -5.966837406158447, -6.133221626281738, -6.154263019561768, -5.795705795288086, -5.406968116760254, -5.91976261138916, -5.042019367218018, -6.106410980224609], \"yaxis\": \"y\"}, {\"customdata\": [[\"feature; label; sample; training; class; prediction; machine_learning; dataset; active; high\"], [\"feature; label; sample; training; class; prediction; machine_learning; dataset; active; high\"], [\"feature; label; sample; training; class; prediction; machine_learning; dataset; active; high\"], [\"feature; label; sample; training; class; prediction; machine_learning; dataset; active; high\"], [\"feature; label; sample; training; class; prediction; machine_learning; dataset; active; high\"], [\"feature; label; sample; training; class; prediction; machine_learning; dataset; active; high\"], [\"feature; label; sample; training; class; prediction; machine_learning; dataset; active; high\"], [\"feature; label; sample; training; class; prediction; machine_learning; dataset; active; high\"], [\"feature; label; sample; training; class; prediction; machine_learning; dataset; active; high\"], [\"feature; label; sample; training; class; prediction; machine_learning; dataset; active; high\"], [\"feature; label; sample; training; class; prediction; machine_learning; dataset; active; high\"], [\"feature; label; sample; training; class; prediction; machine_learning; dataset; active; high\"], [\"feature; label; sample; training; class; prediction; machine_learning; dataset; active; high\"], [\"feature; label; sample; training; class; prediction; machine_learning; dataset; active; high\"], [\"feature; label; sample; training; class; prediction; machine_learning; dataset; active; high\"], [\"feature; label; sample; training; class; prediction; machine_learning; dataset; active; high\"], [\"feature; label; sample; training; class; prediction; machine_learning; dataset; active; high\"], [\"feature; label; sample; training; class; prediction; machine_learning; dataset; active; high\"], [\"feature; label; sample; training; class; prediction; machine_learning; dataset; active; high\"], [\"feature; label; sample; training; class; prediction; machine_learning; dataset; active; high\"], [\"feature; label; sample; training; class; prediction; machine_learning; dataset; active; high\"], [\"feature; label; sample; training; class; prediction; machine_learning; dataset; active; high\"], [\"feature; label; sample; training; class; prediction; machine_learning; dataset; active; high\"], [\"feature; label; sample; training; class; prediction; machine_learning; dataset; active; high\"], [\"feature; label; sample; training; class; prediction; machine_learning; dataset; active; high\"], [\"feature; label; sample; training; class; prediction; machine_learning; dataset; active; high\"], [\"feature; label; sample; training; class; prediction; machine_learning; dataset; active; high\"]], \"hovertemplate\": \"<b>%{hovertext}</b><br><br>color=Topic: 10<br>x=%{x}<br>y=%{y}<br>topic_txt=%{customdata[0]}<extra></extra>\", \"hovertext\": [\"Machine Learning using AWS ML. Machine learning is an application of\\u2026 | by Janitha Tennakoon | Data Driven Investor | Medium\", \"12 Useful Things to Know about Machine Learning | by James Le | Cracking The Data Science Interview | Medium\", \"Automated and Interpretable Machine Learning | by Francesca Lazzeri | Microsoft Azure | Medium\", \"5 Concepts You Must Know to Pass AWS Machine Learning Certification Exam | The Startup\", \"Optimization Algorithms: Part 1. This article covers the content\\u2026 | by Parveen Khurana | Medium\", \"Machine Learning | Anomaly detection | by Pierre Portal | Medium\", \"Active Learning. I am sure when you think the words\\u2026 | by Shivani Kohli | Medium\", \"An Introduction to Active Learning | by ODSC - Open Data Science | Medium\", \"Active Learning: the Theory. Active learning is still a niche\\u2026 | by Olga Petrova | Scaleway | Medium\", \"How to Improve Data Labeling Efficiency with Auto-Labeling, Uncertainty Estimates, and Active Learning | by Hyun Kim | Towards AI\\u200a\\u2014\\u200aMultidisciplinary Science Journal | Sep, 2020 | Medium\", \"Active Learning: Your Model\\u2019s New Personal Trainer | by ODSC - Open Data Science | Medium\", \"Hands-on Machine Learning Model Interpretation | by Dipanjan (DJ) Sarkar | Towards Data Science\", \"Explainable AI: Interpretation & Trust in Machine Learning\\u00a0Models - Lime | Towards Data Science\", \"Introduction to Active Learning. What is Active Learning? | by Michelle Zhao | Towards Data Science\", \"Neural Networks Intuitions: 9. Distance Metric Learning | by Raghul Asokan | Aug, 2020 | Towards Data Science\", \"How To Use Active Learning To Iteratively Improve Your Machine Learning Models | by ___ | Towards AI\\u200a\\u2014\\u200aMultidisciplinary Science Journal | Medium\", \"Interpreting Deep Learning Models for Computer Vision | by Dipanjan (DJ) Sarkar | Google Developers Experts | Medium\", \"Understanding Random Forest. How the Algorithm Works and Why it Is\\u2026 | by Tony Yiu | Towards Data Science\", \"What Is Optimisation?. Understanding The Science Of\\u2026 | by Farhad Malik | FinTechExplained | Medium\", \"#explainCovid19 challenge. For some time, I\\u2019ve been interested in\\u2026 | by Przemyslaw Biecek | Medium\", \"Spotting Defects! \\u2014 Deep Metric Learning Solution For MVTec Anomaly Detection Dataset | by daisukelab | Analytics Vidhya | Medium\", \"A Short Introduction to Active Learning | by Raul Incze | Cognifeed | Medium\", \"Active Learning with PyTorch. Building Uncertainty Sampling\\u2026 | by Robert Munro | PyTorch | Medium\", \"Supervised and Unsupervised Learning | by Vineet Maheshwari | Data Driven Investor | Medium\", \"Explanatory Model Analysis with modelStudio | by Przemyslaw Biecek | Medium\", \"Unsupervised Learning \\u2013 The Startup \\u2013 Medium\", \"Human-in-the-Loop Label Generation with Active Learning and Weak Supervision | by ODSC - Open Data Science | Medium\"], \"legendgroup\": \"Topic: 10\", \"marker\": {\"color\": \"#479B55\", \"symbol\": \"circle\"}, \"mode\": \"markers\", \"name\": \"Topic: 10\", \"orientation\": \"v\", \"showlegend\": true, \"type\": \"scatter\", \"x\": [1.2016730308532715, 2.7868924140930176, 2.9623658657073975, 2.8526978492736816, 1.9483544826507568, 1.5630881786346436, 2.5238611698150635, 2.1834726333618164, 2.740745782852173, 2.1160504817962646, 2.3655879497528076, 2.4396815299987793, 2.7481114864349365, 2.2378106117248535, 1.8775622844696045, 2.4996440410614014, 1.8701276779174805, 2.597503900527954, 1.7517083883285522, 2.6069540977478027, 1.785516619682312, 2.6563868522644043, 2.871574640274048, 2.1127586364746094, 2.163731813430786, 1.18300461769104, 2.2462849617004395], \"xaxis\": \"x\", \"y\": [-0.28933238983154297, -3.6409778594970703, -4.343019008636475, -3.8350462913513184, -3.701131582260132, -1.8242599964141846, -3.6006295680999756, -4.485170364379883, -4.228948593139648, -4.569096088409424, -4.003890514373779, -5.1280903816223145, -3.9289820194244385, -4.868382930755615, -1.0043964385986328, -4.414062023162842, -4.073817253112793, -4.894641876220703, -2.295215368270874, -2.6772091388702393, -2.0813004970550537, -4.8061041831970215, -2.479928493499756, -3.60066819190979, -3.9827301502227783, -0.7411267161369324, -3.2345829010009766], \"yaxis\": \"y\"}, {\"customdata\": [[\"topic; distribution; document; word; page; link; matrix; lda; variable; object\"], [\"topic; distribution; document; word; page; link; matrix; lda; variable; object\"], [\"topic; distribution; document; word; page; link; matrix; lda; variable; object\"], [\"topic; distribution; document; word; page; link; matrix; lda; variable; object\"], [\"topic; distribution; document; word; page; link; matrix; lda; variable; object\"], [\"topic; distribution; document; word; page; link; matrix; lda; variable; object\"], [\"topic; distribution; document; word; page; link; matrix; lda; variable; object\"], [\"topic; distribution; document; word; page; link; matrix; lda; variable; object\"], [\"topic; distribution; document; word; page; link; matrix; lda; variable; object\"], [\"topic; distribution; document; word; page; link; matrix; lda; variable; object\"], [\"topic; distribution; document; word; page; link; matrix; lda; variable; object\"], [\"topic; distribution; document; word; page; link; matrix; lda; variable; object\"], [\"topic; distribution; document; word; page; link; matrix; lda; variable; object\"], [\"topic; distribution; document; word; page; link; matrix; lda; variable; object\"], [\"topic; distribution; document; word; page; link; matrix; lda; variable; object\"], [\"topic; distribution; document; word; page; link; matrix; lda; variable; object\"], [\"topic; distribution; document; word; page; link; matrix; lda; variable; object\"], [\"topic; distribution; document; word; page; link; matrix; lda; variable; object\"], [\"topic; distribution; document; word; page; link; matrix; lda; variable; object\"], [\"topic; distribution; document; word; page; link; matrix; lda; variable; object\"], [\"topic; distribution; document; word; page; link; matrix; lda; variable; object\"], [\"topic; distribution; document; word; page; link; matrix; lda; variable; object\"], [\"topic; distribution; document; word; page; link; matrix; lda; variable; object\"], [\"topic; distribution; document; word; page; link; matrix; lda; variable; object\"], [\"topic; distribution; document; word; page; link; matrix; lda; variable; object\"]], \"hovertemplate\": \"<b>%{hovertext}</b><br><br>color=Topic: 11<br>x=%{x}<br>y=%{y}<br>topic_txt=%{customdata[0]}<extra></extra>\", \"hovertext\": [\"Intuitive Guide to Latent Dirichlet Allocation | by Thushan Ganegedara | Towards Data Science\", \"Topic Modeling Open Source Tool. A tool built with python and streamlit\\u2026 | by Bamigbade Opeyemi | Towards AI\\u200a\\u2014\\u200aMultidisciplinary Science Journal | Medium\", \"Topic Modeling with LSA, PLSA, LDA & lda2Vec | by Joyce Xu | NanoNets | Medium\", \"Topic Modeling of New York Times Articles | by Susan Li | SwiftWorld | Medium\", \"Your Guide to Latent Dirichlet Allocation | by Lettier | Medium\", \"Implementation of Page rank algorithm in python using Random walk method | by ANJALI CHACHRA | Medium\", \"Understanding Principle Component Analysis(PCA) step by step. | by The Nobles | Analytics Vidhya | Medium\", \"Understanding Page Rank. In simple terms, PageRank is an\\u2026 | by Sarthak Anand | Medium\", \"SEO is Not Hard \\u2014 A step-by-step SEO Tutorial for beginners that will get you ranked every single time | by Austen Allred | Startup Grind | Medium\", \"Machine Learning \\u2014 Latent Dirichlet Allocation LDA | by Jonathan Hui | Medium\", \"Topic Modeling (NLP) LSA, pLSA, LDA with python | Medium\", \"Object Modeling for Designers: An Introduction | by Heidi Adkisson | Medium\", \"LDA Topic Modeling: An Explanation | by Tyler Doll | Towards Data Science\", \"Google Page Rank and Markov Chains | by RAvi TeJA GUNdimeDA | Analytics Vidhya | Aug, 2020 | Medium\", \"Interpreting and validating topic models | by Patrick van Kessel | Pew Research Center: Decoded | Medium\", \"Topic Modeling. Optimizing for Human Interpretability | by Alyssa Wisdom | Square Corner Blog | Medium\", \"An intro to topic models for text analysis | by Patrick van Kessel | Pew Research Center: Decoded | Medium\", \"Overcoming the limitations of topic models with a semi-supervised approach | by Patrick van Kessel | Pew Research Center: Decoded | Medium\", \"Latent Dirichlet Allocation for Beginners: A high level intuition | by Pratik Barhate | Medium\", \"How to Perform Fraud Detection with Personalized Page Rank | by Antoine Moreau | Sicara's blog | Medium\", \"Making sense of topic models. Topic models can produce clusters of\\u2026 | by Patrick van Kessel | Pew Research Center: Decoded | Medium\", \"Principal Component Analysis(PCA) | by Aniket Patil | Analytics Vidhya | Medium\", \"Latent Dirichlet Allocation. What the heck is LDA and how is it used\\u2026 | by J.P. Rinfret | The Startup | Medium\", \"A Scoop of SEO: How to optimize your Website\\u2019s Page Rank? | by Spreeha Dutta | Code To Express | Medium\", \"Machine Learning \\u2014 Singular Value Decomposition (SVD) & Principal Component Analysis (PCA) | by Jonathan Hui | Medium\"], \"legendgroup\": \"Topic: 11\", \"marker\": {\"color\": \"#EEA6FB\", \"symbol\": \"circle\"}, \"mode\": \"markers\", \"name\": \"Topic: 11\", \"orientation\": \"v\", \"showlegend\": true, \"type\": \"scatter\", \"x\": [-6.223310947418213, -5.897578716278076, -6.478634357452393, -6.214362144470215, -7.411348819732666, -5.458180904388428, -5.64829683303833, -7.476318359375, -7.295618057250977, -7.549169540405273, -6.300431251525879, -7.798245906829834, -5.959010124206543, -6.985324382781982, -6.98877477645874, -7.154780387878418, -6.809562683105469, -7.375431537628174, -6.4136528968811035, -0.9904002547264099, -7.446747303009033, -5.802107334136963, -6.706852436065674, -7.306320667266846, -6.335067272186279], \"xaxis\": \"x\", \"y\": [-3.42336368560791, -2.3519387245178223, -3.424612522125244, -3.6128950119018555, -3.9063031673431396, -1.4036140441894531, -1.34726881980896, -3.756227493286133, -2.6522717475891113, -4.1131272315979, -3.6048498153686523, -2.832838535308838, -3.486701011657715, -2.7164289951324463, -3.3672540187835693, -3.3968420028686523, -3.872218370437622, -3.381549835205078, -3.7366440296173096, -1.1764963865280151, -3.908188581466675, -1.5033879280090332, -3.8317275047302246, -1.8090623617172241, -1.9960761070251465], \"yaxis\": \"y\"}, {\"customdata\": [[\"word; document; text; language; article; nlp; sentence; understand; natural_language; natural\"], [\"word; document; text; language; article; nlp; sentence; understand; natural_language; natural\"], [\"word; document; text; language; article; nlp; sentence; understand; natural_language; natural\"], [\"word; document; text; language; article; nlp; sentence; understand; natural_language; natural\"], [\"word; document; text; language; article; nlp; sentence; understand; natural_language; natural\"], [\"word; document; text; language; article; nlp; sentence; understand; natural_language; natural\"], [\"word; document; text; language; article; nlp; sentence; understand; natural_language; natural\"], [\"word; document; text; language; article; nlp; sentence; understand; natural_language; natural\"], [\"word; document; text; language; article; nlp; sentence; understand; natural_language; natural\"], [\"word; document; text; language; article; nlp; sentence; understand; natural_language; natural\"], [\"word; document; text; language; article; nlp; sentence; understand; natural_language; natural\"], [\"word; document; text; language; article; nlp; sentence; understand; natural_language; natural\"], [\"word; document; text; language; article; nlp; sentence; understand; natural_language; natural\"], [\"word; document; text; language; article; nlp; sentence; understand; natural_language; natural\"], [\"word; document; text; language; article; nlp; sentence; understand; natural_language; natural\"], [\"word; document; text; language; article; nlp; sentence; understand; natural_language; natural\"], [\"word; document; text; language; article; nlp; sentence; understand; natural_language; natural\"], [\"word; document; text; language; article; nlp; sentence; understand; natural_language; natural\"], [\"word; document; text; language; article; nlp; sentence; understand; natural_language; natural\"]], \"hovertemplate\": \"<b>%{hovertext}</b><br><br>color=Topic: 1<br>x=%{x}<br>y=%{y}<br>topic_txt=%{customdata[0]}<extra></extra>\", \"hovertext\": [\"Topic Modeling and Latent Dirichlet Allocation (LDA) in Python | by Susan Li | Towards Data Science\", \"A Comprehensive Guide to Natural Language Generation | by Sciforce | Sciforce | Medium\", \"Natural Language Processing is Fun! | by Adam Geitgey | Medium\", \"Topic Modeling Tutorial with Latent Dirichlet Allocation (LDA) | by Michel Kana, Ph.D | Towards Data Science\", \"Get started with NLP (Part I). This is the first part of a series of\\u2026 | by sigmoider | Medium\", \"Similarity Queries and Text Summarization in NLP | by Aravind CR | The Startup | Medium\", \"Word2Vector using Gensim. Intro\\u00a0: The goal is to build Word2Vec\\u2026 | by Gaurav Padawe | Analytics Vidhya | Medium\", \"Getting to Know Natural Language Understanding | by ODSC - Open Data Science | Medium\", \"Analyzing historical speeches using Amazon Transcribe and Comprehend | by Gabriel dos Santos Goncalves | Towards Data Science\", \"Automated Keyword Extraction from Articles using NLP | by Sowmya Vivek | Analytics Vidhya | Medium\", \"Natural Language Processing and Social Media | by Paldesk | Medium\", \"I see you have extracted the keywords but what are the scores in the extract key word function? | by Shengyu Chen | Medium\", \"A dive into Natural Language Processing | by Jocelyn D'Souza | GreyAtom | Medium\", \"Using NLP (BERT) to improve OCR accuracy | by Ravi Ilango | States Title | Medium\", \"Latent Dirichlet Allocation(LDA): A guide to probabilistic modelling approach for topic discovery | by Awan-Ur-Rahman | Towards Data Science\", \"A Practitioner's Guide to Natural Language Processing (Part I) \\u2014 Processing & Understanding Text | by Dipanjan (DJ) Sarkar | Towards Data Science\", \"A Beginner\\u2019s Guide To Natural Language Processing | by Manish Shivanandhan | Manish Shivanandhan\\u2019s Blog | Medium\", \"A Beginner\\u2019s Guide to Latent Dirichlet Allocation(LDA) | by Ria Kulshrestha | Towards Data Science\", \"Intro to Automatic Keyword Extraction | by Nattapong Ousirimaneechai | Medium\"], \"legendgroup\": \"Topic: 1\", \"marker\": {\"color\": \"#DC587D\", \"symbol\": \"circle\"}, \"mode\": \"markers\", \"name\": \"Topic: 1\", \"orientation\": \"v\", \"showlegend\": true, \"type\": \"scatter\", \"x\": [-3.864309072494507, -2.093691349029541, -3.0423684120178223, -4.678660869598389, -3.0604000091552734, -2.3857333660125732, -0.7116529941558838, -3.150184154510498, -4.0968732833862305, -3.3683273792266846, -3.026212453842163, -0.9122263193130493, -2.994943618774414, -3.1156513690948486, -5.112550258636475, -2.9370412826538086, -3.213778018951416, -3.872305393218994, -2.0855391025543213], \"xaxis\": \"x\", \"y\": [-2.9203898906707764, -0.44034647941589355, -2.7025840282440186, -3.3394393920898438, -2.455549955368042, -1.0001252889633179, 0.8042052984237671, -1.960339903831482, 2.165130615234375, -2.676945924758911, -1.8102632761001587, 0.6141220331192017, -2.8035879135131836, -2.323000431060791, -3.494521379470825, -2.885943651199341, -0.47869589924812317, -2.9578816890716553, -0.6452565789222717], \"yaxis\": \"y\"}, {\"customdata\": [[\"graph; network; node; neural; task; deep; approach; paper; neural_network; edge\"], [\"graph; network; node; neural; task; deep; approach; paper; neural_network; edge\"], [\"graph; network; node; neural; task; deep; approach; paper; neural_network; edge\"], [\"graph; network; node; neural; task; deep; approach; paper; neural_network; edge\"], [\"graph; network; node; neural; task; deep; approach; paper; neural_network; edge\"], [\"graph; network; node; neural; task; deep; approach; paper; neural_network; edge\"], [\"graph; network; node; neural; task; deep; approach; paper; neural_network; edge\"], [\"graph; network; node; neural; task; deep; approach; paper; neural_network; edge\"], [\"graph; network; node; neural; task; deep; approach; paper; neural_network; edge\"], [\"graph; network; node; neural; task; deep; approach; paper; neural_network; edge\"], [\"graph; network; node; neural; task; deep; approach; paper; neural_network; edge\"], [\"graph; network; node; neural; task; deep; approach; paper; neural_network; edge\"], [\"graph; network; node; neural; task; deep; approach; paper; neural_network; edge\"], [\"graph; network; node; neural; task; deep; approach; paper; neural_network; edge\"], [\"graph; network; node; neural; task; deep; approach; paper; neural_network; edge\"], [\"graph; network; node; neural; task; deep; approach; paper; neural_network; edge\"], [\"graph; network; node; neural; task; deep; approach; paper; neural_network; edge\"], [\"graph; network; node; neural; task; deep; approach; paper; neural_network; edge\"], [\"graph; network; node; neural; task; deep; approach; paper; neural_network; edge\"], [\"graph; network; node; neural; task; deep; approach; paper; neural_network; edge\"], [\"graph; network; node; neural; task; deep; approach; paper; neural_network; edge\"]], \"hovertemplate\": \"<b>%{hovertext}</b><br><br>color=Topic: 3<br>x=%{x}<br>y=%{y}<br>topic_txt=%{customdata[0]}<extra></extra>\", \"hovertext\": [\"How to get started with machine learning on graphs | by David Mack | Octavian | Medium\", \"Industrial applications of topic model | by Fatma Fatma | Medium\", \"The Computational Complexity of Graph Neural Networks explained | by Franziska Lippoldt | Sep, 2020 | Medium\", \"Finding shortest paths with Graph Neural Networks | by David Mack | Octavian | Medium\", \"\\ud83c\\udf3bThe Best and Most Current of Modern Natural Language Processing | by Victor Sanh | HuggingFace | Medium\", \"Algorithmic Trading in Crypto. We explore the design and\\u2026 | by Kevin Zhou | Galois Capital | Medium\", \"Geoffrey Hinton & Google Brain Unsupervised Learning Algorithm Improves SOTA Accuracy on ImageNet by 7% | by Synced | SyncedReview | Medium\", \"Applications of Graph Neural Networks | by Aishwarya Jadhav | Towards Data Science\", \"GluonNLP 0.6: Closing the Gap in Reproducible Research with BERT | by Eric Haibin Lin | Apache MXNet | Medium\", \"Graph-based Deep Learning: Approaching a True \\u201cNeural\\u201d Network | by Mark Cleverley | Medium\", \"A collection of must known resources for every Natural Language Processing (NLP) practitioner | by Nikhil Jaiswal | Towards Data Science\", \"Deep learning: the final frontier for signal processing and time series analysis? | by Alexandr Honchar | Medium\", \"Navigating the Unsupervised Learning Landscape | by Eugenio Culurciello | Intuition Machine | Medium\", \"Understanding BERT \\u2014 The basics. Full credit to Chris Mccormick\\u2019s blog\\u2026 | by Dharti Dhami | Medium\", \"NLP Year in Review \\u2014 2019. NLP highlights for the year 2019. | by Elvis | dair.ai | Medium\", \"A Brief Survey of Node Classification with Graph Neural Networks | by ODSC - Open Data Science | Medium\", \"DeepMind et al Paper Trumpets Graph Networks | by Synced | SyncedReview | Medium\", \"An Intro to the Page Rank Algorithm | by Zachary Marszal | Medium\", \"Graph Convolutional Neural Networks- A Talk at IISc | by Sukriti Paul | ACM-W Manipal | Medium\", \"What is Unsupervised Learning?. August 10, 2017 | by Shubham Mishra | Medium\", \"Enhancing a Facial Recognition System via a Deep Learning Model as a Similarity Metric | by Fortune Okorji | Seamfix Engineering | Medium\"], \"legendgroup\": \"Topic: 3\", \"marker\": {\"color\": \"#D626FF\", \"symbol\": \"circle\"}, \"mode\": \"markers\", \"name\": \"Topic: 3\", \"orientation\": \"v\", \"showlegend\": true, \"type\": \"scatter\", \"x\": [7.343264579772949, -0.9719337821006775, 7.725043773651123, 8.135015487670898, 8.033960342407227, 5.7116899490356445, 7.337884426116943, 7.725337505340576, 7.0335001945495605, 7.872121334075928, 6.978482246398926, 6.699382781982422, 7.6115803718566895, 7.8374505043029785, 8.336197853088379, 8.222087860107422, 7.476851463317871, -0.5661897659301758, 8.017431259155273, 6.674044132232666, 6.894587993621826], \"xaxis\": \"x\", \"y\": [-2.015158176422119, -1.3065922260284424, -1.6125996112823486, -2.0330753326416016, -1.0671494007110596, -1.5158113241195679, -1.517325758934021, -1.0898175239562988, -0.8687632083892822, -1.4043625593185425, -0.8000749349594116, -1.8767368793487549, -1.6860183477401733, -1.528923511505127, -1.102681040763855, -1.2727640867233276, -1.1545770168304443, -1.0892152786254883, -1.64443039894104, -1.5647469758987427, -1.674453616142273], \"yaxis\": \"y\"}],\n",
       "                        {\"legend\": {\"title\": {\"text\": \"color\"}, \"tracegroupgap\": 0}, \"template\": {\"data\": {\"bar\": [{\"error_x\": {\"color\": \"#2a3f5f\"}, \"error_y\": {\"color\": \"#2a3f5f\"}, \"marker\": {\"line\": {\"color\": \"white\", \"width\": 0.5}}, \"type\": \"bar\"}], \"barpolar\": [{\"marker\": {\"line\": {\"color\": \"white\", \"width\": 0.5}}, \"type\": \"barpolar\"}], \"carpet\": [{\"aaxis\": {\"endlinecolor\": \"#2a3f5f\", \"gridcolor\": \"#C8D4E3\", \"linecolor\": \"#C8D4E3\", \"minorgridcolor\": \"#C8D4E3\", \"startlinecolor\": \"#2a3f5f\"}, \"baxis\": {\"endlinecolor\": \"#2a3f5f\", \"gridcolor\": \"#C8D4E3\", \"linecolor\": \"#C8D4E3\", \"minorgridcolor\": \"#C8D4E3\", \"startlinecolor\": \"#2a3f5f\"}, \"type\": \"carpet\"}], \"choropleth\": [{\"colorbar\": {\"outlinewidth\": 0, \"ticks\": \"\"}, \"type\": \"choropleth\"}], \"contour\": [{\"colorbar\": {\"outlinewidth\": 0, \"ticks\": \"\"}, \"colorscale\": [[0.0, \"#0d0887\"], [0.1111111111111111, \"#46039f\"], [0.2222222222222222, \"#7201a8\"], [0.3333333333333333, \"#9c179e\"], [0.4444444444444444, \"#bd3786\"], [0.5555555555555556, \"#d8576b\"], [0.6666666666666666, \"#ed7953\"], [0.7777777777777778, \"#fb9f3a\"], [0.8888888888888888, \"#fdca26\"], [1.0, \"#f0f921\"]], \"type\": \"contour\"}], \"contourcarpet\": [{\"colorbar\": {\"outlinewidth\": 0, \"ticks\": \"\"}, \"type\": \"contourcarpet\"}], \"heatmap\": [{\"colorbar\": {\"outlinewidth\": 0, \"ticks\": \"\"}, \"colorscale\": [[0.0, \"#0d0887\"], [0.1111111111111111, \"#46039f\"], [0.2222222222222222, \"#7201a8\"], [0.3333333333333333, \"#9c179e\"], [0.4444444444444444, \"#bd3786\"], [0.5555555555555556, \"#d8576b\"], [0.6666666666666666, \"#ed7953\"], [0.7777777777777778, \"#fb9f3a\"], [0.8888888888888888, \"#fdca26\"], [1.0, \"#f0f921\"]], \"type\": \"heatmap\"}], \"heatmapgl\": [{\"colorbar\": {\"outlinewidth\": 0, \"ticks\": \"\"}, \"colorscale\": [[0.0, \"#0d0887\"], [0.1111111111111111, \"#46039f\"], [0.2222222222222222, \"#7201a8\"], [0.3333333333333333, \"#9c179e\"], [0.4444444444444444, \"#bd3786\"], [0.5555555555555556, \"#d8576b\"], [0.6666666666666666, \"#ed7953\"], [0.7777777777777778, \"#fb9f3a\"], [0.8888888888888888, \"#fdca26\"], [1.0, \"#f0f921\"]], \"type\": \"heatmapgl\"}], \"histogram\": [{\"marker\": {\"colorbar\": {\"outlinewidth\": 0, \"ticks\": \"\"}}, \"type\": \"histogram\"}], \"histogram2d\": [{\"colorbar\": {\"outlinewidth\": 0, \"ticks\": \"\"}, \"colorscale\": [[0.0, \"#0d0887\"], [0.1111111111111111, \"#46039f\"], [0.2222222222222222, \"#7201a8\"], [0.3333333333333333, \"#9c179e\"], [0.4444444444444444, \"#bd3786\"], [0.5555555555555556, \"#d8576b\"], [0.6666666666666666, \"#ed7953\"], [0.7777777777777778, \"#fb9f3a\"], [0.8888888888888888, \"#fdca26\"], [1.0, \"#f0f921\"]], \"type\": \"histogram2d\"}], \"histogram2dcontour\": [{\"colorbar\": {\"outlinewidth\": 0, \"ticks\": \"\"}, \"colorscale\": [[0.0, \"#0d0887\"], [0.1111111111111111, \"#46039f\"], [0.2222222222222222, \"#7201a8\"], [0.3333333333333333, \"#9c179e\"], [0.4444444444444444, \"#bd3786\"], [0.5555555555555556, \"#d8576b\"], [0.6666666666666666, \"#ed7953\"], [0.7777777777777778, \"#fb9f3a\"], [0.8888888888888888, \"#fdca26\"], [1.0, \"#f0f921\"]], \"type\": \"histogram2dcontour\"}], \"mesh3d\": [{\"colorbar\": {\"outlinewidth\": 0, \"ticks\": \"\"}, \"type\": \"mesh3d\"}], \"parcoords\": [{\"line\": {\"colorbar\": {\"outlinewidth\": 0, \"ticks\": \"\"}}, \"type\": \"parcoords\"}], \"pie\": [{\"automargin\": true, \"type\": \"pie\"}], \"scatter\": [{\"marker\": {\"colorbar\": {\"outlinewidth\": 0, \"ticks\": \"\"}}, \"type\": \"scatter\"}], \"scatter3d\": [{\"line\": {\"colorbar\": {\"outlinewidth\": 0, \"ticks\": \"\"}}, \"marker\": {\"colorbar\": {\"outlinewidth\": 0, \"ticks\": \"\"}}, \"type\": \"scatter3d\"}], \"scattercarpet\": [{\"marker\": {\"colorbar\": {\"outlinewidth\": 0, \"ticks\": \"\"}}, \"type\": \"scattercarpet\"}], \"scattergeo\": [{\"marker\": {\"colorbar\": {\"outlinewidth\": 0, \"ticks\": \"\"}}, \"type\": \"scattergeo\"}], \"scattergl\": [{\"marker\": {\"colorbar\": {\"outlinewidth\": 0, \"ticks\": \"\"}}, \"type\": \"scattergl\"}], \"scattermapbox\": [{\"marker\": {\"colorbar\": {\"outlinewidth\": 0, \"ticks\": \"\"}}, \"type\": \"scattermapbox\"}], \"scatterpolar\": [{\"marker\": {\"colorbar\": {\"outlinewidth\": 0, \"ticks\": \"\"}}, \"type\": \"scatterpolar\"}], \"scatterpolargl\": [{\"marker\": {\"colorbar\": {\"outlinewidth\": 0, \"ticks\": \"\"}}, \"type\": \"scatterpolargl\"}], \"scatterternary\": [{\"marker\": {\"colorbar\": {\"outlinewidth\": 0, \"ticks\": \"\"}}, \"type\": \"scatterternary\"}], \"surface\": [{\"colorbar\": {\"outlinewidth\": 0, \"ticks\": \"\"}, \"colorscale\": [[0.0, \"#0d0887\"], [0.1111111111111111, \"#46039f\"], [0.2222222222222222, \"#7201a8\"], [0.3333333333333333, \"#9c179e\"], [0.4444444444444444, \"#bd3786\"], [0.5555555555555556, \"#d8576b\"], [0.6666666666666666, \"#ed7953\"], [0.7777777777777778, \"#fb9f3a\"], [0.8888888888888888, \"#fdca26\"], [1.0, \"#f0f921\"]], \"type\": \"surface\"}], \"table\": [{\"cells\": {\"fill\": {\"color\": \"#EBF0F8\"}, \"line\": {\"color\": \"white\"}}, \"header\": {\"fill\": {\"color\": \"#C8D4E3\"}, \"line\": {\"color\": \"white\"}}, \"type\": \"table\"}]}, \"layout\": {\"annotationdefaults\": {\"arrowcolor\": \"#2a3f5f\", \"arrowhead\": 0, \"arrowwidth\": 1}, \"coloraxis\": {\"colorbar\": {\"outlinewidth\": 0, \"ticks\": \"\"}}, \"colorscale\": {\"diverging\": [[0, \"#8e0152\"], [0.1, \"#c51b7d\"], [0.2, \"#de77ae\"], [0.3, \"#f1b6da\"], [0.4, \"#fde0ef\"], [0.5, \"#f7f7f7\"], [0.6, \"#e6f5d0\"], [0.7, \"#b8e186\"], [0.8, \"#7fbc41\"], [0.9, \"#4d9221\"], [1, \"#276419\"]], \"sequential\": [[0.0, \"#0d0887\"], [0.1111111111111111, \"#46039f\"], [0.2222222222222222, \"#7201a8\"], [0.3333333333333333, \"#9c179e\"], [0.4444444444444444, \"#bd3786\"], [0.5555555555555556, \"#d8576b\"], [0.6666666666666666, \"#ed7953\"], [0.7777777777777778, \"#fb9f3a\"], [0.8888888888888888, \"#fdca26\"], [1.0, \"#f0f921\"]], \"sequentialminus\": [[0.0, \"#0d0887\"], [0.1111111111111111, \"#46039f\"], [0.2222222222222222, \"#7201a8\"], [0.3333333333333333, \"#9c179e\"], [0.4444444444444444, \"#bd3786\"], [0.5555555555555556, \"#d8576b\"], [0.6666666666666666, \"#ed7953\"], [0.7777777777777778, \"#fb9f3a\"], [0.8888888888888888, \"#fdca26\"], [1.0, \"#f0f921\"]]}, \"colorway\": [\"#636efa\", \"#EF553B\", \"#00cc96\", \"#ab63fa\", \"#FFA15A\", \"#19d3f3\", \"#FF6692\", \"#B6E880\", \"#FF97FF\", \"#FECB52\"], \"font\": {\"color\": \"#2a3f5f\"}, \"geo\": {\"bgcolor\": \"white\", \"lakecolor\": \"white\", \"landcolor\": \"white\", \"showlakes\": true, \"showland\": true, \"subunitcolor\": \"#C8D4E3\"}, \"hoverlabel\": {\"align\": \"left\"}, \"hovermode\": \"closest\", \"mapbox\": {\"style\": \"light\"}, \"paper_bgcolor\": \"white\", \"plot_bgcolor\": \"white\", \"polar\": {\"angularaxis\": {\"gridcolor\": \"#EBF0F8\", \"linecolor\": \"#EBF0F8\", \"ticks\": \"\"}, \"bgcolor\": \"white\", \"radialaxis\": {\"gridcolor\": \"#EBF0F8\", \"linecolor\": \"#EBF0F8\", \"ticks\": \"\"}}, \"scene\": {\"xaxis\": {\"backgroundcolor\": \"white\", \"gridcolor\": \"#DFE8F3\", \"gridwidth\": 2, \"linecolor\": \"#EBF0F8\", \"showbackground\": true, \"ticks\": \"\", \"zerolinecolor\": \"#EBF0F8\"}, \"yaxis\": {\"backgroundcolor\": \"white\", \"gridcolor\": \"#DFE8F3\", \"gridwidth\": 2, \"linecolor\": \"#EBF0F8\", \"showbackground\": true, \"ticks\": \"\", \"zerolinecolor\": \"#EBF0F8\"}, \"zaxis\": {\"backgroundcolor\": \"white\", \"gridcolor\": \"#DFE8F3\", \"gridwidth\": 2, \"linecolor\": \"#EBF0F8\", \"showbackground\": true, \"ticks\": \"\", \"zerolinecolor\": \"#EBF0F8\"}}, \"shapedefaults\": {\"line\": {\"color\": \"#2a3f5f\"}}, \"ternary\": {\"aaxis\": {\"gridcolor\": \"#DFE8F3\", \"linecolor\": \"#A2B1C6\", \"ticks\": \"\"}, \"baxis\": {\"gridcolor\": \"#DFE8F3\", \"linecolor\": \"#A2B1C6\", \"ticks\": \"\"}, \"bgcolor\": \"white\", \"caxis\": {\"gridcolor\": \"#DFE8F3\", \"linecolor\": \"#A2B1C6\", \"ticks\": \"\"}}, \"title\": {\"x\": 0.05}, \"xaxis\": {\"automargin\": true, \"gridcolor\": \"#EBF0F8\", \"linecolor\": \"#EBF0F8\", \"ticks\": \"\", \"title\": {\"standoff\": 15}, \"zerolinecolor\": \"#EBF0F8\", \"zerolinewidth\": 2}, \"yaxis\": {\"automargin\": true, \"gridcolor\": \"#EBF0F8\", \"linecolor\": \"#EBF0F8\", \"ticks\": \"\", \"title\": {\"standoff\": 15}, \"zerolinecolor\": \"#EBF0F8\", \"zerolinewidth\": 2}}}, \"title\": {\"text\": \"t-SNE test, perplexity: 40\"}, \"xaxis\": {\"anchor\": \"y\", \"domain\": [0.0, 1.0], \"title\": {\"text\": \"x\"}}, \"yaxis\": {\"anchor\": \"x\", \"domain\": [0.0, 1.0], \"title\": {\"text\": \"y\"}}},\n",
       "                        {\"responsive\": true}\n",
       "                    ).then(function(){\n",
       "                            \n",
       "var gd = document.getElementById('ea4e0d48-c0ff-4a4f-8347-44b9ac6fedf3');\n",
       "var x = new MutationObserver(function (mutations, observer) {{\n",
       "        var display = window.getComputedStyle(gd).display;\n",
       "        if (!display || display === 'none') {{\n",
       "            console.log([gd, 'removed!']);\n",
       "            Plotly.purge(gd);\n",
       "            observer.disconnect();\n",
       "        }}\n",
       "}});\n",
       "\n",
       "// Listen for the removal of the full notebook cells\n",
       "var notebookContainer = gd.closest('#notebook-container');\n",
       "if (notebookContainer) {{\n",
       "    x.observe(notebookContainer, {childList: true});\n",
       "}}\n",
       "\n",
       "// Listen for the clearing of the current output cell\n",
       "var outputEl = gd.closest('.output');\n",
       "if (outputEl) {{\n",
       "    x.observe(outputEl, {childList: true});\n",
       "}}\n",
       "\n",
       "                        })\n",
       "                };\n",
       "                });\n",
       "            </script>\n",
       "        </div>"
      ]
     },
     "metadata": {},
     "output_type": "display_data"
    },
    {
     "name": "stdout",
     "output_type": "stream",
     "text": [
      "T-SNE transform took: 1 seconds\n"
     ]
    }
   ],
   "source": [
    "# ========== T-SNE transform ==========\n",
    "\n",
    "start = time.time()\n",
    "lda_vals = list()\n",
    "for d in corpus:\n",
    "    topics_tup = lda.get_document_topics(\n",
    "        d\n",
    "    )  # This should be a N by K matrix where N = corpus size, K = topics\n",
    "    temp_dict = {i: 0 for i in range(num_topics)}\n",
    "    for t in topics_tup:\n",
    "        temp_dict[t[0]] = t[1]\n",
    "    lda_vals.append(temp_dict)\n",
    "\n",
    "lda_df = pd.DataFrame(lda_vals)\n",
    "lda_arr = lda_df.values\n",
    "\n",
    "lda_topics = {i[0]: i[1].split(\" + \") for i in lda.print_topics(-1)}\n",
    "topics_txt = [lda_topics[i] for i in range(num_topics)]\n",
    "topics_txt = [[j.split(\"*\")[1].replace('\"', \"\")\n",
    "               for j in i] for i in topics_txt]\n",
    "topics_txt = [\"; \".join(i) for i in topics_txt]\n",
    "\n",
    "lda_df = lda_df.assign(topic_id=[str(lda_arr[i].argmax())\n",
    "                                 for i in range(len(lda_arr))])\n",
    "lda_df = lda_df.assign(\n",
    "    topic_txt=[topics_txt[lda_arr[i].argmax()] for i in range(len(lda_arr))]\n",
    ")\n",
    "lda_df = lda_df.assign(\n",
    "    topics=[\"Topic: \" + str(lda_arr[i].argmax()) for i in range(len(lda_arr))]\n",
    ")\n",
    "lda_df = lda_df.assign(title=docs_titles)\n",
    "lda_df = lda_df.assign(filename=docs_titles)\n",
    "lda_df = lda_df.assign(src=docs_src)\n",
    "\n",
    "# for tsne_perp in [20, 35, 50, 100, 200]:  # Test out different perplexity values\n",
    "for tsne_perp in [40]:  # Test out different perplexity values\n",
    "    tsne_embeds = TSNE(\n",
    "        n_components=2,\n",
    "        perplexity=tsne_perp,\n",
    "        n_iter=350,\n",
    "        n_iter_without_progress=100,\n",
    "        learning_rate=500,\n",
    "        random_state=42,\n",
    "    ).fit_transform(lda_arr)\n",
    "    lda_df = pd.concat([lda_df, pd.DataFrame(\n",
    "        tsne_embeds, columns=[\"x\", \"y\"])], axis=1)\n",
    "\n",
    "    # Visualise the t-SNE topics\n",
    "    topic_ids = \"Topic: \" + lda_df[\"topic_id\"].astype(str).values\n",
    "    fig = px.scatter(\n",
    "        lda_df,\n",
    "        title=\"t-SNE test, perplexity: \" + str(tsne_perp),\n",
    "        x=\"x\",\n",
    "        y=\"y\",\n",
    "        color=topic_ids,\n",
    "        color_discrete_sequence=px.colors.qualitative.Light24,\n",
    "        hover_name=\"title\",\n",
    "        hover_data=[\"topic_txt\"],\n",
    "        template=\"plotly_white\",\n",
    "    )\n",
    "    fig.show()\n",
    "\n",
    "lda.save(\"./app/outputs/lda_model\")\n",
    "lda_df.to_csv(\"./app/outputs/lda_df.csv\", index=False)\n",
    "with open(\"./app/outputs/lda_topics.json\", \"w\") as f:\n",
    "    json.dump(lda_topics, f)\n",
    "    \n",
    "\n",
    "print(\"T-SNE transform took: \" + str(int(time.time() - start)) + \" seconds\")"
   ]
  },
  {
   "cell_type": "code",
   "execution_count": 86,
   "metadata": {},
   "outputs": [
    {
     "name": "stdout",
     "output_type": "stream",
     "text": [
      "(401, 23)\n"
     ]
    },
    {
     "data": {
      "text/html": [
       "<div>\n",
       "<style scoped>\n",
       "    .dataframe tbody tr th:only-of-type {\n",
       "        vertical-align: middle;\n",
       "    }\n",
       "\n",
       "    .dataframe tbody tr th {\n",
       "        vertical-align: top;\n",
       "    }\n",
       "\n",
       "    .dataframe thead th {\n",
       "        text-align: right;\n",
       "    }\n",
       "</style>\n",
       "<table border=\"1\" class=\"dataframe\">\n",
       "  <thead>\n",
       "    <tr style=\"text-align: right;\">\n",
       "      <th></th>\n",
       "      <th>0</th>\n",
       "      <th>1</th>\n",
       "      <th>2</th>\n",
       "      <th>3</th>\n",
       "      <th>4</th>\n",
       "      <th>5</th>\n",
       "      <th>6</th>\n",
       "      <th>7</th>\n",
       "      <th>8</th>\n",
       "      <th>9</th>\n",
       "      <th>...</th>\n",
       "      <th>topic_txt</th>\n",
       "      <th>topics</th>\n",
       "      <th>title</th>\n",
       "      <th>filename</th>\n",
       "      <th>src</th>\n",
       "      <th>x</th>\n",
       "      <th>y</th>\n",
       "      <th>author</th>\n",
       "      <th>date</th>\n",
       "      <th>summary</th>\n",
       "    </tr>\n",
       "  </thead>\n",
       "  <tbody>\n",
       "    <tr>\n",
       "      <th>0</th>\n",
       "      <td>0.326917</td>\n",
       "      <td>0.0</td>\n",
       "      <td>0.527555</td>\n",
       "      <td>0.0</td>\n",
       "      <td>0.0</td>\n",
       "      <td>0.0</td>\n",
       "      <td>0.143781</td>\n",
       "      <td>0.00000</td>\n",
       "      <td>0.0</td>\n",
       "      <td>0.0</td>\n",
       "      <td>...</td>\n",
       "      <td>anomaly; detection; anomaly_detection; algorit...</td>\n",
       "      <td>Topic: 2</td>\n",
       "      <td>A Beginners Guide to Unsupervised Learning | b...</td>\n",
       "      <td>A Beginners Guide to Unsupervised Learning | b...</td>\n",
       "      <td>medium.com</td>\n",
       "      <td>0.632441</td>\n",
       "      <td>4.514701</td>\n",
       "      <td>Mathanraj Sharma</td>\n",
       "      <td>2019-08-09T12:48:35.943Z</td>\n",
       "      <td>Before we need to train our model, we should k...</td>\n",
       "    </tr>\n",
       "    <tr>\n",
       "      <th>1</th>\n",
       "      <td>0.023542</td>\n",
       "      <td>0.0</td>\n",
       "      <td>0.000000</td>\n",
       "      <td>0.0</td>\n",
       "      <td>0.0</td>\n",
       "      <td>0.0</td>\n",
       "      <td>0.000000</td>\n",
       "      <td>0.79855</td>\n",
       "      <td>0.0</td>\n",
       "      <td>0.0</td>\n",
       "      <td>...</td>\n",
       "      <td>topic; distance; document; word; distribution;...</td>\n",
       "      <td>Topic: 7</td>\n",
       "      <td>Importance of Distance Metrics in Machine Lear...</td>\n",
       "      <td>Importance of Distance Metrics in Machine Lear...</td>\n",
       "      <td>medium.com</td>\n",
       "      <td>-6.218726</td>\n",
       "      <td>14.404735</td>\n",
       "      <td>Alekhyo Banerjee</td>\n",
       "      <td>2020-06-07T16:33:17.714Z</td>\n",
       "      <td>The general formula for Euclidea distance in n...</td>\n",
       "    </tr>\n",
       "  </tbody>\n",
       "</table>\n",
       "<p>2 rows × 23 columns</p>\n",
       "</div>"
      ],
      "text/plain": [
       "          0    1         2    3    4    5         6        7    8    9  ...  \\\n",
       "0  0.326917  0.0  0.527555  0.0  0.0  0.0  0.143781  0.00000  0.0  0.0  ...   \n",
       "1  0.023542  0.0  0.000000  0.0  0.0  0.0  0.000000  0.79855  0.0  0.0  ...   \n",
       "\n",
       "                                           topic_txt    topics  \\\n",
       "0  anomaly; detection; anomaly_detection; algorit...  Topic: 2   \n",
       "1  topic; distance; document; word; distribution;...  Topic: 7   \n",
       "\n",
       "                                               title  \\\n",
       "0  A Beginners Guide to Unsupervised Learning | b...   \n",
       "1  Importance of Distance Metrics in Machine Lear...   \n",
       "\n",
       "                                            filename         src         x  \\\n",
       "0  A Beginners Guide to Unsupervised Learning | b...  medium.com  0.632441   \n",
       "1  Importance of Distance Metrics in Machine Lear...  medium.com -6.218726   \n",
       "\n",
       "           y            author                      date  \\\n",
       "0   4.514701  Mathanraj Sharma  2019-08-09T12:48:35.943Z   \n",
       "1  14.404735  Alekhyo Banerjee  2020-06-07T16:33:17.714Z   \n",
       "\n",
       "                                             summary  \n",
       "0  Before we need to train our model, we should k...  \n",
       "1  The general formula for Euclidea distance in n...  \n",
       "\n",
       "[2 rows x 23 columns]"
      ]
     },
     "execution_count": 86,
     "metadata": {},
     "output_type": "execute_result"
    }
   ],
   "source": [
    "df_summary = pd.read_csv(\"./app/outputs/summary_df.csv.gz\")\n",
    "print(df_summary.shape)\n",
    "df_summary.head(2)"
   ]
  },
  {
   "cell_type": "code",
   "execution_count": 87,
   "metadata": {},
   "outputs": [
    {
     "data": {
      "text/plain": [
       "'Before we need to train our model, we should know how many different types of species (clusters) First, we cluster the data with different number of clusters and plot the number of clusters vs.inertia graph. \\n Since we know the number of clusters let’s build a model and visualize the result. \\n'"
      ]
     },
     "execution_count": 87,
     "metadata": {},
     "output_type": "execute_result"
    }
   ],
   "source": [
    "df_summary.summary.values[0]"
   ]
  },
  {
   "cell_type": "code",
   "execution_count": 88,
   "metadata": {},
   "outputs": [
    {
     "name": "stdout",
     "output_type": "stream",
     "text": [
      "(308, 23)\n"
     ]
    },
    {
     "data": {
      "text/html": [
       "<div>\n",
       "<style scoped>\n",
       "    .dataframe tbody tr th:only-of-type {\n",
       "        vertical-align: middle;\n",
       "    }\n",
       "\n",
       "    .dataframe tbody tr th {\n",
       "        vertical-align: top;\n",
       "    }\n",
       "\n",
       "    .dataframe thead th {\n",
       "        text-align: right;\n",
       "    }\n",
       "</style>\n",
       "<table border=\"1\" class=\"dataframe\">\n",
       "  <thead>\n",
       "    <tr style=\"text-align: right;\">\n",
       "      <th></th>\n",
       "      <th>0</th>\n",
       "      <th>1</th>\n",
       "      <th>2</th>\n",
       "      <th>3</th>\n",
       "      <th>4</th>\n",
       "      <th>5</th>\n",
       "      <th>6</th>\n",
       "      <th>7</th>\n",
       "      <th>8</th>\n",
       "      <th>9</th>\n",
       "      <th>...</th>\n",
       "      <th>topic_txt</th>\n",
       "      <th>topics</th>\n",
       "      <th>title</th>\n",
       "      <th>filename</th>\n",
       "      <th>src</th>\n",
       "      <th>x</th>\n",
       "      <th>y</th>\n",
       "      <th>author</th>\n",
       "      <th>date</th>\n",
       "      <th>summary</th>\n",
       "    </tr>\n",
       "  </thead>\n",
       "  <tbody>\n",
       "    <tr>\n",
       "      <th>0</th>\n",
       "      <td>0.552072</td>\n",
       "      <td>0.010688</td>\n",
       "      <td>0.0</td>\n",
       "      <td>0.033453</td>\n",
       "      <td>0.020717</td>\n",
       "      <td>0.017713</td>\n",
       "      <td>0.012129</td>\n",
       "      <td>0.016541</td>\n",
       "      <td>0.000000</td>\n",
       "      <td>0.000000</td>\n",
       "      <td>...</td>\n",
       "      <td>ml; matrix; aws; dimension; variance; cluster;...</td>\n",
       "      <td>Topic: 0</td>\n",
       "      <td>A Beginners Guide to Unsupervised Learning | b...</td>\n",
       "      <td>A Beginners Guide to Unsupervised Learning | b...</td>\n",
       "      <td>medium.com</td>\n",
       "      <td>3.132126</td>\n",
       "      <td>1.852913</td>\n",
       "      <td>Mathanraj Sharma</td>\n",
       "      <td>2019-08-09T12:48:35.943Z</td>\n",
       "      <td>Before we need to train our model, we should k...</td>\n",
       "    </tr>\n",
       "    <tr>\n",
       "      <th>1</th>\n",
       "      <td>0.010015</td>\n",
       "      <td>0.024086</td>\n",
       "      <td>0.0</td>\n",
       "      <td>0.000000</td>\n",
       "      <td>0.000000</td>\n",
       "      <td>0.112276</td>\n",
       "      <td>0.732022</td>\n",
       "      <td>0.042991</td>\n",
       "      <td>0.025896</td>\n",
       "      <td>0.014048</td>\n",
       "      <td>...</td>\n",
       "      <td>distance; similarity; metric; vector; point; c...</td>\n",
       "      <td>Topic: 6</td>\n",
       "      <td>Importance of Distance Metrics in Machine Lear...</td>\n",
       "      <td>Importance of Distance Metrics in Machine Lear...</td>\n",
       "      <td>medium.com</td>\n",
       "      <td>6.386958</td>\n",
       "      <td>7.409829</td>\n",
       "      <td>Alekhyo Banerjee</td>\n",
       "      <td>2020-06-07T16:33:17.714Z</td>\n",
       "      <td>The general formula for Euclidea distance in n...</td>\n",
       "    </tr>\n",
       "  </tbody>\n",
       "</table>\n",
       "<p>2 rows × 23 columns</p>\n",
       "</div>"
      ],
      "text/plain": [
       "          0         1    2         3         4         5         6         7  \\\n",
       "0  0.552072  0.010688  0.0  0.033453  0.020717  0.017713  0.012129  0.016541   \n",
       "1  0.010015  0.024086  0.0  0.000000  0.000000  0.112276  0.732022  0.042991   \n",
       "\n",
       "          8         9  ...                                          topic_txt  \\\n",
       "0  0.000000  0.000000  ...  ml; matrix; aws; dimension; variance; cluster;...   \n",
       "1  0.025896  0.014048  ...  distance; similarity; metric; vector; point; c...   \n",
       "\n",
       "     topics                                              title  \\\n",
       "0  Topic: 0  A Beginners Guide to Unsupervised Learning | b...   \n",
       "1  Topic: 6  Importance of Distance Metrics in Machine Lear...   \n",
       "\n",
       "                                            filename         src         x  \\\n",
       "0  A Beginners Guide to Unsupervised Learning | b...  medium.com  3.132126   \n",
       "1  Importance of Distance Metrics in Machine Lear...  medium.com  6.386958   \n",
       "\n",
       "          y            author                      date  \\\n",
       "0  1.852913  Mathanraj Sharma  2019-08-09T12:48:35.943Z   \n",
       "1  7.409829  Alekhyo Banerjee  2020-06-07T16:33:17.714Z   \n",
       "\n",
       "                                             summary  \n",
       "0  Before we need to train our model, we should k...  \n",
       "1  The general formula for Euclidea distance in n...  \n",
       "\n",
       "[2 rows x 23 columns]"
      ]
     },
     "execution_count": 88,
     "metadata": {},
     "output_type": "execute_result"
    }
   ],
   "source": [
    "df_summary = lda_df.merge(df_summary[['title', 'author', 'date', 'summary']], on='title')\n",
    "print(df_summary.shape)\n",
    "df_summary.head(2)"
   ]
  },
  {
   "cell_type": "code",
   "execution_count": 89,
   "metadata": {},
   "outputs": [],
   "source": [
    "df_summary.to_csv(\"./app/outputs/summary_df.csv.gz\", compression='gzip', index=False)"
   ]
  },
  {
   "cell_type": "code",
   "execution_count": null,
   "metadata": {},
   "outputs": [],
   "source": []
  }
 ],
 "metadata": {
  "kernelspec": {
   "display_name": "Python 3",
   "language": "python",
   "name": "python3"
  },
  "language_info": {
   "codemirror_mode": {
    "name": "ipython",
    "version": 3
   },
   "file_extension": ".py",
   "mimetype": "text/x-python",
   "name": "python",
   "nbconvert_exporter": "python",
   "pygments_lexer": "ipython3",
   "version": "3.7.4"
  }
 },
 "nbformat": 4,
 "nbformat_minor": 4
}
